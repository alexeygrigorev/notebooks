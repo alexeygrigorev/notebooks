{
 "cells": [
  {
   "cell_type": "code",
   "execution_count": 1,
   "metadata": {
    "collapsed": true
   },
   "outputs": [],
   "source": [
    "import pandas as pd\n",
    "import matplotlib.pyplot as plt\n",
    "import statsmodels.api as sm\n",
    "import statsmodels.tsa.stattools as ts\n",
    "import numpy as np\n",
    "\n",
    "from statsmodels.formula.api import ols\n",
    "from scipy.stats import f, chi2\n",
    "\n",
    "%matplotlib inline"
   ]
  },
  {
   "cell_type": "code",
   "execution_count": 2,
   "metadata": {
    "collapsed": true
   },
   "outputs": [],
   "source": [
    "import seaborn as sns\n",
    "sns.set(color_codes=True)"
   ]
  },
  {
   "cell_type": "markdown",
   "metadata": {},
   "source": [
    "# MOOC Econometrics\n",
    "## Test Exercise 6"
   ]
  },
  {
   "cell_type": "markdown",
   "metadata": {},
   "source": [
    "This test exercise uses data that are available in the data file `TestExer6`. "
   ]
  },
  {
   "cell_type": "code",
   "execution_count": 3,
   "metadata": {
    "collapsed": false
   },
   "outputs": [
    {
     "data": {
      "text/html": [
       "<div>\n",
       "<table border=\"1\" class=\"dataframe\">\n",
       "  <thead>\n",
       "    <tr style=\"text-align: right;\">\n",
       "      <th></th>\n",
       "      <th>YYYYMM</th>\n",
       "      <th>TREND</th>\n",
       "      <th>CPI_EUR</th>\n",
       "      <th>CPI_USA</th>\n",
       "      <th>LOGPEUR</th>\n",
       "      <th>LOGPUSA</th>\n",
       "      <th>DPEUR</th>\n",
       "      <th>DPUSA</th>\n",
       "    </tr>\n",
       "  </thead>\n",
       "  <tbody>\n",
       "    <tr>\n",
       "      <th>0</th>\n",
       "      <td>2000M01</td>\n",
       "      <td>1</td>\n",
       "      <td>105.1</td>\n",
       "      <td>107.6</td>\n",
       "      <td>4.654912</td>\n",
       "      <td>4.678421</td>\n",
       "      <td>NaN</td>\n",
       "      <td>NaN</td>\n",
       "    </tr>\n",
       "    <tr>\n",
       "      <th>1</th>\n",
       "      <td>2000M02</td>\n",
       "      <td>2</td>\n",
       "      <td>105.4</td>\n",
       "      <td>108.3</td>\n",
       "      <td>4.657763</td>\n",
       "      <td>4.684905</td>\n",
       "      <td>0.002850</td>\n",
       "      <td>0.006485</td>\n",
       "    </tr>\n",
       "    <tr>\n",
       "      <th>2</th>\n",
       "      <td>2000M03</td>\n",
       "      <td>3</td>\n",
       "      <td>105.8</td>\n",
       "      <td>109.1</td>\n",
       "      <td>4.661551</td>\n",
       "      <td>4.692265</td>\n",
       "      <td>0.003788</td>\n",
       "      <td>0.007360</td>\n",
       "    </tr>\n",
       "    <tr>\n",
       "      <th>3</th>\n",
       "      <td>2000M04</td>\n",
       "      <td>4</td>\n",
       "      <td>105.9</td>\n",
       "      <td>109.2</td>\n",
       "      <td>4.662495</td>\n",
       "      <td>4.693181</td>\n",
       "      <td>0.000945</td>\n",
       "      <td>0.000916</td>\n",
       "    </tr>\n",
       "    <tr>\n",
       "      <th>4</th>\n",
       "      <td>2000M05</td>\n",
       "      <td>5</td>\n",
       "      <td>106.0</td>\n",
       "      <td>109.3</td>\n",
       "      <td>4.663439</td>\n",
       "      <td>4.694096</td>\n",
       "      <td>0.000944</td>\n",
       "      <td>0.000915</td>\n",
       "    </tr>\n",
       "  </tbody>\n",
       "</table>\n",
       "</div>"
      ],
      "text/plain": [
       "    YYYYMM  TREND  CPI_EUR  CPI_USA   LOGPEUR   LOGPUSA     DPEUR     DPUSA\n",
       "0  2000M01      1    105.1    107.6  4.654912  4.678421       NaN       NaN\n",
       "1  2000M02      2    105.4    108.3  4.657763  4.684905  0.002850  0.006485\n",
       "2  2000M03      3    105.8    109.1  4.661551  4.692265  0.003788  0.007360\n",
       "3  2000M04      4    105.9    109.2  4.662495  4.693181  0.000945  0.000916\n",
       "4  2000M05      5    106.0    109.3  4.663439  4.694096  0.000944  0.000915"
      ]
     },
     "execution_count": 3,
     "metadata": {},
     "output_type": "execute_result"
    }
   ],
   "source": [
    "euro = pd.read_csv('TestExer 6-CPI-round1.txt', sep='\\t', index_col=False)\n",
    "euro.head()"
   ]
  },
  {
   "cell_type": "markdown",
   "metadata": {},
   "source": [
    "The question of interest is to model monthly\n",
    "inflation in the Euro area and to investigate whether inflation in the United States of America has predictive power\n",
    "for inflation in the Euro area. \n",
    "\n",
    "Monthly data on the consumer price index (CPI) for the Euro area and the USA are\n",
    "available from January 2000 until December 2011. The data for January 2000 until December 2010 are used for\n",
    "specification and estimation of models, and the data for 2011 are left out for forecast evaluation purposes."
   ]
  },
  {
   "cell_type": "code",
   "execution_count": 4,
   "metadata": {
    "collapsed": true
   },
   "outputs": [],
   "source": [
    "euro['YEAR'] = euro.YYYYMM.str[0:4].astype(int)\n",
    "\n",
    "train = euro.YEAR < 2011\n",
    "test = ~train"
   ]
  },
  {
   "cell_type": "markdown",
   "metadata": {},
   "source": [
    "**(a)** Make time series plots of\n",
    "\n",
    "- $\\text{CPI}$ of the Euro area and the USA, and \n",
    "- their logarithm $\\log \\text{CPI}$ and\n",
    "- the two monthly inflation series $\\text{DP} = \\Delta \\log \\text{CPI}$. \n",
    "\n",
    "What conclusions do you draw from these plots?"
   ]
  },
  {
   "cell_type": "code",
   "execution_count": 19,
   "metadata": {
    "collapsed": false
   },
   "outputs": [
    {
     "data": {
      "image/png": "[encoded data removed]",
      "text/plain": [
       "<matplotlib.figure.Figure at 0x7fc8569a08d0>"
      ]
     },
     "metadata": {},
     "output_type": "display_data"
    }
   ],
   "source": [
    "plt.figure(figsize=(7, 3))\n",
    "euro[train].CPI_EUR.plot()\n",
    "euro[train].CPI_USA.plot()\n",
    "plt.legend()\n",
    "plt.show()"
   ]
  },
  {
   "cell_type": "code",
   "execution_count": 20,
   "metadata": {
    "collapsed": false
   },
   "outputs": [
    {
     "data": {
      "image/png": "[encoded data removed]",
      "text/plain": [
       "<matplotlib.figure.Figure at 0x7fc8568f6110>"
      ]
     },
     "metadata": {},
     "output_type": "display_data"
    }
   ],
   "source": [
    "plt.figure(figsize=(7, 3))\n",
    "euro[train].LOGPEUR.plot()\n",
    "euro[train].LOGPUSA.plot()\n",
    "plt.legend()\n",
    "plt.show()"
   ]
  },
  {
   "cell_type": "markdown",
   "metadata": {},
   "source": [
    "Both `EUR` and `USA` show positive upwards trend - so they are not stationary. "
   ]
  },
  {
   "cell_type": "code",
   "execution_count": 21,
   "metadata": {
    "collapsed": false
   },
   "outputs": [
    {
     "data": {
      "image/png": "[encoded data removed]",
      "text/plain": [
       "<matplotlib.figure.Figure at 0x7fc856934490>"
      ]
     },
     "metadata": {},
     "output_type": "display_data"
    }
   ],
   "source": [
    "plt.figure(figsize=(7, 3))\n",
    "euro[train].DPEUR.plot()\n",
    "euro[train].DPUSA.plot()\n",
    "plt.legend()\n",
    "plt.show()"
   ]
  },
  {
   "cell_type": "markdown",
   "metadata": {},
   "source": [
    "The differences look stationary, although variance seems higher towards the end of the series."
   ]
  },
  {
   "cell_type": "markdown",
   "metadata": {},
   "source": [
    "**(b)** Perform the Augmented Dickey-Fuller (ADF) test for the two $\\log \\text{CPI}$ series. \n",
    "\n",
    "In the ADF test equation, include:\n",
    "- a constant ($α$), \n",
    "- a deterministic trend term ($β\\, t$), \n",
    "- three lags of $\\text{DP} = \\Delta \\log \\text{CPI}$ and, \n",
    "- of course, the variable of interest $\\log \\text{CPI}_{t-1}$\n",
    "\n",
    "Report the coefficient of $\\log \\text{CPI}_{t-1}$, its standard error and $t$-value, and draw your conclusion."
   ]
  },
  {
   "cell_type": "code",
   "execution_count": 6,
   "metadata": {
    "collapsed": true
   },
   "outputs": [],
   "source": [
    "def summary(model, names):\n",
    "    return pd.DataFrame(\n",
    "             {'coeff': names,\n",
    "              'value': model.params.round(4), \n",
    "              '$t$-value': model.tvalues.round(4),\n",
    "              'SE': model.bse.round(4),\n",
    "              '$p$-value': model.pvalues.round(4)},\n",
    "             columns=['coeff', 'value', 'SE', '$t$-value', '$p$-value'])"
   ]
  },
  {
   "cell_type": "markdown",
   "metadata": {},
   "source": [
    "First, apply it to EUR:\n",
    "\n",
    "$$\\text{DPEUR}_t = \\alpha + \\beta\\, t + \\gamma_1\\, \\text{DPEUR}_{t-1} + \\gamma_2\\, \\text{DPEUR}_{t-2} + \\\\ \\gamma_3\\, \\text{DPEUR}_{t-3} + \\rho\\, \\text{LOGPEUR}_{t-1}$$"
   ]
  },
  {
   "cell_type": "code",
   "execution_count": 7,
   "metadata": {
    "collapsed": false
   },
   "outputs": [
    {
     "data": {
      "text/html": [
       "<div>\n",
       "<table border=\"1\" class=\"dataframe\">\n",
       "  <thead>\n",
       "    <tr style=\"text-align: right;\">\n",
       "      <th></th>\n",
       "      <th>coeff</th>\n",
       "      <th>value</th>\n",
       "      <th>SE</th>\n",
       "      <th>$t$-value</th>\n",
       "      <th>$p$-value</th>\n",
       "    </tr>\n",
       "  </thead>\n",
       "  <tbody>\n",
       "    <tr>\n",
       "      <th>Intercept</th>\n",
       "      <td>$\\alpha$</td>\n",
       "      <td>0.5589</td>\n",
       "      <td>0.2267</td>\n",
       "      <td>2.4659</td>\n",
       "      <td>0.0151</td>\n",
       "    </tr>\n",
       "    <tr>\n",
       "      <th>TREND</th>\n",
       "      <td>$\\beta$</td>\n",
       "      <td>0.0002</td>\n",
       "      <td>0.0001</td>\n",
       "      <td>2.3797</td>\n",
       "      <td>0.0189</td>\n",
       "    </tr>\n",
       "    <tr>\n",
       "      <th>DPEUR.shift(1)</th>\n",
       "      <td>$\\gamma_1$</td>\n",
       "      <td>0.1343</td>\n",
       "      <td>0.0917</td>\n",
       "      <td>1.4648</td>\n",
       "      <td>0.1455</td>\n",
       "    </tr>\n",
       "    <tr>\n",
       "      <th>DPEUR.shift(2)</th>\n",
       "      <td>$\\gamma_2$</td>\n",
       "      <td>-0.0410</td>\n",
       "      <td>0.0908</td>\n",
       "      <td>-0.4521</td>\n",
       "      <td>0.6520</td>\n",
       "    </tr>\n",
       "    <tr>\n",
       "      <th>DPEUR.shift(3)</th>\n",
       "      <td>$\\gamma_3$</td>\n",
       "      <td>-0.1270</td>\n",
       "      <td>0.0913</td>\n",
       "      <td>-1.3921</td>\n",
       "      <td>0.1664</td>\n",
       "    </tr>\n",
       "    <tr>\n",
       "      <th>LOGPEUR.shift(1)</th>\n",
       "      <td>$\\rho$</td>\n",
       "      <td>-0.1195</td>\n",
       "      <td>0.0487</td>\n",
       "      <td>-2.4548</td>\n",
       "      <td>0.0155</td>\n",
       "    </tr>\n",
       "  </tbody>\n",
       "</table>\n",
       "</div>"
      ],
      "text/plain": [
       "                       coeff   value      SE  $t$-value  $p$-value\n",
       "Intercept           $\\alpha$  0.5589  0.2267     2.4659     0.0151\n",
       "TREND                $\\beta$  0.0002  0.0001     2.3797     0.0189\n",
       "DPEUR.shift(1)    $\\gamma_1$  0.1343  0.0917     1.4648     0.1455\n",
       "DPEUR.shift(2)    $\\gamma_2$ -0.0410  0.0908    -0.4521     0.6520\n",
       "DPEUR.shift(3)    $\\gamma_3$ -0.1270  0.0913    -1.3921     0.1664\n",
       "LOGPEUR.shift(1)      $\\rho$ -0.1195  0.0487    -2.4548     0.0155"
      ]
     },
     "execution_count": 7,
     "metadata": {},
     "output_type": "execute_result"
    }
   ],
   "source": [
    "adf_eur = ols('DPEUR ~ TREND + DPEUR.shift(1) + DPEUR.shift(2) + '\n",
    "                      'DPEUR.shift(3) + LOGPEUR.shift(1)', \n",
    "              data=euro[train]).fit()\n",
    "summary(adf_eur, names=[r'$\\alpha$', r'$\\beta$', r'$\\gamma_1$', \n",
    "                        r'$\\gamma_2$', r'$\\gamma_3$', r'$\\rho$'])"
   ]
  },
  {
   "cell_type": "markdown",
   "metadata": {},
   "source": [
    "- The last row if the table reports the coefficient of $\\log \\text{CPIEUR}_{t-1}$, its standard error and $t$-value. \n",
    "- Critical value of the ADF test with trend included is -3.5, which is less than $t_\\rho = -2.82$, so we canntot reject the $H_0$ that $\\log \\text{CPIEUR}$ is non-stationary."
   ]
  },
  {
   "cell_type": "markdown",
   "metadata": {},
   "source": [
    "We can repeat the same analysis with the `adfuller` function from StatsModels:"
   ]
  },
  {
   "cell_type": "code",
   "execution_count": 8,
   "metadata": {
    "collapsed": false
   },
   "outputs": [
    {
     "name": "stdout",
     "output_type": "stream",
     "text": [
      "t-value = -2.4547 (p-value = 0.3510)\n"
     ]
    }
   ],
   "source": [
    "# regression='ct' means to inslude constant and the trend\n",
    "t, p = ts.adfuller(euro.LOGPEUR[train], maxlag=3, autolag=None, \n",
    "                   regression='ct')[:2]\n",
    "print 't-value = %0.4f (p-value = %0.4f)' % (t, p)"
   ]
  },
  {
   "cell_type": "markdown",
   "metadata": {},
   "source": [
    "Next, apply it to USA:\n",
    "\n",
    "$$\\text{DPUSA}_t = \\alpha + \\beta\\, t + \\gamma_1\\, \\text{DPUSA}_{t-1} + \\gamma_2\\, \\text{DPUSA}_{t-2} + \\\\ \\gamma_3\\, \\text{DPUSA}_{t-3} + \\rho\\, \\text{LOGPUSA}_{t-1}$$"
   ]
  },
  {
   "cell_type": "code",
   "execution_count": 9,
   "metadata": {
    "collapsed": false
   },
   "outputs": [
    {
     "name": "stdout",
     "output_type": "stream",
     "text": [
      "t-value = -2.4031 (p-value = 0.3780)\n"
     ]
    }
   ],
   "source": [
    "t, p = ts.adfuller(euro.LOGPUSA[train], maxlag=3, autolag=None, \n",
    "                   regression='ct')[:2]\n",
    "print 't-value = %0.4f (p-value = %0.4f)' % (t, p)"
   ]
  },
  {
   "cell_type": "markdown",
   "metadata": {},
   "source": [
    "Again, we cannot reject the hypothesis that  $\\log \\text{CPIUSA}$ is non-stationary."
   ]
  },
  {
   "cell_type": "markdown",
   "metadata": {},
   "source": [
    "**(c)** As the two series of $\\log \\text{CPI}$ are not cointegrated (you need not check this), we continue by modelling the\n",
    "monthly inflation series $\\text{DPEUR} = \\Delta \\log \\text{CPIEUR}$ for the Euro area. \n",
    "\n",
    "Determine:\n",
    "\n",
    "- the sample autocorrelations and \n",
    "- the sample partial autocorrelations of this series to motivate the use of the following AR model: \n",
    "\n",
    "$$\\text{DPEUR}_t = α + β_1\\, \\text{DPEUR}_{t-6} + β_2\\, \\text{DPEUR}_{t-12} + ε_t .$$\n",
    "\n",
    "Estimate the parameters of this model (sample Jan 2000 - Dec 2010)."
   ]
  },
  {
   "cell_type": "markdown",
   "metadata": {},
   "source": [
    "- autocorrelation:"
   ]
  },
  {
   "cell_type": "code",
   "execution_count": 10,
   "metadata": {
    "collapsed": false
   },
   "outputs": [
    {
     "data": {
      "image/png": "[encoded data removed]",
      "text/plain": [
       "<matplotlib.figure.Figure at 0x7fc8575db210>"
      ]
     },
     "metadata": {},
     "output_type": "display_data"
    }
   ],
   "source": [
    "autocorr = ts.acf(euro[train].DPEUR.dropna())\n",
    "\n",
    "plt.figure(figsize=(7, 4))\n",
    "plt.plot(autocorr)\n",
    "plt.xticks(range(0, 40, 6))\n",
    "plt.xlabel('$\\Delta$ months')\n",
    "plt.ylim([-0.3, 1])\n",
    "plt.ylabel('autocorrelation')\n",
    "plt.show()"
   ]
  },
  {
   "cell_type": "markdown",
   "metadata": {},
   "source": [
    "We see that the autocorrelation is higher for multipliers of 6"
   ]
  },
  {
   "cell_type": "markdown",
   "metadata": {},
   "source": [
    "- partial autocorrelation"
   ]
  },
  {
   "cell_type": "code",
   "execution_count": 11,
   "metadata": {
    "collapsed": false
   },
   "outputs": [
    {
     "data": {
      "text/html": [
       "<div>\n",
       "<table border=\"1\" class=\"dataframe\">\n",
       "  <thead>\n",
       "    <tr style=\"text-align: right;\">\n",
       "      <th></th>\n",
       "      <th>coeff</th>\n",
       "      <th>value</th>\n",
       "      <th>SE</th>\n",
       "      <th>$t$-value</th>\n",
       "      <th>$p$-value</th>\n",
       "    </tr>\n",
       "  </thead>\n",
       "  <tbody>\n",
       "    <tr>\n",
       "      <th>Intercept</th>\n",
       "      <td>$\\alpha$</td>\n",
       "      <td>0.0004</td>\n",
       "      <td>0.0003</td>\n",
       "      <td>1.3650</td>\n",
       "      <td>0.1749</td>\n",
       "    </tr>\n",
       "    <tr>\n",
       "      <th>DPEUR.shift(6)</th>\n",
       "      <td>$\\beta_1$</td>\n",
       "      <td>0.1887</td>\n",
       "      <td>0.0773</td>\n",
       "      <td>2.4421</td>\n",
       "      <td>0.0161</td>\n",
       "    </tr>\n",
       "    <tr>\n",
       "      <th>DPEUR.shift(12)</th>\n",
       "      <td>$\\beta_2$</td>\n",
       "      <td>0.5980</td>\n",
       "      <td>0.0836</td>\n",
       "      <td>7.1568</td>\n",
       "      <td>0.0000</td>\n",
       "    </tr>\n",
       "  </tbody>\n",
       "</table>\n",
       "</div>"
      ],
      "text/plain": [
       "                     coeff   value      SE  $t$-value  $p$-value\n",
       "Intercept         $\\alpha$  0.0004  0.0003     1.3650     0.1749\n",
       "DPEUR.shift(6)   $\\beta_1$  0.1887  0.0773     2.4421     0.0161\n",
       "DPEUR.shift(12)  $\\beta_2$  0.5980  0.0836     7.1568     0.0000"
      ]
     },
     "execution_count": 11,
     "metadata": {},
     "output_type": "execute_result"
    }
   ],
   "source": [
    "model_c = ols('DPEUR ~ DPEUR.shift(6) + DPEUR.shift(12)', data=euro[train]).fit()\n",
    "summary(model_c, names=[r'$\\alpha$', r'$\\beta_1$', r'$\\beta_2$'])"
   ]
  },
  {
   "cell_type": "markdown",
   "metadata": {},
   "source": [
    "**(d)** \n",
    "\n",
    "1. Extend the `AR` model of part **(c)** by adding lagged values of monthly inflation in the USA at lags 1, 6,\n",
    "and 12. Check that the coefficient at lag 6 is not significant, and \n",
    "3. Estimate the `ADL` model \n",
    "\n",
    "$$\\text{DPEUR}_t = α + β_1\\, \\text{DPEUR}_{t-6} + β_2\\, \\text{DPEUR}_{t-12} + γ_1\\, \\text{DPUSA}_{t-1} + \\\\ γ_2\\, \\text{DPUSA}_{t-12} + ε_t$$ (sample Jan 2000 - Dec 2010)."
   ]
  },
  {
   "cell_type": "markdown",
   "metadata": {},
   "source": [
    "**(d1)** Extend the `AR` model of part **(c)** by adding lagged values of monthly inflation in the USA at lags 1, 6,\n",
    "and 12."
   ]
  },
  {
   "cell_type": "code",
   "execution_count": 12,
   "metadata": {
    "collapsed": false
   },
   "outputs": [
    {
     "data": {
      "text/html": [
       "<div>\n",
       "<table border=\"1\" class=\"dataframe\">\n",
       "  <thead>\n",
       "    <tr style=\"text-align: right;\">\n",
       "      <th></th>\n",
       "      <th>coeff</th>\n",
       "      <th>value</th>\n",
       "      <th>SE</th>\n",
       "      <th>$t$-value</th>\n",
       "      <th>$p$-value</th>\n",
       "    </tr>\n",
       "  </thead>\n",
       "  <tbody>\n",
       "    <tr>\n",
       "      <th>Intercept</th>\n",
       "      <td>$\\alpha$</td>\n",
       "      <td>0.0004</td>\n",
       "      <td>0.0003</td>\n",
       "      <td>1.5445</td>\n",
       "      <td>0.1253</td>\n",
       "    </tr>\n",
       "    <tr>\n",
       "      <th>DPEUR.shift(6)</th>\n",
       "      <td>$\\beta_1$</td>\n",
       "      <td>0.2030</td>\n",
       "      <td>0.0786</td>\n",
       "      <td>2.5841</td>\n",
       "      <td>0.0110</td>\n",
       "    </tr>\n",
       "    <tr>\n",
       "      <th>DPEUR.shift(12)</th>\n",
       "      <td>$\\beta_2$</td>\n",
       "      <td>0.6367</td>\n",
       "      <td>0.0875</td>\n",
       "      <td>7.2790</td>\n",
       "      <td>0.0000</td>\n",
       "    </tr>\n",
       "    <tr>\n",
       "      <th>DPUSA.shift(1)</th>\n",
       "      <td>$\\gamma_1$</td>\n",
       "      <td>0.2264</td>\n",
       "      <td>0.0511</td>\n",
       "      <td>4.4286</td>\n",
       "      <td>0.0000</td>\n",
       "    </tr>\n",
       "    <tr>\n",
       "      <th>DPUSA.shift(6)</th>\n",
       "      <td>$\\gamma_2$</td>\n",
       "      <td>-0.0561</td>\n",
       "      <td>0.0548</td>\n",
       "      <td>-1.0236</td>\n",
       "      <td>0.3082</td>\n",
       "    </tr>\n",
       "    <tr>\n",
       "      <th>DPUSA.shift(12)</th>\n",
       "      <td>$\\gamma_3$</td>\n",
       "      <td>-0.2300</td>\n",
       "      <td>0.0542</td>\n",
       "      <td>-4.2467</td>\n",
       "      <td>0.0000</td>\n",
       "    </tr>\n",
       "  </tbody>\n",
       "</table>\n",
       "</div>"
      ],
      "text/plain": [
       "                      coeff   value      SE  $t$-value  $p$-value\n",
       "Intercept          $\\alpha$  0.0004  0.0003     1.5445     0.1253\n",
       "DPEUR.shift(6)    $\\beta_1$  0.2030  0.0786     2.5841     0.0110\n",
       "DPEUR.shift(12)   $\\beta_2$  0.6367  0.0875     7.2790     0.0000\n",
       "DPUSA.shift(1)   $\\gamma_1$  0.2264  0.0511     4.4286     0.0000\n",
       "DPUSA.shift(6)   $\\gamma_2$ -0.0561  0.0548    -1.0236     0.3082\n",
       "DPUSA.shift(12)  $\\gamma_3$ -0.2300  0.0542    -4.2467     0.0000"
      ]
     },
     "execution_count": 12,
     "metadata": {},
     "output_type": "execute_result"
    }
   ],
   "source": [
    "model_d1 = ols('DPEUR ~ DPEUR.shift(6) + DPEUR.shift(12) + DPUSA.shift(1) + '\n",
    "                       'DPUSA.shift(6) + DPUSA.shift(12)', \n",
    "               data=euro[train]).fit()\n",
    "summary(model_d1, names=[r'$\\alpha$', r'$\\beta_1$', r'$\\beta_2$', \n",
    "                         r'$\\gamma_1$', r'$\\gamma_2$', r'$\\gamma_3$'])"
   ]
  },
  {
   "cell_type": "markdown",
   "metadata": {},
   "source": [
    "Indeed, we see that $p$-value of $\\gamma_2$ suggests that the coefficient for $\\text{DPUSA}_{t-6}$ is not significant."
   ]
  },
  {
   "cell_type": "markdown",
   "metadata": {},
   "source": [
    "**(d2)** Estimate the `ADL` model \n",
    "\n",
    "$$\\text{DPEUR}_t = α + β_1\\, \\text{DPEUR}_{t-6} + β_2\\, \\text{DPEUR}_{t-12} + γ_1\\, \\text{DPUSA}_{t-1} + \\\\ γ_2\\, \\text{DPUSA}_{t-12} + ε_t$$ (sample Jan 2000 - Dec 2010)."
   ]
  },
  {
   "cell_type": "code",
   "execution_count": 13,
   "metadata": {
    "collapsed": false
   },
   "outputs": [
    {
     "data": {
      "text/html": [
       "<div>\n",
       "<table border=\"1\" class=\"dataframe\">\n",
       "  <thead>\n",
       "    <tr style=\"text-align: right;\">\n",
       "      <th></th>\n",
       "      <th>coeff</th>\n",
       "      <th>value</th>\n",
       "      <th>SE</th>\n",
       "      <th>$t$-value</th>\n",
       "      <th>$p$-value</th>\n",
       "    </tr>\n",
       "  </thead>\n",
       "  <tbody>\n",
       "    <tr>\n",
       "      <th>Intercept</th>\n",
       "      <td>$\\alpha$</td>\n",
       "      <td>0.0003</td>\n",
       "      <td>0.0003</td>\n",
       "      <td>1.2673</td>\n",
       "      <td>0.2076</td>\n",
       "    </tr>\n",
       "    <tr>\n",
       "      <th>DPEUR.shift(6)</th>\n",
       "      <td>$\\beta_1$</td>\n",
       "      <td>0.1687</td>\n",
       "      <td>0.0711</td>\n",
       "      <td>2.3738</td>\n",
       "      <td>0.0193</td>\n",
       "    </tr>\n",
       "    <tr>\n",
       "      <th>DPEUR.shift(12)</th>\n",
       "      <td>$\\beta_2$</td>\n",
       "      <td>0.6552</td>\n",
       "      <td>0.0856</td>\n",
       "      <td>7.6513</td>\n",
       "      <td>0.0000</td>\n",
       "    </tr>\n",
       "    <tr>\n",
       "      <th>DPUSA.shift(1)</th>\n",
       "      <td>$\\gamma_1$</td>\n",
       "      <td>0.2326</td>\n",
       "      <td>0.0508</td>\n",
       "      <td>4.5817</td>\n",
       "      <td>0.0000</td>\n",
       "    </tr>\n",
       "    <tr>\n",
       "      <th>DPUSA.shift(12)</th>\n",
       "      <td>$\\gamma_2$</td>\n",
       "      <td>-0.2265</td>\n",
       "      <td>0.0541</td>\n",
       "      <td>-4.1888</td>\n",
       "      <td>0.0001</td>\n",
       "    </tr>\n",
       "  </tbody>\n",
       "</table>\n",
       "</div>"
      ],
      "text/plain": [
       "                      coeff   value      SE  $t$-value  $p$-value\n",
       "Intercept          $\\alpha$  0.0003  0.0003     1.2673     0.2076\n",
       "DPEUR.shift(6)    $\\beta_1$  0.1687  0.0711     2.3738     0.0193\n",
       "DPEUR.shift(12)   $\\beta_2$  0.6552  0.0856     7.6513     0.0000\n",
       "DPUSA.shift(1)   $\\gamma_1$  0.2326  0.0508     4.5817     0.0000\n",
       "DPUSA.shift(12)  $\\gamma_2$ -0.2265  0.0541    -4.1888     0.0001"
      ]
     },
     "execution_count": 13,
     "metadata": {},
     "output_type": "execute_result"
    }
   ],
   "source": [
    "model_d2 = ols('DPEUR ~ DPEUR.shift(6) + DPEUR.shift(12) + DPUSA.shift(1) + '\n",
    "                       'DPUSA.shift(12)', \n",
    "               data=euro[train]).fit()\n",
    "summary(model_d2, names=[r'$\\alpha$', r'$\\beta_1$', r'$\\beta_2$', \n",
    "                         r'$\\gamma_1$', r'$\\gamma_2$'])"
   ]
  },
  {
   "cell_type": "markdown",
   "metadata": {},
   "source": [
    "**(e)** Use the models of parts **(c)** and **(d)** to make two series of 12 monthly inflation forecasts for 2011. At each month, you should use the data that are then available, for example, to forecast inflation for September 2011\n",
    "you can use the data up to and including August 2011. However, do not re-estimate the model and use the\n",
    "coefficients as obtained in parts **(c)** and **(d)**. For each of the two forecast series, compute the values of the root mean squared error (RMSE), mean absolute error (MAE), and the sum of the forecast errors (SUM). Finally,\n",
    "give your interpretation of the outcomes."
   ]
  },
  {
   "cell_type": "code",
   "execution_count": 14,
   "metadata": {
    "collapsed": false
   },
   "outputs": [],
   "source": [
    "X = sm.add_constant(np.column_stack([euro.DPEUR.shift(6), euro.DPEUR.shift(12)]))\n",
    "c_pred = model_c.predict(X[np.where(test)], transform=False)"
   ]
  },
  {
   "cell_type": "code",
   "execution_count": 15,
   "metadata": {
    "collapsed": false
   },
   "outputs": [],
   "source": [
    "X = sm.add_constant(np.column_stack([euro.DPEUR.shift(6), euro.DPEUR.shift(12),\n",
    "                                     euro.DPUSA.shift(1), euro.DPUSA.shift(12)]))\n",
    "d_pred = model_d2.predict(X[np.where(test)], transform=False)"
   ]
  },
  {
   "cell_type": "code",
   "execution_count": 16,
   "metadata": {
    "collapsed": false,
    "scrolled": true
   },
   "outputs": [
    {
     "data": {
      "image/png": "[encoded data removed]",
      "text/plain": [
       "<matplotlib.figure.Figure at 0x7fc8575dbf90>"
      ]
     },
     "metadata": {},
     "output_type": "display_data"
    }
   ],
   "source": [
    "plt.plot(euro[test].DPEUR, color='black', label='true DPEUR')\n",
    "plt.plot(c_pred, label='model c')\n",
    "plt.plot(d_pred, label='model d')\n",
    "plt.legend()\n",
    "plt.show()"
   ]
  },
  {
   "cell_type": "markdown",
   "metadata": {},
   "source": [
    "In general models appear to perform quite well: we see that they correctly predict the direction of the change, and they both are quite close to the true value"
   ]
  },
  {
   "cell_type": "code",
   "execution_count": 17,
   "metadata": {
    "collapsed": true
   },
   "outputs": [],
   "source": [
    "def rmse(real, predicted):\n",
    "    mse = np.mean((real - predicted) ** 2)\n",
    "    return np.sqrt(mse)\n",
    "\n",
    "def mae(real, predicted):\n",
    "    return np.abs(real - predicted).mean()\n",
    "\n",
    "def sum_fe(real, predicted):\n",
    "    return np.sum(real - predicted)\n",
    "\n",
    "def all_metrics(real, predicted):\n",
    "    return rmse(real, predicted), mae(real, predicted), sum_fe(real, predicted)"
   ]
  },
  {
   "cell_type": "code",
   "execution_count": 18,
   "metadata": {
    "collapsed": false
   },
   "outputs": [
    {
     "data": {
      "text/html": [
       "<div>\n",
       "<table border=\"1\" class=\"dataframe\">\n",
       "  <thead>\n",
       "    <tr style=\"text-align: right;\">\n",
       "      <th></th>\n",
       "      <th>model c</th>\n",
       "      <th>model d</th>\n",
       "    </tr>\n",
       "  </thead>\n",
       "  <tbody>\n",
       "    <tr>\n",
       "      <th>RMSE</th>\n",
       "      <td>0.002324</td>\n",
       "      <td>0.002111</td>\n",
       "    </tr>\n",
       "    <tr>\n",
       "      <th>MAE</th>\n",
       "      <td>0.001693</td>\n",
       "      <td>0.001404</td>\n",
       "    </tr>\n",
       "    <tr>\n",
       "      <th>SUM</th>\n",
       "      <td>0.005065</td>\n",
       "      <td>0.000478</td>\n",
       "    </tr>\n",
       "  </tbody>\n",
       "</table>\n",
       "</div>"
      ],
      "text/plain": [
       "       model c   model d\n",
       "RMSE  0.002324  0.002111\n",
       "MAE   0.001693  0.001404\n",
       "SUM   0.005065  0.000478"
      ]
     },
     "execution_count": 18,
     "metadata": {},
     "output_type": "execute_result"
    }
   ],
   "source": [
    "real = euro[test].DPEUR\n",
    "\n",
    "df = pd.DataFrame({'model c': all_metrics(real, c_pred),\n",
    "                   'model d': all_metrics(real, d_pred)},\n",
    "                  columns=['model c', 'model d'])\n",
    "df.index = ['RMSE', 'MAE', 'SUM']\n",
    "df"
   ]
  },
  {
   "cell_type": "markdown",
   "metadata": {},
   "source": [
    "Model from **(d)** performs better in terms of **RMSE** and **MAE**"
   ]
  }
 ],
 "metadata": {
  "kernelspec": {
   "display_name": "Python 2",
   "language": "python",
   "name": "python2"
  },
  "language_info": {
   "codemirror_mode": {
    "name": "ipython",
    "version": 2
   },
   "file_extension": ".py",
   "mimetype": "text/x-python",
   "name": "python",
   "nbconvert_exporter": "python",
   "pygments_lexer": "ipython2",
   "version": "2.7.10"
  }
 },
 "nbformat": 4,
 "nbformat_minor": 0
}
