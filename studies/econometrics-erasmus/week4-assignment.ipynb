{
 "cells": [
  {
   "cell_type": "code",
   "execution_count": 1,
   "metadata": {
    "collapsed": true
   },
   "outputs": [],
   "source": [
    "import pandas as pd\n",
    "import matplotlib.pyplot as plt\n",
    "import statsmodels.api as sm\n",
    "import numpy as np\n",
    "\n",
    "from scipy.stats import f, chi2\n",
    "\n",
    "%matplotlib inline"
   ]
  },
  {
   "cell_type": "markdown",
   "metadata": {},
   "source": [
    "# MOOC Econometrics\n",
    "## Test Exercise 4"
   ]
  },
  {
   "cell_type": "markdown",
   "metadata": {},
   "source": [
    "A challenging and very relevant economic problem is the measurement of the returns to schooling. In this question\n",
    "we will use the following variables on 3010 US men:\n",
    "\n",
    "- `logw`: log wage\n",
    "- `educ`: number of years of schooling\n",
    "- `age`: age of the individual in years\n",
    "- `exper`: working experience in years\n",
    "- `smsa`: dummy indicating whether the individual lived in a metropolitan area\n",
    "- `south`: dummy indicating whether the individual lived in the south\n",
    "- `nearc`: dummy indicating whether the individual lived near a 4-year college\n",
    "- `dadeduc`: education of the individual's father (in years)\n",
    "- `momeduc`: education of the individual's mother (in years)\n",
    "\n",
    "This data is a selection of the data used by D. Card (1995) (“Using Geographic Variation in College Proximity to Estimate the Return to Schooling”)"
   ]
  },
  {
   "cell_type": "code",
   "execution_count": 2,
   "metadata": {
    "collapsed": false
   },
   "outputs": [
    {
     "data": {
      "text/html": [
       "<div>\n",
       "<table border=\"1\" class=\"dataframe\">\n",
       "  <thead>\n",
       "    <tr style=\"text-align: right;\">\n",
       "      <th></th>\n",
       "      <th>logw</th>\n",
       "      <th>educ</th>\n",
       "      <th>age</th>\n",
       "      <th>exper</th>\n",
       "      <th>smsa</th>\n",
       "      <th>south</th>\n",
       "      <th>nearc</th>\n",
       "      <th>daded</th>\n",
       "      <th>momed</th>\n",
       "    </tr>\n",
       "  </thead>\n",
       "  <tbody>\n",
       "    <tr>\n",
       "      <th>0</th>\n",
       "      <td>6.306275</td>\n",
       "      <td>7</td>\n",
       "      <td>29</td>\n",
       "      <td>16</td>\n",
       "      <td>1</td>\n",
       "      <td>0</td>\n",
       "      <td>0</td>\n",
       "      <td>9.94</td>\n",
       "      <td>10.25</td>\n",
       "    </tr>\n",
       "    <tr>\n",
       "      <th>1</th>\n",
       "      <td>6.175867</td>\n",
       "      <td>12</td>\n",
       "      <td>27</td>\n",
       "      <td>9</td>\n",
       "      <td>1</td>\n",
       "      <td>0</td>\n",
       "      <td>0</td>\n",
       "      <td>8.00</td>\n",
       "      <td>8.00</td>\n",
       "    </tr>\n",
       "    <tr>\n",
       "      <th>2</th>\n",
       "      <td>6.580639</td>\n",
       "      <td>12</td>\n",
       "      <td>34</td>\n",
       "      <td>16</td>\n",
       "      <td>1</td>\n",
       "      <td>0</td>\n",
       "      <td>0</td>\n",
       "      <td>14.00</td>\n",
       "      <td>12.00</td>\n",
       "    </tr>\n",
       "    <tr>\n",
       "      <th>3</th>\n",
       "      <td>5.521461</td>\n",
       "      <td>11</td>\n",
       "      <td>27</td>\n",
       "      <td>10</td>\n",
       "      <td>1</td>\n",
       "      <td>0</td>\n",
       "      <td>1</td>\n",
       "      <td>11.00</td>\n",
       "      <td>12.00</td>\n",
       "    </tr>\n",
       "    <tr>\n",
       "      <th>4</th>\n",
       "      <td>6.591674</td>\n",
       "      <td>12</td>\n",
       "      <td>34</td>\n",
       "      <td>16</td>\n",
       "      <td>1</td>\n",
       "      <td>0</td>\n",
       "      <td>1</td>\n",
       "      <td>8.00</td>\n",
       "      <td>7.00</td>\n",
       "    </tr>\n",
       "  </tbody>\n",
       "</table>\n",
       "</div>"
      ],
      "text/plain": [
       "       logw  educ  age  exper  smsa  south  nearc  daded  momed\n",
       "0  6.306275     7   29     16     1      0      0   9.94  10.25\n",
       "1  6.175867    12   27      9     1      0      0   8.00   8.00\n",
       "2  6.580639    12   34     16     1      0      0  14.00  12.00\n",
       "3  5.521461    11   27     10     1      0      1  11.00  12.00\n",
       "4  6.591674    12   34     16     1      0      1   8.00   7.00"
      ]
     },
     "execution_count": 2,
     "metadata": {},
     "output_type": "execute_result"
    }
   ],
   "source": [
    "wage = pd.read_csv('TestExer4_Wage-round1.txt')\n",
    "wage.head()"
   ]
  },
  {
   "cell_type": "markdown",
   "metadata": {},
   "source": [
    "**(a)** Use OLS to estimate the parameters of the model\n",
    "\n",
    "$$\\text{logw} = β_1 + β_2 \\, \\text{educ} + β_3 \\, \\text{exper} + β_4 \\, \\text{exper}^2 + β_5 \\, \\text{smsa} + β_6 \\, \\text{south} + ε.$$\n",
    "\n",
    "Give an interpretation to the estimated $β_2$ coefficient."
   ]
  },
  {
   "cell_type": "code",
   "execution_count": 3,
   "metadata": {
    "collapsed": true
   },
   "outputs": [],
   "source": [
    "def small_summary(model, round=2):\n",
    "    df = pd.DataFrame({'$\\\\beta$': model.params.round(round),\n",
    "                       'SE': model.bse.round(round),\n",
    "                       '$t$': model.tvalues.round(round),\n",
    "                       '$p$-val': model.pvalues.round(round)},\n",
    "                      columns=['$\\\\beta$', 'SE', '$t$', '$p$-val'])\n",
    "    return df"
   ]
  },
  {
   "cell_type": "code",
   "execution_count": 4,
   "metadata": {
    "collapsed": false
   },
   "outputs": [
    {
     "data": {
      "text/html": [
       "<div>\n",
       "<table border=\"1\" class=\"dataframe\">\n",
       "  <thead>\n",
       "    <tr style=\"text-align: right;\">\n",
       "      <th></th>\n",
       "      <th>$\\beta$</th>\n",
       "      <th>SE</th>\n",
       "      <th>$t$</th>\n",
       "      <th>$p$-val</th>\n",
       "    </tr>\n",
       "  </thead>\n",
       "  <tbody>\n",
       "    <tr>\n",
       "      <th>const</th>\n",
       "      <td>4.61</td>\n",
       "      <td>0.07</td>\n",
       "      <td>67.91</td>\n",
       "      <td>0</td>\n",
       "    </tr>\n",
       "    <tr>\n",
       "      <th>educ</th>\n",
       "      <td>0.08</td>\n",
       "      <td>0.00</td>\n",
       "      <td>23.31</td>\n",
       "      <td>0</td>\n",
       "    </tr>\n",
       "    <tr>\n",
       "      <th>exper</th>\n",
       "      <td>0.08</td>\n",
       "      <td>0.01</td>\n",
       "      <td>12.38</td>\n",
       "      <td>0</td>\n",
       "    </tr>\n",
       "    <tr>\n",
       "      <th>exper2</th>\n",
       "      <td>-0.00</td>\n",
       "      <td>0.00</td>\n",
       "      <td>-6.80</td>\n",
       "      <td>0</td>\n",
       "    </tr>\n",
       "    <tr>\n",
       "      <th>smsa</th>\n",
       "      <td>0.15</td>\n",
       "      <td>0.02</td>\n",
       "      <td>9.52</td>\n",
       "      <td>0</td>\n",
       "    </tr>\n",
       "    <tr>\n",
       "      <th>south</th>\n",
       "      <td>-0.18</td>\n",
       "      <td>0.01</td>\n",
       "      <td>-11.96</td>\n",
       "      <td>0</td>\n",
       "    </tr>\n",
       "  </tbody>\n",
       "</table>\n",
       "</div>"
      ],
      "text/plain": [
       "        $\\beta$    SE    $t$  $p$-val\n",
       "const      4.61  0.07  67.91        0\n",
       "educ       0.08  0.00  23.31        0\n",
       "exper      0.08  0.01  12.38        0\n",
       "exper2    -0.00  0.00  -6.80        0\n",
       "smsa       0.15  0.02   9.52        0\n",
       "south     -0.18  0.01 -11.96        0"
      ]
     },
     "execution_count": 4,
     "metadata": {},
     "output_type": "execute_result"
    }
   ],
   "source": [
    "wage['exper2'] = wage.exper ** 2\n",
    "\n",
    "logw = wage.ix[:, 'logw']\n",
    "X = sm.add_constant(wage.ix[:, ['educ', 'exper', 'exper2', 'smsa', 'south']])\n",
    "\n",
    "model_ols = sm.OLS(logw, X).fit()\n",
    "small_summary(model_ols)"
   ]
  },
  {
   "cell_type": "markdown",
   "metadata": {},
   "source": [
    "$\\beta_2$ can be interpreted as \"an increase in education by one year is associated with 8% increase of the wage\""
   ]
  },
  {
   "cell_type": "markdown",
   "metadata": {},
   "source": [
    "**(b)** OLS may be inconsistent in this case as `educ` and `exper` may be endogenous. \n",
    "\n",
    "- Give a reason why this may be the case. \n",
    "- Also indicate whether the estimate in part **(a)** is still useful."
   ]
  },
  {
   "cell_type": "markdown",
   "metadata": {},
   "source": [
    "Predictors `educ` and `exper` may be endogenous because of omitted factors - factors which we don't observe that could influence the wage, e.g.\n",
    "- `parent_income` - in the US the education is not free, and if parent's can't afford tuition, it can influence `educ`\n",
    "- `area` - the area where the individual works, in some fields (e.g. medical) they spend more time studying, but have higher salary afterwards (even with fewer years of experience) \n",
    "\n",
    "As the result, the estimators for $\\beta_2$, $\\beta_3$ and $\\beta_4$ may be inconsistent and OLS won't estimate the causal effect for these factors properly\n",
    "\n",
    "Estimates from part **(a)** are not useful when having endogeneity"
   ]
  },
  {
   "cell_type": "markdown",
   "metadata": {},
   "source": [
    "**(c)** Give a motivation why $\\text{age}$ and $\\text{age}^2$ can be used as instruments for $\\text{exper}$ and $\\text{exper}^2$."
   ]
  },
  {
   "cell_type": "markdown",
   "metadata": {},
   "source": [
    "The older a person is, the more years of experience they have, and wage is not directly related to age, only throught experience."
   ]
  },
  {
   "cell_type": "markdown",
   "metadata": {},
   "source": [
    "**(d)** Run the first-stage regression for `educ` for the two-stage least squares estimation of the parameters in the\n",
    "model above when `age`, `age2` , `nearc`, `dadeduc`, and `momeduc` are used as additional instruments. \n",
    "\n",
    "What do you conclude about the suitability of these instruments for schooling?"
   ]
  },
  {
   "cell_type": "code",
   "execution_count": 5,
   "metadata": {
    "collapsed": true
   },
   "outputs": [],
   "source": [
    "wage['age2'] = wage.age ** 2\n"
   ]
  },
  {
   "cell_type": "code",
   "execution_count": 6,
   "metadata": {
    "collapsed": false
   },
   "outputs": [
    {
     "data": {
      "text/html": [
       "<div>\n",
       "<table border=\"1\" class=\"dataframe\">\n",
       "  <thead>\n",
       "    <tr style=\"text-align: right;\">\n",
       "      <th></th>\n",
       "      <th>$\\beta$</th>\n",
       "      <th>SE</th>\n",
       "      <th>$t$</th>\n",
       "      <th>$p$-val</th>\n",
       "    </tr>\n",
       "  </thead>\n",
       "  <tbody>\n",
       "    <tr>\n",
       "      <th>const</th>\n",
       "      <td>-5.92</td>\n",
       "      <td>4.01</td>\n",
       "      <td>-1.48</td>\n",
       "      <td>0.14</td>\n",
       "    </tr>\n",
       "    <tr>\n",
       "      <th>age</th>\n",
       "      <td>0.99</td>\n",
       "      <td>0.28</td>\n",
       "      <td>3.53</td>\n",
       "      <td>0.00</td>\n",
       "    </tr>\n",
       "    <tr>\n",
       "      <th>age2</th>\n",
       "      <td>-0.02</td>\n",
       "      <td>0.00</td>\n",
       "      <td>-3.50</td>\n",
       "      <td>0.00</td>\n",
       "    </tr>\n",
       "    <tr>\n",
       "      <th>nearc</th>\n",
       "      <td>0.53</td>\n",
       "      <td>0.09</td>\n",
       "      <td>5.70</td>\n",
       "      <td>0.00</td>\n",
       "    </tr>\n",
       "    <tr>\n",
       "      <th>daded</th>\n",
       "      <td>0.20</td>\n",
       "      <td>0.02</td>\n",
       "      <td>12.90</td>\n",
       "      <td>0.00</td>\n",
       "    </tr>\n",
       "    <tr>\n",
       "      <th>momed</th>\n",
       "      <td>0.25</td>\n",
       "      <td>0.02</td>\n",
       "      <td>14.58</td>\n",
       "      <td>0.00</td>\n",
       "    </tr>\n",
       "  </tbody>\n",
       "</table>\n",
       "</div>"
      ],
      "text/plain": [
       "       $\\beta$    SE    $t$  $p$-val\n",
       "const    -5.92  4.01  -1.48     0.14\n",
       "age       0.99  0.28   3.53     0.00\n",
       "age2     -0.02  0.00  -3.50     0.00\n",
       "nearc     0.53  0.09   5.70     0.00\n",
       "daded     0.20  0.02  12.90     0.00\n",
       "momed     0.25  0.02  14.58     0.00"
      ]
     },
     "execution_count": 6,
     "metadata": {},
     "output_type": "execute_result"
    }
   ],
   "source": [
    "educ = wage.educ\n",
    "Z = sm.add_constant(wage.ix[:, ['age', 'age2', 'nearc', 'daded', 'momed']])\n",
    "\n",
    "model_1stage = sm.OLS(educ, Z).fit()\n",
    "small_summary(model_1stage)"
   ]
  },
  {
   "cell_type": "markdown",
   "metadata": {},
   "source": [
    "These instruments are suitable for predicting `educ` - all of them are significant"
   ]
  },
  {
   "cell_type": "markdown",
   "metadata": {},
   "source": [
    "**(e)** Estimate the parameters of the model for log wage using two-stage least squares. Compare your result to the\n",
    "estimate in part **(a)**.\n",
    "\n",
    "Let's also fit `exper`:"
   ]
  },
  {
   "cell_type": "code",
   "execution_count": 15,
   "metadata": {
    "collapsed": true
   },
   "outputs": [],
   "source": [
    "exper = wage.ix[:, 'exper']\n",
    "model_1stage_exper = sm.OLS(exper, Z).fit()\n",
    "\n",
    "wage['exper_fit'] = model_1stage_exper.fittedvalues\n",
    "wage['exper_fit2'] = model_1stage_exper.fittedvalues ** 2\n",
    "wage['educ_fit'] = model_1stage.fittedvalues"
   ]
  },
  {
   "cell_type": "code",
   "execution_count": 16,
   "metadata": {
    "collapsed": false,
    "scrolled": true
   },
   "outputs": [
    {
     "data": {
      "text/html": [
       "<div>\n",
       "<table border=\"1\" class=\"dataframe\">\n",
       "  <thead>\n",
       "    <tr style=\"text-align: right;\">\n",
       "      <th></th>\n",
       "      <th>$\\beta_{2sls}$</th>\n",
       "      <th>$\\beta_{ols}$</th>\n",
       "    </tr>\n",
       "  </thead>\n",
       "  <tbody>\n",
       "    <tr>\n",
       "      <th>const</th>\n",
       "      <td>4.396964</td>\n",
       "      <td>4.611014</td>\n",
       "    </tr>\n",
       "    <tr>\n",
       "      <th>educ</th>\n",
       "      <td>NaN</td>\n",
       "      <td>0.081580</td>\n",
       "    </tr>\n",
       "    <tr>\n",
       "      <th>educ_fit</th>\n",
       "      <td>0.096303</td>\n",
       "      <td>NaN</td>\n",
       "    </tr>\n",
       "    <tr>\n",
       "      <th>exper</th>\n",
       "      <td>NaN</td>\n",
       "      <td>0.083836</td>\n",
       "    </tr>\n",
       "    <tr>\n",
       "      <th>exper2</th>\n",
       "      <td>NaN</td>\n",
       "      <td>-0.002202</td>\n",
       "    </tr>\n",
       "    <tr>\n",
       "      <th>exper_fit</th>\n",
       "      <td>0.085340</td>\n",
       "      <td>NaN</td>\n",
       "    </tr>\n",
       "    <tr>\n",
       "      <th>exper_fit2</th>\n",
       "      <td>-0.002324</td>\n",
       "      <td>NaN</td>\n",
       "    </tr>\n",
       "    <tr>\n",
       "      <th>smsa</th>\n",
       "      <td>0.163446</td>\n",
       "      <td>0.150801</td>\n",
       "    </tr>\n",
       "    <tr>\n",
       "      <th>south</th>\n",
       "      <td>-0.186798</td>\n",
       "      <td>-0.175176</td>\n",
       "    </tr>\n",
       "  </tbody>\n",
       "</table>\n",
       "</div>"
      ],
      "text/plain": [
       "            $\\beta_{2sls}$  $\\beta_{ols}$\n",
       "const             4.396964       4.611014\n",
       "educ                   NaN       0.081580\n",
       "educ_fit          0.096303            NaN\n",
       "exper                  NaN       0.083836\n",
       "exper2                 NaN      -0.002202\n",
       "exper_fit         0.085340            NaN\n",
       "exper_fit2       -0.002324            NaN\n",
       "smsa              0.163446       0.150801\n",
       "south            -0.186798      -0.175176"
      ]
     },
     "execution_count": 16,
     "metadata": {},
     "output_type": "execute_result"
    }
   ],
   "source": [
    "logw = wage.ix[:, 'logw']\n",
    "X_2sls = sm.add_constant(wage.ix[:, ['educ_fit', 'exper_fit', 'exper_fit2', 'smsa', 'south']])\n",
    "\n",
    "model_2stage = sm.OLS(logw, X_2sls).fit()\n",
    "pd.DataFrame({'$\\\\beta_{2sls}$': model_2stage.params,\n",
    "              '$\\\\beta_{ols}$': model_ols.params})"
   ]
  },
  {
   "cell_type": "markdown",
   "metadata": {},
   "source": [
    "For 2SLS, the parameter for education is 0.09 vs 0.08 for OLS. Parameters for experience don't seem to change"
   ]
  },
  {
   "cell_type": "markdown",
   "metadata": {},
   "source": [
    "**(f)** Perform the Sargan test for validity of the instruments. What is your conclusion?"
   ]
  },
  {
   "cell_type": "code",
   "execution_count": 23,
   "metadata": {
    "collapsed": true
   },
   "outputs": [],
   "source": [
    "logw = wage.ix[:, 'logw']\n",
    "X = sm.add_constant(wage.ix[:, ['educ', 'exper', 'exper2', 'smsa', 'south']])\n",
    "\n",
    "logw_predicted = np.array(X).dot(model_2stage.params)\n",
    "\n",
    "e = logw - logw_predicted"
   ]
  },
  {
   "cell_type": "code",
   "execution_count": 24,
   "metadata": {
    "collapsed": false
   },
   "outputs": [
    {
     "name": "stdout",
     "output_type": "stream",
     "text": [
      "R2 = 0.0013\n"
     ]
    },
    {
     "data": {
      "text/html": [
       "<div>\n",
       "<table border=\"1\" class=\"dataframe\">\n",
       "  <thead>\n",
       "    <tr style=\"text-align: right;\">\n",
       "      <th></th>\n",
       "      <th>$\\beta$</th>\n",
       "      <th>SE</th>\n",
       "      <th>$t$</th>\n",
       "      <th>$p$-val</th>\n",
       "    </tr>\n",
       "  </thead>\n",
       "  <tbody>\n",
       "    <tr>\n",
       "      <th>const</th>\n",
       "      <td>0.61</td>\n",
       "      <td>0.66</td>\n",
       "      <td>0.94</td>\n",
       "      <td>0.35</td>\n",
       "    </tr>\n",
       "    <tr>\n",
       "      <th>age</th>\n",
       "      <td>-0.04</td>\n",
       "      <td>0.05</td>\n",
       "      <td>-0.93</td>\n",
       "      <td>0.35</td>\n",
       "    </tr>\n",
       "    <tr>\n",
       "      <th>age2</th>\n",
       "      <td>0.00</td>\n",
       "      <td>0.00</td>\n",
       "      <td>0.96</td>\n",
       "      <td>0.34</td>\n",
       "    </tr>\n",
       "    <tr>\n",
       "      <th>nearc</th>\n",
       "      <td>-0.00</td>\n",
       "      <td>0.02</td>\n",
       "      <td>-0.20</td>\n",
       "      <td>0.84</td>\n",
       "    </tr>\n",
       "    <tr>\n",
       "      <th>daded</th>\n",
       "      <td>-0.00</td>\n",
       "      <td>0.00</td>\n",
       "      <td>-1.60</td>\n",
       "      <td>0.11</td>\n",
       "    </tr>\n",
       "    <tr>\n",
       "      <th>momed</th>\n",
       "      <td>0.00</td>\n",
       "      <td>0.00</td>\n",
       "      <td>1.32</td>\n",
       "      <td>0.19</td>\n",
       "    </tr>\n",
       "  </tbody>\n",
       "</table>\n",
       "</div>"
      ],
      "text/plain": [
       "       $\\beta$    SE   $t$  $p$-val\n",
       "const     0.61  0.66  0.94     0.35\n",
       "age      -0.04  0.05 -0.93     0.35\n",
       "age2      0.00  0.00  0.96     0.34\n",
       "nearc    -0.00  0.02 -0.20     0.84\n",
       "daded    -0.00  0.00 -1.60     0.11\n",
       "momed     0.00  0.00  1.32     0.19"
      ]
     },
     "execution_count": 24,
     "metadata": {},
     "output_type": "execute_result"
    }
   ],
   "source": [
    "Z = sm.add_constant(wage.ix[:, ['age', 'age2', 'nearc', 'daded', 'momed']])\n",
    "sargan_model = sm.OLS(e, Z).fit()\n",
    "\n",
    "print 'R2 = %0.4f' % sargan_model.rsquared\n",
    "small_summary(sargan_model)"
   ]
  },
  {
   "cell_type": "markdown",
   "metadata": {},
   "source": [
    "None of the variables seems significant and $R^2$ is very small"
   ]
  },
  {
   "cell_type": "markdown",
   "metadata": {},
   "source": [
    "$n \\cdot R^2$ is distributed as $\\chi^2(m - k)$, where $m$ is the number of instruments and $k$ is the number of explanatory variables\n",
    "\n",
    "- $m = 6$: const, age, age2, nearc, daded, momed\n",
    "- $k = 6$: const, educ, exper, exper2, smsa, south\n",
    "\n",
    "Since $m = k$, we cannot perform the Sargan test, it only can be performed when $m > k$. \n",
    "\n",
    "But because the $p$-values of the coefficients are small and $R^2$ is also small, we may conclude that performing 2SLS still makes sense, even though we cannot formally test the validity of the instruments."
   ]
  }
 ],
 "metadata": {
  "kernelspec": {
   "display_name": "Python 2",
   "language": "python",
   "name": "python2"
  },
  "language_info": {
   "codemirror_mode": {
    "name": "ipython",
    "version": 2
   },
   "file_extension": ".py",
   "mimetype": "text/x-python",
   "name": "python",
   "nbconvert_exporter": "python",
   "pygments_lexer": "ipython2",
   "version": "2.7.10"
  }
 },
 "nbformat": 4,
 "nbformat_minor": 0
}
