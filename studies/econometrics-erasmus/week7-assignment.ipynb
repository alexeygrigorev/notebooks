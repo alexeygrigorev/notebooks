{
 "cells": [
  {
   "cell_type": "code",
   "execution_count": 1,
   "metadata": {
    "collapsed": true
   },
   "outputs": [],
   "source": [
    "import pandas as pd\n",
    "import matplotlib.pyplot as plt\n",
    "import statsmodels.api as sm\n",
    "import statsmodels.tsa.stattools as ts\n",
    "import numpy as np\n",
    "\n",
    "from statsmodels.formula.api import ols\n",
    "from patsy import dmatrices\n",
    "from scipy.stats import f, chi2, norm\n",
    "\n",
    "%matplotlib inline\n",
    "\n",
    "import seaborn as sns\n",
    "sns.set(color_codes=True)"
   ]
  },
  {
   "cell_type": "markdown",
   "metadata": {},
   "source": [
    "# MOOC Econometrics\n",
    "## Case Project – House Prices"
   ]
  },
  {
   "cell_type": "markdown",
   "metadata": {},
   "source": [
    "### Background\n",
    "\n",
    "This project is of an applied nature and uses data that are available in the data file `Capstone-HousePrices`. The\n",
    "source of these data is Anglin and Gencay, \"Semiparametric Estimation of a Hedonic Price Function\" (Journal of\n",
    "Applied Econometrics 11, 1996, pages 633-648). \n",
    "\n",
    "We consider the modeling and prediction of house prices. \n",
    "\n",
    "Data are available for 546 observations of the following variables:\n",
    "\n",
    "- `sell`: Sale price of the house\n",
    "- `lot`: Lot size of the property in square feet\n",
    "- `bdms`: Number of bedrooms\n",
    "- `fb`: Number of full bathrooms\n",
    "- `sty`: Number of stores excluding basement\n",
    "- `drv`: Dummy that is 1 if the house has a driveway and 0 otherwise\n",
    "- `rec`: Dummy that is 1 if the house has a recreational room and 0 otherwise\n",
    "- `ffin`: Dummy that is 1 if the house has a full finished basement and 0 otherwise\n",
    "- `ghw`: Dummy that is 1 if the house uses gas for hot water heating and 0 otherwise\n",
    "- `ca`: Dummy that is 1 if there is central air conditioning and 0 otherwise\n",
    "- `gar`: Number of covered garage places\n",
    "- `reg`: Dummy that is 1 if the house is located in a preferred neighborhood of the city and 0 otherwise\n",
    "- `obs`: Observation number, needed in part **(h)**"
   ]
  },
  {
   "cell_type": "code",
   "execution_count": 2,
   "metadata": {
    "collapsed": false
   },
   "outputs": [
    {
     "data": {
      "text/html": [
       "<div>\n",
       "<table border=\"1\" class=\"dataframe\">\n",
       "  <thead>\n",
       "    <tr style=\"text-align: right;\">\n",
       "      <th></th>\n",
       "      <th>obs</th>\n",
       "      <th>sell</th>\n",
       "      <th>lot</th>\n",
       "      <th>bdms</th>\n",
       "      <th>fb</th>\n",
       "      <th>sty</th>\n",
       "      <th>drv</th>\n",
       "      <th>rec</th>\n",
       "      <th>ffin</th>\n",
       "      <th>ghw</th>\n",
       "      <th>ca</th>\n",
       "      <th>gar</th>\n",
       "      <th>reg</th>\n",
       "    </tr>\n",
       "  </thead>\n",
       "  <tbody>\n",
       "    <tr>\n",
       "      <th>0</th>\n",
       "      <td>1</td>\n",
       "      <td>42000</td>\n",
       "      <td>5850</td>\n",
       "      <td>3</td>\n",
       "      <td>1</td>\n",
       "      <td>2</td>\n",
       "      <td>1</td>\n",
       "      <td>0</td>\n",
       "      <td>1</td>\n",
       "      <td>0</td>\n",
       "      <td>0</td>\n",
       "      <td>1</td>\n",
       "      <td>0</td>\n",
       "    </tr>\n",
       "    <tr>\n",
       "      <th>1</th>\n",
       "      <td>2</td>\n",
       "      <td>38500</td>\n",
       "      <td>4000</td>\n",
       "      <td>2</td>\n",
       "      <td>1</td>\n",
       "      <td>1</td>\n",
       "      <td>1</td>\n",
       "      <td>0</td>\n",
       "      <td>0</td>\n",
       "      <td>0</td>\n",
       "      <td>0</td>\n",
       "      <td>0</td>\n",
       "      <td>0</td>\n",
       "    </tr>\n",
       "    <tr>\n",
       "      <th>2</th>\n",
       "      <td>3</td>\n",
       "      <td>49500</td>\n",
       "      <td>3060</td>\n",
       "      <td>3</td>\n",
       "      <td>1</td>\n",
       "      <td>1</td>\n",
       "      <td>1</td>\n",
       "      <td>0</td>\n",
       "      <td>0</td>\n",
       "      <td>0</td>\n",
       "      <td>0</td>\n",
       "      <td>0</td>\n",
       "      <td>0</td>\n",
       "    </tr>\n",
       "    <tr>\n",
       "      <th>3</th>\n",
       "      <td>4</td>\n",
       "      <td>60500</td>\n",
       "      <td>6650</td>\n",
       "      <td>3</td>\n",
       "      <td>1</td>\n",
       "      <td>2</td>\n",
       "      <td>1</td>\n",
       "      <td>1</td>\n",
       "      <td>0</td>\n",
       "      <td>0</td>\n",
       "      <td>0</td>\n",
       "      <td>0</td>\n",
       "      <td>0</td>\n",
       "    </tr>\n",
       "    <tr>\n",
       "      <th>4</th>\n",
       "      <td>5</td>\n",
       "      <td>61000</td>\n",
       "      <td>6360</td>\n",
       "      <td>2</td>\n",
       "      <td>1</td>\n",
       "      <td>1</td>\n",
       "      <td>1</td>\n",
       "      <td>0</td>\n",
       "      <td>0</td>\n",
       "      <td>0</td>\n",
       "      <td>0</td>\n",
       "      <td>0</td>\n",
       "      <td>0</td>\n",
       "    </tr>\n",
       "  </tbody>\n",
       "</table>\n",
       "</div>"
      ],
      "text/plain": [
       "   obs   sell   lot  bdms  fb  sty  drv  rec  ffin  ghw  ca  gar  reg\n",
       "0    1  42000  5850     3   1    2    1    0     1    0   0    1    0\n",
       "1    2  38500  4000     2   1    1    1    0     0    0   0    0    0\n",
       "2    3  49500  3060     3   1    1    1    0     0    0   0    0    0\n",
       "3    4  60500  6650     3   1    2    1    1     0    0   0    0    0\n",
       "4    5  61000  6360     2   1    1    1    0     0    0   0    0    0"
      ]
     },
     "execution_count": 2,
     "metadata": {},
     "output_type": "execute_result"
    }
   ],
   "source": [
    "houses = pd.read_csv('Housing-Prices.txt', sep='\\t')\n",
    "houses.head()"
   ]
  },
  {
   "cell_type": "markdown",
   "metadata": {},
   "source": [
    "### Questions\n",
    "\n",
    "**(a)** Consider a linear model where the sale price of a house is the dependent variable and the explanatory variables\n",
    "are the other variables given above. Perform a test for linearity. What do you conclude based on the test\n",
    "result?"
   ]
  },
  {
   "cell_type": "markdown",
   "metadata": {},
   "source": [
    "I will include all variables except for `obs` - it does not make sense to include it. "
   ]
  },
  {
   "cell_type": "code",
   "execution_count": 3,
   "metadata": {
    "collapsed": false
   },
   "outputs": [
    {
     "data": {
      "text/html": [
       "<table class=\"simpletable\">\n",
       "<caption>OLS Regression Results</caption>\n",
       "<tr>\n",
       "  <th>Dep. Variable:</th>          <td>sell</td>       <th>  R-squared:         </th> <td>   0.673</td> \n",
       "</tr>\n",
       "<tr>\n",
       "  <th>Model:</th>                   <td>OLS</td>       <th>  Adj. R-squared:    </th> <td>   0.666</td> \n",
       "</tr>\n",
       "<tr>\n",
       "  <th>Method:</th>             <td>Least Squares</td>  <th>  F-statistic:       </th> <td>   99.97</td> \n",
       "</tr>\n",
       "<tr>\n",
       "  <th>Date:</th>             <td>Sat, 28 Nov 2015</td> <th>  Prob (F-statistic):</th> <td>6.18e-122</td>\n",
       "</tr>\n",
       "<tr>\n",
       "  <th>Time:</th>                 <td>20:46:36</td>     <th>  Log-Likelihood:    </th> <td> -6034.1</td> \n",
       "</tr>\n",
       "<tr>\n",
       "  <th>No. Observations:</th>      <td>   546</td>      <th>  AIC:               </th> <td>1.209e+04</td>\n",
       "</tr>\n",
       "<tr>\n",
       "  <th>Df Residuals:</th>          <td>   534</td>      <th>  BIC:               </th> <td>1.214e+04</td>\n",
       "</tr>\n",
       "<tr>\n",
       "  <th>Df Model:</th>              <td>    11</td>      <th>                     </th>     <td> </td>    \n",
       "</tr>\n",
       "<tr>\n",
       "  <th>Covariance Type:</th>      <td>nonrobust</td>    <th>                     </th>     <td> </td>    \n",
       "</tr>\n",
       "</table>\n",
       "<table class=\"simpletable\">\n",
       "<tr>\n",
       "      <td></td>         <th>coef</th>     <th>std err</th>      <th>t</th>      <th>P>|t|</th> <th>[95.0% Conf. Int.]</th> \n",
       "</tr>\n",
       "<tr>\n",
       "  <th>Intercept</th> <td>-4038.3504</td> <td> 3409.471</td> <td>   -1.184</td> <td> 0.237</td> <td>-1.07e+04  2659.271</td>\n",
       "</tr>\n",
       "<tr>\n",
       "  <th>lot</th>       <td>    3.5463</td> <td>    0.350</td> <td>   10.124</td> <td> 0.000</td> <td>    2.858     4.234</td>\n",
       "</tr>\n",
       "<tr>\n",
       "  <th>bdms</th>      <td> 1832.0035</td> <td> 1047.000</td> <td>    1.750</td> <td> 0.081</td> <td> -224.741  3888.748</td>\n",
       "</tr>\n",
       "<tr>\n",
       "  <th>fb</th>        <td> 1.434e+04</td> <td> 1489.921</td> <td>    9.622</td> <td> 0.000</td> <td> 1.14e+04  1.73e+04</td>\n",
       "</tr>\n",
       "<tr>\n",
       "  <th>sty</th>       <td> 6556.9457</td> <td>  925.290</td> <td>    7.086</td> <td> 0.000</td> <td> 4739.291  8374.600</td>\n",
       "</tr>\n",
       "<tr>\n",
       "  <th>drv</th>       <td> 6687.7789</td> <td> 2045.246</td> <td>    3.270</td> <td> 0.001</td> <td> 2670.065  1.07e+04</td>\n",
       "</tr>\n",
       "<tr>\n",
       "  <th>rec</th>       <td> 4511.2838</td> <td> 1899.958</td> <td>    2.374</td> <td> 0.018</td> <td>  778.976  8243.592</td>\n",
       "</tr>\n",
       "<tr>\n",
       "  <th>ffin</th>      <td> 5452.3855</td> <td> 1588.024</td> <td>    3.433</td> <td> 0.001</td> <td> 2332.845  8571.926</td>\n",
       "</tr>\n",
       "<tr>\n",
       "  <th>ghw</th>       <td> 1.283e+04</td> <td> 3217.597</td> <td>    3.988</td> <td> 0.000</td> <td> 6510.706  1.92e+04</td>\n",
       "</tr>\n",
       "<tr>\n",
       "  <th>ca</th>        <td> 1.263e+04</td> <td> 1555.021</td> <td>    8.124</td> <td> 0.000</td> <td> 9578.182  1.57e+04</td>\n",
       "</tr>\n",
       "<tr>\n",
       "  <th>gar</th>       <td> 4244.8290</td> <td>  840.544</td> <td>    5.050</td> <td> 0.000</td> <td> 2593.650  5896.008</td>\n",
       "</tr>\n",
       "<tr>\n",
       "  <th>reg</th>       <td> 9369.5132</td> <td> 1669.091</td> <td>    5.614</td> <td> 0.000</td> <td> 6090.724  1.26e+04</td>\n",
       "</tr>\n",
       "</table>\n",
       "<table class=\"simpletable\">\n",
       "<tr>\n",
       "  <th>Omnibus:</th>       <td>93.454</td> <th>  Durbin-Watson:     </th> <td>   1.604</td>\n",
       "</tr>\n",
       "<tr>\n",
       "  <th>Prob(Omnibus):</th> <td> 0.000</td> <th>  Jarque-Bera (JB):  </th> <td> 247.620</td>\n",
       "</tr>\n",
       "<tr>\n",
       "  <th>Skew:</th>          <td> 0.853</td> <th>  Prob(JB):          </th> <td>1.70e-54</td>\n",
       "</tr>\n",
       "<tr>\n",
       "  <th>Kurtosis:</th>      <td> 5.824</td> <th>  Cond. No.          </th> <td>3.07e+04</td>\n",
       "</tr>\n",
       "</table>"
      ],
      "text/plain": [
       "<class 'statsmodels.iolib.summary.Summary'>\n",
       "\"\"\"\n",
       "                            OLS Regression Results                            \n",
       "==============================================================================\n",
       "Dep. Variable:                   sell   R-squared:                       0.673\n",
       "Model:                            OLS   Adj. R-squared:                  0.666\n",
       "Method:                 Least Squares   F-statistic:                     99.97\n",
       "Date:                Sat, 28 Nov 2015   Prob (F-statistic):          6.18e-122\n",
       "Time:                        20:46:36   Log-Likelihood:                -6034.1\n",
       "No. Observations:                 546   AIC:                         1.209e+04\n",
       "Df Residuals:                     534   BIC:                         1.214e+04\n",
       "Df Model:                          11                                         \n",
       "Covariance Type:            nonrobust                                         \n",
       "==============================================================================\n",
       "                 coef    std err          t      P>|t|      [95.0% Conf. Int.]\n",
       "------------------------------------------------------------------------------\n",
       "Intercept  -4038.3504   3409.471     -1.184      0.237     -1.07e+04  2659.271\n",
       "lot            3.5463      0.350     10.124      0.000         2.858     4.234\n",
       "bdms        1832.0035   1047.000      1.750      0.081      -224.741  3888.748\n",
       "fb          1.434e+04   1489.921      9.622      0.000      1.14e+04  1.73e+04\n",
       "sty         6556.9457    925.290      7.086      0.000      4739.291  8374.600\n",
       "drv         6687.7789   2045.246      3.270      0.001      2670.065  1.07e+04\n",
       "rec         4511.2838   1899.958      2.374      0.018       778.976  8243.592\n",
       "ffin        5452.3855   1588.024      3.433      0.001      2332.845  8571.926\n",
       "ghw         1.283e+04   3217.597      3.988      0.000      6510.706  1.92e+04\n",
       "ca          1.263e+04   1555.021      8.124      0.000      9578.182  1.57e+04\n",
       "gar         4244.8290    840.544      5.050      0.000      2593.650  5896.008\n",
       "reg         9369.5132   1669.091      5.614      0.000      6090.724  1.26e+04\n",
       "==============================================================================\n",
       "Omnibus:                       93.454   Durbin-Watson:                   1.604\n",
       "Prob(Omnibus):                  0.000   Jarque-Bera (JB):              247.620\n",
       "Skew:                           0.853   Prob(JB):                     1.70e-54\n",
       "Kurtosis:                       5.824   Cond. No.                     3.07e+04\n",
       "==============================================================================\n",
       "\n",
       "Warnings:\n",
       "[1] Standard Errors assume that the covariance matrix of the errors is correctly specified.\n",
       "[2] The condition number is large, 3.07e+04. This might indicate that there are\n",
       "strong multicollinearity or other numerical problems.\n",
       "\"\"\""
      ]
     },
     "execution_count": 3,
     "metadata": {},
     "output_type": "execute_result"
    }
   ],
   "source": [
    "full_model = ols('sell ~ '\n",
    "                     'lot + bdms + fb + sty + drv + ' + \n",
    "                     'rec + ffin + ghw + ca + gar + reg', \n",
    "                 data=houses).fit()\n",
    "full_model.summary()"
   ]
  },
  {
   "cell_type": "markdown",
   "metadata": {},
   "source": [
    "Almost all variables, except for `bdms`, are significant at 5% level (`bdms` is significant at 10% level) \n",
    "\n",
    "$p$-value for the Jarque-Bera test says that we cannot reject the hypothesis that residuals are distributed normally."
   ]
  },
  {
   "cell_type": "code",
   "execution_count": 26,
   "metadata": {
    "collapsed": false,
    "scrolled": false
   },
   "outputs": [
    {
     "data": {
      "image/png": "[encoded data removed]",
      "text/plain": [
       "<matplotlib.figure.Figure at 0x7fb6bf2bca90>"
      ]
     },
     "metadata": {},
     "output_type": "display_data"
    }
   ],
   "source": [
    "fitted = full_model.predict()\n",
    "resid = full_model.resid\n",
    "\n",
    "g = sns.JointGrid(x=fitted, y=resid)\n",
    "g.set_axis_labels(xlabel='fitted values', ylabel='residuals')\n",
    "\n",
    "ax_joint = g.ax_joint\n",
    "ax_joint.scatter(fitted, resid)\n",
    "ax_joint.axhline(0)\n",
    "\n",
    "sns.distplot(fitted, ax=g.ax_marg_x)\n",
    "sns.distplot(resid, ax=g.ax_marg_y, fit=norm, vertical=True)\n",
    "\n",
    "plt.show()"
   ]
  },
  {
   "cell_type": "markdown",
   "metadata": {},
   "source": [
    "Even though the distributed of residuals looks normal (and JB test doesn't reject normality), it looks like the left tail of the distriburion is longer. So we need to try transforming the price variable."
   ]
  },
  {
   "cell_type": "markdown",
   "metadata": {},
   "source": [
    "**(b)** Now consider a linear model where the log of the sale price of the house is the dependent variable and the\n",
    "explanatory variables are as before. Perform again the test for linearity. What do you conclude now?\n"
   ]
  },
  {
   "cell_type": "code",
   "execution_count": 5,
   "metadata": {
    "collapsed": true
   },
   "outputs": [],
   "source": [
    "from numpy import log"
   ]
  },
  {
   "cell_type": "code",
   "execution_count": 6,
   "metadata": {
    "collapsed": false
   },
   "outputs": [
    {
     "data": {
      "text/html": [
       "<table class=\"simpletable\">\n",
       "<caption>OLS Regression Results</caption>\n",
       "<tr>\n",
       "  <th>Dep. Variable:</th>        <td>log(sell)</td>    <th>  R-squared:         </th> <td>   0.677</td> \n",
       "</tr>\n",
       "<tr>\n",
       "  <th>Model:</th>                   <td>OLS</td>       <th>  Adj. R-squared:    </th> <td>   0.670</td> \n",
       "</tr>\n",
       "<tr>\n",
       "  <th>Method:</th>             <td>Least Squares</td>  <th>  F-statistic:       </th> <td>   101.6</td> \n",
       "</tr>\n",
       "<tr>\n",
       "  <th>Date:</th>             <td>Sat, 28 Nov 2015</td> <th>  Prob (F-statistic):</th> <td>3.67e-123</td>\n",
       "</tr>\n",
       "<tr>\n",
       "  <th>Time:</th>                 <td>20:46:37</td>     <th>  Log-Likelihood:    </th> <td>  73.873</td> \n",
       "</tr>\n",
       "<tr>\n",
       "  <th>No. Observations:</th>      <td>   546</td>      <th>  AIC:               </th> <td>  -123.7</td> \n",
       "</tr>\n",
       "<tr>\n",
       "  <th>Df Residuals:</th>          <td>   534</td>      <th>  BIC:               </th> <td>  -72.11</td> \n",
       "</tr>\n",
       "<tr>\n",
       "  <th>Df Model:</th>              <td>    11</td>      <th>                     </th>     <td> </td>    \n",
       "</tr>\n",
       "<tr>\n",
       "  <th>Covariance Type:</th>      <td>nonrobust</td>    <th>                     </th>     <td> </td>    \n",
       "</tr>\n",
       "</table>\n",
       "<table class=\"simpletable\">\n",
       "<tr>\n",
       "      <td></td>         <th>coef</th>     <th>std err</th>      <th>t</th>      <th>P>|t|</th> <th>[95.0% Conf. Int.]</th> \n",
       "</tr>\n",
       "<tr>\n",
       "  <th>Intercept</th> <td>   10.0256</td> <td>    0.047</td> <td>  212.210</td> <td> 0.000</td> <td>    9.933    10.118</td>\n",
       "</tr>\n",
       "<tr>\n",
       "  <th>lot</th>       <td> 5.057e-05</td> <td> 4.85e-06</td> <td>   10.418</td> <td> 0.000</td> <td>  4.1e-05  6.01e-05</td>\n",
       "</tr>\n",
       "<tr>\n",
       "  <th>bdms</th>      <td>    0.0340</td> <td>    0.015</td> <td>    2.345</td> <td> 0.019</td> <td>    0.006     0.063</td>\n",
       "</tr>\n",
       "<tr>\n",
       "  <th>fb</th>        <td>    0.1678</td> <td>    0.021</td> <td>    8.126</td> <td> 0.000</td> <td>    0.127     0.208</td>\n",
       "</tr>\n",
       "<tr>\n",
       "  <th>sty</th>       <td>    0.0923</td> <td>    0.013</td> <td>    7.197</td> <td> 0.000</td> <td>    0.067     0.117</td>\n",
       "</tr>\n",
       "<tr>\n",
       "  <th>drv</th>       <td>    0.1307</td> <td>    0.028</td> <td>    4.610</td> <td> 0.000</td> <td>    0.075     0.186</td>\n",
       "</tr>\n",
       "<tr>\n",
       "  <th>rec</th>       <td>    0.0735</td> <td>    0.026</td> <td>    2.792</td> <td> 0.005</td> <td>    0.022     0.125</td>\n",
       "</tr>\n",
       "<tr>\n",
       "  <th>ffin</th>      <td>    0.0994</td> <td>    0.022</td> <td>    4.517</td> <td> 0.000</td> <td>    0.056     0.143</td>\n",
       "</tr>\n",
       "<tr>\n",
       "  <th>ghw</th>       <td>    0.1784</td> <td>    0.045</td> <td>    4.000</td> <td> 0.000</td> <td>    0.091     0.266</td>\n",
       "</tr>\n",
       "<tr>\n",
       "  <th>ca</th>        <td>    0.1780</td> <td>    0.022</td> <td>    8.262</td> <td> 0.000</td> <td>    0.136     0.220</td>\n",
       "</tr>\n",
       "<tr>\n",
       "  <th>gar</th>       <td>    0.0508</td> <td>    0.012</td> <td>    4.358</td> <td> 0.000</td> <td>    0.028     0.074</td>\n",
       "</tr>\n",
       "<tr>\n",
       "  <th>reg</th>       <td>    0.1271</td> <td>    0.023</td> <td>    5.496</td> <td> 0.000</td> <td>    0.082     0.173</td>\n",
       "</tr>\n",
       "</table>\n",
       "<table class=\"simpletable\">\n",
       "<tr>\n",
       "  <th>Omnibus:</th>       <td> 7.621</td> <th>  Durbin-Watson:     </th> <td>   1.510</td>\n",
       "</tr>\n",
       "<tr>\n",
       "  <th>Prob(Omnibus):</th> <td> 0.022</td> <th>  Jarque-Bera (JB):  </th> <td>   8.443</td>\n",
       "</tr>\n",
       "<tr>\n",
       "  <th>Skew:</th>          <td>-0.199</td> <th>  Prob(JB):          </th> <td>  0.0147</td>\n",
       "</tr>\n",
       "<tr>\n",
       "  <th>Kurtosis:</th>      <td> 3.461</td> <th>  Cond. No.          </th> <td>3.07e+04</td>\n",
       "</tr>\n",
       "</table>"
      ],
      "text/plain": [
       "<class 'statsmodels.iolib.summary.Summary'>\n",
       "\"\"\"\n",
       "                            OLS Regression Results                            \n",
       "==============================================================================\n",
       "Dep. Variable:              log(sell)   R-squared:                       0.677\n",
       "Model:                            OLS   Adj. R-squared:                  0.670\n",
       "Method:                 Least Squares   F-statistic:                     101.6\n",
       "Date:                Sat, 28 Nov 2015   Prob (F-statistic):          3.67e-123\n",
       "Time:                        20:46:37   Log-Likelihood:                 73.873\n",
       "No. Observations:                 546   AIC:                            -123.7\n",
       "Df Residuals:                     534   BIC:                            -72.11\n",
       "Df Model:                          11                                         \n",
       "Covariance Type:            nonrobust                                         \n",
       "==============================================================================\n",
       "                 coef    std err          t      P>|t|      [95.0% Conf. Int.]\n",
       "------------------------------------------------------------------------------\n",
       "Intercept     10.0256      0.047    212.210      0.000         9.933    10.118\n",
       "lot         5.057e-05   4.85e-06     10.418      0.000       4.1e-05  6.01e-05\n",
       "bdms           0.0340      0.015      2.345      0.019         0.006     0.063\n",
       "fb             0.1678      0.021      8.126      0.000         0.127     0.208\n",
       "sty            0.0923      0.013      7.197      0.000         0.067     0.117\n",
       "drv            0.1307      0.028      4.610      0.000         0.075     0.186\n",
       "rec            0.0735      0.026      2.792      0.005         0.022     0.125\n",
       "ffin           0.0994      0.022      4.517      0.000         0.056     0.143\n",
       "ghw            0.1784      0.045      4.000      0.000         0.091     0.266\n",
       "ca             0.1780      0.022      8.262      0.000         0.136     0.220\n",
       "gar            0.0508      0.012      4.358      0.000         0.028     0.074\n",
       "reg            0.1271      0.023      5.496      0.000         0.082     0.173\n",
       "==============================================================================\n",
       "Omnibus:                        7.621   Durbin-Watson:                   1.510\n",
       "Prob(Omnibus):                  0.022   Jarque-Bera (JB):                8.443\n",
       "Skew:                          -0.199   Prob(JB):                       0.0147\n",
       "Kurtosis:                       3.461   Cond. No.                     3.07e+04\n",
       "==============================================================================\n",
       "\n",
       "Warnings:\n",
       "[1] Standard Errors assume that the covariance matrix of the errors is correctly specified.\n",
       "[2] The condition number is large, 3.07e+04. This might indicate that there are\n",
       "strong multicollinearity or other numerical problems.\n",
       "\"\"\""
      ]
     },
     "execution_count": 6,
     "metadata": {},
     "output_type": "execute_result"
    }
   ],
   "source": [
    "full_model_log = ols('log(sell) ~ '\n",
    "                         'lot + bdms + fb + sty + drv + ' +\n",
    "                         'rec + ffin + ghw + ca + gar + reg', \n",
    "                     data=houses).fit()\n",
    "full_model_log.summary()"
   ]
  },
  {
   "cell_type": "code",
   "execution_count": 7,
   "metadata": {
    "collapsed": false
   },
   "outputs": [
    {
     "data": {
      "image/png": "[encoded data removed]",
      "text/plain": [
       "<matplotlib.figure.Figure at 0x7fb6bf5df210>"
      ]
     },
     "metadata": {},
     "output_type": "display_data"
    }
   ],
   "source": [
    "fitted = full_model_log.predict()\n",
    "resid = full_model_log.resid\n",
    "\n",
    "g = sns.JointGrid(x=fitted, y=resid)\n",
    "g.set_axis_labels(xlabel='fitted values', ylabel='residuals')\n",
    "\n",
    "ax_joint = g.ax_joint\n",
    "ax_joint.scatter(fitted, resid)\n",
    "ax_joint.axhline(0)\n",
    "\n",
    "sns.distplot(fitted, ax=g.ax_marg_x)\n",
    "sns.distplot(resid, ax=g.ax_marg_y, fit=norm, vertical=True)\n",
    "\n",
    "plt.show()"
   ]
  },
  {
   "cell_type": "markdown",
   "metadata": {},
   "source": [
    "Even though $p$-value for JB is smaller than for **(a)**, the plot suggests that the log transformation is better: the distribution of residuals doesn't have the long tail, and follows the fitted normal distribution closer than in **(a)**"
   ]
  },
  {
   "cell_type": "markdown",
   "metadata": {},
   "source": [
    "**(c)** Continue with the linear model from question **(b)**. \n",
    "\n",
    "- We now consider possible transformation of the lot size variable. \n",
    "- We can consider either the variable itself, or a log transformation of this variable. \n",
    "- Which of these do you prefer? (Keep all other explanatory variables included without transformation.)"
   ]
  },
  {
   "cell_type": "markdown",
   "metadata": {},
   "source": [
    "First, let's have a look at the distribution of this variable:"
   ]
  },
  {
   "cell_type": "code",
   "execution_count": 8,
   "metadata": {
    "collapsed": false
   },
   "outputs": [
    {
     "data": {
      "image/png": "[encoded data removed]",
      "text/plain": [
       "<matplotlib.figure.Figure at 0x7fb6bf367fd0>"
      ]
     },
     "metadata": {},
     "output_type": "display_data"
    }
   ],
   "source": [
    "plt.figure(figsize=(8, 4))\n",
    "\n",
    "ax1 = plt.subplot(2, 1, 1)\n",
    "sns.distplot(houses.lot, ax=ax1, axlabel='lot')\n",
    "\n",
    "ax2 = plt.subplot(2, 1, 2)\n",
    "sns.distplot(np.log(houses.lot), ax=ax2, axlabel='log lot')\n",
    "\n",
    "plt.tight_layout()\n",
    "plt.show()"
   ]
  },
  {
   "cell_type": "markdown",
   "metadata": {},
   "source": [
    "The log transfrom seems to give a better (more \"balanced\") spread. Let us try fitting 2 OLS models, one with transformation, another without."
   ]
  },
  {
   "cell_type": "code",
   "execution_count": 9,
   "metadata": {
    "collapsed": false
   },
   "outputs": [
    {
     "name": "stdout",
     "output_type": "stream",
     "text": [
      "R2_a = 0.6766, AIC = -123.7462, BIC = -72.1148\n",
      "R2_b = 0.6865, AIC = -140.8234, BIC = -89.1919\n"
     ]
    }
   ],
   "source": [
    "model_2a = ols('log(sell) ~ '\n",
    "                   'lot + bdms + fb + sty + drv + ' +\n",
    "                   'rec + ffin + ghw + ca + gar + reg', \n",
    "               data=houses).fit()\n",
    "model_2b = ols('log(sell) ~ '\n",
    "                   'log(lot) + bdms + fb + sty + drv + ' +\n",
    "                   'rec + ffin + ghw + ca + gar + reg', \n",
    "               data=houses).fit()\n",
    "\n",
    "print 'R2_a = %0.4f, AIC = %0.4f, BIC = %0.4f' % \\\n",
    "        (model_2a.rsquared, model_2a.aic, model_2a.bic)\n",
    "print 'R2_b = %0.4f, AIC = %0.4f, BIC = %0.4f' % \\\n",
    "        (model_2b.rsquared, model_2b.aic, model_2b.bic)"
   ]
  },
  {
   "cell_type": "markdown",
   "metadata": {},
   "source": [
    "The model **2b** has higher (better) $R^2$ and lower (better) AIC and BIC. So the model **2b** with log transformation of `lot` is better than **2a** without the transformation."
   ]
  },
  {
   "cell_type": "markdown",
   "metadata": {},
   "source": [
    "**(d)** \n",
    "\n",
    "- We now consider\n",
    "interaction effects of the log lot size with the other variables. \n",
    "- Construct these interaction variables. \n",
    "- How many are individually significant?"
   ]
  },
  {
   "cell_type": "code",
   "execution_count": 10,
   "metadata": {
    "collapsed": true
   },
   "outputs": [],
   "source": [
    "def summary(model):\n",
    "    return pd.DataFrame(\n",
    "             {'coef': model.params.round(4), \n",
    "              '$t$-value': model.tvalues.round(4),\n",
    "              'SE': model.bse.round(4),\n",
    "              '$p$-value': model.pvalues.round(4),\n",
    "              'significance': np.where(model.pvalues <= 0.05, 'significant', 'not')},\n",
    "             columns=['coef', 'SE', '$t$-value', '$p$-value', 'significance'])"
   ]
  },
  {
   "cell_type": "markdown",
   "metadata": {},
   "source": [
    "To construct the interaction variables, we consider additional variables that look like $\\log \\text{lot} \\times x_j$ where $x_j$ is other variables, not $\\log \\text{lot}$"
   ]
  },
  {
   "cell_type": "code",
   "execution_count": 11,
   "metadata": {
    "collapsed": false
   },
   "outputs": [
    {
     "data": {
      "text/html": [
       "<div>\n",
       "<table border=\"1\" class=\"dataframe\">\n",
       "  <thead>\n",
       "    <tr style=\"text-align: right;\">\n",
       "      <th></th>\n",
       "      <th>coef</th>\n",
       "      <th>SE</th>\n",
       "      <th>$t$-value</th>\n",
       "      <th>$p$-value</th>\n",
       "      <th>significance</th>\n",
       "    </tr>\n",
       "  </thead>\n",
       "  <tbody>\n",
       "    <tr>\n",
       "      <th>Intercept</th>\n",
       "      <td>8.9665</td>\n",
       "      <td>1.0707</td>\n",
       "      <td>8.3747</td>\n",
       "      <td>0.0000</td>\n",
       "      <td>significant</td>\n",
       "    </tr>\n",
       "    <tr>\n",
       "      <th>log(lot)</th>\n",
       "      <td>0.1527</td>\n",
       "      <td>0.1283</td>\n",
       "      <td>1.1901</td>\n",
       "      <td>0.2345</td>\n",
       "      <td>not</td>\n",
       "    </tr>\n",
       "    <tr>\n",
       "      <th>bdms</th>\n",
       "      <td>0.0191</td>\n",
       "      <td>0.3267</td>\n",
       "      <td>0.0584</td>\n",
       "      <td>0.9535</td>\n",
       "      <td>not</td>\n",
       "    </tr>\n",
       "    <tr>\n",
       "      <th>fb</th>\n",
       "      <td>-0.3682</td>\n",
       "      <td>0.4290</td>\n",
       "      <td>-0.8583</td>\n",
       "      <td>0.3911</td>\n",
       "      <td>not</td>\n",
       "    </tr>\n",
       "    <tr>\n",
       "      <th>sty</th>\n",
       "      <td>0.4889</td>\n",
       "      <td>0.3097</td>\n",
       "      <td>1.5786</td>\n",
       "      <td>0.1150</td>\n",
       "      <td>not</td>\n",
       "    </tr>\n",
       "    <tr>\n",
       "      <th>drv</th>\n",
       "      <td>-1.4634</td>\n",
       "      <td>0.7172</td>\n",
       "      <td>-2.0403</td>\n",
       "      <td>0.0418</td>\n",
       "      <td>significant</td>\n",
       "    </tr>\n",
       "    <tr>\n",
       "      <th>rec</th>\n",
       "      <td>1.6740</td>\n",
       "      <td>0.6559</td>\n",
       "      <td>2.5521</td>\n",
       "      <td>0.0110</td>\n",
       "      <td>significant</td>\n",
       "    </tr>\n",
       "    <tr>\n",
       "      <th>ffin</th>\n",
       "      <td>-0.0318</td>\n",
       "      <td>0.4455</td>\n",
       "      <td>-0.0715</td>\n",
       "      <td>0.9430</td>\n",
       "      <td>not</td>\n",
       "    </tr>\n",
       "    <tr>\n",
       "      <th>ghw</th>\n",
       "      <td>-0.5059</td>\n",
       "      <td>0.9027</td>\n",
       "      <td>-0.5604</td>\n",
       "      <td>0.5754</td>\n",
       "      <td>not</td>\n",
       "    </tr>\n",
       "    <tr>\n",
       "      <th>ca</th>\n",
       "      <td>-0.3403</td>\n",
       "      <td>0.4960</td>\n",
       "      <td>-0.6860</td>\n",
       "      <td>0.4930</td>\n",
       "      <td>not</td>\n",
       "    </tr>\n",
       "    <tr>\n",
       "      <th>gar</th>\n",
       "      <td>0.4019</td>\n",
       "      <td>0.2586</td>\n",
       "      <td>1.5540</td>\n",
       "      <td>0.1208</td>\n",
       "      <td>not</td>\n",
       "    </tr>\n",
       "    <tr>\n",
       "      <th>reg</th>\n",
       "      <td>0.1185</td>\n",
       "      <td>0.4799</td>\n",
       "      <td>0.2469</td>\n",
       "      <td>0.8051</td>\n",
       "      <td>not</td>\n",
       "    </tr>\n",
       "    <tr>\n",
       "      <th>log(lot):bdms</th>\n",
       "      <td>0.0021</td>\n",
       "      <td>0.0387</td>\n",
       "      <td>0.0535</td>\n",
       "      <td>0.9573</td>\n",
       "      <td>not</td>\n",
       "    </tr>\n",
       "    <tr>\n",
       "      <th>log(lot):fb</th>\n",
       "      <td>0.0620</td>\n",
       "      <td>0.0501</td>\n",
       "      <td>1.2371</td>\n",
       "      <td>0.2166</td>\n",
       "      <td>not</td>\n",
       "    </tr>\n",
       "    <tr>\n",
       "      <th>log(lot):sty</th>\n",
       "      <td>-0.0464</td>\n",
       "      <td>0.0359</td>\n",
       "      <td>-1.2899</td>\n",
       "      <td>0.1977</td>\n",
       "      <td>not</td>\n",
       "    </tr>\n",
       "    <tr>\n",
       "      <th>log(lot):drv</th>\n",
       "      <td>0.1915</td>\n",
       "      <td>0.0874</td>\n",
       "      <td>2.1925</td>\n",
       "      <td>0.0288</td>\n",
       "      <td>significant</td>\n",
       "    </tr>\n",
       "    <tr>\n",
       "      <th>log(lot):rec</th>\n",
       "      <td>-0.1885</td>\n",
       "      <td>0.0764</td>\n",
       "      <td>-2.4676</td>\n",
       "      <td>0.0139</td>\n",
       "      <td>significant</td>\n",
       "    </tr>\n",
       "    <tr>\n",
       "      <th>log(lot):ffin</th>\n",
       "      <td>0.0159</td>\n",
       "      <td>0.0529</td>\n",
       "      <td>0.3011</td>\n",
       "      <td>0.7635</td>\n",
       "      <td>not</td>\n",
       "    </tr>\n",
       "    <tr>\n",
       "      <th>log(lot):ghw</th>\n",
       "      <td>0.0811</td>\n",
       "      <td>0.1069</td>\n",
       "      <td>0.7588</td>\n",
       "      <td>0.4483</td>\n",
       "      <td>not</td>\n",
       "    </tr>\n",
       "    <tr>\n",
       "      <th>log(lot):ca</th>\n",
       "      <td>0.0595</td>\n",
       "      <td>0.0580</td>\n",
       "      <td>1.0263</td>\n",
       "      <td>0.3052</td>\n",
       "      <td>not</td>\n",
       "    </tr>\n",
       "    <tr>\n",
       "      <th>log(lot):gar</th>\n",
       "      <td>-0.0414</td>\n",
       "      <td>0.0301</td>\n",
       "      <td>-1.3721</td>\n",
       "      <td>0.1706</td>\n",
       "      <td>not</td>\n",
       "    </tr>\n",
       "    <tr>\n",
       "      <th>log(lot):reg</th>\n",
       "      <td>0.0015</td>\n",
       "      <td>0.0560</td>\n",
       "      <td>0.0271</td>\n",
       "      <td>0.9784</td>\n",
       "      <td>not</td>\n",
       "    </tr>\n",
       "  </tbody>\n",
       "</table>\n",
       "</div>"
      ],
      "text/plain": [
       "                 coef      SE  $t$-value  $p$-value significance\n",
       "Intercept      8.9665  1.0707     8.3747     0.0000  significant\n",
       "log(lot)       0.1527  0.1283     1.1901     0.2345          not\n",
       "bdms           0.0191  0.3267     0.0584     0.9535          not\n",
       "fb            -0.3682  0.4290    -0.8583     0.3911          not\n",
       "sty            0.4889  0.3097     1.5786     0.1150          not\n",
       "drv           -1.4634  0.7172    -2.0403     0.0418  significant\n",
       "rec            1.6740  0.6559     2.5521     0.0110  significant\n",
       "ffin          -0.0318  0.4455    -0.0715     0.9430          not\n",
       "ghw           -0.5059  0.9027    -0.5604     0.5754          not\n",
       "ca            -0.3403  0.4960    -0.6860     0.4930          not\n",
       "gar            0.4019  0.2586     1.5540     0.1208          not\n",
       "reg            0.1185  0.4799     0.2469     0.8051          not\n",
       "log(lot):bdms  0.0021  0.0387     0.0535     0.9573          not\n",
       "log(lot):fb    0.0620  0.0501     1.2371     0.2166          not\n",
       "log(lot):sty  -0.0464  0.0359    -1.2899     0.1977          not\n",
       "log(lot):drv   0.1915  0.0874     2.1925     0.0288  significant\n",
       "log(lot):rec  -0.1885  0.0764    -2.4676     0.0139  significant\n",
       "log(lot):ffin  0.0159  0.0529     0.3011     0.7635          not\n",
       "log(lot):ghw   0.0811  0.1069     0.7588     0.4483          not\n",
       "log(lot):ca    0.0595  0.0580     1.0263     0.3052          not\n",
       "log(lot):gar  -0.0414  0.0301    -1.3721     0.1706          not\n",
       "log(lot):reg   0.0015  0.0560     0.0271     0.9784          not"
      ]
     },
     "execution_count": 11,
     "metadata": {},
     "output_type": "execute_result"
    }
   ],
   "source": [
    "model_d = ols('log(sell) ~ '\n",
    "                 'log(lot) + bdms + fb + sty + drv + ' +\n",
    "                 'rec + ffin + ghw + ca + gar + reg + ' + \n",
    "                 'log(lot):bdms + log(lot):fb + log(lot):sty + ' + \n",
    "                 'log(lot):drv + log(lot):rec + log(lot):ffin + ' + \n",
    "                 'log(lot):ghw + log(lot):ca + log(lot):gar + ' + \n",
    "                 'log(lot):reg', data=houses).fit()  \n",
    "summary(model_d)"
   ]
  },
  {
   "cell_type": "markdown",
   "metadata": {},
   "source": [
    "Now there are only 5 variables that are individually significant at 5% level:"
   ]
  },
  {
   "cell_type": "code",
   "execution_count": 12,
   "metadata": {
    "collapsed": false
   },
   "outputs": [
    {
     "data": {
      "text/plain": [
       "Intercept       0.0000\n",
       "drv             0.0418\n",
       "rec             0.0110\n",
       "log(lot):drv    0.0288\n",
       "log(lot):rec    0.0139\n",
       "dtype: float64"
      ]
     },
     "execution_count": 12,
     "metadata": {},
     "output_type": "execute_result"
    }
   ],
   "source": [
    "model_d.pvalues[model_d.pvalues <= 0.05].round(4)"
   ]
  },
  {
   "cell_type": "markdown",
   "metadata": {},
   "source": [
    "**(e)** Perform an F-test for the joint significance of the interaction effects from question **(d)**."
   ]
  },
  {
   "cell_type": "code",
   "execution_count": 13,
   "metadata": {
    "collapsed": false
   },
   "outputs": [
    {
     "data": {
      "text/plain": [
       "<class 'statsmodels.stats.contrast.ContrastResults'>\n",
       "<F test: F=array([[ 1.47119505]]), p=0.146562197419, df_denom=524, df_num=10>"
      ]
     },
     "execution_count": 13,
     "metadata": {},
     "output_type": "execute_result"
    }
   ],
   "source": [
    "model_d.f_test('log(lot):bdms = log(lot):fb = log(lot):sty = ' + \n",
    "               'log(lot):drv = log(lot):rec = log(lot):ffin = ' + \n",
    "               'log(lot):ghw = log(lot):ca = log(lot):gar = ' + \n",
    "               'log(lot):reg = 0')"
   ]
  },
  {
   "cell_type": "markdown",
   "metadata": {},
   "source": [
    "The interaction terms are **not** jointly significant at 5% level."
   ]
  },
  {
   "cell_type": "markdown",
   "metadata": {},
   "source": [
    "**(f)** Now perform model specification on the interaction variables using the general-to-specific approach. (Only\n",
    "eliminate the interaction effects.)"
   ]
  },
  {
   "cell_type": "code",
   "execution_count": 14,
   "metadata": {
    "collapsed": false
   },
   "outputs": [],
   "source": [
    "y, X = dmatrices('log(sell) ~ '\n",
    "                     'log(lot) + bdms + fb + sty + drv + ' +\n",
    "                     'rec + ffin + ghw + ca + gar + reg + ' + \n",
    "                     'log(lot):bdms + log(lot):fb + log(lot):sty + ' + \n",
    "                     'log(lot):drv + log(lot):rec + log(lot):ffin + ' + \n",
    "                     'log(lot):ghw + log(lot):ca + log(lot):gar + ' + \n",
    "                     'log(lot):reg', data=houses, return_type='dataframe')"
   ]
  },
  {
   "cell_type": "code",
   "execution_count": 15,
   "metadata": {
    "collapsed": true
   },
   "outputs": [],
   "source": [
    "def backwards_elimination(y, X):\n",
    "    interactions = set(X.columns[12:])\n",
    "    step = 1\n",
    "\n",
    "    while interactions:\n",
    "        print 'step #%d...' % step\n",
    "        model = sm.OLS(y, X).fit()\n",
    "        least_signigicant = model.pvalues[12:].argmax()\n",
    "        p_value = model.pvalues[least_signigicant]\n",
    "        \n",
    "        if p_value <= 0.05:\n",
    "            print 'all remaining variables are significant'\n",
    "            print 'remaining interaction terms: %s' % ', '.join(interactions)\n",
    "            print 'the final model is %s ~ %s' % (y.columns[0], ' + '.join(X.columns))\n",
    "\n",
    "        print 'variable %s is least significant (p-value = %0.4f), removing it' % (least_signigicant, p_value)\n",
    "        del X[least_signigicant]\n",
    "        interactions.remove(least_signigicant)\n",
    "        step = step + 1\n",
    "    return model"
   ]
  },
  {
   "cell_type": "code",
   "execution_count": 16,
   "metadata": {
    "collapsed": false
   },
   "outputs": [
    {
     "name": "stdout",
     "output_type": "stream",
     "text": [
      "step #1...\n",
      "variable log(lot):reg is least significant (p-value = 0.9784), removing it\n",
      "step #2...\n",
      "variable log(lot):bdms is least significant (p-value = 0.9582), removing it\n",
      "step #3...\n",
      "variable log(lot):ffin is least significant (p-value = 0.7434), removing it\n",
      "step #4...\n",
      "variable log(lot):ghw is least significant (p-value = 0.4370), removing it\n",
      "step #5...\n",
      "variable log(lot):ca is least significant (p-value = 0.3017), removing it\n",
      "step #6...\n",
      "variable log(lot):gar is least significant (p-value = 0.2448), removing it\n",
      "step #7...\n",
      "variable log(lot):fb is least significant (p-value = 0.1872), removing it\n",
      "step #8...\n",
      "variable log(lot):sty is least significant (p-value = 0.2906), removing it\n",
      "step #9...\n",
      "variable log(lot):drv is least significant (p-value = 0.0502), removing it\n",
      "step #10...\n",
      "all remaining variables are significant\n",
      "remaining interaction terms: log(lot):rec\n",
      "the final model is log(sell) ~ Intercept + log(lot) + bdms + fb + sty + drv + rec + ffin + ghw + ca + gar + reg + log(lot):rec\n",
      "variable log(lot):rec is least significant (p-value = 0.0273), removing it\n"
     ]
    }
   ],
   "source": [
    "model_f = backwards_elimination(y, X)"
   ]
  },
  {
   "cell_type": "markdown",
   "metadata": {},
   "source": [
    "So only one interaction term is significant - and it's the interaction with `rec`"
   ]
  },
  {
   "cell_type": "code",
   "execution_count": 17,
   "metadata": {
    "collapsed": false
   },
   "outputs": [
    {
     "data": {
      "text/html": [
       "<div>\n",
       "<table border=\"1\" class=\"dataframe\">\n",
       "  <thead>\n",
       "    <tr style=\"text-align: right;\">\n",
       "      <th></th>\n",
       "      <th>coef</th>\n",
       "      <th>SE</th>\n",
       "      <th>$t$-value</th>\n",
       "      <th>$p$-value</th>\n",
       "      <th>significance</th>\n",
       "    </tr>\n",
       "  </thead>\n",
       "  <tbody>\n",
       "    <tr>\n",
       "      <th>Intercept</th>\n",
       "      <td>7.5907</td>\n",
       "      <td>0.2266</td>\n",
       "      <td>33.5046</td>\n",
       "      <td>0.0000</td>\n",
       "      <td>significant</td>\n",
       "    </tr>\n",
       "    <tr>\n",
       "      <th>log(lot)</th>\n",
       "      <td>0.3202</td>\n",
       "      <td>0.0277</td>\n",
       "      <td>11.5619</td>\n",
       "      <td>0.0000</td>\n",
       "      <td>significant</td>\n",
       "    </tr>\n",
       "    <tr>\n",
       "      <th>bdms</th>\n",
       "      <td>0.0384</td>\n",
       "      <td>0.0143</td>\n",
       "      <td>2.6797</td>\n",
       "      <td>0.0076</td>\n",
       "      <td>significant</td>\n",
       "    </tr>\n",
       "    <tr>\n",
       "      <th>fb</th>\n",
       "      <td>0.1632</td>\n",
       "      <td>0.0203</td>\n",
       "      <td>8.0431</td>\n",
       "      <td>0.0000</td>\n",
       "      <td>significant</td>\n",
       "    </tr>\n",
       "    <tr>\n",
       "      <th>sty</th>\n",
       "      <td>0.0908</td>\n",
       "      <td>0.0126</td>\n",
       "      <td>7.2203</td>\n",
       "      <td>0.0000</td>\n",
       "      <td>significant</td>\n",
       "    </tr>\n",
       "    <tr>\n",
       "      <th>drv</th>\n",
       "      <td>0.1131</td>\n",
       "      <td>0.0282</td>\n",
       "      <td>4.0177</td>\n",
       "      <td>0.0001</td>\n",
       "      <td>significant</td>\n",
       "    </tr>\n",
       "    <tr>\n",
       "      <th>rec</th>\n",
       "      <td>1.4431</td>\n",
       "      <td>0.6265</td>\n",
       "      <td>2.3036</td>\n",
       "      <td>0.0216</td>\n",
       "      <td>significant</td>\n",
       "    </tr>\n",
       "    <tr>\n",
       "      <th>ffin</th>\n",
       "      <td>0.1045</td>\n",
       "      <td>0.0216</td>\n",
       "      <td>4.8350</td>\n",
       "      <td>0.0000</td>\n",
       "      <td>significant</td>\n",
       "    </tr>\n",
       "    <tr>\n",
       "      <th>ghw</th>\n",
       "      <td>0.1843</td>\n",
       "      <td>0.0438</td>\n",
       "      <td>4.2076</td>\n",
       "      <td>0.0000</td>\n",
       "      <td>significant</td>\n",
       "    </tr>\n",
       "    <tr>\n",
       "      <th>ca</th>\n",
       "      <td>0.1659</td>\n",
       "      <td>0.0213</td>\n",
       "      <td>7.8041</td>\n",
       "      <td>0.0000</td>\n",
       "      <td>significant</td>\n",
       "    </tr>\n",
       "    <tr>\n",
       "      <th>gar</th>\n",
       "      <td>0.0481</td>\n",
       "      <td>0.0114</td>\n",
       "      <td>4.2062</td>\n",
       "      <td>0.0000</td>\n",
       "      <td>significant</td>\n",
       "    </tr>\n",
       "    <tr>\n",
       "      <th>reg</th>\n",
       "      <td>0.1337</td>\n",
       "      <td>0.0226</td>\n",
       "      <td>5.9165</td>\n",
       "      <td>0.0000</td>\n",
       "      <td>significant</td>\n",
       "    </tr>\n",
       "    <tr>\n",
       "      <th>log(lot):rec</th>\n",
       "      <td>-0.1611</td>\n",
       "      <td>0.0728</td>\n",
       "      <td>-2.2130</td>\n",
       "      <td>0.0273</td>\n",
       "      <td>significant</td>\n",
       "    </tr>\n",
       "  </tbody>\n",
       "</table>\n",
       "</div>"
      ],
      "text/plain": [
       "                coef      SE  $t$-value  $p$-value significance\n",
       "Intercept     7.5907  0.2266    33.5046     0.0000  significant\n",
       "log(lot)      0.3202  0.0277    11.5619     0.0000  significant\n",
       "bdms          0.0384  0.0143     2.6797     0.0076  significant\n",
       "fb            0.1632  0.0203     8.0431     0.0000  significant\n",
       "sty           0.0908  0.0126     7.2203     0.0000  significant\n",
       "drv           0.1131  0.0282     4.0177     0.0001  significant\n",
       "rec           1.4431  0.6265     2.3036     0.0216  significant\n",
       "ffin          0.1045  0.0216     4.8350     0.0000  significant\n",
       "ghw           0.1843  0.0438     4.2076     0.0000  significant\n",
       "ca            0.1659  0.0213     7.8041     0.0000  significant\n",
       "gar           0.0481  0.0114     4.2062     0.0000  significant\n",
       "reg           0.1337  0.0226     5.9165     0.0000  significant\n",
       "log(lot):rec -0.1611  0.0728    -2.2130     0.0273  significant"
      ]
     },
     "execution_count": 17,
     "metadata": {},
     "output_type": "execute_result"
    }
   ],
   "source": [
    "summary(model_f)"
   ]
  },
  {
   "cell_type": "markdown",
   "metadata": {},
   "source": [
    "**(g)**\n",
    "\n",
    "One may argue that some of the explanatory variables are endogenous and that there may be omitted variables.\n",
    "\n",
    "For example, the ‘condition’ of the house in terms of how it is maintained is not a variable (and difficult to\n",
    "measure) but will affect the house price. \n",
    "It will also affect, or be reflected in, some of the other variables, such\n",
    "as whether the house has an air conditioning (which is mostly in newer houses).\n",
    "\n",
    "If the condition of the house\n",
    "is missing, will the effect of air conditioning on the (log of the) sale price be over- or underestimated? \n",
    "\n",
    "(For this question no computer calculations are required.)"
   ]
  },
  {
   "cell_type": "markdown",
   "metadata": {},
   "source": [
    "- good condition will typically increase chances of having AC\n",
    "- good condition will also increase the price\n",
    "\n",
    "So if AC is endogenous because of missing `condition`, it will cause over-estimation of the effect of AC "
   ]
  },
  {
   "cell_type": "markdown",
   "metadata": {},
   "source": [
    "**(h)**\n",
    "\n",
    "Finally we analyze the predictive ability of the model. \n",
    "\n",
    "Consider again the model where\n",
    "\n",
    "- the log of the sale price of the house is the dependent variable and\n",
    "- the explanatory variables are the log transformation of lot size, with all other explanatory variables in their original form (and no interaction effects). \n",
    "\n",
    "Do:\n",
    "\n",
    "- Estimate the parameters of the model using the first 400 observations. \n",
    "- Make predictions on the log of the price and calculate the MAE for the other 146 observations. \n",
    "\n",
    "\n",
    "How good is the predictive power of the model (relative to the variability in the log of the price)?"
   ]
  },
  {
   "cell_type": "code",
   "execution_count": 18,
   "metadata": {
    "collapsed": false
   },
   "outputs": [
    {
     "name": "stdout",
     "output_type": "stream",
     "text": [
      "sizes: training set = 400, testing set = 146\n"
     ]
    }
   ],
   "source": [
    "train = houses.obs <= 400\n",
    "test = ~train\n",
    "\n",
    "print 'sizes: training set = %d, testing set = %d' % (sum(train), sum(test))"
   ]
  },
  {
   "cell_type": "code",
   "execution_count": 19,
   "metadata": {
    "collapsed": true
   },
   "outputs": [],
   "source": [
    "model_h = ols('log(sell) ~ '\n",
    "                   'lot + bdms + fb + sty + drv + ' +\n",
    "                   'rec + ffin + ghw + ca + gar + reg', \n",
    "              data=houses[train]).fit()\n",
    "\n",
    "predicted = model_h.predict(houses[test])\n",
    "actual = np.log(houses[test].sell)"
   ]
  },
  {
   "cell_type": "code",
   "execution_count": 20,
   "metadata": {
    "collapsed": false,
    "scrolled": true
   },
   "outputs": [
    {
     "data": {
      "image/png": "[encoded data removed]",
      "text/plain": [
       "<matplotlib.figure.Figure at 0x7fb6bf2bc950>"
      ]
     },
     "metadata": {},
     "output_type": "display_data"
    }
   ],
   "source": [
    "plt.figure(figsize=(6, 6))\n",
    "\n",
    "plt.scatter(predicted, actual)\n",
    "plt.plot([0, 12], [0, 12])\n",
    "\n",
    "plt.xlabel('predicted')\n",
    "plt.xlim([10.5, 12])\n",
    "\n",
    "plt.ylabel('actual')\n",
    "plt.ylim([10.5, 12])\n",
    "\n",
    "plt.show()"
   ]
  },
  {
   "cell_type": "code",
   "execution_count": 21,
   "metadata": {
    "collapsed": false
   },
   "outputs": [
    {
     "data": {
      "image/png": "[encoded data removed]",
      "text/plain": [
       "<matplotlib.figure.Figure at 0x7fb6bf8c2890>"
      ]
     },
     "metadata": {},
     "output_type": "display_data"
    }
   ],
   "source": [
    "plt.figure(figsize=(7, 3))\n",
    "sns.distplot(actual - predicted, fit=norm, axlabel='test set redisuals')\n",
    "plt.xlim([-1, 1])\n",
    "plt.show()"
   ]
  },
  {
   "cell_type": "code",
   "execution_count": 22,
   "metadata": {
    "collapsed": false
   },
   "outputs": [
    {
     "data": {
      "text/plain": [
       "0.99973576194198166"
      ]
     },
     "execution_count": 22,
     "metadata": {},
     "output_type": "execute_result"
    }
   ],
   "source": [
    "sm.OLS(actual, predicted).fit().rsquared"
   ]
  },
  {
   "cell_type": "markdown",
   "metadata": {},
   "source": [
    "The model does pretty well: predicted and actual values are almost on the same line ($R^2 = 0.99$)"
   ]
  },
  {
   "cell_type": "code",
   "execution_count": 23,
   "metadata": {
    "collapsed": true
   },
   "outputs": [],
   "source": [
    "def mae(real, predicted):\n",
    "    return np.abs(real - predicted).mean()"
   ]
  },
  {
   "cell_type": "code",
   "execution_count": 24,
   "metadata": {
    "collapsed": false
   },
   "outputs": [
    {
     "data": {
      "text/plain": [
       "0.13735361395857656"
      ]
     },
     "execution_count": 24,
     "metadata": {},
     "output_type": "execute_result"
    }
   ],
   "source": [
    "mae(actual, predicted)"
   ]
  },
  {
   "cell_type": "markdown",
   "metadata": {},
   "source": [
    "Mean absolute error is 0.14\n",
    "\n",
    "Let's also see what is MAE in the usual domain, not in the log"
   ]
  },
  {
   "cell_type": "code",
   "execution_count": 25,
   "metadata": {
    "collapsed": false
   },
   "outputs": [
    {
     "data": {
      "text/plain": [
       "10367.409234357474"
      ]
     },
     "execution_count": 25,
     "metadata": {},
     "output_type": "execute_result"
    }
   ],
   "source": [
    "mae(houses[test].sell, np.exp(predicted))"
   ]
  }
 ],
 "metadata": {
  "kernelspec": {
   "display_name": "Python 2",
   "language": "python",
   "name": "python2"
  },
  "language_info": {
   "codemirror_mode": {
    "name": "ipython",
    "version": 2
   },
   "file_extension": ".py",
   "mimetype": "text/x-python",
   "name": "python",
   "nbconvert_exporter": "python",
   "pygments_lexer": "ipython2",
   "version": "2.7.10"
  }
 },
 "nbformat": 4,
 "nbformat_minor": 0
}
