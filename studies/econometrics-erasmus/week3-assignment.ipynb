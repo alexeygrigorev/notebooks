{
 "cells": [
  {
   "cell_type": "markdown",
   "metadata": {},
   "source": [
    "# MOOC Econometrics\n",
    "\n",
    "## Test Exercise 3"
   ]
  },
  {
   "cell_type": "code",
   "execution_count": 1,
   "metadata": {
    "collapsed": true
   },
   "outputs": [],
   "source": [
    "import pandas as pd\n",
    "import matplotlib.pyplot as plt\n",
    "\n",
    "import statsmodels.api as sm\n",
    "from statsmodels.formula.api import ols\n",
    "\n",
    "from scipy.stats import f\n",
    "\n",
    "import numpy as np\n",
    "\n",
    "%matplotlib inline"
   ]
  },
  {
   "cell_type": "code",
   "execution_count": 2,
   "metadata": {
    "collapsed": true
   },
   "outputs": [],
   "source": [
    "from IPython.display import display, HTML"
   ]
  },
  {
   "cell_type": "markdown",
   "metadata": {},
   "source": [
    "This test exercise is of an applied nature and uses data that are available in the data file `TestExer3`. \n",
    "\n",
    "### Taylor Rule\n",
    "\n",
    "We consider the so-called Taylor rule for setting the (nominal) interest rate. This model describes the level of the nominal interest rate that the central bank sets as a function of equilibrium real interest rate and inflation, and considers the current level of inflation and production. \n",
    "\n",
    "Taylor (1993) considers the model:\n",
    "\n",
    "$$i_t = r^* + \\pi_t + 0.5 \\, (\\pi_t - \\pi^*) + 0.5 \\, g_t$$\n",
    "\n",
    "where\n",
    "\n",
    "- $i_t$ the Federal funds target interest rate at time $t$, \n",
    "- $r^∗$ the equilibrium real federal funds rate, \n",
    "- $\\pi_t$ a measure of inflation, \n",
    "- $\\pi^*$ the target inflation rate and \n",
    "- $g_t$ the output gap (how much actual output deviates from potential output). \n",
    "\n",
    "We simplify the Taylor rule in two manners: \n",
    "\n",
    "- First, we avoid determining $r^∗$ and $\\pi^∗$ and simply add an intercept to the model to capture these two variables (and any other deviations in the means). \n",
    "- Second, we consider production $y_y$ rather than the output gap. \n",
    "\n",
    "In this form the Taylor rule is\n",
    "\n",
    "$$i_t = \\beta_1 + \\beta_2 \\pi_t + \\beta_3 y_t + \\varepsilon_t$$\n",
    "\n",
    "### Data\n",
    "\n",
    "Monthly data are available for the USA over the period 1960 through 2014 for the following variables:\n",
    "\n",
    "- `INTRATE`: Federal funds interest rate\n",
    "- `INFL`: Inflation\n",
    "- `PROD`: Production\n",
    "- `UNEMPL`: Unemployment\n",
    "- `COMMPRI`: Commodity prices\n",
    "- `PCE`: Personal consumption expenditure\n",
    "- `PERSINC`: Personal income\n",
    "- `HOUST`: Housing starts\n"
   ]
  },
  {
   "cell_type": "markdown",
   "metadata": {},
   "source": [
    "In our variables, Taylor rule is\n",
    "\n",
    "    INTRATE ~ const + INFL + PROD"
   ]
  },
  {
   "cell_type": "code",
   "execution_count": 3,
   "metadata": {
    "collapsed": false
   },
   "outputs": [
    {
     "data": {
      "text/html": [
       "<div>\n",
       "<table border=\"1\" class=\"dataframe\">\n",
       "  <thead>\n",
       "    <tr style=\"text-align: right;\">\n",
       "      <th></th>\n",
       "      <th>OBS</th>\n",
       "      <th>INTRATE</th>\n",
       "      <th>INFL</th>\n",
       "      <th>PROD</th>\n",
       "      <th>UNEMPL</th>\n",
       "      <th>COMMPRI</th>\n",
       "      <th>PCE</th>\n",
       "      <th>PERSINC</th>\n",
       "      <th>HOUST</th>\n",
       "    </tr>\n",
       "  </thead>\n",
       "  <tbody>\n",
       "    <tr>\n",
       "      <th>655</th>\n",
       "      <td>2014:8</td>\n",
       "      <td>0.09</td>\n",
       "      <td>1.7</td>\n",
       "      <td>4.4</td>\n",
       "      <td>2.0</td>\n",
       "      <td>7.4</td>\n",
       "      <td>4.4</td>\n",
       "      <td>1.5</td>\n",
       "      <td>8.8</td>\n",
       "    </tr>\n",
       "    <tr>\n",
       "      <th>656</th>\n",
       "      <td>2014:9</td>\n",
       "      <td>0.09</td>\n",
       "      <td>1.7</td>\n",
       "      <td>4.5</td>\n",
       "      <td>2.0</td>\n",
       "      <td>5.3</td>\n",
       "      <td>4.2</td>\n",
       "      <td>1.3</td>\n",
       "      <td>19.1</td>\n",
       "    </tr>\n",
       "    <tr>\n",
       "      <th>657</th>\n",
       "      <td>2014:10</td>\n",
       "      <td>0.09</td>\n",
       "      <td>1.7</td>\n",
       "      <td>4.4</td>\n",
       "      <td>2.0</td>\n",
       "      <td>-3.6</td>\n",
       "      <td>4.2</td>\n",
       "      <td>1.9</td>\n",
       "      <td>16.7</td>\n",
       "    </tr>\n",
       "    <tr>\n",
       "      <th>658</th>\n",
       "      <td>2014:11</td>\n",
       "      <td>0.09</td>\n",
       "      <td>1.3</td>\n",
       "      <td>5.2</td>\n",
       "      <td>2.1</td>\n",
       "      <td>-15.2</td>\n",
       "      <td>4.1</td>\n",
       "      <td>2.2</td>\n",
       "      <td>-5.6</td>\n",
       "    </tr>\n",
       "    <tr>\n",
       "      <th>659</th>\n",
       "      <td>2014:12</td>\n",
       "      <td>0.12</td>\n",
       "      <td>0.7</td>\n",
       "      <td>4.9</td>\n",
       "      <td>2.3</td>\n",
       "      <td>-28.0</td>\n",
       "      <td>3.6</td>\n",
       "      <td>3.0</td>\n",
       "      <td>5.3</td>\n",
       "    </tr>\n",
       "  </tbody>\n",
       "</table>\n",
       "</div>"
      ],
      "text/plain": [
       "         OBS  INTRATE  INFL  PROD  UNEMPL  COMMPRI  PCE  PERSINC  HOUST\n",
       "655   2014:8     0.09   1.7   4.4     2.0      7.4  4.4      1.5    8.8\n",
       "656   2014:9     0.09   1.7   4.5     2.0      5.3  4.2      1.3   19.1\n",
       "657  2014:10     0.09   1.7   4.4     2.0     -3.6  4.2      1.9   16.7\n",
       "658  2014:11     0.09   1.3   5.2     2.1    -15.2  4.1      2.2   -5.6\n",
       "659  2014:12     0.12   0.7   4.9     2.3    -28.0  3.6      3.0    5.3"
      ]
     },
     "execution_count": 3,
     "metadata": {},
     "output_type": "execute_result"
    }
   ],
   "source": [
    "data = pd.read_csv('TestExer 3-TaylorRule-round1.txt', sep='\\t', \n",
    "                   thousands=',', decimal='.')\n",
    "data = data.ix[:len(data)-2,0:9]\n",
    "data.tail()"
   ]
  },
  {
   "cell_type": "markdown",
   "metadata": {},
   "source": [
    "### Questions"
   ]
  },
  {
   "cell_type": "markdown",
   "metadata": {},
   "source": [
    "**(a)** Use general-to-specific to come to a model. Start by regressing the federal funds rate on the other 7 variables\n",
    "and eliminate 1 variable at a time."
   ]
  },
  {
   "cell_type": "code",
   "execution_count": 4,
   "metadata": {
    "collapsed": false
   },
   "outputs": [
    {
     "data": {
      "text/html": [
       "<div>\n",
       "<table border=\"1\" class=\"dataframe\">\n",
       "  <thead>\n",
       "    <tr style=\"text-align: right;\">\n",
       "      <th></th>\n",
       "      <th>const</th>\n",
       "      <th>INFL</th>\n",
       "      <th>PROD</th>\n",
       "      <th>UNEMPL</th>\n",
       "      <th>COMMPRI</th>\n",
       "      <th>PCE</th>\n",
       "      <th>PERSINC</th>\n",
       "      <th>HOUST</th>\n",
       "    </tr>\n",
       "  </thead>\n",
       "  <tbody>\n",
       "    <tr>\n",
       "      <th>0</th>\n",
       "      <td>1</td>\n",
       "      <td>1.2</td>\n",
       "      <td>10.0</td>\n",
       "      <td>3.4</td>\n",
       "      <td>8.0</td>\n",
       "      <td>5.7</td>\n",
       "      <td>1.7</td>\n",
       "      <td>-11.9</td>\n",
       "    </tr>\n",
       "    <tr>\n",
       "      <th>1</th>\n",
       "      <td>1</td>\n",
       "      <td>1.4</td>\n",
       "      <td>7.0</td>\n",
       "      <td>3.5</td>\n",
       "      <td>-8.6</td>\n",
       "      <td>5.1</td>\n",
       "      <td>1.3</td>\n",
       "      <td>-9.8</td>\n",
       "    </tr>\n",
       "    <tr>\n",
       "      <th>2</th>\n",
       "      <td>1</td>\n",
       "      <td>1.5</td>\n",
       "      <td>4.5</td>\n",
       "      <td>2.7</td>\n",
       "      <td>-16.8</td>\n",
       "      <td>5.6</td>\n",
       "      <td>0.9</td>\n",
       "      <td>-31.5</td>\n",
       "    </tr>\n",
       "    <tr>\n",
       "      <th>3</th>\n",
       "      <td>1</td>\n",
       "      <td>1.9</td>\n",
       "      <td>1.5</td>\n",
       "      <td>2.8</td>\n",
       "      <td>-5.0</td>\n",
       "      <td>7.8</td>\n",
       "      <td>0.7</td>\n",
       "      <td>-18.9</td>\n",
       "    </tr>\n",
       "    <tr>\n",
       "      <th>4</th>\n",
       "      <td>1</td>\n",
       "      <td>1.8</td>\n",
       "      <td>-0.1</td>\n",
       "      <td>1.7</td>\n",
       "      <td>-12.4</td>\n",
       "      <td>4.4</td>\n",
       "      <td>0.3</td>\n",
       "      <td>-15.2</td>\n",
       "    </tr>\n",
       "  </tbody>\n",
       "</table>\n",
       "</div>"
      ],
      "text/plain": [
       "   const  INFL  PROD  UNEMPL  COMMPRI  PCE  PERSINC  HOUST\n",
       "0      1   1.2  10.0     3.4      8.0  5.7      1.7  -11.9\n",
       "1      1   1.4   7.0     3.5     -8.6  5.1      1.3   -9.8\n",
       "2      1   1.5   4.5     2.7    -16.8  5.6      0.9  -31.5\n",
       "3      1   1.9   1.5     2.8     -5.0  7.8      0.7  -18.9\n",
       "4      1   1.8  -0.1     1.7    -12.4  4.4      0.3  -15.2"
      ]
     },
     "execution_count": 4,
     "metadata": {},
     "output_type": "execute_result"
    }
   ],
   "source": [
    "y = data.INTRATE\n",
    "X = sm.add_constant(data.ix[:, 2:])\n",
    "X.head()"
   ]
  },
  {
   "cell_type": "code",
   "execution_count": 5,
   "metadata": {
    "collapsed": false
   },
   "outputs": [
    {
     "name": "stdout",
     "output_type": "stream",
     "text": [
      "model: INTRATE ~ const + INFL + PROD + UNEMPL + COMMPRI + PCE + PERSINC + HOUST\n"
     ]
    },
    {
     "data": {
      "text/html": [
       "<div>\n",
       "<table border=\"1\" class=\"dataframe\">\n",
       "  <thead>\n",
       "    <tr style=\"text-align: right;\">\n",
       "      <th></th>\n",
       "      <th>$\\beta$</th>\n",
       "      <th>$p$-value</th>\n",
       "    </tr>\n",
       "  </thead>\n",
       "  <tbody>\n",
       "    <tr>\n",
       "      <th>const</th>\n",
       "      <td>-0.2147</td>\n",
       "      <td>0.3808</td>\n",
       "    </tr>\n",
       "    <tr>\n",
       "      <th>INFL</th>\n",
       "      <td>0.6968</td>\n",
       "      <td>0.0000</td>\n",
       "    </tr>\n",
       "    <tr>\n",
       "      <th>PROD</th>\n",
       "      <td>-0.0576</td>\n",
       "      <td>0.1489</td>\n",
       "    </tr>\n",
       "    <tr>\n",
       "      <th>UNEMPL</th>\n",
       "      <td>0.1041</td>\n",
       "      <td>0.2816</td>\n",
       "    </tr>\n",
       "    <tr>\n",
       "      <th>COMMPRI</th>\n",
       "      <td>-0.0055</td>\n",
       "      <td>0.0636</td>\n",
       "    </tr>\n",
       "    <tr>\n",
       "      <th>PCE</th>\n",
       "      <td>0.3426</td>\n",
       "      <td>0.0000</td>\n",
       "    </tr>\n",
       "    <tr>\n",
       "      <th>PERSINC</th>\n",
       "      <td>0.2464</td>\n",
       "      <td>0.0001</td>\n",
       "    </tr>\n",
       "    <tr>\n",
       "      <th>HOUST</th>\n",
       "      <td>-0.0194</td>\n",
       "      <td>0.0000</td>\n",
       "    </tr>\n",
       "  </tbody>\n",
       "</table>\n",
       "</div>"
      ],
      "text/plain": [
       "         $\\beta$  $p$-value\n",
       "const    -0.2147     0.3808\n",
       "INFL      0.6968     0.0000\n",
       "PROD     -0.0576     0.1489\n",
       "UNEMPL    0.1041     0.2816\n",
       "COMMPRI  -0.0055     0.0636\n",
       "PCE       0.3426     0.0000\n",
       "PERSINC   0.2464     0.0001\n",
       "HOUST    -0.0194     0.0000"
      ]
     },
     "execution_count": 5,
     "metadata": {},
     "output_type": "execute_result"
    }
   ],
   "source": [
    "full_model = sm.OLS(y, X).fit()\n",
    "print 'model: INTRATE ~ ' + ' + '.join(X.columns)\n",
    "pd.DataFrame({'$p$-value': full_model.pvalues.round(4), \n",
    "              '$\\\\beta$': full_model.params.round(4) })"
   ]
  },
  {
   "cell_type": "code",
   "execution_count": 6,
   "metadata": {
    "collapsed": false
   },
   "outputs": [
    {
     "data": {
      "text/plain": [
       "'UNEMPL'"
      ]
     },
     "execution_count": 6,
     "metadata": {},
     "output_type": "execute_result"
    }
   ],
   "source": [
    "full_model.pvalues[1:].argmax()"
   ]
  },
  {
   "cell_type": "markdown",
   "metadata": {},
   "source": [
    "We look for least signigicant variable (expect for the intercept), which is `UNEMPL`, and remove it. Can automate it:"
   ]
  },
  {
   "cell_type": "code",
   "execution_count": 9,
   "metadata": {
    "collapsed": false
   },
   "outputs": [],
   "source": [
    "def backwards_elimination(y, X, stop=True):\n",
    "    n, k = X.shape\n",
    "    res = []\n",
    "    aics = []\n",
    "    bics = []\n",
    "    r2s = []\n",
    "    step = 0\n",
    "\n",
    "    while k >= 2:\n",
    "        display(HTML('Step %d, <b>$k=%d$</b>' % (step, k)))\n",
    "        model = sm.OLS(y, X).fit()\n",
    "        print 'model: INTRATE ~ ' + ' + '.join(X.columns)\n",
    "        res.append(model.params.round(2))\n",
    "        aics.append(model.aic)\n",
    "        bics.append(model.bic)\n",
    "        r2s.append(model.rsquared)\n",
    "\n",
    "        coeffs = pd.DataFrame({'$p$-value': model.pvalues.round(4), \n",
    "                               '$\\\\beta$': model.params.round(4)})        \n",
    "        display(coeffs)\n",
    "\n",
    "        least_signigicant = model.pvalues[1:].argmax()\n",
    "        if stop and model.pvalues[least_signigicant] <= 0.05:\n",
    "            print 'all variables are significant'\n",
    "            break\n",
    "        \n",
    "        print 'least significant predictor is', least_signigicant, \n",
    "        print '(p value is %0.4f)' % model.pvalues[least_signigicant]\n",
    "        del X[least_signigicant]\n",
    "        print\n",
    "\n",
    "        k = k - 1\n",
    "        step = step + 1\n",
    "\n",
    "    print \n",
    "    display(HTML('<b>Lineage</b>'))\n",
    "    display(pd.DataFrame(res).replace(np.nan,'-').T)\n",
    "    \n",
    "    plt.plot(aics, color='blue', label='AIC')\n",
    "    plt.plot(bics, color='red', label='BIC')\n",
    "    plt.xlabel('step')\n",
    "    plt.legend()\n",
    "    plt.show()\n",
    "    \n",
    "    plt.plot(r2s)\n",
    "    plt.xlabel('step')\n",
    "    plt.ylabel('$R^2$')\n",
    "    plt.show()"
   ]
  },
  {
   "cell_type": "code",
   "execution_count": 10,
   "metadata": {
    "collapsed": false,
    "scrolled": false
   },
   "outputs": [
    {
     "data": {
      "text/html": [
       "Step 0, <b>$k=8$</b>"
      ],
      "text/plain": [
       "<IPython.core.display.HTML object>"
      ]
     },
     "metadata": {},
     "output_type": "display_data"
    },
    {
     "name": "stdout",
     "output_type": "stream",
     "text": [
      "model: INTRATE ~ const + INFL + PROD + UNEMPL + COMMPRI + PCE + PERSINC + HOUST\n"
     ]
    },
    {
     "data": {
      "text/html": [
       "<div>\n",
       "<table border=\"1\" class=\"dataframe\">\n",
       "  <thead>\n",
       "    <tr style=\"text-align: right;\">\n",
       "      <th></th>\n",
       "      <th>$\\beta$</th>\n",
       "      <th>$p$-value</th>\n",
       "    </tr>\n",
       "  </thead>\n",
       "  <tbody>\n",
       "    <tr>\n",
       "      <th>const</th>\n",
       "      <td>-0.2147</td>\n",
       "      <td>0.3808</td>\n",
       "    </tr>\n",
       "    <tr>\n",
       "      <th>INFL</th>\n",
       "      <td>0.6968</td>\n",
       "      <td>0.0000</td>\n",
       "    </tr>\n",
       "    <tr>\n",
       "      <th>PROD</th>\n",
       "      <td>-0.0576</td>\n",
       "      <td>0.1489</td>\n",
       "    </tr>\n",
       "    <tr>\n",
       "      <th>UNEMPL</th>\n",
       "      <td>0.1041</td>\n",
       "      <td>0.2816</td>\n",
       "    </tr>\n",
       "    <tr>\n",
       "      <th>COMMPRI</th>\n",
       "      <td>-0.0055</td>\n",
       "      <td>0.0636</td>\n",
       "    </tr>\n",
       "    <tr>\n",
       "      <th>PCE</th>\n",
       "      <td>0.3426</td>\n",
       "      <td>0.0000</td>\n",
       "    </tr>\n",
       "    <tr>\n",
       "      <th>PERSINC</th>\n",
       "      <td>0.2464</td>\n",
       "      <td>0.0001</td>\n",
       "    </tr>\n",
       "    <tr>\n",
       "      <th>HOUST</th>\n",
       "      <td>-0.0194</td>\n",
       "      <td>0.0000</td>\n",
       "    </tr>\n",
       "  </tbody>\n",
       "</table>\n",
       "</div>"
      ],
      "text/plain": [
       "         $\\beta$  $p$-value\n",
       "const    -0.2147     0.3808\n",
       "INFL      0.6968     0.0000\n",
       "PROD     -0.0576     0.1489\n",
       "UNEMPL    0.1041     0.2816\n",
       "COMMPRI  -0.0055     0.0636\n",
       "PCE       0.3426     0.0000\n",
       "PERSINC   0.2464     0.0001\n",
       "HOUST    -0.0194     0.0000"
      ]
     },
     "metadata": {},
     "output_type": "display_data"
    },
    {
     "name": "stdout",
     "output_type": "stream",
     "text": [
      "least significant predictor is UNEMPL (p value is 0.2816)\n",
      "\n"
     ]
    },
    {
     "data": {
      "text/html": [
       "Step 1, <b>$k=7$</b>"
      ],
      "text/plain": [
       "<IPython.core.display.HTML object>"
      ]
     },
     "metadata": {},
     "output_type": "display_data"
    },
    {
     "name": "stdout",
     "output_type": "stream",
     "text": [
      "model: INTRATE ~ const + INFL + PROD + COMMPRI + PCE + PERSINC + HOUST\n"
     ]
    },
    {
     "data": {
      "text/html": [
       "<div>\n",
       "<table border=\"1\" class=\"dataframe\">\n",
       "  <thead>\n",
       "    <tr style=\"text-align: right;\">\n",
       "      <th></th>\n",
       "      <th>$\\beta$</th>\n",
       "      <th>$p$-value</th>\n",
       "    </tr>\n",
       "  </thead>\n",
       "  <tbody>\n",
       "    <tr>\n",
       "      <th>const</th>\n",
       "      <td>-0.2856</td>\n",
       "      <td>0.2263</td>\n",
       "    </tr>\n",
       "    <tr>\n",
       "      <th>INFL</th>\n",
       "      <td>0.6942</td>\n",
       "      <td>0.0000</td>\n",
       "    </tr>\n",
       "    <tr>\n",
       "      <th>PROD</th>\n",
       "      <td>-0.0248</td>\n",
       "      <td>0.3357</td>\n",
       "    </tr>\n",
       "    <tr>\n",
       "      <th>COMMPRI</th>\n",
       "      <td>-0.0065</td>\n",
       "      <td>0.0209</td>\n",
       "    </tr>\n",
       "    <tr>\n",
       "      <th>PCE</th>\n",
       "      <td>0.3671</td>\n",
       "      <td>0.0000</td>\n",
       "    </tr>\n",
       "    <tr>\n",
       "      <th>PERSINC</th>\n",
       "      <td>0.2512</td>\n",
       "      <td>0.0000</td>\n",
       "    </tr>\n",
       "    <tr>\n",
       "      <th>HOUST</th>\n",
       "      <td>-0.0210</td>\n",
       "      <td>0.0000</td>\n",
       "    </tr>\n",
       "  </tbody>\n",
       "</table>\n",
       "</div>"
      ],
      "text/plain": [
       "         $\\beta$  $p$-value\n",
       "const    -0.2856     0.2263\n",
       "INFL      0.6942     0.0000\n",
       "PROD     -0.0248     0.3357\n",
       "COMMPRI  -0.0065     0.0209\n",
       "PCE       0.3671     0.0000\n",
       "PERSINC   0.2512     0.0000\n",
       "HOUST    -0.0210     0.0000"
      ]
     },
     "metadata": {},
     "output_type": "display_data"
    },
    {
     "name": "stdout",
     "output_type": "stream",
     "text": [
      "least significant predictor is PROD (p value is 0.3357)\n",
      "\n"
     ]
    },
    {
     "data": {
      "text/html": [
       "Step 2, <b>$k=6$</b>"
      ],
      "text/plain": [
       "<IPython.core.display.HTML object>"
      ]
     },
     "metadata": {},
     "output_type": "display_data"
    },
    {
     "name": "stdout",
     "output_type": "stream",
     "text": [
      "model: INTRATE ~ const + INFL + COMMPRI + PCE + PERSINC + HOUST\n"
     ]
    },
    {
     "data": {
      "text/html": [
       "<div>\n",
       "<table border=\"1\" class=\"dataframe\">\n",
       "  <thead>\n",
       "    <tr style=\"text-align: right;\">\n",
       "      <th></th>\n",
       "      <th>$\\beta$</th>\n",
       "      <th>$p$-value</th>\n",
       "    </tr>\n",
       "  </thead>\n",
       "  <tbody>\n",
       "    <tr>\n",
       "      <th>const</th>\n",
       "      <td>-0.2363</td>\n",
       "      <td>0.3051</td>\n",
       "    </tr>\n",
       "    <tr>\n",
       "      <th>INFL</th>\n",
       "      <td>0.7177</td>\n",
       "      <td>0.0000</td>\n",
       "    </tr>\n",
       "    <tr>\n",
       "      <th>COMMPRI</th>\n",
       "      <td>-0.0075</td>\n",
       "      <td>0.0046</td>\n",
       "    </tr>\n",
       "    <tr>\n",
       "      <th>PCE</th>\n",
       "      <td>0.3398</td>\n",
       "      <td>0.0000</td>\n",
       "    </tr>\n",
       "    <tr>\n",
       "      <th>PERSINC</th>\n",
       "      <td>0.2402</td>\n",
       "      <td>0.0001</td>\n",
       "    </tr>\n",
       "    <tr>\n",
       "      <th>HOUST</th>\n",
       "      <td>-0.0205</td>\n",
       "      <td>0.0000</td>\n",
       "    </tr>\n",
       "  </tbody>\n",
       "</table>\n",
       "</div>"
      ],
      "text/plain": [
       "         $\\beta$  $p$-value\n",
       "const    -0.2363     0.3051\n",
       "INFL      0.7177     0.0000\n",
       "COMMPRI  -0.0075     0.0046\n",
       "PCE       0.3398     0.0000\n",
       "PERSINC   0.2402     0.0001\n",
       "HOUST    -0.0205     0.0000"
      ]
     },
     "metadata": {},
     "output_type": "display_data"
    },
    {
     "name": "stdout",
     "output_type": "stream",
     "text": [
      "all variables are significant\n",
      "\n"
     ]
    },
    {
     "data": {
      "text/html": [
       "<b>Lineage</b>"
      ],
      "text/plain": [
       "<IPython.core.display.HTML object>"
      ]
     },
     "metadata": {},
     "output_type": "display_data"
    },
    {
     "data": {
      "text/html": [
       "<div>\n",
       "<table border=\"1\" class=\"dataframe\">\n",
       "  <thead>\n",
       "    <tr style=\"text-align: right;\">\n",
       "      <th></th>\n",
       "      <th>0</th>\n",
       "      <th>1</th>\n",
       "      <th>2</th>\n",
       "    </tr>\n",
       "  </thead>\n",
       "  <tbody>\n",
       "    <tr>\n",
       "      <th>COMMPRI</th>\n",
       "      <td>-0.01</td>\n",
       "      <td>-0.01</td>\n",
       "      <td>-0.01</td>\n",
       "    </tr>\n",
       "    <tr>\n",
       "      <th>HOUST</th>\n",
       "      <td>-0.02</td>\n",
       "      <td>-0.02</td>\n",
       "      <td>-0.02</td>\n",
       "    </tr>\n",
       "    <tr>\n",
       "      <th>INFL</th>\n",
       "      <td>0.7</td>\n",
       "      <td>0.69</td>\n",
       "      <td>0.72</td>\n",
       "    </tr>\n",
       "    <tr>\n",
       "      <th>PCE</th>\n",
       "      <td>0.34</td>\n",
       "      <td>0.37</td>\n",
       "      <td>0.34</td>\n",
       "    </tr>\n",
       "    <tr>\n",
       "      <th>PERSINC</th>\n",
       "      <td>0.25</td>\n",
       "      <td>0.25</td>\n",
       "      <td>0.24</td>\n",
       "    </tr>\n",
       "    <tr>\n",
       "      <th>PROD</th>\n",
       "      <td>-0.06</td>\n",
       "      <td>-0.02</td>\n",
       "      <td>-</td>\n",
       "    </tr>\n",
       "    <tr>\n",
       "      <th>UNEMPL</th>\n",
       "      <td>0.1</td>\n",
       "      <td>-</td>\n",
       "      <td>-</td>\n",
       "    </tr>\n",
       "    <tr>\n",
       "      <th>const</th>\n",
       "      <td>-0.21</td>\n",
       "      <td>-0.29</td>\n",
       "      <td>-0.24</td>\n",
       "    </tr>\n",
       "  </tbody>\n",
       "</table>\n",
       "</div>"
      ],
      "text/plain": [
       "            0     1     2\n",
       "COMMPRI -0.01 -0.01 -0.01\n",
       "HOUST   -0.02 -0.02 -0.02\n",
       "INFL      0.7  0.69  0.72\n",
       "PCE      0.34  0.37  0.34\n",
       "PERSINC  0.25  0.25  0.24\n",
       "PROD    -0.06 -0.02     -\n",
       "UNEMPL    0.1     -     -\n",
       "const   -0.21 -0.29 -0.24"
      ]
     },
     "metadata": {},
     "output_type": "display_data"
    },
    {
     "data": {
      "image/png": "[encoded data removed]",
      "text/plain": [
       "<matplotlib.figure.Figure at 0x7f1ae9978210>"
      ]
     },
     "metadata": {},
     "output_type": "display_data"
    },
    {
     "data": {
      "image/png": "[encoded data removed]",
      "text/plain": [
       "<matplotlib.figure.Figure at 0x7f1ae97c8910>"
      ]
     },
     "metadata": {},
     "output_type": "display_data"
    }
   ],
   "source": [
    "X = sm.add_constant(data.ix[:, 2:])\n",
    "backwards_elimination(y, X)"
   ]
  },
  {
   "cell_type": "markdown",
   "metadata": {},
   "source": [
    "Using $R^2$ and AIC, the best model is the full model (step 0), but according to BIC, the best model is model otained at step 2. I think the model at step 2 is better because it's less complex. So it's \n",
    "\n",
    "    INTRATE ~ const + INFL + COMMPRI + PCE + PERSINC + HOUST"
   ]
  },
  {
   "cell_type": "markdown",
   "metadata": {},
   "source": [
    "**(b)** Use specific-to-general to come to a model. Start by regressing the federal funds rate on only a constant and\n",
    "add 1 variable at a time. Is the model the same as in (a)?"
   ]
  },
  {
   "cell_type": "code",
   "execution_count": 11,
   "metadata": {
    "collapsed": true
   },
   "outputs": [],
   "source": [
    "def forwards_selection(y, X, stop=True):\n",
    "    n, k = X.shape\n",
    "    selected = ['const']\n",
    "    \n",
    "    res = []\n",
    "    aics = []\n",
    "    bics = []\n",
    "    r2s = []\n",
    "\n",
    "    while len(selected) < k:\n",
    "        display(HTML('<b>$k=%d$</b>' % len(selected)))\n",
    "\n",
    "        best_model = None\n",
    "        best_val = None\n",
    "        best_p = 1.0\n",
    "\n",
    "        for unused in set(X.columns) - set(selected):\n",
    "            model = sm.OLS(y, X.ix[:, selected + [unused]]).fit()\n",
    "            if model.pvalues[unused] < best_p:\n",
    "                best_model = model\n",
    "                best_val = unused\n",
    "                best_p = model.pvalues[unused]\n",
    "        \n",
    "        if stop and best_p >= 0.5:\n",
    "            print 'no significant predictor was found'\n",
    "            break\n",
    "        \n",
    "        print 'including %s with best p-value=%0.4f' % (best_val, best_p)\n",
    "        selected.append(best_val)\n",
    "        print 'model: INTRATE ~ ' + ' + '.join(selected)\n",
    "        \n",
    "        res.append(best_model.params.round(2))\n",
    "        aics.append(best_model.aic)\n",
    "        bics.append(best_model.bic)\n",
    "        r2s.append(best_model.rsquared)\n",
    "\n",
    "        coeffs = pd.DataFrame({'$p$-value': best_model.pvalues.round(4), \n",
    "                               '$\\\\beta$': best_model.params.round(4) })        \n",
    "        display(coeffs)\n",
    "\n",
    "    print \n",
    "    display(HTML('<b>Lineage</b>'))\n",
    "    display(pd.DataFrame(res).replace(np.nan,'-').T)\n",
    "    \n",
    "    plt.plot(aics, color='blue', label='AIC')\n",
    "    plt.plot(bics, color='red', label='BIC')\n",
    "    plt.xlabel('step')\n",
    "    plt.legend()\n",
    "    plt.show()\n",
    "    \n",
    "    plt.plot(r2s)\n",
    "    plt.xlabel('step')\n",
    "    plt.ylabel('$R^2$')\n",
    "    plt.show()"
   ]
  },
  {
   "cell_type": "code",
   "execution_count": 12,
   "metadata": {
    "collapsed": false,
    "scrolled": false
   },
   "outputs": [
    {
     "data": {
      "text/html": [
       "<b>$k=1$</b>"
      ],
      "text/plain": [
       "<IPython.core.display.HTML object>"
      ]
     },
     "metadata": {},
     "output_type": "display_data"
    },
    {
     "name": "stdout",
     "output_type": "stream",
     "text": [
      "including INFL with best p-value=0.0000\n",
      "model: INTRATE ~ const + INFL\n"
     ]
    },
    {
     "data": {
      "text/html": [
       "<div>\n",
       "<table border=\"1\" class=\"dataframe\">\n",
       "  <thead>\n",
       "    <tr style=\"text-align: right;\">\n",
       "      <th></th>\n",
       "      <th>$\\beta$</th>\n",
       "      <th>$p$-value</th>\n",
       "    </tr>\n",
       "  </thead>\n",
       "  <tbody>\n",
       "    <tr>\n",
       "      <th>const</th>\n",
       "      <td>1.6441</td>\n",
       "      <td>0</td>\n",
       "    </tr>\n",
       "    <tr>\n",
       "      <th>INFL</th>\n",
       "      <td>0.9447</td>\n",
       "      <td>0</td>\n",
       "    </tr>\n",
       "  </tbody>\n",
       "</table>\n",
       "</div>"
      ],
      "text/plain": [
       "       $\\beta$  $p$-value\n",
       "const   1.6441          0\n",
       "INFL    0.9447          0"
      ]
     },
     "metadata": {},
     "output_type": "display_data"
    },
    {
     "data": {
      "text/html": [
       "<b>$k=2$</b>"
      ],
      "text/plain": [
       "<IPython.core.display.HTML object>"
      ]
     },
     "metadata": {},
     "output_type": "display_data"
    },
    {
     "name": "stdout",
     "output_type": "stream",
     "text": [
      "including PERSINC with best p-value=0.0000\n",
      "model: INTRATE ~ const + INFL + PERSINC\n"
     ]
    },
    {
     "data": {
      "text/html": [
       "<div>\n",
       "<table border=\"1\" class=\"dataframe\">\n",
       "  <thead>\n",
       "    <tr style=\"text-align: right;\">\n",
       "      <th></th>\n",
       "      <th>$\\beta$</th>\n",
       "      <th>$p$-value</th>\n",
       "    </tr>\n",
       "  </thead>\n",
       "  <tbody>\n",
       "    <tr>\n",
       "      <th>const</th>\n",
       "      <td>0.4507</td>\n",
       "      <td>0.0211</td>\n",
       "    </tr>\n",
       "    <tr>\n",
       "      <th>INFL</th>\n",
       "      <td>1.0115</td>\n",
       "      <td>0.0000</td>\n",
       "    </tr>\n",
       "    <tr>\n",
       "      <th>PERSINC</th>\n",
       "      <td>0.4354</td>\n",
       "      <td>0.0000</td>\n",
       "    </tr>\n",
       "  </tbody>\n",
       "</table>\n",
       "</div>"
      ],
      "text/plain": [
       "         $\\beta$  $p$-value\n",
       "const     0.4507     0.0211\n",
       "INFL      1.0115     0.0000\n",
       "PERSINC   0.4354     0.0000"
      ]
     },
     "metadata": {},
     "output_type": "display_data"
    },
    {
     "data": {
      "text/html": [
       "<b>$k=3$</b>"
      ],
      "text/plain": [
       "<IPython.core.display.HTML object>"
      ]
     },
     "metadata": {},
     "output_type": "display_data"
    },
    {
     "name": "stdout",
     "output_type": "stream",
     "text": [
      "including PCE with best p-value=0.0007\n",
      "model: INTRATE ~ const + INFL + PERSINC + PCE\n"
     ]
    },
    {
     "data": {
      "text/html": [
       "<div>\n",
       "<table border=\"1\" class=\"dataframe\">\n",
       "  <thead>\n",
       "    <tr style=\"text-align: right;\">\n",
       "      <th></th>\n",
       "      <th>$\\beta$</th>\n",
       "      <th>$p$-value</th>\n",
       "    </tr>\n",
       "  </thead>\n",
       "  <tbody>\n",
       "    <tr>\n",
       "      <th>const</th>\n",
       "      <td>0.0234</td>\n",
       "      <td>0.9190</td>\n",
       "    </tr>\n",
       "    <tr>\n",
       "      <th>INFL</th>\n",
       "      <td>0.8745</td>\n",
       "      <td>0.0000</td>\n",
       "    </tr>\n",
       "    <tr>\n",
       "      <th>PERSINC</th>\n",
       "      <td>0.3045</td>\n",
       "      <td>0.0000</td>\n",
       "    </tr>\n",
       "    <tr>\n",
       "      <th>PCE</th>\n",
       "      <td>0.1816</td>\n",
       "      <td>0.0007</td>\n",
       "    </tr>\n",
       "  </tbody>\n",
       "</table>\n",
       "</div>"
      ],
      "text/plain": [
       "         $\\beta$  $p$-value\n",
       "const     0.0234     0.9190\n",
       "INFL      0.8745     0.0000\n",
       "PERSINC   0.3045     0.0000\n",
       "PCE       0.1816     0.0007"
      ]
     },
     "metadata": {},
     "output_type": "display_data"
    },
    {
     "data": {
      "text/html": [
       "<b>$k=4$</b>"
      ],
      "text/plain": [
       "<IPython.core.display.HTML object>"
      ]
     },
     "metadata": {},
     "output_type": "display_data"
    },
    {
     "name": "stdout",
     "output_type": "stream",
     "text": [
      "including HOUST with best p-value=0.0000\n",
      "model: INTRATE ~ const + INFL + PERSINC + PCE + HOUST\n"
     ]
    },
    {
     "data": {
      "text/html": [
       "<div>\n",
       "<table border=\"1\" class=\"dataframe\">\n",
       "  <thead>\n",
       "    <tr style=\"text-align: right;\">\n",
       "      <th></th>\n",
       "      <th>$\\beta$</th>\n",
       "      <th>$p$-value</th>\n",
       "    </tr>\n",
       "  </thead>\n",
       "  <tbody>\n",
       "    <tr>\n",
       "      <th>const</th>\n",
       "      <td>-0.2104</td>\n",
       "      <td>0.3633</td>\n",
       "    </tr>\n",
       "    <tr>\n",
       "      <th>INFL</th>\n",
       "      <td>0.7447</td>\n",
       "      <td>0.0000</td>\n",
       "    </tr>\n",
       "    <tr>\n",
       "      <th>PERSINC</th>\n",
       "      <td>0.2567</td>\n",
       "      <td>0.0000</td>\n",
       "    </tr>\n",
       "    <tr>\n",
       "      <th>PCE</th>\n",
       "      <td>0.3106</td>\n",
       "      <td>0.0000</td>\n",
       "    </tr>\n",
       "    <tr>\n",
       "      <th>HOUST</th>\n",
       "      <td>-0.0215</td>\n",
       "      <td>0.0000</td>\n",
       "    </tr>\n",
       "  </tbody>\n",
       "</table>\n",
       "</div>"
      ],
      "text/plain": [
       "         $\\beta$  $p$-value\n",
       "const    -0.2104     0.3633\n",
       "INFL      0.7447     0.0000\n",
       "PERSINC   0.2567     0.0000\n",
       "PCE       0.3106     0.0000\n",
       "HOUST    -0.0215     0.0000"
      ]
     },
     "metadata": {},
     "output_type": "display_data"
    },
    {
     "data": {
      "text/html": [
       "<b>$k=5$</b>"
      ],
      "text/plain": [
       "<IPython.core.display.HTML object>"
      ]
     },
     "metadata": {},
     "output_type": "display_data"
    },
    {
     "name": "stdout",
     "output_type": "stream",
     "text": [
      "including COMMPRI with best p-value=0.0046\n",
      "model: INTRATE ~ const + INFL + PERSINC + PCE + HOUST + COMMPRI\n"
     ]
    },
    {
     "data": {
      "text/html": [
       "<div>\n",
       "<table border=\"1\" class=\"dataframe\">\n",
       "  <thead>\n",
       "    <tr style=\"text-align: right;\">\n",
       "      <th></th>\n",
       "      <th>$\\beta$</th>\n",
       "      <th>$p$-value</th>\n",
       "    </tr>\n",
       "  </thead>\n",
       "  <tbody>\n",
       "    <tr>\n",
       "      <th>const</th>\n",
       "      <td>-0.2363</td>\n",
       "      <td>0.3051</td>\n",
       "    </tr>\n",
       "    <tr>\n",
       "      <th>INFL</th>\n",
       "      <td>0.7177</td>\n",
       "      <td>0.0000</td>\n",
       "    </tr>\n",
       "    <tr>\n",
       "      <th>PERSINC</th>\n",
       "      <td>0.2402</td>\n",
       "      <td>0.0001</td>\n",
       "    </tr>\n",
       "    <tr>\n",
       "      <th>PCE</th>\n",
       "      <td>0.3398</td>\n",
       "      <td>0.0000</td>\n",
       "    </tr>\n",
       "    <tr>\n",
       "      <th>HOUST</th>\n",
       "      <td>-0.0205</td>\n",
       "      <td>0.0000</td>\n",
       "    </tr>\n",
       "    <tr>\n",
       "      <th>COMMPRI</th>\n",
       "      <td>-0.0075</td>\n",
       "      <td>0.0046</td>\n",
       "    </tr>\n",
       "  </tbody>\n",
       "</table>\n",
       "</div>"
      ],
      "text/plain": [
       "         $\\beta$  $p$-value\n",
       "const    -0.2363     0.3051\n",
       "INFL      0.7177     0.0000\n",
       "PERSINC   0.2402     0.0001\n",
       "PCE       0.3398     0.0000\n",
       "HOUST    -0.0205     0.0000\n",
       "COMMPRI  -0.0075     0.0046"
      ]
     },
     "metadata": {},
     "output_type": "display_data"
    },
    {
     "data": {
      "text/html": [
       "<b>$k=6$</b>"
      ],
      "text/plain": [
       "<IPython.core.display.HTML object>"
      ]
     },
     "metadata": {},
     "output_type": "display_data"
    },
    {
     "name": "stdout",
     "output_type": "stream",
     "text": [
      "including PROD with best p-value=0.3357\n",
      "model: INTRATE ~ const + INFL + PERSINC + PCE + HOUST + COMMPRI + PROD\n"
     ]
    },
    {
     "data": {
      "text/html": [
       "<div>\n",
       "<table border=\"1\" class=\"dataframe\">\n",
       "  <thead>\n",
       "    <tr style=\"text-align: right;\">\n",
       "      <th></th>\n",
       "      <th>$\\beta$</th>\n",
       "      <th>$p$-value</th>\n",
       "    </tr>\n",
       "  </thead>\n",
       "  <tbody>\n",
       "    <tr>\n",
       "      <th>const</th>\n",
       "      <td>-0.2856</td>\n",
       "      <td>0.2263</td>\n",
       "    </tr>\n",
       "    <tr>\n",
       "      <th>INFL</th>\n",
       "      <td>0.6942</td>\n",
       "      <td>0.0000</td>\n",
       "    </tr>\n",
       "    <tr>\n",
       "      <th>PERSINC</th>\n",
       "      <td>0.2512</td>\n",
       "      <td>0.0000</td>\n",
       "    </tr>\n",
       "    <tr>\n",
       "      <th>PCE</th>\n",
       "      <td>0.3671</td>\n",
       "      <td>0.0000</td>\n",
       "    </tr>\n",
       "    <tr>\n",
       "      <th>HOUST</th>\n",
       "      <td>-0.0210</td>\n",
       "      <td>0.0000</td>\n",
       "    </tr>\n",
       "    <tr>\n",
       "      <th>COMMPRI</th>\n",
       "      <td>-0.0065</td>\n",
       "      <td>0.0209</td>\n",
       "    </tr>\n",
       "    <tr>\n",
       "      <th>PROD</th>\n",
       "      <td>-0.0248</td>\n",
       "      <td>0.3357</td>\n",
       "    </tr>\n",
       "  </tbody>\n",
       "</table>\n",
       "</div>"
      ],
      "text/plain": [
       "         $\\beta$  $p$-value\n",
       "const    -0.2856     0.2263\n",
       "INFL      0.6942     0.0000\n",
       "PERSINC   0.2512     0.0000\n",
       "PCE       0.3671     0.0000\n",
       "HOUST    -0.0210     0.0000\n",
       "COMMPRI  -0.0065     0.0209\n",
       "PROD     -0.0248     0.3357"
      ]
     },
     "metadata": {},
     "output_type": "display_data"
    },
    {
     "data": {
      "text/html": [
       "<b>$k=7$</b>"
      ],
      "text/plain": [
       "<IPython.core.display.HTML object>"
      ]
     },
     "metadata": {},
     "output_type": "display_data"
    },
    {
     "name": "stdout",
     "output_type": "stream",
     "text": [
      "including UNEMPL with best p-value=0.2816\n",
      "model: INTRATE ~ const + INFL + PERSINC + PCE + HOUST + COMMPRI + PROD + UNEMPL\n"
     ]
    },
    {
     "data": {
      "text/html": [
       "<div>\n",
       "<table border=\"1\" class=\"dataframe\">\n",
       "  <thead>\n",
       "    <tr style=\"text-align: right;\">\n",
       "      <th></th>\n",
       "      <th>$\\beta$</th>\n",
       "      <th>$p$-value</th>\n",
       "    </tr>\n",
       "  </thead>\n",
       "  <tbody>\n",
       "    <tr>\n",
       "      <th>const</th>\n",
       "      <td>-0.2147</td>\n",
       "      <td>0.3808</td>\n",
       "    </tr>\n",
       "    <tr>\n",
       "      <th>INFL</th>\n",
       "      <td>0.6968</td>\n",
       "      <td>0.0000</td>\n",
       "    </tr>\n",
       "    <tr>\n",
       "      <th>PERSINC</th>\n",
       "      <td>0.2464</td>\n",
       "      <td>0.0001</td>\n",
       "    </tr>\n",
       "    <tr>\n",
       "      <th>PCE</th>\n",
       "      <td>0.3426</td>\n",
       "      <td>0.0000</td>\n",
       "    </tr>\n",
       "    <tr>\n",
       "      <th>HOUST</th>\n",
       "      <td>-0.0194</td>\n",
       "      <td>0.0000</td>\n",
       "    </tr>\n",
       "    <tr>\n",
       "      <th>COMMPRI</th>\n",
       "      <td>-0.0055</td>\n",
       "      <td>0.0636</td>\n",
       "    </tr>\n",
       "    <tr>\n",
       "      <th>PROD</th>\n",
       "      <td>-0.0576</td>\n",
       "      <td>0.1489</td>\n",
       "    </tr>\n",
       "    <tr>\n",
       "      <th>UNEMPL</th>\n",
       "      <td>0.1041</td>\n",
       "      <td>0.2816</td>\n",
       "    </tr>\n",
       "  </tbody>\n",
       "</table>\n",
       "</div>"
      ],
      "text/plain": [
       "         $\\beta$  $p$-value\n",
       "const    -0.2147     0.3808\n",
       "INFL      0.6968     0.0000\n",
       "PERSINC   0.2464     0.0001\n",
       "PCE       0.3426     0.0000\n",
       "HOUST    -0.0194     0.0000\n",
       "COMMPRI  -0.0055     0.0636\n",
       "PROD     -0.0576     0.1489\n",
       "UNEMPL    0.1041     0.2816"
      ]
     },
     "metadata": {},
     "output_type": "display_data"
    },
    {
     "name": "stdout",
     "output_type": "stream",
     "text": [
      "\n"
     ]
    },
    {
     "data": {
      "text/html": [
       "<b>Lineage</b>"
      ],
      "text/plain": [
       "<IPython.core.display.HTML object>"
      ]
     },
     "metadata": {},
     "output_type": "display_data"
    },
    {
     "data": {
      "text/html": [
       "<div>\n",
       "<table border=\"1\" class=\"dataframe\">\n",
       "  <thead>\n",
       "    <tr style=\"text-align: right;\">\n",
       "      <th></th>\n",
       "      <th>0</th>\n",
       "      <th>1</th>\n",
       "      <th>2</th>\n",
       "      <th>3</th>\n",
       "      <th>4</th>\n",
       "      <th>5</th>\n",
       "      <th>6</th>\n",
       "    </tr>\n",
       "  </thead>\n",
       "  <tbody>\n",
       "    <tr>\n",
       "      <th>COMMPRI</th>\n",
       "      <td>-</td>\n",
       "      <td>-</td>\n",
       "      <td>-</td>\n",
       "      <td>-</td>\n",
       "      <td>-0.01</td>\n",
       "      <td>-0.01</td>\n",
       "      <td>-0.01</td>\n",
       "    </tr>\n",
       "    <tr>\n",
       "      <th>HOUST</th>\n",
       "      <td>-</td>\n",
       "      <td>-</td>\n",
       "      <td>-</td>\n",
       "      <td>-0.02</td>\n",
       "      <td>-0.02</td>\n",
       "      <td>-0.02</td>\n",
       "      <td>-0.02</td>\n",
       "    </tr>\n",
       "    <tr>\n",
       "      <th>INFL</th>\n",
       "      <td>0.94</td>\n",
       "      <td>1.01</td>\n",
       "      <td>0.87</td>\n",
       "      <td>0.74</td>\n",
       "      <td>0.72</td>\n",
       "      <td>0.69</td>\n",
       "      <td>0.7</td>\n",
       "    </tr>\n",
       "    <tr>\n",
       "      <th>PCE</th>\n",
       "      <td>-</td>\n",
       "      <td>-</td>\n",
       "      <td>0.18</td>\n",
       "      <td>0.31</td>\n",
       "      <td>0.34</td>\n",
       "      <td>0.37</td>\n",
       "      <td>0.34</td>\n",
       "    </tr>\n",
       "    <tr>\n",
       "      <th>PERSINC</th>\n",
       "      <td>-</td>\n",
       "      <td>0.44</td>\n",
       "      <td>0.3</td>\n",
       "      <td>0.26</td>\n",
       "      <td>0.24</td>\n",
       "      <td>0.25</td>\n",
       "      <td>0.25</td>\n",
       "    </tr>\n",
       "    <tr>\n",
       "      <th>PROD</th>\n",
       "      <td>-</td>\n",
       "      <td>-</td>\n",
       "      <td>-</td>\n",
       "      <td>-</td>\n",
       "      <td>-</td>\n",
       "      <td>-0.02</td>\n",
       "      <td>-0.06</td>\n",
       "    </tr>\n",
       "    <tr>\n",
       "      <th>UNEMPL</th>\n",
       "      <td>-</td>\n",
       "      <td>-</td>\n",
       "      <td>-</td>\n",
       "      <td>-</td>\n",
       "      <td>-</td>\n",
       "      <td>-</td>\n",
       "      <td>0.1</td>\n",
       "    </tr>\n",
       "    <tr>\n",
       "      <th>const</th>\n",
       "      <td>1.64</td>\n",
       "      <td>0.45</td>\n",
       "      <td>0.02</td>\n",
       "      <td>-0.21</td>\n",
       "      <td>-0.24</td>\n",
       "      <td>-0.29</td>\n",
       "      <td>-0.21</td>\n",
       "    </tr>\n",
       "  </tbody>\n",
       "</table>\n",
       "</div>"
      ],
      "text/plain": [
       "            0     1     2     3     4     5     6\n",
       "COMMPRI     -     -     -     - -0.01 -0.01 -0.01\n",
       "HOUST       -     -     - -0.02 -0.02 -0.02 -0.02\n",
       "INFL     0.94  1.01  0.87  0.74  0.72  0.69   0.7\n",
       "PCE         -     -  0.18  0.31  0.34  0.37  0.34\n",
       "PERSINC     -  0.44   0.3  0.26  0.24  0.25  0.25\n",
       "PROD        -     -     -     -     - -0.02 -0.06\n",
       "UNEMPL      -     -     -     -     -     -   0.1\n",
       "const    1.64  0.45  0.02 -0.21 -0.24 -0.29 -0.21"
      ]
     },
     "metadata": {},
     "output_type": "display_data"
    },
    {
     "data": {
      "image/png": "[encoded data removed]",
      "text/plain": [
       "<matplotlib.figure.Figure at 0x7f1ae98382d0>"
      ]
     },
     "metadata": {},
     "output_type": "display_data"
    },
    {
     "data": {
      "image/png": "[encoded data removed]",
      "text/plain": [
       "<matplotlib.figure.Figure at 0x7f1ae96e3050>"
      ]
     },
     "metadata": {},
     "output_type": "display_data"
    }
   ],
   "source": [
    "X = sm.add_constant(data.ix[:, 2:])\n",
    "forwards_selection(y, X)"
   ]
  },
  {
   "cell_type": "markdown",
   "metadata": {},
   "source": [
    "According to BIC criterion, the best model is obtained at step 4 (i.e. $k = 5$). This is the model:\n",
    "\n",
    "    model: INTRATE ~ const + INFL + PERSINC + PCE + HOUST + COMMPRI\n"
   ]
  },
  {
   "cell_type": "markdown",
   "metadata": {},
   "source": [
    "This is the same model as selected in **(a)** using BIC"
   ]
  },
  {
   "cell_type": "markdown",
   "metadata": {},
   "source": [
    "**(c)** Compare your model from (a) and the Taylor rule of equation (1). Consider $R^2$, AIC and BIC. Which of the\n",
    "models do you prefer?"
   ]
  },
  {
   "cell_type": "markdown",
   "metadata": {},
   "source": [
    "Taylor rule:\n",
    "\n",
    "    INTRATE ~ const + INFL + PROD\n",
    "\n",
    "Model from **(a)**\n",
    "\n",
    "    INTRATE ~ const + INFL + COMMPRI + PCE + PERSINC + HOUST\n",
    "    "
   ]
  },
  {
   "cell_type": "code",
   "execution_count": 13,
   "metadata": {
    "collapsed": false
   },
   "outputs": [],
   "source": [
    "X = sm.add_constant(data.ix[:, 2:])\n",
    "full_model = sm.OLS(y, X[['const', 'INFL', 'COMMPRI', 'PCE', 'PERSINC', 'HOUST']]).fit()\n",
    "taylor_model = sm.OLS(y, X[['const', 'INFL', 'PROD']]).fit()"
   ]
  },
  {
   "cell_type": "code",
   "execution_count": 14,
   "metadata": {
    "collapsed": false
   },
   "outputs": [
    {
     "data": {
      "text/html": [
       "<div>\n",
       "<table border=\"1\" class=\"dataframe\">\n",
       "  <thead>\n",
       "    <tr style=\"text-align: right;\">\n",
       "      <th></th>\n",
       "      <th>$R^2$</th>\n",
       "      <th>AIC</th>\n",
       "      <th>BIC</th>\n",
       "    </tr>\n",
       "  </thead>\n",
       "  <tbody>\n",
       "    <tr>\n",
       "      <th>(a)</th>\n",
       "      <td>0.637441</td>\n",
       "      <td>2912.277703</td>\n",
       "      <td>2939.231142</td>\n",
       "    </tr>\n",
       "    <tr>\n",
       "      <th>Taylor</th>\n",
       "      <td>0.574828</td>\n",
       "      <td>3011.420623</td>\n",
       "      <td>3024.897343</td>\n",
       "    </tr>\n",
       "  </tbody>\n",
       "</table>\n",
       "</div>"
      ],
      "text/plain": [
       "           $R^2$          AIC          BIC\n",
       "(a)     0.637441  2912.277703  2939.231142\n",
       "Taylor  0.574828  3011.420623  3024.897343"
      ]
     },
     "execution_count": 14,
     "metadata": {},
     "output_type": "execute_result"
    }
   ],
   "source": [
    "df = pd.DataFrame({'AIC': [full_model.aic, taylor_model.aic], \n",
    "                   'BIC': [full_model.bic, taylor_model.bic], \n",
    "                   '$R^2$': [full_model.rsquared, taylor_model.rsquared]})\n",
    "df.index = ['(a)', 'Taylor']\n",
    "df"
   ]
  },
  {
   "cell_type": "markdown",
   "metadata": {},
   "source": [
    "Full model is better at everything: it has higher $R^2$ and lower AIC and BIC."
   ]
  },
  {
   "cell_type": "markdown",
   "metadata": {},
   "source": [
    "**(d)** Test the Taylor rule of equation (1) using the RESET test, Chow break and forecast test (with in both tests as\n",
    "break date January 1985) and a Jarque-Bera test. "
   ]
  },
  {
   "cell_type": "markdown",
   "metadata": {},
   "source": [
    "**RESET**"
   ]
  },
  {
   "cell_type": "code",
   "execution_count": 15,
   "metadata": {
    "collapsed": false
   },
   "outputs": [],
   "source": [
    "X_subset = pd.DataFrame(X[['const', 'INFL', 'PROD']])\n",
    "taylor_model = sm.OLS(y, X_subset).fit()\n",
    "X_subset['Fitted'] = taylor_model.fittedvalues ** 2"
   ]
  },
  {
   "cell_type": "code",
   "execution_count": 16,
   "metadata": {
    "collapsed": false
   },
   "outputs": [
    {
     "data": {
      "text/html": [
       "<div>\n",
       "<table border=\"1\" class=\"dataframe\">\n",
       "  <thead>\n",
       "    <tr style=\"text-align: right;\">\n",
       "      <th></th>\n",
       "      <th>$\\beta$</th>\n",
       "      <th>$p$-value</th>\n",
       "    </tr>\n",
       "  </thead>\n",
       "  <tbody>\n",
       "    <tr>\n",
       "      <th>const</th>\n",
       "      <td>0.9826</td>\n",
       "      <td>0.0001</td>\n",
       "    </tr>\n",
       "    <tr>\n",
       "      <th>INFL</th>\n",
       "      <td>1.1668</td>\n",
       "      <td>0.0000</td>\n",
       "    </tr>\n",
       "    <tr>\n",
       "      <th>PROD</th>\n",
       "      <td>0.1000</td>\n",
       "      <td>0.0000</td>\n",
       "    </tr>\n",
       "    <tr>\n",
       "      <th>Fitted</th>\n",
       "      <td>-0.0139</td>\n",
       "      <td>0.1070</td>\n",
       "    </tr>\n",
       "  </tbody>\n",
       "</table>\n",
       "</div>"
      ],
      "text/plain": [
       "        $\\beta$  $p$-value\n",
       "const    0.9826     0.0001\n",
       "INFL     1.1668     0.0000\n",
       "PROD     0.1000     0.0000\n",
       "Fitted  -0.0139     0.1070"
      ]
     },
     "execution_count": 16,
     "metadata": {},
     "output_type": "execute_result"
    }
   ],
   "source": [
    "reset_model = sm.OLS(y, X_subset).fit()\n",
    "pd.DataFrame({'$p$-value': reset_model.pvalues.round(4), \n",
    "              '$\\\\beta$': reset_model.params.round(4)})"
   ]
  },
  {
   "cell_type": "markdown",
   "metadata": {},
   "source": [
    "$t$-Test shows that the fitted value is not significant\n",
    "\n",
    "Let's also calculate the $F$ statistic (which should result in be the same $p$-value):"
   ]
  },
  {
   "cell_type": "code",
   "execution_count": 17,
   "metadata": {
    "collapsed": false
   },
   "outputs": [
    {
     "data": {
      "text/plain": [
       "2.605275184570711"
      ]
     },
     "execution_count": 17,
     "metadata": {},
     "output_type": "execute_result"
    }
   ],
   "source": [
    "S_0 = np.sum(taylor_model.resid ** 2)\n",
    "S_1 = np.sum(reset_model.resid ** 2)\n",
    "\n",
    "n = len(X)\n",
    "k = 3 # const, INFL, PROD\n",
    "p = 1 # include only quadratic term\n",
    "F = ((S_0 - S_1) / p) / (S_1 / (n - k - p))\n",
    "F"
   ]
  },
  {
   "cell_type": "code",
   "execution_count": 18,
   "metadata": {
    "collapsed": false
   },
   "outputs": [
    {
     "data": {
      "text/plain": [
       "0.10698954356465185"
      ]
     },
     "execution_count": 18,
     "metadata": {},
     "output_type": "execute_result"
    }
   ],
   "source": [
    "1 - f.cdf(F, p, n - k - p)"
   ]
  },
  {
   "cell_type": "markdown",
   "metadata": {},
   "source": [
    "So, again, we see that it's not significant. This means that we don't need to include quadratic terms (and cross-terms) into our model."
   ]
  },
  {
   "cell_type": "markdown",
   "metadata": {},
   "source": [
    "**Chow break** and **Chow forecast** (break in 01.1985)"
   ]
  },
  {
   "cell_type": "code",
   "execution_count": 19,
   "metadata": {
    "collapsed": false
   },
   "outputs": [],
   "source": [
    "X_subset = pd.DataFrame(X[['const', 'INFL', 'PROD']])\n",
    "idx = np.where(data.OBS == '1985:1')[0][0]\n",
    "\n",
    "y1 = y.ix[:idx]\n",
    "X1 = X_subset.ix[:idx]\n",
    "\n",
    "y2 = y.ix[idx:]\n",
    "X2 = X_subset.ix[idx:]"
   ]
  },
  {
   "cell_type": "code",
   "execution_count": 20,
   "metadata": {
    "collapsed": false
   },
   "outputs": [],
   "source": [
    "full   = sm.OLS(y, X_subset).fit()\n",
    "model1 = sm.OLS(y1, X1).fit()\n",
    "model2 = sm.OLS(y2, X2).fit()\n",
    "\n",
    "S0 = np.sum(full.resid ** 2)\n",
    "S1 = np.sum(model1.resid ** 2)\n",
    "S2 = np.sum(model2.resid ** 2)"
   ]
  },
  {
   "cell_type": "markdown",
   "metadata": {},
   "source": [
    "Chow Break:"
   ]
  },
  {
   "cell_type": "code",
   "execution_count": 21,
   "metadata": {
    "collapsed": false
   },
   "outputs": [
    {
     "data": {
      "text/plain": [
       "5.498518462102"
      ]
     },
     "execution_count": 21,
     "metadata": {},
     "output_type": "execute_result"
    }
   ],
   "source": [
    "n = len(X_subset)\n",
    "k = 3\n",
    "\n",
    "F = ((S0 - S1 - S2) / k) / ((S1 + S2) / (n - 2*k))\n",
    "F"
   ]
  },
  {
   "cell_type": "code",
   "execution_count": 22,
   "metadata": {
    "collapsed": false
   },
   "outputs": [
    {
     "data": {
      "text/plain": [
       "0.00098260249843939995"
      ]
     },
     "execution_count": 22,
     "metadata": {},
     "output_type": "execute_result"
    }
   ],
   "source": [
    "1 - f.cdf(F, k, n - 2*k)"
   ]
  },
  {
   "cell_type": "markdown",
   "metadata": {},
   "source": [
    "It is significant: so we reject $H_0$ that there's no break point"
   ]
  },
  {
   "cell_type": "markdown",
   "metadata": {},
   "source": [
    "Chow Forecast:"
   ]
  },
  {
   "cell_type": "code",
   "execution_count": 23,
   "metadata": {
    "collapsed": false
   },
   "outputs": [
    {
     "data": {
      "text/plain": [
       "0.8888446255369153"
      ]
     },
     "execution_count": 23,
     "metadata": {},
     "output_type": "execute_result"
    }
   ],
   "source": [
    "n2 = len(X2)\n",
    "n1 = n - n2\n",
    "F = ((S0 - S1) / n2) / (S1 / (n1 - k))\n",
    "F"
   ]
  },
  {
   "cell_type": "code",
   "execution_count": 24,
   "metadata": {
    "collapsed": false,
    "scrolled": true
   },
   "outputs": [
    {
     "data": {
      "text/plain": [
       "0.85709178941265163"
      ]
     },
     "execution_count": 24,
     "metadata": {},
     "output_type": "execute_result"
    }
   ],
   "source": [
    "1 - f.cdf(F, n2, n1 - k)"
   ]
  },
  {
   "cell_type": "markdown",
   "metadata": {},
   "source": [
    "Under $H_0$ we assume that all extra variables (gammas) in the second model are insignificant, i.e. what we learned from the first subset can be used to forecast values in the second.\n",
    "\n",
    "Because the $p$-value is very large, we fail to reject $H_0$"
   ]
  },
  {
   "cell_type": "markdown",
   "metadata": {},
   "source": [
    "**Jarque-Bera test**"
   ]
  },
  {
   "cell_type": "code",
   "execution_count": 25,
   "metadata": {
    "collapsed": false
   },
   "outputs": [
    {
     "data": {
      "text/html": [
       "<table class=\"simpletable\">\n",
       "<caption>OLS Regression Results</caption>\n",
       "<tr>\n",
       "  <th>Dep. Variable:</th>         <td>INTRATE</td>     <th>  R-squared:         </th> <td>   0.575</td> \n",
       "</tr>\n",
       "<tr>\n",
       "  <th>Model:</th>                   <td>OLS</td>       <th>  Adj. R-squared:    </th> <td>   0.574</td> \n",
       "</tr>\n",
       "<tr>\n",
       "  <th>Method:</th>             <td>Least Squares</td>  <th>  F-statistic:       </th> <td>   444.1</td> \n",
       "</tr>\n",
       "<tr>\n",
       "  <th>Date:</th>             <td>Wed, 18 Nov 2015</td> <th>  Prob (F-statistic):</th> <td>9.63e-123</td>\n",
       "</tr>\n",
       "<tr>\n",
       "  <th>Time:</th>                 <td>22:47:03</td>     <th>  Log-Likelihood:    </th> <td> -1502.7</td> \n",
       "</tr>\n",
       "<tr>\n",
       "  <th>No. Observations:</th>      <td>   660</td>      <th>  AIC:               </th> <td>   3011.</td> \n",
       "</tr>\n",
       "<tr>\n",
       "  <th>Df Residuals:</th>          <td>   657</td>      <th>  BIC:               </th> <td>   3025.</td> \n",
       "</tr>\n",
       "<tr>\n",
       "  <th>Df Model:</th>              <td>     2</td>      <th>                     </th>     <td> </td>    \n",
       "</tr>\n",
       "<tr>\n",
       "  <th>Covariance Type:</th>      <td>nonrobust</td>    <th>                     </th>     <td> </td>    \n",
       "</tr>\n",
       "</table>\n",
       "<table class=\"simpletable\">\n",
       "<tr>\n",
       "    <td></td>       <th>coef</th>     <th>std err</th>      <th>t</th>      <th>P>|t|</th> <th>[95.0% Conf. Int.]</th> \n",
       "</tr>\n",
       "<tr>\n",
       "  <th>const</th> <td>    1.2507</td> <td>    0.176</td> <td>    7.103</td> <td> 0.000</td> <td>    0.905     1.597</td>\n",
       "</tr>\n",
       "<tr>\n",
       "  <th>INFL</th>  <td>    0.9744</td> <td>    0.033</td> <td>   29.792</td> <td> 0.000</td> <td>    0.910     1.039</td>\n",
       "</tr>\n",
       "<tr>\n",
       "  <th>PROD</th>  <td>    0.0948</td> <td>    0.020</td> <td>    4.810</td> <td> 0.000</td> <td>    0.056     0.133</td>\n",
       "</tr>\n",
       "</table>\n",
       "<table class=\"simpletable\">\n",
       "<tr>\n",
       "  <th>Omnibus:</th>       <td>11.982</td> <th>  Durbin-Watson:     </th> <td>   0.065</td>\n",
       "</tr>\n",
       "<tr>\n",
       "  <th>Prob(Omnibus):</th> <td> 0.003</td> <th>  Jarque-Bera (JB):  </th> <td>  12.106</td>\n",
       "</tr>\n",
       "<tr>\n",
       "  <th>Skew:</th>          <td> 0.321</td> <th>  Prob(JB):          </th> <td> 0.00235</td>\n",
       "</tr>\n",
       "<tr>\n",
       "  <th>Kurtosis:</th>      <td> 3.164</td> <th>  Cond. No.          </th> <td>    11.9</td>\n",
       "</tr>\n",
       "</table>"
      ],
      "text/plain": [
       "<class 'statsmodels.iolib.summary.Summary'>\n",
       "\"\"\"\n",
       "                            OLS Regression Results                            \n",
       "==============================================================================\n",
       "Dep. Variable:                INTRATE   R-squared:                       0.575\n",
       "Model:                            OLS   Adj. R-squared:                  0.574\n",
       "Method:                 Least Squares   F-statistic:                     444.1\n",
       "Date:                Wed, 18 Nov 2015   Prob (F-statistic):          9.63e-123\n",
       "Time:                        22:47:03   Log-Likelihood:                -1502.7\n",
       "No. Observations:                 660   AIC:                             3011.\n",
       "Df Residuals:                     657   BIC:                             3025.\n",
       "Df Model:                           2                                         \n",
       "Covariance Type:            nonrobust                                         \n",
       "==============================================================================\n",
       "                 coef    std err          t      P>|t|      [95.0% Conf. Int.]\n",
       "------------------------------------------------------------------------------\n",
       "const          1.2507      0.176      7.103      0.000         0.905     1.597\n",
       "INFL           0.9744      0.033     29.792      0.000         0.910     1.039\n",
       "PROD           0.0948      0.020      4.810      0.000         0.056     0.133\n",
       "==============================================================================\n",
       "Omnibus:                       11.982   Durbin-Watson:                   0.065\n",
       "Prob(Omnibus):                  0.003   Jarque-Bera (JB):               12.106\n",
       "Skew:                           0.321   Prob(JB):                      0.00235\n",
       "Kurtosis:                       3.164   Cond. No.                         11.9\n",
       "==============================================================================\n",
       "\n",
       "Warnings:\n",
       "[1] Standard Errors assume that the covariance matrix of the errors is correctly specified.\n",
       "\"\"\""
      ]
     },
     "execution_count": 25,
     "metadata": {},
     "output_type": "execute_result"
    }
   ],
   "source": [
    "full = sm.OLS(y, X_subset).fit()\n",
    "full.summary()"
   ]
  },
  {
   "cell_type": "markdown",
   "metadata": {},
   "source": [
    "So, $JB = 12.106$ (see last table) and $p$-value is $p=0.00235$, thus we fail to reject the $H_0$ of normality of residuals. This means that the model specification can be improved further."
   ]
  }
 ],
 "metadata": {
  "kernelspec": {
   "display_name": "Python 2",
   "language": "python",
   "name": "python2"
  },
  "language_info": {
   "codemirror_mode": {
    "name": "ipython",
    "version": 2
   },
   "file_extension": ".py",
   "mimetype": "text/x-python",
   "name": "python",
   "nbconvert_exporter": "python",
   "pygments_lexer": "ipython2",
   "version": "2.7.10"
  }
 },
 "nbformat": 4,
 "nbformat_minor": 0
}
