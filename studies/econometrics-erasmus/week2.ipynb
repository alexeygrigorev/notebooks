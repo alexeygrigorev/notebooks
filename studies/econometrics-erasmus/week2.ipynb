{
 "cells": [
  {
   "cell_type": "code",
   "execution_count": 1,
   "metadata": {
    "collapsed": true
   },
   "outputs": [],
   "source": [
    "import pandas as pd\n",
    "import matplotlib.pyplot as plt\n",
    "from pandas.stats.api import ols\n",
    "\n",
    "import numpy as np\n",
    "\n",
    "%matplotlib inline"
   ]
  },
  {
   "cell_type": "code",
   "execution_count": 5,
   "metadata": {
    "collapsed": false
   },
   "outputs": [
    {
     "data": {
      "text/html": [
       "<div>\n",
       "<table border=\"1\" class=\"dataframe\">\n",
       "  <thead>\n",
       "    <tr style=\"text-align: right;\">\n",
       "      <th></th>\n",
       "      <th>Observ.</th>\n",
       "      <th>Wage</th>\n",
       "      <th>LogWage</th>\n",
       "      <th>Female</th>\n",
       "      <th>Age</th>\n",
       "      <th>Educ</th>\n",
       "      <th>Parttime</th>\n",
       "    </tr>\n",
       "  </thead>\n",
       "  <tbody>\n",
       "    <tr>\n",
       "      <th>0</th>\n",
       "      <td>1</td>\n",
       "      <td>66</td>\n",
       "      <td>4.190</td>\n",
       "      <td>0</td>\n",
       "      <td>49</td>\n",
       "      <td>1</td>\n",
       "      <td>1</td>\n",
       "    </tr>\n",
       "    <tr>\n",
       "      <th>1</th>\n",
       "      <td>2</td>\n",
       "      <td>34</td>\n",
       "      <td>3.526</td>\n",
       "      <td>1</td>\n",
       "      <td>42</td>\n",
       "      <td>1</td>\n",
       "      <td>1</td>\n",
       "    </tr>\n",
       "    <tr>\n",
       "      <th>2</th>\n",
       "      <td>3</td>\n",
       "      <td>70</td>\n",
       "      <td>4.248</td>\n",
       "      <td>1</td>\n",
       "      <td>42</td>\n",
       "      <td>1</td>\n",
       "      <td>1</td>\n",
       "    </tr>\n",
       "    <tr>\n",
       "      <th>3</th>\n",
       "      <td>4</td>\n",
       "      <td>47</td>\n",
       "      <td>3.850</td>\n",
       "      <td>0</td>\n",
       "      <td>38</td>\n",
       "      <td>1</td>\n",
       "      <td>0</td>\n",
       "    </tr>\n",
       "    <tr>\n",
       "      <th>4</th>\n",
       "      <td>5</td>\n",
       "      <td>107</td>\n",
       "      <td>4.673</td>\n",
       "      <td>1</td>\n",
       "      <td>54</td>\n",
       "      <td>1</td>\n",
       "      <td>1</td>\n",
       "    </tr>\n",
       "  </tbody>\n",
       "</table>\n",
       "</div>"
      ],
      "text/plain": [
       "   Observ.  Wage  LogWage  Female  Age  Educ  Parttime\n",
       "0        1    66    4.190       0   49     1         1\n",
       "1        2    34    3.526       1   42     1         1\n",
       "2        3    70    4.248       1   42     1         1\n",
       "3        4    47    3.850       0   38     1         0\n",
       "4        5   107    4.673       1   54     1         1"
      ]
     },
     "execution_count": 5,
     "metadata": {},
     "output_type": "execute_result"
    }
   ],
   "source": [
    "wages = pd.read_csv('Train21-wages', sep='\\t')\n",
    "wages.head()"
   ]
  },
  {
   "cell_type": "markdown",
   "metadata": {},
   "source": [
    "**(a)** Use dataset `TrainExer21` to regress log-wage on a constant and the gender dummy ‘Female’, and check the\n",
    "result presented in Lecture 2.1 that $\\log(\\text{Wage}) = 4.73 − 0.25 \\, \\text{Female} + e$."
   ]
  },
  {
   "cell_type": "code",
   "execution_count": 8,
   "metadata": {
    "collapsed": false
   },
   "outputs": [
    {
     "data": {
      "text/plain": [
       "\n",
       "-------------------------Summary of Regression Analysis-------------------------\n",
       "\n",
       "Formula: Y ~ <x> + <intercept>\n",
       "\n",
       "Number of Observations:         500\n",
       "Number of Degrees of Freedom:   2\n",
       "\n",
       "R-squared:         0.0726\n",
       "Adj R-squared:     0.0708\n",
       "\n",
       "Rmse:              0.4327\n",
       "\n",
       "F-stat (1, 498):    39.0101, p-value:     0.0000\n",
       "\n",
       "Degrees of Freedom: model 1, resid 498\n",
       "\n",
       "-----------------------Summary of Estimated Coefficients------------------------\n",
       "      Variable       Coef    Std Err     t-stat    p-value    CI 2.5%   CI 97.5%\n",
       "--------------------------------------------------------------------------------\n",
       "             x    -0.2506     0.0401      -6.25     0.0000    -0.3293    -0.1720\n",
       "     intercept     4.7336     0.0243     194.45     0.0000     4.6859     4.7814\n",
       "---------------------------------End of Summary---------------------------------"
      ]
     },
     "execution_count": 8,
     "metadata": {},
     "output_type": "execute_result"
    }
   ],
   "source": [
    "gender_model = ols(x=wages.Female, y=np.log(wages.Wage))\n",
    "gender_model"
   ]
  },
  {
   "cell_type": "markdown",
   "metadata": {},
   "source": [
    "\n",
    "**(b)** Let $e$ be the series of residuals of the regression in part **(a)**. Perform two regressions:\n",
    "\n",
    "- **(i)** $e$ on a constant and education;\n",
    "- **(ii)** $e$ on a constant and the part-time job dummy."
   ]
  },
  {
   "cell_type": "code",
   "execution_count": 9,
   "metadata": {
    "collapsed": false,
    "scrolled": true
   },
   "outputs": [
    {
     "data": {
      "text/plain": [
       "\n",
       "-------------------------Summary of Regression Analysis-------------------------\n",
       "\n",
       "Formula: Y ~ <x> + <intercept>\n",
       "\n",
       "Number of Observations:         500\n",
       "Number of Degrees of Freedom:   2\n",
       "\n",
       "R-squared:         0.2839\n",
       "Adj R-squared:     0.2824\n",
       "\n",
       "Rmse:              0.3662\n",
       "\n",
       "F-stat (1, 498):   197.4167, p-value:     0.0000\n",
       "\n",
       "Degrees of Freedom: model 1, resid 498\n",
       "\n",
       "-----------------------Summary of Estimated Coefficients------------------------\n",
       "      Variable       Coef    Std Err     t-stat    p-value    CI 2.5%   CI 97.5%\n",
       "--------------------------------------------------------------------------------\n",
       "             x     0.2178     0.0155      14.05     0.0000     0.1874     0.2482\n",
       "     intercept    -0.4526     0.0361     -12.52     0.0000    -0.5235    -0.3818\n",
       "---------------------------------End of Summary---------------------------------"
      ]
     },
     "execution_count": 9,
     "metadata": {},
     "output_type": "execute_result"
    }
   ],
   "source": [
    "residuals = gender_model.resid\n",
    "\n",
    "educateon_model = ols(x=wages.Educ, y=residuals)\n",
    "educateon_model"
   ]
  },
  {
   "cell_type": "markdown",
   "metadata": {},
   "source": [
    "higher wages for education ($\\beta = 0.2178$)"
   ]
  },
  {
   "cell_type": "code",
   "execution_count": 10,
   "metadata": {
    "collapsed": false,
    "scrolled": true
   },
   "outputs": [
    {
     "data": {
      "text/plain": [
       "\n",
       "-------------------------Summary of Regression Analysis-------------------------\n",
       "\n",
       "Formula: Y ~ <x> + <intercept>\n",
       "\n",
       "Number of Observations:         500\n",
       "Number of Degrees of Freedom:   2\n",
       "\n",
       "R-squared:         0.0107\n",
       "Adj R-squared:     0.0087\n",
       "\n",
       "Rmse:              0.4304\n",
       "\n",
       "F-stat (1, 498):     5.3901, p-value:     0.0207\n",
       "\n",
       "Degrees of Freedom: model 1, resid 498\n",
       "\n",
       "-----------------------Summary of Estimated Coefficients------------------------\n",
       "      Variable       Coef    Std Err     t-stat    p-value    CI 2.5%   CI 97.5%\n",
       "--------------------------------------------------------------------------------\n",
       "             x     0.0987     0.0425       2.32     0.0207     0.0154     0.1820\n",
       "     intercept    -0.0284     0.0228      -1.25     0.2134    -0.0731     0.0163\n",
       "---------------------------------End of Summary---------------------------------"
      ]
     },
     "execution_count": 10,
     "metadata": {},
     "output_type": "execute_result"
    }
   ],
   "source": [
    "educateon_model = ols(x=wages.Parttime, y=residuals)\n",
    "educateon_model"
   ]
  },
  {
   "cell_type": "markdown",
   "metadata": {},
   "source": [
    "higher wages for part time jobs ($\\beta = 0.09$) - it's strange. probably result of correlation with other variables. Maybe part-time jobs are more often for people with higher education"
   ]
  },
  {
   "cell_type": "code",
   "execution_count": null,
   "metadata": {
    "collapsed": true
   },
   "outputs": [],
   "source": []
  }
 ],
 "metadata": {
  "kernelspec": {
   "display_name": "Python 2",
   "language": "python",
   "name": "python2"
  },
  "language_info": {
   "codemirror_mode": {
    "name": "ipython",
    "version": 2
   },
   "file_extension": ".py",
   "mimetype": "text/x-python",
   "name": "python",
   "nbconvert_exporter": "python",
   "pygments_lexer": "ipython2",
   "version": "2.7.10"
  }
 },
 "nbformat": 4,
 "nbformat_minor": 0
}
