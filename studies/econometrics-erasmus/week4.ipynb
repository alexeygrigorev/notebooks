{
 "cells": [
  {
   "cell_type": "code",
   "execution_count": 1,
   "metadata": {
    "collapsed": true
   },
   "outputs": [],
   "source": [
    "import pandas as pd\n",
    "import matplotlib.pyplot as plt\n",
    "\n",
    "import statsmodels.api as sm\n",
    "from statsmodels.formula.api import ols\n",
    "\n",
    "from scipy.stats import f\n",
    "\n",
    "import numpy as np\n",
    "\n",
    "%matplotlib inline"
   ]
  },
  {
   "cell_type": "code",
   "execution_count": 69,
   "metadata": {
    "collapsed": true
   },
   "outputs": [],
   "source": [
    "from scipy.stats import chi2"
   ]
  },
  {
   "cell_type": "markdown",
   "metadata": {},
   "source": [
    "# MOOC Econometrics\n",
    "## Training Exercise 4.2"
   ]
  },
  {
   "cell_type": "markdown",
   "metadata": {},
   "source": [
    "In this exercise we reconsider the example from lecture 4.1 where an analyst models sales of ice cream over time as\n",
    "a function of price and where price is possibly endogenous due to strategic behavior of the salesperson. In this case\n",
    "the salesperson knows that when a particular event is organized, demand tends to be high. Therefore she may set\n",
    "a high price when there is such an event.\n",
    "\n",
    "We consider the following data generating process\n",
    "\n",
    "$$\\text{Sales} = 100 − 1 \\times \\text{Price} + \\alpha \\times \\text{Event} + \\varepsilon_1$$\n",
    "$$\\text{Price} = 5 + \\beta \\times \\text{Event} + \\varepsilon_2$$\n",
    "\n",
    "\n",
    "where $\\text{Event}$ is a 0/1 dummy variable indicating whether an event took place at a point in time. \n",
    "\n",
    "However, when trying to estimate the $\\text{Price}$ coefficient the analyst does not have the $\\text{Event}$ dummy variable and simply regresses $\\text{Sales}$ on a constant and $\\text{Price}$.\n",
    "\n",
    "The dataset `TrainExer42` contains sales and price data for different values of $\\alpha$ and $\\beta$. For each scenario the same simulated values for $\\varepsilon_1$ and $\\varepsilon_1$ were used. Specifically, the data contains 4 price series and 16 sales series.\n",
    "\n",
    "Price variables `PriceB` give the price assuming that $\\beta=B$, for $B= 0, 1, 5, 10$. Sales variables `SalesA_B` give the sales for $\\alpha =A$ and $\\beta =B$, where $A$ also takes the values $0, 1, 5, 10$."
   ]
  },
  {
   "cell_type": "code",
   "execution_count": 3,
   "metadata": {
    "collapsed": false
   },
   "outputs": [
    {
     "data": {
      "text/html": [
       "<div>\n",
       "<table border=\"1\" class=\"dataframe\">\n",
       "  <thead>\n",
       "    <tr style=\"text-align: right;\">\n",
       "      <th></th>\n",
       "      <th>PRICE0</th>\n",
       "      <th>PRICE1</th>\n",
       "      <th>PRICE5</th>\n",
       "      <th>PRICE10</th>\n",
       "      <th>SALES0_0</th>\n",
       "      <th>SALES0_1</th>\n",
       "      <th>SALES0_5</th>\n",
       "      <th>SALES0_10</th>\n",
       "      <th>SALES1_0</th>\n",
       "      <th>SALES1_1</th>\n",
       "      <th>SALES1_5</th>\n",
       "      <th>SALES1_10</th>\n",
       "      <th>SALES5_0</th>\n",
       "      <th>SALES5_1</th>\n",
       "      <th>SALES5_5</th>\n",
       "      <th>SALES5_10</th>\n",
       "      <th>SALES10_0</th>\n",
       "      <th>SALES10_1</th>\n",
       "      <th>SALES10_5</th>\n",
       "      <th>SALES10_10</th>\n",
       "    </tr>\n",
       "  </thead>\n",
       "  <tbody>\n",
       "    <tr>\n",
       "      <th>245</th>\n",
       "      <td>3.806461</td>\n",
       "      <td>3.806461</td>\n",
       "      <td>3.806461</td>\n",
       "      <td>3.806461</td>\n",
       "      <td>96.157742</td>\n",
       "      <td>96.157742</td>\n",
       "      <td>96.157742</td>\n",
       "      <td>96.157742</td>\n",
       "      <td>96.157742</td>\n",
       "      <td>96.157742</td>\n",
       "      <td>96.157742</td>\n",
       "      <td>96.157742</td>\n",
       "      <td>96.157742</td>\n",
       "      <td>96.157742</td>\n",
       "      <td>96.157742</td>\n",
       "      <td>96.157742</td>\n",
       "      <td>96.157742</td>\n",
       "      <td>96.157742</td>\n",
       "      <td>96.157742</td>\n",
       "      <td>96.157742</td>\n",
       "    </tr>\n",
       "    <tr>\n",
       "      <th>246</th>\n",
       "      <td>6.539723</td>\n",
       "      <td>6.539723</td>\n",
       "      <td>6.539723</td>\n",
       "      <td>6.539723</td>\n",
       "      <td>93.102487</td>\n",
       "      <td>93.102487</td>\n",
       "      <td>93.102487</td>\n",
       "      <td>93.102487</td>\n",
       "      <td>93.102487</td>\n",
       "      <td>93.102487</td>\n",
       "      <td>93.102487</td>\n",
       "      <td>93.102487</td>\n",
       "      <td>93.102487</td>\n",
       "      <td>93.102487</td>\n",
       "      <td>93.102487</td>\n",
       "      <td>93.102487</td>\n",
       "      <td>93.102487</td>\n",
       "      <td>93.102487</td>\n",
       "      <td>93.102487</td>\n",
       "      <td>93.102487</td>\n",
       "    </tr>\n",
       "    <tr>\n",
       "      <th>247</th>\n",
       "      <td>4.674779</td>\n",
       "      <td>4.674779</td>\n",
       "      <td>4.674779</td>\n",
       "      <td>4.674779</td>\n",
       "      <td>94.225919</td>\n",
       "      <td>94.225919</td>\n",
       "      <td>94.225919</td>\n",
       "      <td>94.225919</td>\n",
       "      <td>94.225919</td>\n",
       "      <td>94.225919</td>\n",
       "      <td>94.225919</td>\n",
       "      <td>94.225919</td>\n",
       "      <td>94.225919</td>\n",
       "      <td>94.225919</td>\n",
       "      <td>94.225919</td>\n",
       "      <td>94.225919</td>\n",
       "      <td>94.225919</td>\n",
       "      <td>94.225919</td>\n",
       "      <td>94.225919</td>\n",
       "      <td>94.225919</td>\n",
       "    </tr>\n",
       "    <tr>\n",
       "      <th>248</th>\n",
       "      <td>4.950465</td>\n",
       "      <td>4.950465</td>\n",
       "      <td>4.950465</td>\n",
       "      <td>4.950465</td>\n",
       "      <td>95.290470</td>\n",
       "      <td>95.290470</td>\n",
       "      <td>95.290470</td>\n",
       "      <td>95.290470</td>\n",
       "      <td>95.290470</td>\n",
       "      <td>95.290470</td>\n",
       "      <td>95.290470</td>\n",
       "      <td>95.290470</td>\n",
       "      <td>95.290470</td>\n",
       "      <td>95.290470</td>\n",
       "      <td>95.290470</td>\n",
       "      <td>95.290470</td>\n",
       "      <td>95.290470</td>\n",
       "      <td>95.290470</td>\n",
       "      <td>95.290470</td>\n",
       "      <td>95.290470</td>\n",
       "    </tr>\n",
       "    <tr>\n",
       "      <th>249</th>\n",
       "      <td>5.298356</td>\n",
       "      <td>5.298356</td>\n",
       "      <td>5.298356</td>\n",
       "      <td>5.298356</td>\n",
       "      <td>94.997375</td>\n",
       "      <td>94.997375</td>\n",
       "      <td>94.997375</td>\n",
       "      <td>94.997375</td>\n",
       "      <td>94.997375</td>\n",
       "      <td>94.997375</td>\n",
       "      <td>94.997375</td>\n",
       "      <td>94.997375</td>\n",
       "      <td>94.997375</td>\n",
       "      <td>94.997375</td>\n",
       "      <td>94.997375</td>\n",
       "      <td>94.997375</td>\n",
       "      <td>94.997375</td>\n",
       "      <td>94.997375</td>\n",
       "      <td>94.997375</td>\n",
       "      <td>94.997375</td>\n",
       "    </tr>\n",
       "  </tbody>\n",
       "</table>\n",
       "</div>"
      ],
      "text/plain": [
       "       PRICE0    PRICE1    PRICE5   PRICE10   SALES0_0   SALES0_1   SALES0_5  \\\n",
       "245  3.806461  3.806461  3.806461  3.806461  96.157742  96.157742  96.157742   \n",
       "246  6.539723  6.539723  6.539723  6.539723  93.102487  93.102487  93.102487   \n",
       "247  4.674779  4.674779  4.674779  4.674779  94.225919  94.225919  94.225919   \n",
       "248  4.950465  4.950465  4.950465  4.950465  95.290470  95.290470  95.290470   \n",
       "249  5.298356  5.298356  5.298356  5.298356  94.997375  94.997375  94.997375   \n",
       "\n",
       "     SALES0_10   SALES1_0   SALES1_1   SALES1_5  SALES1_10   SALES5_0  \\\n",
       "245  96.157742  96.157742  96.157742  96.157742  96.157742  96.157742   \n",
       "246  93.102487  93.102487  93.102487  93.102487  93.102487  93.102487   \n",
       "247  94.225919  94.225919  94.225919  94.225919  94.225919  94.225919   \n",
       "248  95.290470  95.290470  95.290470  95.290470  95.290470  95.290470   \n",
       "249  94.997375  94.997375  94.997375  94.997375  94.997375  94.997375   \n",
       "\n",
       "      SALES5_1   SALES5_5  SALES5_10  SALES10_0  SALES10_1  SALES10_5  \\\n",
       "245  96.157742  96.157742  96.157742  96.157742  96.157742  96.157742   \n",
       "246  93.102487  93.102487  93.102487  93.102487  93.102487  93.102487   \n",
       "247  94.225919  94.225919  94.225919  94.225919  94.225919  94.225919   \n",
       "248  95.290470  95.290470  95.290470  95.290470  95.290470  95.290470   \n",
       "249  94.997375  94.997375  94.997375  94.997375  94.997375  94.997375   \n",
       "\n",
       "     SALES10_10  \n",
       "245   96.157742  \n",
       "246   93.102487  \n",
       "247   94.225919  \n",
       "248   95.290470  \n",
       "249   94.997375  "
      ]
     },
     "execution_count": 3,
     "metadata": {},
     "output_type": "execute_result"
    }
   ],
   "source": [
    "sales = pd.read_csv('TrainExer42.txt', sep=',', decimal='.')\n",
    "sales.tail()"
   ]
  },
  {
   "cell_type": "markdown",
   "metadata": {},
   "source": [
    "**(a)** First consider the case where the event only directly affects price ($\\alpha = 0$). \n",
    "\n",
    "- Estimate and report the price coefficients under all 4 scenarios for $\\beta$ and \n",
    "- calculate the $R^2$ for all these regressions. \n",
    "- Do the estimated price coefficients signal any endogeneity problem for these values of $α$ and $β$? \n",
    "- Can you also explain the pattern you find for the $R^2$?"
   ]
  },
  {
   "cell_type": "code",
   "execution_count": 25,
   "metadata": {
    "collapsed": false
   },
   "outputs": [
    {
     "name": "stdout",
     "output_type": "stream",
     "text": [
      "b = 0\n",
      "[('alpha', 99.862021780752841), ('beta', -0.97580031800164468)]\n",
      "R2 = 0.794442966304\n",
      "\n",
      "\n",
      "b = 1\n",
      "[('alpha', 99.808455783836806), ('beta', -0.96589547848490698)]\n",
      "R2 = 0.80807973909\n",
      "\n",
      "\n",
      "b = 5\n",
      "[('alpha', 99.833248737244176), ('beta', -0.97325276700021213)]\n",
      "R2 = 0.93038198893\n",
      "\n",
      "\n",
      "b = 10\n",
      "[('alpha', 99.88975576953851), ('beta', -0.98496492415668735)]\n",
      "R2 = 0.976907308372\n",
      "\n",
      "\n"
     ]
    },
    {
     "data": {
      "text/plain": [
       "(-1, 0)"
      ]
     },
     "execution_count": 25,
     "metadata": {},
     "output_type": "execute_result"
    },
    {
     "data": {
      "image/png": "[encoded data removed]",
      "text/plain": [
       "<matplotlib.figure.Figure at 0x7f8402ea0f90>"
      ]
     },
     "metadata": {},
     "output_type": "display_data"
    }
   ],
   "source": [
    "betas = []\n",
    "for b in [0, 1, 5, 10]:\n",
    "    print 'b = %d' % b\n",
    "    y = sales.ix[:, 'SALES0_%d' % b]\n",
    "    X = sales.ix[:, 'PRICE%d' % b]\n",
    "    model = sm.OLS(y, sm.add_constant(X)).fit()\n",
    "    betas.append(model.params['PRICE%d' % b])\n",
    "    print zip(['alpha', 'beta'], model.params.tolist())\n",
    "    print 'R2 =', model.rsquared\n",
    "    print\n",
    "    print \n",
    "\n",
    "plt.plot(betas)\n",
    "plt.ylim([-1, 0])"
   ]
  },
  {
   "cell_type": "markdown",
   "metadata": {},
   "source": [
    "- All $\\beta$'s here are close enough to the true value of $-1$, so `Price` is not endorgenous here, `Event` does not influence `Sales` directly in this case\n",
    "- $R^2$ increases for higher values of $\\beta$: higher $\\beta$ more variation can be explained"
   ]
  },
  {
   "cell_type": "markdown",
   "metadata": {},
   "source": [
    "**(b)** Repeat the exercise above, but now consider the case where the event only directly affects sales, that is, set\n",
    "$β = 0$ and check the results for the four different values of $α$."
   ]
  },
  {
   "cell_type": "code",
   "execution_count": 26,
   "metadata": {
    "collapsed": false
   },
   "outputs": [
    {
     "name": "stdout",
     "output_type": "stream",
     "text": [
      "a = 0, b = 0\n",
      "[('alpha', 99.862021780752841), ('beta', -0.97580031800164468)]\n",
      "R2 = 0.794442966304\n",
      "\n",
      "\n",
      "a = 1, b = 0\n",
      "[('alpha', 99.948486118249974), ('beta', -0.96908630622201153)]\n",
      "R2 = 0.718181261584\n",
      "\n",
      "\n",
      "a = 5, b = 0\n",
      "[('alpha', 100.29434346823854), ('beta', -0.94223025910348357)]\n",
      "R2 = 0.243242197843\n",
      "\n",
      "\n",
      "a = 10, b = 0\n",
      "[('alpha', 100.72666515572423), ('beta', -0.9086602002053229)]\n",
      "R2 = 0.0759876542244\n",
      "\n",
      "\n"
     ]
    },
    {
     "data": {
      "text/plain": [
       "(-1, 0)"
      ]
     },
     "execution_count": 26,
     "metadata": {},
     "output_type": "execute_result"
    },
    {
     "data": {
      "image/png": "[encoded data removed]",
      "text/plain": [
       "<matplotlib.figure.Figure at 0x7f8402d43d10>"
      ]
     },
     "metadata": {},
     "output_type": "display_data"
    }
   ],
   "source": [
    "betas = []\n",
    "\n",
    "b = 0\n",
    "for a in [0, 1, 5, 10]:\n",
    "    print 'a = %d, b = %d' % (a, b)\n",
    "    y = sales.ix[:, 'SALES%d_%d' % (a, b)]\n",
    "    X = sales.ix[:, 'PRICE%d' % b]\n",
    "    model = sm.OLS(y, sm.add_constant(X)).fit()\n",
    "    betas.append(model.params['PRICE%d' % b])\n",
    "    print zip(['alpha', 'beta'], model.params.tolist())\n",
    "    print 'R2 =', model.rsquared\n",
    "    print\n",
    "    print \n",
    "\n",
    "plt.plot(betas)\n",
    "plt.ylim([-1, 0])"
   ]
  },
  {
   "cell_type": "markdown",
   "metadata": {},
   "source": [
    "- All coefficients of $\\beta$ are relatively close to the real value $\\beta = -1$\n",
    "- `Price` is not endongenous, because `Event` only affect `Sales`, not `Price`\n",
    "- so the omission of the `Event` does not lead to correlation between error and `Price`\n",
    "- $R^2$ drops significantly for higher values of $\\alpha$: high $\\alpha$ leads to a lot of variation due the `Event`, and this variation is not captured by the regression because we regress only on constant and price (this is also the reason why $\\beta = -0.91$ for $\\alpha=10$ - it's because there's large estimation uncertainly)"
   ]
  },
  {
   "cell_type": "markdown",
   "metadata": {},
   "source": [
    "**(c)** Finally consider the parameter estimates for the cases where the event affects price and sales, that is, look at\n",
    "$α = β = 0, 1, 5, 10$. Can you see the impact of endogeneity in this case?"
   ]
  },
  {
   "cell_type": "code",
   "execution_count": 27,
   "metadata": {
    "collapsed": false
   },
   "outputs": [
    {
     "name": "stdout",
     "output_type": "stream",
     "text": [
      "a = 0, b = 0\n",
      "[('alpha', 99.862021780752841), ('beta', -0.97580031800164468)]\n",
      "R2 = 0.794442966304\n",
      "\n",
      "\n",
      "a = 1, b = 1\n",
      "[('alpha', 99.457868682634384), ('beta', -0.87389187639797994)]\n",
      "R2 = 0.706444756186\n",
      "\n",
      "\n",
      "a = 5, b = 5\n",
      "[('alpha', 96.51478500839481), ('beta', -0.2728863814017603)]\n",
      "R2 = 0.214315669554\n",
      "\n",
      "\n",
      "a = 10, b = 10\n",
      "[('alpha', 95.514825265273004), ('beta', -0.085038973565486134)]\n",
      "R2 = 0.0643393703279\n",
      "\n",
      "\n"
     ]
    },
    {
     "data": {
      "text/plain": [
       "(-1, 0)"
      ]
     },
     "execution_count": 27,
     "metadata": {},
     "output_type": "execute_result"
    },
    {
     "data": {
      "image/png": "[encoded data removed]",
      "text/plain": [
       "<matplotlib.figure.Figure at 0x7f8402cb8490>"
      ]
     },
     "metadata": {},
     "output_type": "display_data"
    }
   ],
   "source": [
    "betas = []\n",
    "\n",
    "for a in [0, 1, 5, 10]:\n",
    "    b = a\n",
    "    print 'a = %d, b = %d' % (a, b)\n",
    "    y = sales.ix[:, 'SALES%d_%d' % (a, b)]\n",
    "    X = sales.ix[:, 'PRICE%d' % b]\n",
    "    model = sm.OLS(y, sm.add_constant(X)).fit()\n",
    "    betas.append(model.params['PRICE%d' % b])\n",
    "    print zip(['alpha', 'beta'], model.params.tolist())\n",
    "    print 'R2 =', model.rsquared\n",
    "    print\n",
    "    print \n",
    "\n",
    "plt.plot(betas)\n",
    "plt.ylim([-1, 0])"
   ]
  },
  {
   "cell_type": "markdown",
   "metadata": {},
   "source": [
    "If both $\\alpha \\ne 0$ and $\\beta \\ne 0$, the omission of `Event` will lead to correlation b/w error term and `Price`, so we see endogenity\n",
    "\n",
    "consequence: the estimate is completely off"
   ]
  },
  {
   "cell_type": "markdown",
   "metadata": {},
   "source": [
    "## Training Exercise 4.4"
   ]
  },
  {
   "cell_type": "markdown",
   "metadata": {},
   "source": [
    "In this exercise we study the gasoline market and look at the relation between consumption and price in the USA.\n",
    "\n",
    "We will use yearly data on these variables from 1977 to 1999. Additionally we have data on disposable income, and\n",
    "some price indices. \n",
    "\n",
    "More precisely we have\n",
    "\n",
    "- `GC`: log real gasoline consumption;\n",
    "- `PG`: log real gasoline price index;\n",
    "- `RI`: log real disposable income;\n",
    "- `RPT`: log real price index of public transport;\n",
    "- `RPN`: log real price index of new cars;\n",
    "- `RPU`: log real price index of used cars.\n",
    "\n",
    "We consider the following model\n",
    "\n",
    "$$\\text{GC} = β_1 + β_2 \\, \\text{PG} + β_3 \\, \\text{RI} + ε$$"
   ]
  },
  {
   "cell_type": "markdown",
   "metadata": {},
   "source": [
    "**(a)** Give an argument why the gasoline price may be endogenous in this equation.\n",
    "\n",
    "- Maybe strategic hueta\n",
    "- High demain may lead to increase in the market price. I.e. consumption (`GC`) and price (`PG`) are determined simulatenously. \n"
   ]
  },
  {
   "cell_type": "markdown",
   "metadata": {},
   "source": [
    "**(b)** Use 2SLS to estimate the price elasticity ($β_2$). Use a constant, `RI`, `RPT`, `RPN`, and `RPU` as instruments."
   ]
  },
  {
   "cell_type": "code",
   "execution_count": 30,
   "metadata": {
    "collapsed": false
   },
   "outputs": [
    {
     "data": {
      "text/html": [
       "<div>\n",
       "<table border=\"1\" class=\"dataframe\">\n",
       "  <thead>\n",
       "    <tr style=\"text-align: right;\">\n",
       "      <th></th>\n",
       "      <th>OBS</th>\n",
       "      <th>GC</th>\n",
       "      <th>PG</th>\n",
       "      <th>RI</th>\n",
       "      <th>RPN</th>\n",
       "      <th>RPT</th>\n",
       "      <th>RPU</th>\n",
       "    </tr>\n",
       "  </thead>\n",
       "  <tbody>\n",
       "    <tr>\n",
       "      <th>0</th>\n",
       "      <td>1970</td>\n",
       "      <td>6.714227</td>\n",
       "      <td>-0.100947</td>\n",
       "      <td>2.943489</td>\n",
       "      <td>0.311872</td>\n",
       "      <td>-0.097374</td>\n",
       "      <td>-0.218002</td>\n",
       "    </tr>\n",
       "    <tr>\n",
       "      <th>1</th>\n",
       "      <td>1971</td>\n",
       "      <td>6.765328</td>\n",
       "      <td>-0.137221</td>\n",
       "      <td>2.985432</td>\n",
       "      <td>0.309661</td>\n",
       "      <td>-0.068993</td>\n",
       "      <td>-0.204794</td>\n",
       "    </tr>\n",
       "    <tr>\n",
       "      <th>2</th>\n",
       "      <td>1972</td>\n",
       "      <td>6.830206</td>\n",
       "      <td>-0.156660</td>\n",
       "      <td>3.033986</td>\n",
       "      <td>0.268967</td>\n",
       "      <td>-0.061672</td>\n",
       "      <td>-0.233363</td>\n",
       "    </tr>\n",
       "    <tr>\n",
       "      <th>3</th>\n",
       "      <td>1973</td>\n",
       "      <td>6.847757</td>\n",
       "      <td>-0.123892</td>\n",
       "      <td>3.093292</td>\n",
       "      <td>0.210451</td>\n",
       "      <td>-0.111888</td>\n",
       "      <td>-0.232193</td>\n",
       "    </tr>\n",
       "    <tr>\n",
       "      <th>4</th>\n",
       "      <td>1974</td>\n",
       "      <td>6.697846</td>\n",
       "      <td>0.074440</td>\n",
       "      <td>3.079637</td>\n",
       "      <td>0.160793</td>\n",
       "      <td>-0.194156</td>\n",
       "      <td>-0.295147</td>\n",
       "    </tr>\n",
       "  </tbody>\n",
       "</table>\n",
       "</div>"
      ],
      "text/plain": [
       "    OBS        GC        PG        RI       RPN       RPT       RPU\n",
       "0  1970  6.714227 -0.100947  2.943489  0.311872 -0.097374 -0.218002\n",
       "1  1971  6.765328 -0.137221  2.985432  0.309661 -0.068993 -0.204794\n",
       "2  1972  6.830206 -0.156660  3.033986  0.268967 -0.061672 -0.233363\n",
       "3  1973  6.847757 -0.123892  3.093292  0.210451 -0.111888 -0.232193\n",
       "4  1974  6.697846  0.074440  3.079637  0.160793 -0.194156 -0.295147"
      ]
     },
     "execution_count": 30,
     "metadata": {},
     "output_type": "execute_result"
    }
   ],
   "source": [
    "gasoline = pd.read_csv('TrainExer44.txt')\n",
    "gasoline.head()"
   ]
  },
  {
   "cell_type": "markdown",
   "metadata": {},
   "source": [
    "First stage:\n",
    "\n",
    "- dependent variables is `PG` (it's a predictor in the original model)\n",
    "- so model is `PG ~ RPT + RPN + RPU + RI`"
   ]
  },
  {
   "cell_type": "code",
   "execution_count": 55,
   "metadata": {
    "collapsed": false,
    "scrolled": true
   },
   "outputs": [
    {
     "data": {
      "text/html": [
       "<div>\n",
       "<table border=\"1\" class=\"dataframe\">\n",
       "  <thead>\n",
       "    <tr style=\"text-align: right;\">\n",
       "      <th></th>\n",
       "      <th>$\\beta$</th>\n",
       "      <th>$p$-value</th>\n",
       "    </tr>\n",
       "  </thead>\n",
       "  <tbody>\n",
       "    <tr>\n",
       "      <th>const</th>\n",
       "      <td>7.7410</td>\n",
       "      <td>0.0000</td>\n",
       "    </tr>\n",
       "    <tr>\n",
       "      <th>RPT</th>\n",
       "      <td>-0.8080</td>\n",
       "      <td>0.0003</td>\n",
       "    </tr>\n",
       "    <tr>\n",
       "      <th>RPN</th>\n",
       "      <td>-3.5279</td>\n",
       "      <td>0.0000</td>\n",
       "    </tr>\n",
       "    <tr>\n",
       "      <th>RPU</th>\n",
       "      <td>0.2331</td>\n",
       "      <td>0.2148</td>\n",
       "    </tr>\n",
       "    <tr>\n",
       "      <th>RI</th>\n",
       "      <td>-2.2984</td>\n",
       "      <td>0.0000</td>\n",
       "    </tr>\n",
       "  </tbody>\n",
       "</table>\n",
       "</div>"
      ],
      "text/plain": [
       "       $\\beta$  $p$-value\n",
       "const   7.7410     0.0000\n",
       "RPT    -0.8080     0.0003\n",
       "RPN    -3.5279     0.0000\n",
       "RPU     0.2331     0.2148\n",
       "RI     -2.2984     0.0000"
      ]
     },
     "execution_count": 55,
     "metadata": {},
     "output_type": "execute_result"
    }
   ],
   "source": [
    "Z = sm.add_constant(gasoline.ix[:, ['RPT', 'RPN', 'RPU', 'RI']])\n",
    "y = gasoline.ix[:, 'PG']\n",
    "\n",
    "stage1_model = sm.OLS(y, Z).fit()\n",
    "pd.DataFrame({'$p$-value': stage1_model.pvalues.round(4), \n",
    "              '$\\\\beta$': stage1_model.params.round(4) })"
   ]
  },
  {
   "cell_type": "markdown",
   "metadata": {},
   "source": [
    "Second stage:\n",
    "\n",
    "- dependent variable is `GC`\n",
    "- we use the fitted value of `PG` from stage 1 \n",
    "- so model is `GC ~ RI + PG_fit`"
   ]
  },
  {
   "cell_type": "code",
   "execution_count": 33,
   "metadata": {
    "collapsed": false
   },
   "outputs": [
    {
     "data": {
      "text/html": [
       "<div>\n",
       "<table border=\"1\" class=\"dataframe\">\n",
       "  <thead>\n",
       "    <tr style=\"text-align: right;\">\n",
       "      <th></th>\n",
       "      <th>$\\beta$</th>\n",
       "      <th>$p$-value</th>\n",
       "    </tr>\n",
       "  </thead>\n",
       "  <tbody>\n",
       "    <tr>\n",
       "      <th>const</th>\n",
       "      <td>5.0137</td>\n",
       "      <td>0</td>\n",
       "    </tr>\n",
       "    <tr>\n",
       "      <th>RI</th>\n",
       "      <td>0.5647</td>\n",
       "      <td>0</td>\n",
       "    </tr>\n",
       "    <tr>\n",
       "      <th>PG_fit</th>\n",
       "      <td>-0.5444</td>\n",
       "      <td>0</td>\n",
       "    </tr>\n",
       "  </tbody>\n",
       "</table>\n",
       "</div>"
      ],
      "text/plain": [
       "        $\\beta$  $p$-value\n",
       "const    5.0137          0\n",
       "RI       0.5647          0\n",
       "PG_fit  -0.5444          0"
      ]
     },
     "execution_count": 33,
     "metadata": {},
     "output_type": "execute_result"
    }
   ],
   "source": [
    "gasoline['PG_fit'] = stage1_model.fittedvalues\n",
    "X = sm.add_constant(gasoline.ix[:, ['RI', 'PG_fit']])\n",
    "y = gasoline.ix[:, 'GC']\n",
    "\n",
    "stage2_model = sm.OLS(y, X).fit()\n",
    "pd.DataFrame({'$p$-value': stage2_model.pvalues.round(4), \n",
    "              '$\\\\beta$': stage2_model.params.round(4) })"
   ]
  },
  {
   "cell_type": "markdown",
   "metadata": {},
   "source": [
    "So the estimate of price elastisity is $\\beta_2 = -0.54$. So 1% of price increase leads to 0.5% decrease in gasoline consumption"
   ]
  },
  {
   "cell_type": "markdown",
   "metadata": {},
   "source": [
    "**(c)** Perform a Sargan test to test whether the five instruments are correlated with $ε$. What do you conclude?"
   ]
  },
  {
   "cell_type": "markdown",
   "metadata": {},
   "source": [
    "We need to check if the resuduals from 2SLS are correlated with the instruments. If yes, it's a sign that the instruments may directly influence the dependent variable, and they are therefore not valid\n",
    "\n",
    "First, we find the residulas of 2SLS: \n",
    "\n",
    "- $e = \\text{GC} - (5.01 + 0.56 \\, \\text{RI} - 0.54 \\, \\text{PG})$\n",
    "- note that this is the original `PG`, not the fitted value `PG_fit` that we used at the 2nd stage"
   ]
  },
  {
   "cell_type": "code",
   "execution_count": 54,
   "metadata": {
    "collapsed": false
   },
   "outputs": [],
   "source": [
    "X = sm.add_constant(gasoline.ix[:, ['RI', 'PG']])\n",
    "predicted = np.array(X).dot(stage2_model.params)\n",
    "\n",
    "e = gasoline['GC'] - predicted"
   ]
  },
  {
   "cell_type": "code",
   "execution_count": 65,
   "metadata": {
    "collapsed": false
   },
   "outputs": [
    {
     "name": "stdout",
     "output_type": "stream",
     "text": [
      "F = 0.7267 (p-value = 0.5821)\n"
     ]
    },
    {
     "data": {
      "text/html": [
       "<div>\n",
       "<table border=\"1\" class=\"dataframe\">\n",
       "  <thead>\n",
       "    <tr style=\"text-align: right;\">\n",
       "      <th></th>\n",
       "      <th>$\\beta$</th>\n",
       "      <th>$p$-value</th>\n",
       "    </tr>\n",
       "  </thead>\n",
       "  <tbody>\n",
       "    <tr>\n",
       "      <th>const</th>\n",
       "      <td>-0.2098</td>\n",
       "      <td>0.4463</td>\n",
       "    </tr>\n",
       "    <tr>\n",
       "      <th>RPT</th>\n",
       "      <td>-0.0512</td>\n",
       "      <td>0.4180</td>\n",
       "    </tr>\n",
       "    <tr>\n",
       "      <th>RPN</th>\n",
       "      <td>0.0204</td>\n",
       "      <td>0.8599</td>\n",
       "    </tr>\n",
       "    <tr>\n",
       "      <th>RPU</th>\n",
       "      <td>-0.0702</td>\n",
       "      <td>0.2492</td>\n",
       "    </tr>\n",
       "    <tr>\n",
       "      <th>RI</th>\n",
       "      <td>0.0604</td>\n",
       "      <td>0.4590</td>\n",
       "    </tr>\n",
       "  </tbody>\n",
       "</table>\n",
       "</div>"
      ],
      "text/plain": [
       "       $\\beta$  $p$-value\n",
       "const  -0.2098     0.4463\n",
       "RPT    -0.0512     0.4180\n",
       "RPN     0.0204     0.8599\n",
       "RPU    -0.0702     0.2492\n",
       "RI      0.0604     0.4590"
      ]
     },
     "execution_count": 65,
     "metadata": {},
     "output_type": "execute_result"
    }
   ],
   "source": [
    "Z = sm.add_constant(gasoline.ix[:, ['RPT', 'RPN', 'RPU', 'RI']])\n",
    "sargan_res = sm.OLS(e, Z).fit()\n",
    "print 'F = %0.4f (p-value = %0.4f)' % (sargan_res.fvalue, sargan_res.f_pvalue)\n",
    "\n",
    "pd.DataFrame({'$p$-value': sargan_res.pvalues.round(4), \n",
    "              '$\\\\beta$': sargan_res.params.round(4) })"
   ]
  },
  {
   "cell_type": "code",
   "execution_count": 70,
   "metadata": {
    "collapsed": false
   },
   "outputs": [
    {
     "name": "stdout",
     "output_type": "stream",
     "text": [
      "    R2 = 0.1042\n",
      "n * R2 = 3.1248\n"
     ]
    }
   ],
   "source": [
    "n = len(e)\n",
    "R2 = sargan_res.rsquared\n",
    "print '    R2 = %0.4f' % R2\n",
    "print 'n * R2 = %0.4f' % (n * R2)"
   ]
  },
  {
   "cell_type": "markdown",
   "metadata": {},
   "source": [
    "- Sargan test statistics equals to $n \\cdot R^2 = 3.1248$ where $n$ is the sample size\n",
    "- This statistic should be compared to $\\chi^2(k_1)$ where $k_1 = 5 - 3 = 2$"
   ]
  },
  {
   "cell_type": "markdown",
   "metadata": {},
   "source": [
    "Let's find the 5% critical value of $\\chi^2(2)$"
   ]
  },
  {
   "cell_type": "code",
   "execution_count": 73,
   "metadata": {
    "collapsed": false
   },
   "outputs": [
    {
     "data": {
      "text/plain": [
       "5.9914645471079799"
      ]
     },
     "execution_count": 73,
     "metadata": {},
     "output_type": "execute_result"
    }
   ],
   "source": [
    "chi2.ppf(0.95, df=2)"
   ]
  },
  {
   "cell_type": "markdown",
   "metadata": {},
   "source": [
    "So it's more than 3.12, and we cannot reject $H_0$. Thus instruments seem to be valid"
   ]
  },
  {
   "cell_type": "code",
   "execution_count": 88,
   "metadata": {
    "collapsed": false,
    "scrolled": true
   },
   "outputs": [
    {
     "data": {
      "text/plain": [
       "<matplotlib.lines.Line2D at 0x7f8402256c90>"
      ]
     },
     "execution_count": 88,
     "metadata": {},
     "output_type": "execute_result"
    },
    {
     "data": {
      "image/png": "[encoded data removed]",
      "text/plain": [
       "<matplotlib.figure.Figure at 0x7f8402310050>"
      ]
     },
     "metadata": {},
     "output_type": "display_data"
    }
   ],
   "source": [
    "x = np.linspace(0, 10, 101)\n",
    "plt.plot(x, chi2.pdf(x, 2))\n",
    "\n",
    "plt.axvline(x=(n * R2), color='grey')\n",
    "plt.axvline(x=chi2.ppf(0.95, df=2), color='black')"
   ]
  },
  {
   "cell_type": "markdown",
   "metadata": {},
   "source": [
    "$p$-value:"
   ]
  },
  {
   "cell_type": "code",
   "execution_count": 82,
   "metadata": {
    "collapsed": false
   },
   "outputs": [
    {
     "data": {
      "text/plain": [
       "0.20963415246141082"
      ]
     },
     "execution_count": 82,
     "metadata": {},
     "output_type": "execute_result"
    }
   ],
   "source": [
    "1 - chi2.cdf(n * R2, 2)"
   ]
  },
  {
   "cell_type": "markdown",
   "metadata": {},
   "source": [
    "## Training Exercise 4.5"
   ]
  },
  {
   "cell_type": "markdown",
   "metadata": {},
   "source": [
    "In this exercise we reconsider the example of lecture 4.5.\n",
    "\n",
    "In this lecture we related the Grade Point Average (GPA) of learners in an engineering MOOC to the participation in a preparatory course. The dataset contains the following variables\n",
    "\n",
    "- `GPA`: Grade Point Average in Engineering MOOC\n",
    "- `Gender`: 0/1 dummy for gender (1: male, 0: female)\n",
    "- `Participation`: 0/1 dummy for participation in a preparatory mathematics course (1: did participate, 0: did\n",
    "not participate)\n",
    "- `Email`: 0/1 dummy for receiving an email invitation to take the preparatory course (1: received invitation, 0:\n",
    "did not receive invitation)"
   ]
  },
  {
   "cell_type": "code",
   "execution_count": 89,
   "metadata": {
    "collapsed": false,
    "scrolled": true
   },
   "outputs": [
    {
     "data": {
      "text/html": [
       "<div>\n",
       "<table border=\"1\" class=\"dataframe\">\n",
       "  <thead>\n",
       "    <tr style=\"text-align: right;\">\n",
       "      <th></th>\n",
       "      <th>GPA</th>\n",
       "      <th>PARTICIPATION</th>\n",
       "      <th>GENDER</th>\n",
       "      <th>EMAIL</th>\n",
       "    </tr>\n",
       "  </thead>\n",
       "  <tbody>\n",
       "    <tr>\n",
       "      <th>0</th>\n",
       "      <td>7.386898</td>\n",
       "      <td>1</td>\n",
       "      <td>0</td>\n",
       "      <td>1</td>\n",
       "    </tr>\n",
       "    <tr>\n",
       "      <th>1</th>\n",
       "      <td>6.493597</td>\n",
       "      <td>1</td>\n",
       "      <td>1</td>\n",
       "      <td>1</td>\n",
       "    </tr>\n",
       "    <tr>\n",
       "      <th>2</th>\n",
       "      <td>4.956625</td>\n",
       "      <td>0</td>\n",
       "      <td>1</td>\n",
       "      <td>1</td>\n",
       "    </tr>\n",
       "    <tr>\n",
       "      <th>3</th>\n",
       "      <td>7.442979</td>\n",
       "      <td>1</td>\n",
       "      <td>1</td>\n",
       "      <td>0</td>\n",
       "    </tr>\n",
       "    <tr>\n",
       "      <th>4</th>\n",
       "      <td>6.281521</td>\n",
       "      <td>0</td>\n",
       "      <td>1</td>\n",
       "      <td>1</td>\n",
       "    </tr>\n",
       "  </tbody>\n",
       "</table>\n",
       "</div>"
      ],
      "text/plain": [
       "        GPA  PARTICIPATION  GENDER  EMAIL\n",
       "0  7.386898              1       0      1\n",
       "1  6.493597              1       1      1\n",
       "2  4.956625              0       1      1\n",
       "3  7.442979              1       1      0\n",
       "4  6.281521              0       1      1"
      ]
     },
     "execution_count": 89,
     "metadata": {},
     "output_type": "execute_result"
    }
   ],
   "source": [
    "mooc = pd.read_csv('TrainExer45.txt')\n",
    "mooc.head()"
   ]
  },
  {
   "cell_type": "markdown",
   "metadata": {},
   "source": [
    "GPA vs PARTICIPATION"
   ]
  },
  {
   "cell_type": "code",
   "execution_count": 97,
   "metadata": {
    "collapsed": false
   },
   "outputs": [
    {
     "data": {
      "text/plain": [
       "<matplotlib.axes._subplots.AxesSubplot at 0x7f8401ee2810>"
      ]
     },
     "execution_count": 97,
     "metadata": {},
     "output_type": "execute_result"
    },
    {
     "data": {
      "image/png": "[encoded data removed]",
      "text/plain": [
       "<matplotlib.figure.Figure at 0x7f8402060510>"
      ]
     },
     "metadata": {},
     "output_type": "display_data"
    }
   ],
   "source": [
    "mooc.boxplot('GPA', by='PARTICIPATION', figsize=(4,4))"
   ]
  },
  {
   "cell_type": "markdown",
   "metadata": {},
   "source": [
    "**(a)** Redo the OLS estimation of the coefficients in a model that explains GPA using a constant, gender and\n",
    "preparatory course participation. Also calculate standard errors and $t$-values. Confirm that you obtain the same\n",
    "results as mentioned in the lecture.\n"
   ]
  },
  {
   "cell_type": "code",
   "execution_count": 101,
   "metadata": {
    "collapsed": false
   },
   "outputs": [
    {
     "data": {
      "text/html": [
       "<table class=\"simpletable\">\n",
       "<caption>OLS Regression Results</caption>\n",
       "<tr>\n",
       "  <th>Dep. Variable:</th>           <td>GPA</td>       <th>  R-squared:         </th> <td>   0.244</td>\n",
       "</tr>\n",
       "<tr>\n",
       "  <th>Model:</th>                   <td>OLS</td>       <th>  Adj. R-squared:    </th> <td>   0.243</td>\n",
       "</tr>\n",
       "<tr>\n",
       "  <th>Method:</th>             <td>Least Squares</td>  <th>  F-statistic:       </th> <td>   161.0</td>\n",
       "</tr>\n",
       "<tr>\n",
       "  <th>Date:</th>             <td>Sat, 21 Nov 2015</td> <th>  Prob (F-statistic):</th> <td>2.61e-61</td>\n",
       "</tr>\n",
       "<tr>\n",
       "  <th>Time:</th>                 <td>17:04:42</td>     <th>  Log-Likelihood:    </th> <td> -1058.6</td>\n",
       "</tr>\n",
       "<tr>\n",
       "  <th>No. Observations:</th>      <td>  1000</td>      <th>  AIC:               </th> <td>   2123.</td>\n",
       "</tr>\n",
       "<tr>\n",
       "  <th>Df Residuals:</th>          <td>   997</td>      <th>  BIC:               </th> <td>   2138.</td>\n",
       "</tr>\n",
       "<tr>\n",
       "  <th>Df Model:</th>              <td>     2</td>      <th>                     </th>     <td> </td>   \n",
       "</tr>\n",
       "<tr>\n",
       "  <th>Covariance Type:</th>      <td>nonrobust</td>    <th>                     </th>     <td> </td>   \n",
       "</tr>\n",
       "</table>\n",
       "<table class=\"simpletable\">\n",
       "<tr>\n",
       "        <td></td>           <th>coef</th>     <th>std err</th>      <th>t</th>      <th>P>|t|</th> <th>[95.0% Conf. Int.]</th> \n",
       "</tr>\n",
       "<tr>\n",
       "  <th>const</th>         <td>    5.7711</td> <td>    0.034</td> <td>  169.874</td> <td> 0.000</td> <td>    5.704     5.838</td>\n",
       "</tr>\n",
       "<tr>\n",
       "  <th>GENDER</th>        <td>   -0.2138</td> <td>    0.044</td> <td>   -4.824</td> <td> 0.000</td> <td>   -0.301    -0.127</td>\n",
       "</tr>\n",
       "<tr>\n",
       "  <th>PARTICIPATION</th> <td>    0.8244</td> <td>    0.047</td> <td>   17.593</td> <td> 0.000</td> <td>    0.732     0.916</td>\n",
       "</tr>\n",
       "</table>\n",
       "<table class=\"simpletable\">\n",
       "<tr>\n",
       "  <th>Omnibus:</th>       <td> 4.241</td> <th>  Durbin-Watson:     </th> <td>   1.976</td>\n",
       "</tr>\n",
       "<tr>\n",
       "  <th>Prob(Omnibus):</th> <td> 0.120</td> <th>  Jarque-Bera (JB):  </th> <td>   3.421</td>\n",
       "</tr>\n",
       "<tr>\n",
       "  <th>Skew:</th>          <td>-0.019</td> <th>  Prob(JB):          </th> <td>   0.181</td>\n",
       "</tr>\n",
       "<tr>\n",
       "  <th>Kurtosis:</th>      <td> 2.716</td> <th>  Cond. No.          </th> <td>    2.82</td>\n",
       "</tr>\n",
       "</table>"
      ],
      "text/plain": [
       "<class 'statsmodels.iolib.summary.Summary'>\n",
       "\"\"\"\n",
       "                            OLS Regression Results                            \n",
       "==============================================================================\n",
       "Dep. Variable:                    GPA   R-squared:                       0.244\n",
       "Model:                            OLS   Adj. R-squared:                  0.243\n",
       "Method:                 Least Squares   F-statistic:                     161.0\n",
       "Date:                Sat, 21 Nov 2015   Prob (F-statistic):           2.61e-61\n",
       "Time:                        17:04:42   Log-Likelihood:                -1058.6\n",
       "No. Observations:                1000   AIC:                             2123.\n",
       "Df Residuals:                     997   BIC:                             2138.\n",
       "Df Model:                           2                                         \n",
       "Covariance Type:            nonrobust                                         \n",
       "=================================================================================\n",
       "                    coef    std err          t      P>|t|      [95.0% Conf. Int.]\n",
       "---------------------------------------------------------------------------------\n",
       "const             5.7711      0.034    169.874      0.000         5.704     5.838\n",
       "GENDER           -0.2138      0.044     -4.824      0.000        -0.301    -0.127\n",
       "PARTICIPATION     0.8244      0.047     17.593      0.000         0.732     0.916\n",
       "==============================================================================\n",
       "Omnibus:                        4.241   Durbin-Watson:                   1.976\n",
       "Prob(Omnibus):                  0.120   Jarque-Bera (JB):                3.421\n",
       "Skew:                          -0.019   Prob(JB):                        0.181\n",
       "Kurtosis:                       2.716   Cond. No.                         2.82\n",
       "==============================================================================\n",
       "\n",
       "Warnings:\n",
       "[1] Standard Errors assume that the covariance matrix of the errors is correctly specified.\n",
       "\"\"\""
      ]
     },
     "execution_count": 101,
     "metadata": {},
     "output_type": "execute_result"
    }
   ],
   "source": [
    "X = sm.add_constant(mooc.ix[:, ['GENDER', 'PARTICIPATION']])\n",
    "gpa = mooc.ix[:, 'GPA']\n",
    "\n",
    "ols5a = sm.OLS(gpa, X).fit()\n",
    "ols5a.summary()"
   ]
  },
  {
   "cell_type": "markdown",
   "metadata": {},
   "source": [
    "**(b)** Use the email dummy as an instrument to perform 2SLS estimation. \n",
    "\n",
    "First do the first-stage regression\n",
    "\n",
    "$$\\text{Participation} = γ_1 + γ_2 \\, \\text{Gender} + γ_3\\, \\text{Email} + η$$"
   ]
  },
  {
   "cell_type": "code",
   "execution_count": 102,
   "metadata": {
    "collapsed": false
   },
   "outputs": [
    {
     "data": {
      "text/html": [
       "<table class=\"simpletable\">\n",
       "<caption>OLS Regression Results</caption>\n",
       "<tr>\n",
       "  <th>Dep. Variable:</th>      <td>PARTICIPATION</td>  <th>  R-squared:         </th> <td>   0.196</td>\n",
       "</tr>\n",
       "<tr>\n",
       "  <th>Model:</th>                   <td>OLS</td>       <th>  Adj. R-squared:    </th> <td>   0.194</td>\n",
       "</tr>\n",
       "<tr>\n",
       "  <th>Method:</th>             <td>Least Squares</td>  <th>  F-statistic:       </th> <td>   121.2</td>\n",
       "</tr>\n",
       "<tr>\n",
       "  <th>Date:</th>             <td>Sat, 21 Nov 2015</td> <th>  Prob (F-statistic):</th> <td>7.58e-48</td>\n",
       "</tr>\n",
       "<tr>\n",
       "  <th>Time:</th>                 <td>17:06:34</td>     <th>  Log-Likelihood:    </th> <td> -560.79</td>\n",
       "</tr>\n",
       "<tr>\n",
       "  <th>No. Observations:</th>      <td>  1000</td>      <th>  AIC:               </th> <td>   1128.</td>\n",
       "</tr>\n",
       "<tr>\n",
       "  <th>Df Residuals:</th>          <td>   997</td>      <th>  BIC:               </th> <td>   1142.</td>\n",
       "</tr>\n",
       "<tr>\n",
       "  <th>Df Model:</th>              <td>     2</td>      <th>                     </th>     <td> </td>   \n",
       "</tr>\n",
       "<tr>\n",
       "  <th>Covariance Type:</th>      <td>nonrobust</td>    <th>                     </th>     <td> </td>   \n",
       "</tr>\n",
       "</table>\n",
       "<table class=\"simpletable\">\n",
       "<tr>\n",
       "     <td></td>       <th>coef</th>     <th>std err</th>      <th>t</th>      <th>P>|t|</th> <th>[95.0% Conf. Int.]</th> \n",
       "</tr>\n",
       "<tr>\n",
       "  <th>const</th>  <td>    0.1011</td> <td>    0.023</td> <td>    4.415</td> <td> 0.000</td> <td>    0.056     0.146</td>\n",
       "</tr>\n",
       "<tr>\n",
       "  <th>GENDER</th> <td>    0.0485</td> <td>    0.027</td> <td>    1.801</td> <td> 0.072</td> <td>   -0.004     0.101</td>\n",
       "</tr>\n",
       "<tr>\n",
       "  <th>EMAIL</th>  <td>    0.4129</td> <td>    0.027</td> <td>   15.349</td> <td> 0.000</td> <td>    0.360     0.466</td>\n",
       "</tr>\n",
       "</table>\n",
       "<table class=\"simpletable\">\n",
       "<tr>\n",
       "  <th>Omnibus:</th>       <td>158.669</td> <th>  Durbin-Watson:     </th> <td>   2.126</td>\n",
       "</tr>\n",
       "<tr>\n",
       "  <th>Prob(Omnibus):</th> <td> 0.000</td>  <th>  Jarque-Bera (JB):  </th> <td>  58.615</td>\n",
       "</tr>\n",
       "<tr>\n",
       "  <th>Skew:</th>          <td> 0.381</td>  <th>  Prob(JB):          </th> <td>1.87e-13</td>\n",
       "</tr>\n",
       "<tr>\n",
       "  <th>Kurtosis:</th>      <td> 2.091</td>  <th>  Cond. No.          </th> <td>    3.12</td>\n",
       "</tr>\n",
       "</table>"
      ],
      "text/plain": [
       "<class 'statsmodels.iolib.summary.Summary'>\n",
       "\"\"\"\n",
       "                            OLS Regression Results                            \n",
       "==============================================================================\n",
       "Dep. Variable:          PARTICIPATION   R-squared:                       0.196\n",
       "Model:                            OLS   Adj. R-squared:                  0.194\n",
       "Method:                 Least Squares   F-statistic:                     121.2\n",
       "Date:                Sat, 21 Nov 2015   Prob (F-statistic):           7.58e-48\n",
       "Time:                        17:06:34   Log-Likelihood:                -560.79\n",
       "No. Observations:                1000   AIC:                             1128.\n",
       "Df Residuals:                     997   BIC:                             1142.\n",
       "Df Model:                           2                                         \n",
       "Covariance Type:            nonrobust                                         \n",
       "==============================================================================\n",
       "                 coef    std err          t      P>|t|      [95.0% Conf. Int.]\n",
       "------------------------------------------------------------------------------\n",
       "const          0.1011      0.023      4.415      0.000         0.056     0.146\n",
       "GENDER         0.0485      0.027      1.801      0.072        -0.004     0.101\n",
       "EMAIL          0.4129      0.027     15.349      0.000         0.360     0.466\n",
       "==============================================================================\n",
       "Omnibus:                      158.669   Durbin-Watson:                   2.126\n",
       "Prob(Omnibus):                  0.000   Jarque-Bera (JB):               58.615\n",
       "Skew:                           0.381   Prob(JB):                     1.87e-13\n",
       "Kurtosis:                       2.091   Cond. No.                         3.12\n",
       "==============================================================================\n",
       "\n",
       "Warnings:\n",
       "[1] Standard Errors assume that the covariance matrix of the errors is correctly specified.\n",
       "\"\"\""
      ]
     },
     "execution_count": 102,
     "metadata": {},
     "output_type": "execute_result"
    }
   ],
   "source": [
    "part = mooc.ix[:, 'PARTICIPATION']\n",
    "Z = sm.add_constant(mooc.ix[:, ['GENDER', 'EMAIL']])\n",
    "\n",
    "twosls_stage1 = sm.OLS(part, Z).fit()\n",
    "twosls_stage1.summary()"
   ]
  },
  {
   "cell_type": "markdown",
   "metadata": {},
   "source": [
    "Next calculate the predicted values according to this regression and perform OLS on the model\n",
    "\n",
    "$$\\text{GPA} = β_1 + β_2 \\, \\text{Gender} + β_3 \\, \\text{Participation}_\\text{fit} + ε$$"
   ]
  },
  {
   "cell_type": "code",
   "execution_count": 104,
   "metadata": {
    "collapsed": false
   },
   "outputs": [
    {
     "data": {
      "text/html": [
       "<table class=\"simpletable\">\n",
       "<caption>OLS Regression Results</caption>\n",
       "<tr>\n",
       "  <th>Dep. Variable:</th>           <td>GPA</td>       <th>  R-squared:         </th> <td>   0.013</td>\n",
       "</tr>\n",
       "<tr>\n",
       "  <th>Model:</th>                   <td>OLS</td>       <th>  Adj. R-squared:    </th> <td>   0.011</td>\n",
       "</tr>\n",
       "<tr>\n",
       "  <th>Method:</th>             <td>Least Squares</td>  <th>  F-statistic:       </th> <td>   6.694</td>\n",
       "</tr>\n",
       "<tr>\n",
       "  <th>Date:</th>             <td>Sat, 21 Nov 2015</td> <th>  Prob (F-statistic):</th>  <td>0.00129</td>\n",
       "</tr>\n",
       "<tr>\n",
       "  <th>Time:</th>                 <td>17:10:05</td>     <th>  Log-Likelihood:    </th> <td> -1191.9</td>\n",
       "</tr>\n",
       "<tr>\n",
       "  <th>No. Observations:</th>      <td>  1000</td>      <th>  AIC:               </th> <td>   2390.</td>\n",
       "</tr>\n",
       "<tr>\n",
       "  <th>Df Residuals:</th>          <td>   997</td>      <th>  BIC:               </th> <td>   2404.</td>\n",
       "</tr>\n",
       "<tr>\n",
       "  <th>Df Model:</th>              <td>     2</td>      <th>                     </th>     <td> </td>   \n",
       "</tr>\n",
       "<tr>\n",
       "  <th>Covariance Type:</th>      <td>nonrobust</td>    <th>                     </th>     <td> </td>   \n",
       "</tr>\n",
       "</table>\n",
       "<table class=\"simpletable\">\n",
       "<tr>\n",
       "          <td></td>             <th>coef</th>     <th>std err</th>      <th>t</th>      <th>P>|t|</th> <th>[95.0% Conf. Int.]</th> \n",
       "</tr>\n",
       "<tr>\n",
       "  <th>const</th>             <td>    5.9479</td> <td>    0.051</td> <td>  116.239</td> <td> 0.000</td> <td>    5.847     6.048</td>\n",
       "</tr>\n",
       "<tr>\n",
       "  <th>GENDER</th>            <td>   -0.1728</td> <td>    0.051</td> <td>   -3.373</td> <td> 0.001</td> <td>   -0.273    -0.072</td>\n",
       "</tr>\n",
       "<tr>\n",
       "  <th>PARTICIPATION_fit</th> <td>    0.2405</td> <td>    0.122</td> <td>    1.964</td> <td> 0.050</td> <td>    0.000     0.481</td>\n",
       "</tr>\n",
       "</table>\n",
       "<table class=\"simpletable\">\n",
       "<tr>\n",
       "  <th>Omnibus:</th>       <td>20.608</td> <th>  Durbin-Watson:     </th> <td>   1.975</td>\n",
       "</tr>\n",
       "<tr>\n",
       "  <th>Prob(Omnibus):</th> <td> 0.000</td> <th>  Jarque-Bera (JB):  </th> <td>  11.442</td>\n",
       "</tr>\n",
       "<tr>\n",
       "  <th>Skew:</th>          <td> 0.028</td> <th>  Prob(JB):          </th> <td> 0.00328</td>\n",
       "</tr>\n",
       "<tr>\n",
       "  <th>Kurtosis:</th>      <td> 2.479</td> <th>  Cond. No.          </th> <td>    6.05</td>\n",
       "</tr>\n",
       "</table>"
      ],
      "text/plain": [
       "<class 'statsmodels.iolib.summary.Summary'>\n",
       "\"\"\"\n",
       "                            OLS Regression Results                            \n",
       "==============================================================================\n",
       "Dep. Variable:                    GPA   R-squared:                       0.013\n",
       "Model:                            OLS   Adj. R-squared:                  0.011\n",
       "Method:                 Least Squares   F-statistic:                     6.694\n",
       "Date:                Sat, 21 Nov 2015   Prob (F-statistic):            0.00129\n",
       "Time:                        17:10:05   Log-Likelihood:                -1191.9\n",
       "No. Observations:                1000   AIC:                             2390.\n",
       "Df Residuals:                     997   BIC:                             2404.\n",
       "Df Model:                           2                                         \n",
       "Covariance Type:            nonrobust                                         \n",
       "=====================================================================================\n",
       "                        coef    std err          t      P>|t|      [95.0% Conf. Int.]\n",
       "-------------------------------------------------------------------------------------\n",
       "const                 5.9479      0.051    116.239      0.000         5.847     6.048\n",
       "GENDER               -0.1728      0.051     -3.373      0.001        -0.273    -0.072\n",
       "PARTICIPATION_fit     0.2405      0.122      1.964      0.050         0.000     0.481\n",
       "==============================================================================\n",
       "Omnibus:                       20.608   Durbin-Watson:                   1.975\n",
       "Prob(Omnibus):                  0.000   Jarque-Bera (JB):               11.442\n",
       "Skew:                           0.028   Prob(JB):                      0.00328\n",
       "Kurtosis:                       2.479   Cond. No.                         6.05\n",
       "==============================================================================\n",
       "\n",
       "Warnings:\n",
       "[1] Standard Errors assume that the covariance matrix of the errors is correctly specified.\n",
       "\"\"\""
      ]
     },
     "execution_count": 104,
     "metadata": {},
     "output_type": "execute_result"
    }
   ],
   "source": [
    "mooc['PARTICIPATION_fit'] = twosls_stage1.fittedvalues\n",
    "X_hat = sm.add_constant(mooc.ix[:, ['GENDER', 'PARTICIPATION_fit']])\n",
    "gpa = mooc.ix[:, 'GPA']\n",
    "\n",
    "ols5b = sm.OLS(gpa, X_hat).fit()\n",
    "ols5b.summary()"
   ]
  },
  {
   "cell_type": "markdown",
   "metadata": {},
   "source": [
    "**(c)** Obtain the standard errors that correspond to the final regression in the previous part. These do not match\n",
    "with the standard errors reported in the lecture! Why are the standard errors from part **(b)** wrong?"
   ]
  },
  {
   "cell_type": "code",
   "execution_count": 161,
   "metadata": {
    "collapsed": false
   },
   "outputs": [
    {
     "data": {
      "text/plain": [
       "array([ 0.05116938,  0.05121485,  0.12245936])"
      ]
     },
     "execution_count": 161,
     "metadata": {},
     "output_type": "execute_result"
    }
   ],
   "source": [
    "XTX_fit_inv = np.linalg.inv(X_hat.T.dot(X_hat))\n",
    "n = len(gpa)\n",
    "k = 3 # num of params\n",
    "s2_c = np.sum(ols5b.resid ** 2) / (n - k)\n",
    "\n",
    "se_c = np.sqrt(np.diag(s2_c * XTX_fit_inv))\n",
    "se_c"
   ]
  },
  {
   "cell_type": "code",
   "execution_count": 116,
   "metadata": {
    "collapsed": false
   },
   "outputs": [
    {
     "data": {
      "text/plain": [
       "array([ 0.05116938,  0.05121485,  0.12245936])"
      ]
     },
     "execution_count": 116,
     "metadata": {},
     "output_type": "execute_result"
    }
   ],
   "source": [
    "np.array(ols5b.bse)"
   ]
  },
  {
   "cell_type": "markdown",
   "metadata": {},
   "source": [
    "The standard error from the lecture is $[0.048, 0.048, 0.115]$\n",
    "\n",
    "The reason why it's wrong is because we use a wrong estimate for the variance of $\\varepsilon$: we use $\\hat X$ (i.e. `PARTICIPATION_fit`) rather than $X$ (`PARTICIPATION`) directly"
   ]
  },
  {
   "cell_type": "markdown",
   "metadata": {},
   "source": [
    "**(d)** Calculate the ratio between the standard errors in part **(b)** and those reported in the lecture. \n",
    "\n",
    "- Why is the obtained ratio the same for all parameters? \n",
    "- Explain how we can also obtain this ratio using different residual series."
   ]
  },
  {
   "cell_type": "code",
   "execution_count": 157,
   "metadata": {
    "collapsed": true
   },
   "outputs": [],
   "source": [
    "X = sm.add_constant(mooc.ix[:, ['GENDER', 'PARTICIPATION']])"
   ]
  },
  {
   "cell_type": "code",
   "execution_count": 158,
   "metadata": {
    "collapsed": false
   },
   "outputs": [],
   "source": [
    "ZTZ_inv = np.linalg.inv(Z.T.dot(Z))\n",
    "H_Z = Z.dot(ZTZ_inv).dot(np.array(Z.T))\n",
    "\n",
    "XHX = X.T.dot(H_Z).dot(X)\n",
    "XHX_inv = np.linalg.inv(XHX)"
   ]
  },
  {
   "cell_type": "code",
   "execution_count": 162,
   "metadata": {
    "collapsed": false
   },
   "outputs": [
    {
     "data": {
      "text/plain": [
       "array([ 0.04814693,  0.04818972,  0.11522598])"
      ]
     },
     "execution_count": 162,
     "metadata": {},
     "output_type": "execute_result"
    }
   ],
   "source": [
    "X_pred = np.array(X).dot(ols5b.params)\n",
    "\n",
    "gpa = mooc.ix[:, 'GPA']\n",
    "e = gpa - X_pred\n",
    "\n",
    "n = len(e)\n",
    "k = 3\n",
    "\n",
    "s2_2sls = e.dot(e) / (n - k)\n",
    "se_c_2sls = np.sqrt(np.diag(s2_2sls * XHX_inv))\n",
    "se_c_2sls"
   ]
  },
  {
   "cell_type": "code",
   "execution_count": 164,
   "metadata": {
    "collapsed": false
   },
   "outputs": [
    {
     "data": {
      "text/plain": [
       "array([ 1.06277554,  1.06277554,  1.06277554])"
      ]
     },
     "execution_count": 164,
     "metadata": {},
     "output_type": "execute_result"
    }
   ],
   "source": [
    "se_c / se_c_2sls"
   ]
  },
  {
   "cell_type": "markdown",
   "metadata": {},
   "source": [
    "So parameters obtained on the 2nd stage regression are all about 6% too high. \n",
    "\n",
    "This ratio comes from $\\sqrt{\\cfrac{\\hat \\sigma^2_\\text{fit}}{\\hat \\sigma^2_\\text{true}}}$"
   ]
  },
  {
   "cell_type": "code",
   "execution_count": 168,
   "metadata": {
    "collapsed": false
   },
   "outputs": [
    {
     "data": {
      "text/plain": [
       "1.062775541708564"
      ]
     },
     "execution_count": 168,
     "metadata": {},
     "output_type": "execute_result"
    }
   ],
   "source": [
    "np.sqrt(s2_c / s2_2sls) "
   ]
  },
  {
   "cell_type": "markdown",
   "metadata": {},
   "source": [
    "So we can just correct these values without calculating $H_Z$"
   ]
  },
  {
   "cell_type": "code",
   "execution_count": 175,
   "metadata": {
    "collapsed": false
   },
   "outputs": [
    {
     "data": {
      "text/plain": [
       "array([ 0.04814693,  0.04818972,  0.11522598])"
      ]
     },
     "execution_count": 175,
     "metadata": {},
     "output_type": "execute_result"
    }
   ],
   "source": [
    "X = sm.add_constant(mooc.ix[:, ['GENDER', 'PARTICIPATION']])\n",
    "X_pred = np.array(X).dot(ols5b.params)\n",
    "e = gpa - X_pred\n",
    "\n",
    "s2_2sls = e.dot(e)\n",
    "s2_fit = np.sum(ols5b.resid ** 2)\n",
    "\n",
    "se_ratio = np.sqrt(s2_fit / s2_2sls)\n",
    "\n",
    "np.array(ols5b.bse / se_ratio)"
   ]
  }
 ],
 "metadata": {
  "kernelspec": {
   "display_name": "Python 2",
   "language": "python",
   "name": "python2"
  },
  "language_info": {
   "codemirror_mode": {
    "name": "ipython",
    "version": 2
   },
   "file_extension": ".py",
   "mimetype": "text/x-python",
   "name": "python",
   "nbconvert_exporter": "python",
   "pygments_lexer": "ipython2",
   "version": "2.7.10"
  }
 },
 "nbformat": 4,
 "nbformat_minor": 0
}
