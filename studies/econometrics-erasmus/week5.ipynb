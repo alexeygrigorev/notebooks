{
 "cells": [
  {
   "cell_type": "code",
   "execution_count": 80,
   "metadata": {
    "collapsed": true
   },
   "outputs": [],
   "source": [
    "import pandas as pd\n",
    "import matplotlib.pyplot as plt\n",
    "import statsmodels.api as sm\n",
    "import numpy as np\n",
    "\n",
    "from scipy.stats import f, chi2\n",
    "\n",
    "%matplotlib inline"
   ]
  },
  {
   "cell_type": "markdown",
   "metadata": {},
   "source": [
    "# MOOC Econometrics\n",
    "## Training Exercise 5.5"
   ]
  },
  {
   "cell_type": "code",
   "execution_count": 12,
   "metadata": {
    "collapsed": false
   },
   "outputs": [
    {
     "data": {
      "text/html": [
       "<div>\n",
       "<table border=\"1\" class=\"dataframe\">\n",
       "  <thead>\n",
       "    <tr style=\"text-align: right;\">\n",
       "      <th></th>\n",
       "      <th>rep id</th>\n",
       "      <th>response</th>\n",
       "      <th>male</th>\n",
       "      <th>activity</th>\n",
       "      <th>age</th>\n",
       "    </tr>\n",
       "  </thead>\n",
       "  <tbody>\n",
       "    <tr>\n",
       "      <th>0</th>\n",
       "      <td>1</td>\n",
       "      <td>1</td>\n",
       "      <td>0</td>\n",
       "      <td>0</td>\n",
       "      <td>58</td>\n",
       "    </tr>\n",
       "    <tr>\n",
       "      <th>1</th>\n",
       "      <td>2</td>\n",
       "      <td>1</td>\n",
       "      <td>1</td>\n",
       "      <td>0</td>\n",
       "      <td>50</td>\n",
       "    </tr>\n",
       "    <tr>\n",
       "      <th>2</th>\n",
       "      <td>3</td>\n",
       "      <td>1</td>\n",
       "      <td>1</td>\n",
       "      <td>0</td>\n",
       "      <td>40</td>\n",
       "    </tr>\n",
       "    <tr>\n",
       "      <th>3</th>\n",
       "      <td>4</td>\n",
       "      <td>1</td>\n",
       "      <td>1</td>\n",
       "      <td>0</td>\n",
       "      <td>36</td>\n",
       "    </tr>\n",
       "    <tr>\n",
       "      <th>4</th>\n",
       "      <td>5</td>\n",
       "      <td>1</td>\n",
       "      <td>1</td>\n",
       "      <td>0</td>\n",
       "      <td>28</td>\n",
       "    </tr>\n",
       "  </tbody>\n",
       "</table>\n",
       "</div>"
      ],
      "text/plain": [
       "   rep id  response  male  activity  age\n",
       "0       1         1     0         0   58\n",
       "1       2         1     1         0   50\n",
       "2       3         1     1         0   40\n",
       "3       4         1     1         0   36\n",
       "4       5         1     1         0   28"
      ]
     },
     "execution_count": 12,
     "metadata": {},
     "output_type": "execute_result"
    }
   ],
   "source": [
    "data = pd.read_csv('TrainExer5-5.txt', sep='\\t')\n",
    "data.head()"
   ]
  },
  {
   "cell_type": "markdown",
   "metadata": {},
   "source": [
    "We want to train model `response ~ const + male + active + age + (age/10)^2`"
   ]
  },
  {
   "cell_type": "code",
   "execution_count": 17,
   "metadata": {
    "collapsed": false,
    "scrolled": false
   },
   "outputs": [
    {
     "name": "stdout",
     "output_type": "stream",
     "text": [
      "Optimization terminated successfully.\n",
      "         Current function value: 0.650662\n",
      "         Iterations 5\n"
     ]
    },
    {
     "data": {
      "text/html": [
       "<table class=\"simpletable\">\n",
       "<caption>Logit Regression Results</caption>\n",
       "<tr>\n",
       "  <th>Dep. Variable:</th>     <td>response</td>     <th>  No. Observations:  </th>  <td>   925</td>  \n",
       "</tr>\n",
       "<tr>\n",
       "  <th>Model:</th>               <td>Logit</td>      <th>  Df Residuals:      </th>  <td>   920</td>  \n",
       "</tr>\n",
       "<tr>\n",
       "  <th>Method:</th>               <td>MLE</td>       <th>  Df Model:          </th>  <td>     4</td>  \n",
       "</tr>\n",
       "<tr>\n",
       "  <th>Date:</th>          <td>Sun, 22 Nov 2015</td> <th>  Pseudo R-squ.:     </th>  <td>0.06112</td> \n",
       "</tr>\n",
       "<tr>\n",
       "  <th>Time:</th>              <td>20:12:12</td>     <th>  Log-Likelihood:    </th> <td> -601.86</td> \n",
       "</tr>\n",
       "<tr>\n",
       "  <th>converged:</th>           <td>True</td>       <th>  LL-Null:           </th> <td> -641.04</td> \n",
       "</tr>\n",
       "<tr>\n",
       "  <th> </th>                      <td> </td>        <th>  LLR p-value:       </th> <td>3.886e-16</td>\n",
       "</tr>\n",
       "</table>\n",
       "<table class=\"simpletable\">\n",
       "<tr>\n",
       "       <td></td>         <th>coef</th>     <th>std err</th>      <th>z</th>      <th>P>|z|</th> <th>[95.0% Conf. Int.]</th> \n",
       "</tr>\n",
       "<tr>\n",
       "  <th>const</th>      <td>   -2.4884</td> <td>    0.890</td> <td>   -2.796</td> <td> 0.005</td> <td>   -4.233    -0.744</td>\n",
       "</tr>\n",
       "<tr>\n",
       "  <th>male</th>       <td>    0.9537</td> <td>    0.158</td> <td>    6.029</td> <td> 0.000</td> <td>    0.644     1.264</td>\n",
       "</tr>\n",
       "<tr>\n",
       "  <th>activity</th>   <td>    0.9137</td> <td>    0.185</td> <td>    4.945</td> <td> 0.000</td> <td>    0.552     1.276</td>\n",
       "</tr>\n",
       "<tr>\n",
       "  <th>age</th>        <td>    0.0699</td> <td>    0.036</td> <td>    1.964</td> <td> 0.049</td> <td>    0.000     0.140</td>\n",
       "</tr>\n",
       "<tr>\n",
       "  <th>(age/10)^2</th> <td>   -0.0687</td> <td>    0.034</td> <td>   -2.015</td> <td> 0.044</td> <td>   -0.136    -0.002</td>\n",
       "</tr>\n",
       "</table>"
      ],
      "text/plain": [
       "<class 'statsmodels.iolib.summary.Summary'>\n",
       "\"\"\"\n",
       "                           Logit Regression Results                           \n",
       "==============================================================================\n",
       "Dep. Variable:               response   No. Observations:                  925\n",
       "Model:                          Logit   Df Residuals:                      920\n",
       "Method:                           MLE   Df Model:                            4\n",
       "Date:                Sun, 22 Nov 2015   Pseudo R-squ.:                 0.06112\n",
       "Time:                        20:12:12   Log-Likelihood:                -601.86\n",
       "converged:                       True   LL-Null:                       -641.04\n",
       "                                        LLR p-value:                 3.886e-16\n",
       "==============================================================================\n",
       "                 coef    std err          z      P>|z|      [95.0% Conf. Int.]\n",
       "------------------------------------------------------------------------------\n",
       "const         -2.4884      0.890     -2.796      0.005        -4.233    -0.744\n",
       "male           0.9537      0.158      6.029      0.000         0.644     1.264\n",
       "activity       0.9137      0.185      4.945      0.000         0.552     1.276\n",
       "age            0.0699      0.036      1.964      0.049         0.000     0.140\n",
       "(age/10)^2    -0.0687      0.034     -2.015      0.044        -0.136    -0.002\n",
       "==============================================================================\n",
       "\"\"\""
      ]
     },
     "execution_count": 17,
     "metadata": {},
     "output_type": "execute_result"
    }
   ],
   "source": [
    "data['(age/10)^2'] = (data.age / 10.0) ** 2\n",
    "\n",
    "resp = data.ix[:, 'response']\n",
    "X = sm.add_constant(data.ix[:, ['male', 'activity', 'age', '(age/10)^2']])\n",
    "\n",
    "model = sm.Logit(resp, X).fit()\n",
    "model.summary()"
   ]
  },
  {
   "cell_type": "markdown",
   "metadata": {},
   "source": [
    "![](https://habrastorage.org/files/0fb/575/79d/0fb57579d3c0422f8dacdef852d89f4e.png)"
   ]
  },
  {
   "cell_type": "markdown",
   "metadata": {},
   "source": [
    "Nagelkerke $R^2$"
   ]
  },
  {
   "cell_type": "code",
   "execution_count": 31,
   "metadata": {
    "collapsed": false
   },
   "outputs": [
    {
     "name": "stdout",
     "output_type": "stream",
     "text": [
      "Optimization terminated successfully.\n",
      "         Current function value: 0.693016\n",
      "         Iterations 3\n"
     ]
    }
   ],
   "source": [
    "n = len(resp)\n",
    "model_base = sm.Logit(resp, np.ones_like(resp)).fit()"
   ]
  },
  {
   "cell_type": "code",
   "execution_count": 59,
   "metadata": {
    "collapsed": false
   },
   "outputs": [
    {
     "data": {
      "text/plain": [
       "0.10830134648510828"
      ]
     },
     "execution_count": 59,
     "metadata": {},
     "output_type": "execute_result"
    }
   ],
   "source": [
    "nom = 1 - np.exp((model_base.llf - model.llf) * 2 / n)\n",
    "denom = 1 - np.exp(model_base.llf * 2 / n)\n",
    "\n",
    "nom / denom"
   ]
  },
  {
   "cell_type": "markdown",
   "metadata": {},
   "source": [
    "Log likelihood test"
   ]
  },
  {
   "cell_type": "markdown",
   "metadata": {},
   "source": [
    "Test the null hypothesis $H_0: \\, β_1 = β_2 = 0$ versus $H_1$ : no restrictions on $β_1$ and $β_2$, using a likelihood ratio test.\n",
    "\n",
    "(In this case $\\beta_0$ is the intercept, not $\\beta_1$)"
   ]
  },
  {
   "cell_type": "code",
   "execution_count": 82,
   "metadata": {
    "collapsed": false
   },
   "outputs": [
    {
     "name": "stdout",
     "output_type": "stream",
     "text": [
      "Optimization terminated successfully.\n",
      "         Current function value: 0.687672\n",
      "         Iterations 4\n"
     ]
    }
   ],
   "source": [
    "X_R = sm.add_constant(data.ix[:, ['age', '(age/10)^2']])\n",
    "model_restricted = sm.Logit(resp, X_R).fit()"
   ]
  },
  {
   "cell_type": "code",
   "execution_count": 83,
   "metadata": {
    "collapsed": false
   },
   "outputs": [
    {
     "name": "stdout",
     "output_type": "stream",
     "text": [
      "LL under H0: -636.09656203\n",
      "LL under H1: -601.862358095\n"
     ]
    }
   ],
   "source": [
    "print 'LL under H0:', model_restricted.llf\n",
    "print 'LL under H1:', model.llf"
   ]
  },
  {
   "cell_type": "markdown",
   "metadata": {},
   "source": [
    "Expected values:\n",
    "\n",
    "- $H_0: LL = -636.097$\n",
    "- $H_1: LL = -601.862$"
   ]
  },
  {
   "cell_type": "code",
   "execution_count": 84,
   "metadata": {
    "collapsed": false,
    "scrolled": true
   },
   "outputs": [
    {
     "name": "stdout",
     "output_type": "stream",
     "text": [
      "observed statistic: 68.4684078698\n",
      "critical value: 5.99146454711\n",
      "p-value:  1.33226762955e-15\n"
     ]
    }
   ],
   "source": [
    "LR = -2 * (model_restricted.llf - model.llf)\n",
    "\n",
    "m = 2\n",
    "\n",
    "print 'observed statistic:', LR\n",
    "print 'critical value:', chi2.ppf(0.95, m)\n",
    "print 'p-value: ', 1 - chi2.cdf(LR, m)"
   ]
  },
  {
   "cell_type": "markdown",
   "metadata": {},
   "source": [
    "So we reject $H_0$ "
   ]
  }
 ],
 "metadata": {
  "kernelspec": {
   "display_name": "Python 2",
   "language": "python",
   "name": "python2"
  },
  "language_info": {
   "codemirror_mode": {
    "name": "ipython",
    "version": 2
   },
   "file_extension": ".py",
   "mimetype": "text/x-python",
   "name": "python",
   "nbconvert_exporter": "python",
   "pygments_lexer": "ipython2",
   "version": "2.7.10"
  }
 },
 "nbformat": 4,
 "nbformat_minor": 0
}
