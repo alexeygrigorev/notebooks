{
 "cells": [
  {
   "cell_type": "markdown",
   "metadata": {},
   "source": [
    "# MOOC Econometrics\n",
    "## Test Exercise 5"
   ]
  },
  {
   "cell_type": "markdown",
   "metadata": {},
   "source": [
    "**(a)** Show that\n",
    "$$\\cfrac{\\partial Pr[\\text{resp}_i = 1]}{\\partial \\, \\text{age}_i} + \\cfrac{\\partial Pr[\\text{resp}_i = 0]}{\\partial \\, \\text{age}_i} = 0$$"
   ]
  },
  {
   "cell_type": "markdown",
   "metadata": {},
   "source": [
    "Let us consider any $y$ and $x_j$ and show that\n",
    "\n",
    "$$\\cfrac{\\partial Pr[y = 1]}{\\partial \\, x_j} + \\cfrac{\\partial Pr[y = 0]}{\\partial \\, x_j} = 0$$\n",
    "\n",
    "- $Pr[y = 0] = 1 - Pr[y = 1]$, so\n",
    "- $\\cfrac{\\partial Pr[y = 0]}{\\partial \\, x_j} = \\cfrac{\\partial (1 - Pr[y = 1])}{\\partial \\, x_j} = -\\cfrac{\\partial Pr[y = 1]}{\\partial \\, x_j}$.\n",
    "- thus we have \n",
    "- $\\cfrac{\\partial Pr[y = 1]}{\\partial \\, x_j} + \\cfrac{\\partial Pr[y = 0]}{\\partial \\, x_j} = \\cfrac{\\partial Pr[y = 1]}{\\partial \\, x_j} -\\cfrac{\\partial Pr[y = 1]}{\\partial \\, x_j} = 0$\n",
    "\n",
    "$\\square$"
   ]
  },
  {
   "cell_type": "markdown",
   "metadata": {},
   "source": [
    "**(b)** Assume that you recode the dependent variable as follows: $y^* = -y + 1$, i.e. $y^* = 0$ if $y = 1$ and $y^* = 1$ if $y = 0$\n",
    "\n",
    "Use the odds ratio to show that this transformation implies that the sign of all parameters change."
   ]
  },
  {
   "cell_type": "markdown",
   "metadata": {},
   "source": [
    "- $\\cfrac{P(y = 1)}{P(y = 0)} = \\exp (x^T \\beta)$\n",
    "- $\\cfrac{P(y^* = 1)}{P(y^* = 0)} = \\cfrac{P(y = 0)}{P(y = 1)} = \\cfrac{1}{\\exp (x^T \\beta)} = \\exp (-x^T \\beta)$\n",
    "- $x$ cannot change, because it's observed, so the change in sign must be due to $\\beta$\n",
    "\n",
    "$\\square$"
   ]
  },
  {
   "cell_type": "markdown",
   "metadata": {},
   "source": [
    "Consider again the odds ratio positive response versus negative response:\n",
    "\n",
    "$$\\cfrac{Pr[\\text{resp}_i = 1]}{Pr[\\text{resp}_i = 0]} = \\exp \\Big[β_0 + β_1 \\, \\text{male}_i + β_2 \\, \\text{active}_i + β_3\\, \\text{age}_i + β_4\\, (\\text{age}_i / 10)^2 \\Big]$$\n",
    "\n",
    "During lecture 5.5 you have seen that this odds ratio obtains its maximum value for age equal to 50 years for\n",
    "males as well as females. \n",
    "\n",
    "Suppose now that you want to extend the logit model and allow that this age value\n",
    "is possibly different for males than for females. Discuss how you can extend the logit specification."
   ]
  },
  {
   "cell_type": "markdown",
   "metadata": {},
   "source": [
    "I would add two interaction terms, so the model would be\n",
    "\n",
    "$\\cfrac{Pr[\\text{resp}_i = 1]}{Pr[\\text{resp}_i = 0]} = \\exp \\Big[β_0 + β_1 \\, \\text{male}_i + β_2 \\, \\text{active}_i + β_3\\, \\text{age}_i + β_4\\, (\\text{age}_i / 10)^2 +$ $β_5\\, \\text{male}_i\\, \\text{age}_i + β_6\\, \\text{male}_i\\,(\\text{age}_i / 10)^2 \\Big]$"
   ]
  },
  {
   "cell_type": "code",
   "execution_count": null,
   "metadata": {
    "collapsed": true
   },
   "outputs": [],
   "source": []
  }
 ],
 "metadata": {
  "kernelspec": {
   "display_name": "Python 2",
   "language": "python",
   "name": "python2"
  },
  "language_info": {
   "codemirror_mode": {
    "name": "ipython",
    "version": 2
   },
   "file_extension": ".py",
   "mimetype": "text/x-python",
   "name": "python",
   "nbconvert_exporter": "python",
   "pygments_lexer": "ipython2",
   "version": "2.7.10"
  }
 },
 "nbformat": 4,
 "nbformat_minor": 0
}
