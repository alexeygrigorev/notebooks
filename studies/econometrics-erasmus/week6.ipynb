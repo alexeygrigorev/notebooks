{
 "cells": [
  {
   "cell_type": "code",
   "execution_count": 57,
   "metadata": {
    "collapsed": true
   },
   "outputs": [],
   "source": [
    "import pandas as pd\n",
    "import matplotlib.pyplot as plt\n",
    "import statsmodels.api as sm\n",
    "import numpy as np\n",
    "\n",
    "from statsmodels.formula.api import ols\n",
    "from scipy.stats import f, chi2\n",
    "\n",
    "%matplotlib inline"
   ]
  },
  {
   "cell_type": "code",
   "execution_count": 29,
   "metadata": {
    "collapsed": true
   },
   "outputs": [],
   "source": [
    "import seaborn as sns\n",
    "sns.set(color_codes=True)"
   ]
  },
  {
   "cell_type": "markdown",
   "metadata": {},
   "source": [
    "# MOOC Econometrics\n",
    "## Training Exercise 6.1"
   ]
  },
  {
   "cell_type": "code",
   "execution_count": 6,
   "metadata": {
    "collapsed": false,
    "scrolled": true
   },
   "outputs": [
    {
     "data": {
      "text/html": [
       "<div>\n",
       "<table border=\"1\" class=\"dataframe\">\n",
       "  <thead>\n",
       "    <tr style=\"text-align: right;\">\n",
       "      <th></th>\n",
       "      <th>EPSX</th>\n",
       "      <th>EPSY</th>\n",
       "      <th>X</th>\n",
       "      <th>Y</th>\n",
       "    </tr>\n",
       "  </thead>\n",
       "  <tbody>\n",
       "    <tr>\n",
       "      <th>0</th>\n",
       "      <td>-2.447232</td>\n",
       "      <td>-1.421835</td>\n",
       "      <td>0.000000</td>\n",
       "      <td>0.000000</td>\n",
       "    </tr>\n",
       "    <tr>\n",
       "      <th>1</th>\n",
       "      <td>-1.540471</td>\n",
       "      <td>-0.632123</td>\n",
       "      <td>-1.540471</td>\n",
       "      <td>-0.632123</td>\n",
       "    </tr>\n",
       "    <tr>\n",
       "      <th>2</th>\n",
       "      <td>1.284912</td>\n",
       "      <td>-1.997182</td>\n",
       "      <td>-0.255559</td>\n",
       "      <td>-2.629304</td>\n",
       "    </tr>\n",
       "    <tr>\n",
       "      <th>3</th>\n",
       "      <td>-0.854495</td>\n",
       "      <td>0.174588</td>\n",
       "      <td>-1.110054</td>\n",
       "      <td>-2.454717</td>\n",
       "    </tr>\n",
       "    <tr>\n",
       "      <th>4</th>\n",
       "      <td>0.959860</td>\n",
       "      <td>-2.087111</td>\n",
       "      <td>-0.150194</td>\n",
       "      <td>-4.541828</td>\n",
       "    </tr>\n",
       "  </tbody>\n",
       "</table>\n",
       "</div>"
      ],
      "text/plain": [
       "       EPSX      EPSY         X         Y\n",
       "0 -2.447232 -1.421835  0.000000  0.000000\n",
       "1 -1.540471 -0.632123 -1.540471 -0.632123\n",
       "2  1.284912 -1.997182 -0.255559 -2.629304\n",
       "3 -0.854495  0.174588 -1.110054 -2.454717\n",
       "4  0.959860 -2.087111 -0.150194 -4.541828"
      ]
     },
     "execution_count": 6,
     "metadata": {},
     "output_type": "execute_result"
    }
   ],
   "source": [
    "ts1 = pd.read_csv('TrainExer61.txt', sep='\\t')\n",
    "ts1.head()"
   ]
  },
  {
   "cell_type": "markdown",
   "metadata": {},
   "source": [
    "The datafile `TrainExer61` contains values of four series of length 250. \n",
    "\n",
    "- Two of these series are uncorrelated white noise series denoted by $ε_{xt}$ and $ε_{yt}$, where both variables are NID(0, 1), that is, normally and independently distributed standard normal random variables. \n",
    "- The other two series are so-called random walks constructed from these two white noise series by $x_t = x_{t-1} + ε_{xt}$ and $y_t = y_{t-1} + ε_{yt}$, with starting values $x_1 = 0$ and $y_1 = 0$\n",
    "- As $ε_{xt}$ and $ε_{ys}$ are independent for all values of $t$ and $s$, the same holds true for all values of $x_t$ and $y_s$.\n",
    "\n",
    "The purpose\n",
    "of this exercise is to experience that, nonetheless, the regression of $y$ on $x$ indicates a highly significant relation\n",
    "between $y$ and $x$ if evaluated by standard regression tools. This kind of result is called _spurious regression_ and is\n",
    "caused by the trending nature of the variables $x$ and $y$. The lesson we learn is that standard regression tools are\n",
    "not applicable if the variables contain trends similar to those of the random walks considered here."
   ]
  },
  {
   "cell_type": "markdown",
   "metadata": {},
   "source": [
    "**(a)** Use dataset `TrainExer61` to make the following graphs: the time series plot of $x_t$ against time $t$, the time series plot of $y_t$ against time $t$, and the scatter plot of $y_t$ against $x_t$ . What conclusion could you draw from these three graphs?"
   ]
  },
  {
   "cell_type": "code",
   "execution_count": 48,
   "metadata": {
    "collapsed": false
   },
   "outputs": [
    {
     "data": {
      "text/plain": [
       "<matplotlib.legend.Legend at 0x7f6ca408d710>"
      ]
     },
     "execution_count": 48,
     "metadata": {},
     "output_type": "execute_result"
    },
    {
     "data": {
      "image/png": "[encoded data removed]",
      "text/plain": [
       "<matplotlib.figure.Figure at 0x7f6ca401c510>"
      ]
     },
     "metadata": {},
     "output_type": "display_data"
    }
   ],
   "source": [
    "ts1.X.plot()\n",
    "ts1.Y.plot()\n",
    "plt.legend()"
   ]
  },
  {
   "cell_type": "code",
   "execution_count": 41,
   "metadata": {
    "collapsed": false
   },
   "outputs": [
    {
     "data": {
      "text/plain": [
       "<seaborn.axisgrid.FacetGrid at 0x7f6ca41c6210>"
      ]
     },
     "execution_count": 41,
     "metadata": {},
     "output_type": "execute_result"
    },
    {
     "data": {
      "image/png": "[encoded data removed]",
      "text/plain": [
       "<matplotlib.figure.Figure at 0x7f6ca437e8d0>"
      ]
     },
     "metadata": {},
     "output_type": "display_data"
    }
   ],
   "source": [
    "sns.lmplot(x='X', y='Y', data=ts1, fit_reg=False, size=5, aspect=2)"
   ]
  },
  {
   "cell_type": "markdown",
   "metadata": {},
   "source": [
    "Looks like there's negative strong correlation"
   ]
  },
  {
   "cell_type": "markdown",
   "metadata": {},
   "source": [
    "**(b)** To check that the series $ε_{xt}$ and $ε_{yt}$ are uncorrelated, regress $ε_{yt}$ on a constant and $ε_{xt}$. Report the $t$-value and $p$-value of the slope coefficient."
   ]
  },
  {
   "cell_type": "code",
   "execution_count": 17,
   "metadata": {
    "collapsed": false,
    "scrolled": true
   },
   "outputs": [
    {
     "name": "stdout",
     "output_type": "stream",
     "text": [
      "R^2 = 0.0070\n"
     ]
    },
    {
     "data": {
      "text/html": [
       "<div>\n",
       "<table border=\"1\" class=\"dataframe\">\n",
       "  <thead>\n",
       "    <tr style=\"text-align: right;\">\n",
       "      <th></th>\n",
       "      <th>$p$-values</th>\n",
       "      <th>$t$-values</th>\n",
       "    </tr>\n",
       "  </thead>\n",
       "  <tbody>\n",
       "    <tr>\n",
       "      <th>const</th>\n",
       "      <td>0.628830</td>\n",
       "      <td>0.483976</td>\n",
       "    </tr>\n",
       "    <tr>\n",
       "      <th>EPSX</th>\n",
       "      <td>0.188803</td>\n",
       "      <td>-1.317750</td>\n",
       "    </tr>\n",
       "  </tbody>\n",
       "</table>\n",
       "</div>"
      ],
      "text/plain": [
       "       $p$-values  $t$-values\n",
       "const    0.628830    0.483976\n",
       "EPSX     0.188803   -1.317750"
      ]
     },
     "execution_count": 17,
     "metadata": {},
     "output_type": "execute_result"
    }
   ],
   "source": [
    "model1b_eps = sm.OLS(ts1.EPSY, sm.add_constant(ts1.EPSX)).fit()\n",
    "print 'R^2 = %0.4f' % model1b_eps.rsquared\n",
    "\n",
    "pd.DataFrame({'$p$-values': model1b_eps.pvalues,\n",
    "              '$t$-values': model1b_eps.tvalues })"
   ]
  },
  {
   "cell_type": "markdown",
   "metadata": {},
   "source": [
    "**(c)** Extend the analysis of part **(b)** by regressing $ε_{yt}$ on a constant, $ε_{xt}$, and three lagged values of $ε_{yt}$ and of $ε_{xt}$.\n",
    "\n",
    "- Perform the $F$-test for the joint insignificance of the seven parameters of $ε_{xt}$ and the three lags of $ε_{xt}$ and $ε_{yt}$.\n",
    "- Report the degrees of freedom of the $F$-test and the numerical outcome of this test, and draw your conclusion.\n",
    "- Note: The relevant 5% critical value is 2.0."
   ]
  },
  {
   "cell_type": "code",
   "execution_count": 19,
   "metadata": {
    "collapsed": false
   },
   "outputs": [],
   "source": [
    "ts1['EPSY_lag1'] = ts1.EPSY.shift(1)\n",
    "ts1['EPSY_lag2'] = ts1.EPSY.shift(2)\n",
    "ts1['EPSY_lag3'] = ts1.EPSY.shift(3)\n",
    "\n",
    "ts1['EPSX_lag1'] = ts1.EPSX.shift(1)\n",
    "ts1['EPSX_lag2'] = ts1.EPSX.shift(2)\n",
    "ts1['EPSX_lag3'] = ts1.EPSX.shift(3)"
   ]
  },
  {
   "cell_type": "code",
   "execution_count": 24,
   "metadata": {
    "collapsed": false
   },
   "outputs": [],
   "source": [
    "ts1.dropna(inplace=1)"
   ]
  },
  {
   "cell_type": "code",
   "execution_count": 26,
   "metadata": {
    "collapsed": false
   },
   "outputs": [],
   "source": [
    "X = sm.add_constant(ts1.ix[:, ['EPSX', 'EPSY_lag1', 'EPSY_lag2', 'EPSY_lag3', 'EPSX_lag1', 'EPSX_lag2', 'EPSX_lag3']])\n",
    "model1c_eps = sm.OLS(ts1.EPSY, X).fit()"
   ]
  },
  {
   "cell_type": "code",
   "execution_count": 27,
   "metadata": {
    "collapsed": false
   },
   "outputs": [
    {
     "name": "stdout",
     "output_type": "stream",
     "text": [
      "R^2 = 0.0157\n",
      "F = 0.5457 (p-val = 0.7992)\n"
     ]
    },
    {
     "data": {
      "text/html": [
       "<div>\n",
       "<table border=\"1\" class=\"dataframe\">\n",
       "  <thead>\n",
       "    <tr style=\"text-align: right;\">\n",
       "      <th></th>\n",
       "      <th>$p$-values</th>\n",
       "      <th>$t$-values</th>\n",
       "    </tr>\n",
       "  </thead>\n",
       "  <tbody>\n",
       "    <tr>\n",
       "      <th>const</th>\n",
       "      <td>0.485668</td>\n",
       "      <td>0.698301</td>\n",
       "    </tr>\n",
       "    <tr>\n",
       "      <th>EPSX</th>\n",
       "      <td>0.161316</td>\n",
       "      <td>-1.405011</td>\n",
       "    </tr>\n",
       "    <tr>\n",
       "      <th>EPSY_lag1</th>\n",
       "      <td>0.699458</td>\n",
       "      <td>0.386517</td>\n",
       "    </tr>\n",
       "    <tr>\n",
       "      <th>EPSY_lag2</th>\n",
       "      <td>0.807084</td>\n",
       "      <td>-0.244460</td>\n",
       "    </tr>\n",
       "    <tr>\n",
       "      <th>EPSY_lag3</th>\n",
       "      <td>0.463791</td>\n",
       "      <td>-0.733798</td>\n",
       "    </tr>\n",
       "    <tr>\n",
       "      <th>EPSX_lag1</th>\n",
       "      <td>0.776719</td>\n",
       "      <td>0.283918</td>\n",
       "    </tr>\n",
       "    <tr>\n",
       "      <th>EPSX_lag2</th>\n",
       "      <td>0.392337</td>\n",
       "      <td>-0.856940</td>\n",
       "    </tr>\n",
       "    <tr>\n",
       "      <th>EPSX_lag3</th>\n",
       "      <td>0.890141</td>\n",
       "      <td>0.138274</td>\n",
       "    </tr>\n",
       "  </tbody>\n",
       "</table>\n",
       "</div>"
      ],
      "text/plain": [
       "           $p$-values  $t$-values\n",
       "const        0.485668    0.698301\n",
       "EPSX         0.161316   -1.405011\n",
       "EPSY_lag1    0.699458    0.386517\n",
       "EPSY_lag2    0.807084   -0.244460\n",
       "EPSY_lag3    0.463791   -0.733798\n",
       "EPSX_lag1    0.776719    0.283918\n",
       "EPSX_lag2    0.392337   -0.856940\n",
       "EPSX_lag3    0.890141    0.138274"
      ]
     },
     "execution_count": 27,
     "metadata": {},
     "output_type": "execute_result"
    }
   ],
   "source": [
    "print 'R^2 = %0.4f' % model1c_eps.rsquared\n",
    "print 'F = %0.4f (p-val = %0.4f)' % (model1c_eps.fvalue, model1c_eps.f_pvalue)\n",
    "\n",
    "pd.DataFrame({'$p$-values': model1c_eps.pvalues,\n",
    "              '$t$-values': model1c_eps.tvalues })"
   ]
  },
  {
   "cell_type": "markdown",
   "metadata": {},
   "source": [
    "**(d)** Regress $y$ on a constant and $x$. Report the $t$-value and $p$-value of the slope coefficient. What conclusion would you be tempted to draw if you did not know how the data were generated?"
   ]
  },
  {
   "cell_type": "code",
   "execution_count": 28,
   "metadata": {
    "collapsed": false
   },
   "outputs": [
    {
     "name": "stdout",
     "output_type": "stream",
     "text": [
      "R^2 = 0.8150\n"
     ]
    },
    {
     "data": {
      "text/html": [
       "<div>\n",
       "<table border=\"1\" class=\"dataframe\">\n",
       "  <thead>\n",
       "    <tr style=\"text-align: right;\">\n",
       "      <th></th>\n",
       "      <th>$p$-values</th>\n",
       "      <th>$t$-values</th>\n",
       "    </tr>\n",
       "  </thead>\n",
       "  <tbody>\n",
       "    <tr>\n",
       "      <th>const</th>\n",
       "      <td>6.404131e-25</td>\n",
       "      <td>-11.549131</td>\n",
       "    </tr>\n",
       "    <tr>\n",
       "      <th>X</th>\n",
       "      <td>9.450006e-92</td>\n",
       "      <td>-32.854602</td>\n",
       "    </tr>\n",
       "  </tbody>\n",
       "</table>\n",
       "</div>"
      ],
      "text/plain": [
       "         $p$-values  $t$-values\n",
       "const  6.404131e-25  -11.549131\n",
       "X      9.450006e-92  -32.854602"
      ]
     },
     "execution_count": 28,
     "metadata": {},
     "output_type": "execute_result"
    }
   ],
   "source": [
    "model1d = sm.OLS(ts1.Y, sm.add_constant(ts1.X)).fit()\n",
    "print 'R^2 = %0.4f' % model1d.rsquared\n",
    "\n",
    "pd.DataFrame({'$p$-values': model1d.pvalues,\n",
    "              '$t$-values': model1d.tvalues })"
   ]
  },
  {
   "cell_type": "code",
   "execution_count": 42,
   "metadata": {
    "collapsed": false
   },
   "outputs": [
    {
     "data": {
      "image/png": "[encoded data removed]",
      "text/plain": [
       "<matplotlib.figure.Figure at 0x7f6ca42ede10>"
      ]
     },
     "metadata": {},
     "output_type": "display_data"
    }
   ],
   "source": [
    "sns.regplot(x=\"X\", y=\"Y\", data=ts1)\n",
    "plt.show()"
   ]
  },
  {
   "cell_type": "markdown",
   "metadata": {},
   "source": [
    "**(e)** Let $e_t$ be the residuals of the regression of part **(d)**. Regress $e_t$ on a constant and the one-period lagged residual $e_{t-1}$. What standard assumption of regression is clearly violated for the regression in part **(d)**?"
   ]
  },
  {
   "cell_type": "code",
   "execution_count": 43,
   "metadata": {
    "collapsed": false,
    "scrolled": true
   },
   "outputs": [
    {
     "name": "stdout",
     "output_type": "stream",
     "text": [
      "R^2 = 0.8566\n"
     ]
    },
    {
     "data": {
      "text/html": [
       "<div>\n",
       "<table border=\"1\" class=\"dataframe\">\n",
       "  <thead>\n",
       "    <tr style=\"text-align: right;\">\n",
       "      <th></th>\n",
       "      <th>$p$-values</th>\n",
       "      <th>$t$-values</th>\n",
       "    </tr>\n",
       "  </thead>\n",
       "  <tbody>\n",
       "    <tr>\n",
       "      <th>const</th>\n",
       "      <td>8.501561e-01</td>\n",
       "      <td>0.18912</td>\n",
       "    </tr>\n",
       "    <tr>\n",
       "      <th>e_1</th>\n",
       "      <td>7.187723e-105</td>\n",
       "      <td>38.17074</td>\n",
       "    </tr>\n",
       "  </tbody>\n",
       "</table>\n",
       "</div>"
      ],
      "text/plain": [
       "          $p$-values  $t$-values\n",
       "const   8.501561e-01     0.18912\n",
       "e_1    7.187723e-105    38.17074"
      ]
     },
     "execution_count": 43,
     "metadata": {},
     "output_type": "execute_result"
    }
   ],
   "source": [
    "resid = pd.DataFrame({'e': model1d.resid, 'e_1': model1d.resid.shift(1)})\n",
    "resid.dropna(inplace=1)\n",
    "\n",
    "model1e = sm.OLS(resid.e, sm.add_constant(resid.e_1)).fit()\n",
    "print 'R^2 = %0.4f' % model1e.rsquared\n",
    "\n",
    "pd.DataFrame({'$p$-values': model1e.pvalues,\n",
    "              '$t$-values': model1e.tvalues })"
   ]
  },
  {
   "cell_type": "markdown",
   "metadata": {
    "collapsed": true
   },
   "source": [
    "Residuals are very strongly correlated"
   ]
  },
  {
   "cell_type": "code",
   "execution_count": 47,
   "metadata": {
    "collapsed": false
   },
   "outputs": [
    {
     "data": {
      "text/plain": [
       "<matplotlib.axes._subplots.AxesSubplot at 0x7f6ca3f0b490>"
      ]
     },
     "execution_count": 47,
     "metadata": {},
     "output_type": "execute_result"
    },
    {
     "data": {
      "image/png": "[encoded data removed]",
      "text/plain": [
       "<matplotlib.figure.Figure at 0x7f6ca410cd10>"
      ]
     },
     "metadata": {},
     "output_type": "display_data"
    }
   ],
   "source": [
    "resid.e.plot()"
   ]
  },
  {
   "cell_type": "code",
   "execution_count": 44,
   "metadata": {
    "collapsed": false
   },
   "outputs": [
    {
     "data": {
      "image/png": "[encoded data removed]",
      "text/plain": [
       "<matplotlib.figure.Figure at 0x7f6ca47e31d0>"
      ]
     },
     "metadata": {},
     "output_type": "display_data"
    }
   ],
   "source": [
    "sns.regplot(x=\"e\", y=\"e_1\", data=resid)\n",
    "plt.show()"
   ]
  },
  {
   "cell_type": "markdown",
   "metadata": {},
   "source": [
    "it violates the assumption that error terms should not be correlated, i.e. $\\text{cov}(\\varepsilon_i, \\varepsilon_j) = 0 \\ \\forall i \\ne j$"
   ]
  },
  {
   "cell_type": "markdown",
   "metadata": {},
   "source": [
    "## Training Exercise 6.4"
   ]
  },
  {
   "cell_type": "code",
   "execution_count": 50,
   "metadata": {
    "collapsed": false
   },
   "outputs": [
    {
     "data": {
      "text/html": [
       "<div>\n",
       "<table border=\"1\" class=\"dataframe\">\n",
       "  <thead>\n",
       "    <tr style=\"text-align: right;\">\n",
       "      <th></th>\n",
       "      <th>YEAR</th>\n",
       "      <th>RPK1</th>\n",
       "      <th>RPK2</th>\n",
       "      <th>X1</th>\n",
       "      <th>X2</th>\n",
       "      <th>DX1</th>\n",
       "      <th>DX2</th>\n",
       "    </tr>\n",
       "  </thead>\n",
       "  <tbody>\n",
       "    <tr>\n",
       "      <th>0</th>\n",
       "      <td>1975</td>\n",
       "      <td>13.548751</td>\n",
       "      <td>11.092779</td>\n",
       "      <td>2.606294</td>\n",
       "      <td>2.406294</td>\n",
       "      <td>NaN</td>\n",
       "      <td>NaN</td>\n",
       "    </tr>\n",
       "    <tr>\n",
       "      <th>1</th>\n",
       "      <td>1976</td>\n",
       "      <td>13.413939</td>\n",
       "      <td>11.092779</td>\n",
       "      <td>2.596294</td>\n",
       "      <td>2.406294</td>\n",
       "      <td>-0.01</td>\n",
       "      <td>0.00</td>\n",
       "    </tr>\n",
       "    <tr>\n",
       "      <th>2</th>\n",
       "      <td>1977</td>\n",
       "      <td>13.413939</td>\n",
       "      <td>11.204263</td>\n",
       "      <td>2.596294</td>\n",
       "      <td>2.416294</td>\n",
       "      <td>0.00</td>\n",
       "      <td>0.01</td>\n",
       "    </tr>\n",
       "    <tr>\n",
       "      <th>3</th>\n",
       "      <td>1978</td>\n",
       "      <td>13.684918</td>\n",
       "      <td>11.204263</td>\n",
       "      <td>2.616294</td>\n",
       "      <td>2.416294</td>\n",
       "      <td>0.02</td>\n",
       "      <td>0.00</td>\n",
       "    </tr>\n",
       "    <tr>\n",
       "      <th>4</th>\n",
       "      <td>1979</td>\n",
       "      <td>14.243410</td>\n",
       "      <td>11.204263</td>\n",
       "      <td>2.656294</td>\n",
       "      <td>2.416294</td>\n",
       "      <td>0.04</td>\n",
       "      <td>0.00</td>\n",
       "    </tr>\n",
       "  </tbody>\n",
       "</table>\n",
       "</div>"
      ],
      "text/plain": [
       "   YEAR       RPK1       RPK2        X1        X2   DX1   DX2\n",
       "0  1975  13.548751  11.092779  2.606294  2.406294   NaN   NaN\n",
       "1  1976  13.413939  11.092779  2.596294  2.406294 -0.01  0.00\n",
       "2  1977  13.413939  11.204263  2.596294  2.416294  0.00  0.01\n",
       "3  1978  13.684918  11.204263  2.616294  2.416294  0.02  0.00\n",
       "4  1979  14.243410  11.204263  2.656294  2.416294  0.04  0.00"
      ]
     },
     "execution_count": 50,
     "metadata": {},
     "output_type": "execute_result"
    }
   ],
   "source": [
    "airlines = pd.read_csv('TrainExer64.txt', sep='\\t')\n",
    "airlines.head()"
   ]
  },
  {
   "cell_type": "code",
   "execution_count": 64,
   "metadata": {
    "collapsed": false
   },
   "outputs": [
    {
     "data": {
      "image/png": "[encoded data removed]",
      "text/plain": [
       "<matplotlib.figure.Figure at 0x7f6ca3cd3790>"
      ]
     },
     "metadata": {},
     "output_type": "display_data"
    }
   ],
   "source": [
    "airlines.RPK1.plot()\n",
    "airlines.RPK2.plot()\n",
    "plt.legend()\n",
    "plt.show()"
   ]
  },
  {
   "cell_type": "markdown",
   "metadata": {},
   "source": [
    "- $X_1 = \\log \\text{RPK}_1$, $DX_{1t} = X_{1t} - X_{1,t-1}$\n",
    "- $X_2 = \\log \\text{RPK}_2$, $DX_{2t} = X_{2t} - X_{2,t-1}$"
   ]
  },
  {
   "cell_type": "code",
   "execution_count": 54,
   "metadata": {
    "collapsed": false
   },
   "outputs": [
    {
     "data": {
      "image/png": "[encoded data removed]",
      "text/plain": [
       "<matplotlib.figure.Figure at 0x7f6ca4875350>"
      ]
     },
     "metadata": {},
     "output_type": "display_data"
    }
   ],
   "source": [
    "airlines.DX1.plot()\n",
    "airlines.DX2.plot()\n",
    "plt.legend()\n",
    "plt.show()"
   ]
  },
  {
   "cell_type": "markdown",
   "metadata": {},
   "source": [
    "The datafile `TrainExer64` contains the Revenue Passenger Kilometer (RPK) data of two airline companies that were\n",
    "considered in Lecture 6.4. In this exercise, you are asked to perform a set of regressions to check the main results\n",
    "presented in the lecture. For ease of notation, we denote the $\\log$ of RPK by $X_1$ for company 1 and by $X_2$ for\n",
    "company 2. The first differences $∆X_1$ and $∆X_2$ are the yearly growth rates of RPK."
   ]
  },
  {
   "cell_type": "markdown",
   "metadata": {},
   "source": [
    "**(a)** Perform two $F$-tests, one for the Granger causality of $∆X_2$ for $∆X_1$ and the other for the Granger causality of $∆X_1$ for $∆X_2$. Include a constant and two lags of both variables in the test equations. Report the degrees of freedom and the numerical values of the two $F$-tests, and draw your conclusion. The relevant 5% critical value\n",
    "is 3.3."
   ]
  },
  {
   "cell_type": "markdown",
   "metadata": {},
   "source": [
    "Model for $X_1$:\n",
    "\n",
    "$$\\Delta X_{1t} = \\alpha + \\beta_1 \\, \\Delta X_{1,t-1} + \\beta_2 \\, \\Delta X_{1,t-2} + \\gamma_1 \\, \\Delta X_{2,t-1} + \\gamma_2 \\, \\Delta X_{2,t-2}$$\n",
    "\n",
    "Hypothesis for this model: $H_0$: $\\Delta X_2$ is not Granger-causal for $\\Delta X_1$, i.e. $\\gamma_1 = \\gamma_2 = 0$"
   ]
  },
  {
   "cell_type": "code",
   "execution_count": 101,
   "metadata": {
    "collapsed": false
   },
   "outputs": [],
   "source": [
    "airlines['X1_lag1'] = airlines.X1.shift(1)\n",
    "airlines['X1_lag2'] = airlines.X1.shift(2)\n",
    "airlines['X2_lag1'] = airlines.X2.shift(1)\n",
    "airlines['X2_lag2'] = airlines.X2.shift(2)\n",
    "\n",
    "airlines['DX1_lag1'] = airlines.DX1.shift(1)\n",
    "airlines['DX1_lag2'] = airlines.DX1.shift(2)\n",
    "airlines['DX2_lag1'] = airlines.DX2.shift(1)\n",
    "airlines['DX2_lag2'] = airlines.DX2.shift(2)\n",
    "\n",
    "airlines_cleaned = airlines.dropna()"
   ]
  },
  {
   "cell_type": "code",
   "execution_count": 259,
   "metadata": {
    "collapsed": true
   },
   "outputs": [],
   "source": [
    "def summary(model, names):\n",
    "    return pd.DataFrame(\n",
    "             {'coeff': names,\n",
    "              'value': model.params, \n",
    "              '$t$-value': model.tvalues,\n",
    "              'SE': model.bse,\n",
    "              '$p$-value': model.pvalues},\n",
    "             columns=['coeff', 'value', 'SE', '$t$-value', '$p$-value'])"
   ]
  },
  {
   "cell_type": "code",
   "execution_count": 260,
   "metadata": {
    "collapsed": false,
    "scrolled": true
   },
   "outputs": [
    {
     "data": {
      "text/html": [
       "<div>\n",
       "<table border=\"1\" class=\"dataframe\">\n",
       "  <thead>\n",
       "    <tr style=\"text-align: right;\">\n",
       "      <th></th>\n",
       "      <th>coeff</th>\n",
       "      <th>value</th>\n",
       "      <th>SE</th>\n",
       "      <th>$t$-value</th>\n",
       "      <th>$p$-value</th>\n",
       "    </tr>\n",
       "  </thead>\n",
       "  <tbody>\n",
       "    <tr>\n",
       "      <th>Intercept</th>\n",
       "      <td>$\\alpha$</td>\n",
       "      <td>0.006644</td>\n",
       "      <td>0.003602</td>\n",
       "      <td>1.844762</td>\n",
       "      <td>0.074064</td>\n",
       "    </tr>\n",
       "    <tr>\n",
       "      <th>DX1_lag1</th>\n",
       "      <td>$\\beta_1$</td>\n",
       "      <td>0.871633</td>\n",
       "      <td>0.175794</td>\n",
       "      <td>4.958270</td>\n",
       "      <td>0.000021</td>\n",
       "    </tr>\n",
       "    <tr>\n",
       "      <th>DX1_lag2</th>\n",
       "      <td>$\\beta_2$</td>\n",
       "      <td>-0.422589</td>\n",
       "      <td>0.209027</td>\n",
       "      <td>-2.021695</td>\n",
       "      <td>0.051378</td>\n",
       "    </tr>\n",
       "    <tr>\n",
       "      <th>DX2_lag1</th>\n",
       "      <td>$\\gamma_1$</td>\n",
       "      <td>0.345883</td>\n",
       "      <td>0.198947</td>\n",
       "      <td>1.738565</td>\n",
       "      <td>0.091435</td>\n",
       "    </tr>\n",
       "    <tr>\n",
       "      <th>DX2_lag2</th>\n",
       "      <td>$\\gamma_2$</td>\n",
       "      <td>-0.194779</td>\n",
       "      <td>0.153613</td>\n",
       "      <td>-1.267987</td>\n",
       "      <td>0.213676</td>\n",
       "    </tr>\n",
       "  </tbody>\n",
       "</table>\n",
       "</div>"
      ],
      "text/plain": [
       "                coeff     value        SE  $t$-value  $p$-value\n",
       "Intercept    $\\alpha$  0.006644  0.003602   1.844762   0.074064\n",
       "DX1_lag1    $\\beta_1$  0.871633  0.175794   4.958270   0.000021\n",
       "DX1_lag2    $\\beta_2$ -0.422589  0.209027  -2.021695   0.051378\n",
       "DX2_lag1   $\\gamma_1$  0.345883  0.198947   1.738565   0.091435\n",
       "DX2_lag2   $\\gamma_2$ -0.194779  0.153613  -1.267987   0.213676"
      ]
     },
     "execution_count": 260,
     "metadata": {},
     "output_type": "execute_result"
    }
   ],
   "source": [
    "model_a1 = ols('DX1 ~ DX1_lag1 + DX1_lag2 + DX2_lag1 + DX2_lag2', data=airlines_cleaned).fit()\n",
    "summary(model_a1, ['$\\\\alpha$', '$\\\\beta_1$', '$\\\\beta_2$', '$\\gamma_1$', '$\\gamma_2$'])"
   ]
  },
  {
   "cell_type": "markdown",
   "metadata": {},
   "source": [
    "Coefficients $\\gamma_1$ and $\\gamma_2$ do not seem signigicant. Let's do a joint $F$-Test"
   ]
  },
  {
   "cell_type": "code",
   "execution_count": 103,
   "metadata": {
    "collapsed": false
   },
   "outputs": [],
   "source": [
    "model_a1_null = ols('DX1 ~ DX1_lag1 + DX1_lag2', data=airlines_cleaned).fit()\n",
    "a1_R2_null = model_a1_null.rsquared"
   ]
  },
  {
   "cell_type": "code",
   "execution_count": 104,
   "metadata": {
    "collapsed": false
   },
   "outputs": [
    {
     "name": "stdout",
     "output_type": "stream",
     "text": [
      "2 38 5\n"
     ]
    },
    {
     "data": {
      "text/plain": [
       "2.1498457182282347"
      ]
     },
     "execution_count": 104,
     "metadata": {},
     "output_type": "execute_result"
    }
   ],
   "source": [
    "g = 2\n",
    "n = len(airlines_cleaned)\n",
    "k = 5\n",
    "print g, n, k\n",
    "F = ((model_a1.rsquared - a1_R2_null) / g) / ((1 - model_a1.rsquared) / (n - k))\n",
    "F"
   ]
  },
  {
   "cell_type": "markdown",
   "metadata": {},
   "source": [
    "$n=38$ - even though we started with $n=40$, two observations are lost because we use lag-2 model"
   ]
  },
  {
   "cell_type": "code",
   "execution_count": 105,
   "metadata": {
    "collapsed": false
   },
   "outputs": [
    {
     "name": "stdout",
     "output_type": "stream",
     "text": [
      "F = 2.1498 (p-value = 0.1325)\n"
     ]
    }
   ],
   "source": [
    "R = [[0, 0, 0, 1, 0], \n",
    "     [0, 0, 0, 0, 1]]\n",
    "\n",
    "f_test = model_a1.f_test(R)\n",
    "print 'F = %0.4f (p-value = %0.4f)' % (f_test.fvalue[0][0], f_test.pvalue)"
   ]
  },
  {
   "cell_type": "code",
   "execution_count": 106,
   "metadata": {
    "collapsed": false
   },
   "outputs": [
    {
     "data": {
      "text/plain": [
       "<class 'statsmodels.stats.contrast.ContrastResults'>\n",
       "<F test: F=array([[ 2.14984572]]), p=0.132538961328, df_denom=33, df_num=2>"
      ]
     },
     "execution_count": 106,
     "metadata": {},
     "output_type": "execute_result"
    }
   ],
   "source": [
    "model_a1.f_test('DX2_lag1 = DX2_lag2 = 0')"
   ]
  },
  {
   "cell_type": "markdown",
   "metadata": {},
   "source": [
    "Expected: ![](https://habrastorage.org/files/aa0/e97/fa9/aa0e97fa9b4c41bb8707ad2ac94c13b3.png)"
   ]
  },
  {
   "cell_type": "code",
   "execution_count": 261,
   "metadata": {
    "collapsed": false
   },
   "outputs": [
    {
     "data": {
      "text/html": [
       "<div>\n",
       "<table border=\"1\" class=\"dataframe\">\n",
       "  <thead>\n",
       "    <tr style=\"text-align: right;\">\n",
       "      <th></th>\n",
       "      <th>coeff</th>\n",
       "      <th>value</th>\n",
       "      <th>SE</th>\n",
       "      <th>$t$-value</th>\n",
       "      <th>$p$-value</th>\n",
       "    </tr>\n",
       "  </thead>\n",
       "  <tbody>\n",
       "    <tr>\n",
       "      <th>Intercept</th>\n",
       "      <td>$\\alpha$</td>\n",
       "      <td>0.008188</td>\n",
       "      <td>0.002867</td>\n",
       "      <td>2.855962</td>\n",
       "      <td>0.007367</td>\n",
       "    </tr>\n",
       "    <tr>\n",
       "      <th>DX1_lag1</th>\n",
       "      <td>$\\beta_1$</td>\n",
       "      <td>0.180135</td>\n",
       "      <td>0.139929</td>\n",
       "      <td>1.287331</td>\n",
       "      <td>0.206935</td>\n",
       "    </tr>\n",
       "    <tr>\n",
       "      <th>DX1_lag2</th>\n",
       "      <td>$\\beta_2$</td>\n",
       "      <td>0.611831</td>\n",
       "      <td>0.166383</td>\n",
       "      <td>3.677254</td>\n",
       "      <td>0.000832</td>\n",
       "    </tr>\n",
       "    <tr>\n",
       "      <th>DX2_lag1</th>\n",
       "      <td>$\\gamma_1$</td>\n",
       "      <td>-0.286987</td>\n",
       "      <td>0.158359</td>\n",
       "      <td>-1.812255</td>\n",
       "      <td>0.079055</td>\n",
       "    </tr>\n",
       "    <tr>\n",
       "      <th>DX2_lag2</th>\n",
       "      <td>$\\gamma_2$</td>\n",
       "      <td>-0.128824</td>\n",
       "      <td>0.122274</td>\n",
       "      <td>-1.053569</td>\n",
       "      <td>0.299734</td>\n",
       "    </tr>\n",
       "  </tbody>\n",
       "</table>\n",
       "</div>"
      ],
      "text/plain": [
       "                coeff     value        SE  $t$-value  $p$-value\n",
       "Intercept    $\\alpha$  0.008188  0.002867   2.855962   0.007367\n",
       "DX1_lag1    $\\beta_1$  0.180135  0.139929   1.287331   0.206935\n",
       "DX1_lag2    $\\beta_2$  0.611831  0.166383   3.677254   0.000832\n",
       "DX2_lag1   $\\gamma_1$ -0.286987  0.158359  -1.812255   0.079055\n",
       "DX2_lag2   $\\gamma_2$ -0.128824  0.122274  -1.053569   0.299734"
      ]
     },
     "execution_count": 261,
     "metadata": {},
     "output_type": "execute_result"
    }
   ],
   "source": [
    "model_a2 = ols('DX2 ~ DX1_lag1 + DX1_lag2 + DX2_lag1 + DX2_lag2', data=airlines_cleaned).fit()\n",
    "summary(model_a2, ['$\\\\alpha$', '$\\\\beta_1$', '$\\\\beta_2$', '$\\gamma_1$', '$\\gamma_2$'])"
   ]
  },
  {
   "cell_type": "code",
   "execution_count": 108,
   "metadata": {
    "collapsed": false
   },
   "outputs": [
    {
     "data": {
      "text/plain": [
       "<class 'statsmodels.stats.contrast.ContrastResults'>\n",
       "<F test: F=array([[ 14.23500072]]), p=3.48768154598e-05, df_denom=33, df_num=2>"
      ]
     },
     "execution_count": 108,
     "metadata": {},
     "output_type": "execute_result"
    }
   ],
   "source": [
    "model_a1.f_test('DX1_lag1 = DX1_lag2 = 0')"
   ]
  },
  {
   "cell_type": "markdown",
   "metadata": {},
   "source": [
    "So for the second model, $F$-test is significant, while for the first one it's not. \n",
    "Which means that $\\Delta X_2$ is Granger-causal to $\\Delta X_1$, but no the other way around"
   ]
  },
  {
   "cell_type": "markdown",
   "metadata": {},
   "source": [
    "**(b)**\n",
    "\n",
    "**(i)** Perform the Augmented Dickey-Fuller (ADF) test for $X_1$. In the ADF test equation, include (among\n",
    "others) a constant $α$, a deterministic trend term $βt$, and a single lag of $∆X_1$. Report the coefficient\n",
    "of $X_{1,t-1}$ and its standard error and $t$-value, and draw your conclusion."
   ]
  },
  {
   "cell_type": "markdown",
   "metadata": {},
   "source": [
    "$X_1$ and $X_2$ have trends - so we need to include a trend term as well"
   ]
  },
  {
   "cell_type": "markdown",
   "metadata": {},
   "source": [
    "for **(i)** we estimate parameters of the following regression:\n",
    "\n",
    "$$\\Delta X_{1,t} = \\alpha + \\beta\\, t + \\rho \\, X_{1,t-1} + \\gamma \\, \\Delta X_{1,t-1}$$"
   ]
  },
  {
   "cell_type": "code",
   "execution_count": 262,
   "metadata": {
    "collapsed": false
   },
   "outputs": [],
   "source": [
    "airlines_cleaned = pd.DataFrame(airlines_cleaned)\n",
    "airlines_cleaned['time'] = range(0, len(airlines_cleaned))"
   ]
  },
  {
   "cell_type": "code",
   "execution_count": 263,
   "metadata": {
    "collapsed": false,
    "scrolled": true
   },
   "outputs": [
    {
     "data": {
      "text/html": [
       "<div>\n",
       "<table border=\"1\" class=\"dataframe\">\n",
       "  <thead>\n",
       "    <tr style=\"text-align: right;\">\n",
       "      <th></th>\n",
       "      <th>coeff</th>\n",
       "      <th>value</th>\n",
       "      <th>SE</th>\n",
       "      <th>$t$-value</th>\n",
       "      <th>$p$-value</th>\n",
       "    </tr>\n",
       "  </thead>\n",
       "  <tbody>\n",
       "    <tr>\n",
       "      <th>Intercept</th>\n",
       "      <td>$\\alpha$</td>\n",
       "      <td>0.483953</td>\n",
       "      <td>0.174037</td>\n",
       "      <td>2.780740</td>\n",
       "      <td>0.008779</td>\n",
       "    </tr>\n",
       "    <tr>\n",
       "      <th>time</th>\n",
       "      <td>$\\beta$</td>\n",
       "      <td>0.002589</td>\n",
       "      <td>0.000925</td>\n",
       "      <td>2.798365</td>\n",
       "      <td>0.008400</td>\n",
       "    </tr>\n",
       "    <tr>\n",
       "      <th>X1_lag1</th>\n",
       "      <td>$\\rho$</td>\n",
       "      <td>-0.183907</td>\n",
       "      <td>0.066887</td>\n",
       "      <td>-2.749518</td>\n",
       "      <td>0.009489</td>\n",
       "    </tr>\n",
       "    <tr>\n",
       "      <th>DX1_lag1</th>\n",
       "      <td>$\\gamma$</td>\n",
       "      <td>0.771839</td>\n",
       "      <td>0.139986</td>\n",
       "      <td>5.513700</td>\n",
       "      <td>0.000004</td>\n",
       "    </tr>\n",
       "  </tbody>\n",
       "</table>\n",
       "</div>"
      ],
      "text/plain": [
       "              coeff     value        SE  $t$-value  $p$-value\n",
       "Intercept  $\\alpha$  0.483953  0.174037   2.780740   0.008779\n",
       "time        $\\beta$  0.002589  0.000925   2.798365   0.008400\n",
       "X1_lag1      $\\rho$ -0.183907  0.066887  -2.749518   0.009489\n",
       "DX1_lag1   $\\gamma$  0.771839  0.139986   5.513700   0.000004"
      ]
     },
     "execution_count": 263,
     "metadata": {},
     "output_type": "execute_result"
    }
   ],
   "source": [
    "model_b1 = ols('DX1 ~ time + X1_lag1 + DX1_lag1', data=airlines_cleaned).fit()\n",
    "summary(model_b1, ['$\\\\alpha$', '$\\\\beta$', '$\\\\rho$', '$\\gamma$'])"
   ]
  },
  {
   "cell_type": "markdown",
   "metadata": {},
   "source": [
    "Critical value of the ADF test is -3.5. Because $t_\\rho = -2.74 > -3.5$, we conclude that $X_1$ is not stationary"
   ]
  },
  {
   "cell_type": "markdown",
   "metadata": {},
   "source": [
    "**(ii)** Perform a similar ADF test for $X_2$.\n",
    "Note that the 5% critical value differs from the usual one, as explained in the lecture."
   ]
  },
  {
   "cell_type": "code",
   "execution_count": 264,
   "metadata": {
    "collapsed": false,
    "scrolled": true
   },
   "outputs": [
    {
     "data": {
      "text/html": [
       "<div>\n",
       "<table border=\"1\" class=\"dataframe\">\n",
       "  <thead>\n",
       "    <tr style=\"text-align: right;\">\n",
       "      <th></th>\n",
       "      <th>coeff</th>\n",
       "      <th>value</th>\n",
       "      <th>SE</th>\n",
       "      <th>$t$-value</th>\n",
       "      <th>$p$-value</th>\n",
       "    </tr>\n",
       "  </thead>\n",
       "  <tbody>\n",
       "    <tr>\n",
       "      <th>Intercept</th>\n",
       "      <td>$\\alpha$</td>\n",
       "      <td>0.393432</td>\n",
       "      <td>0.308547</td>\n",
       "      <td>1.275111</td>\n",
       "      <td>0.210915</td>\n",
       "    </tr>\n",
       "    <tr>\n",
       "      <th>time</th>\n",
       "      <td>$\\beta$</td>\n",
       "      <td>0.002364</td>\n",
       "      <td>0.001687</td>\n",
       "      <td>1.401242</td>\n",
       "      <td>0.170204</td>\n",
       "    </tr>\n",
       "    <tr>\n",
       "      <th>X2_lag1</th>\n",
       "      <td>$\\rho$</td>\n",
       "      <td>-0.160601</td>\n",
       "      <td>0.128576</td>\n",
       "      <td>-1.249077</td>\n",
       "      <td>0.220168</td>\n",
       "    </tr>\n",
       "    <tr>\n",
       "      <th>DX2_lag1</th>\n",
       "      <td>$\\gamma$</td>\n",
       "      <td>0.202742</td>\n",
       "      <td>0.191476</td>\n",
       "      <td>1.058837</td>\n",
       "      <td>0.297139</td>\n",
       "    </tr>\n",
       "  </tbody>\n",
       "</table>\n",
       "</div>"
      ],
      "text/plain": [
       "              coeff     value        SE  $t$-value  $p$-value\n",
       "Intercept  $\\alpha$  0.393432  0.308547   1.275111   0.210915\n",
       "time        $\\beta$  0.002364  0.001687   1.401242   0.170204\n",
       "X2_lag1      $\\rho$ -0.160601  0.128576  -1.249077   0.220168\n",
       "DX2_lag1   $\\gamma$  0.202742  0.191476   1.058837   0.297139"
      ]
     },
     "execution_count": 264,
     "metadata": {},
     "output_type": "execute_result"
    }
   ],
   "source": [
    "model_b1 = ols('DX2 ~ time + X2_lag1 + DX2_lag1', data=airlines_cleaned).fit()\n",
    "summary(model_b1, ['$\\\\alpha$', '$\\\\beta$', '$\\\\rho$', '$\\gamma$'])"
   ]
  },
  {
   "cell_type": "markdown",
   "metadata": {},
   "source": [
    "Same conclusion for $X_2$ - it's not stationary"
   ]
  },
  {
   "cell_type": "markdown",
   "metadata": {},
   "source": [
    "**(c)** Perform the two-step Engle-Granger test for cointegration of the time series $X_1$ and $X_2$. \n",
    "\n",
    "- Check that step1 gives $X_{2,t} = 0.01 + 0.92\\, X_{1,t}$\n",
    "- The second-step regression is of the type $e_t = α + ρ\\, e_{t-1} + β \\, ∆e_{t-1} + ω_t$, where $e_t$ are the residuals of step 1. \n",
    "\n",
    "Further, report the regression equation of step 2, perform the test, and draw your conclusion.\n",
    "Note that the 5% critical value differs from the usual one, as explained in the lecture."
   ]
  },
  {
   "cell_type": "code",
   "execution_count": 265,
   "metadata": {
    "collapsed": false,
    "scrolled": true
   },
   "outputs": [
    {
     "data": {
      "text/html": [
       "<div>\n",
       "<table border=\"1\" class=\"dataframe\">\n",
       "  <thead>\n",
       "    <tr style=\"text-align: right;\">\n",
       "      <th></th>\n",
       "      <th>coeff</th>\n",
       "      <th>value</th>\n",
       "      <th>SE</th>\n",
       "      <th>$t$-value</th>\n",
       "      <th>$p$-value</th>\n",
       "    </tr>\n",
       "  </thead>\n",
       "  <tbody>\n",
       "    <tr>\n",
       "      <th>Intercept</th>\n",
       "      <td>$\\alpha$</td>\n",
       "      <td>0.011586</td>\n",
       "      <td>0.050053</td>\n",
       "      <td>0.23148</td>\n",
       "      <td>8.181525e-01</td>\n",
       "    </tr>\n",
       "    <tr>\n",
       "      <th>X1</th>\n",
       "      <td>$\\beta$</td>\n",
       "      <td>0.919247</td>\n",
       "      <td>0.017441</td>\n",
       "      <td>52.70656</td>\n",
       "      <td>7.269006e-38</td>\n",
       "    </tr>\n",
       "  </tbody>\n",
       "</table>\n",
       "</div>"
      ],
      "text/plain": [
       "              coeff     value        SE  $t$-value     $p$-value\n",
       "Intercept  $\\alpha$  0.011586  0.050053    0.23148  8.181525e-01\n",
       "X1          $\\beta$  0.919247  0.017441   52.70656  7.269006e-38"
      ]
     },
     "execution_count": 265,
     "metadata": {},
     "output_type": "execute_result"
    }
   ],
   "source": [
    "model_c_1 = ols('X2 ~ X1', data=airlines).fit()\n",
    "summary(model_c_1, ['$\\\\alpha$', '$\\\\beta$'])"
   ]
  },
  {
   "cell_type": "markdown",
   "metadata": {},
   "source": [
    "Now let's test stationarity of $e_t$ by ADF, model\n",
    "\n",
    "$$\\Delta e_t = \\alpha + \\rho\\, e_{t-1} + \\beta \\, \\Delta e_{t-1}$$"
   ]
  },
  {
   "cell_type": "code",
   "execution_count": 266,
   "metadata": {
    "collapsed": false
   },
   "outputs": [
    {
     "data": {
      "text/html": [
       "<div>\n",
       "<table border=\"1\" class=\"dataframe\">\n",
       "  <thead>\n",
       "    <tr style=\"text-align: right;\">\n",
       "      <th></th>\n",
       "      <th>coeff</th>\n",
       "      <th>value</th>\n",
       "      <th>SE</th>\n",
       "      <th>$t$-value</th>\n",
       "      <th>$p$-value</th>\n",
       "    </tr>\n",
       "  </thead>\n",
       "  <tbody>\n",
       "    <tr>\n",
       "      <th>Intercept</th>\n",
       "      <td>$\\alpha$</td>\n",
       "      <td>-0.000090</td>\n",
       "      <td>0.002369</td>\n",
       "      <td>-0.037860</td>\n",
       "      <td>0.970008</td>\n",
       "    </tr>\n",
       "    <tr>\n",
       "      <th>e_1</th>\n",
       "      <td>$\\rho$</td>\n",
       "      <td>-0.495936</td>\n",
       "      <td>0.141510</td>\n",
       "      <td>-3.504600</td>\n",
       "      <td>0.001243</td>\n",
       "    </tr>\n",
       "    <tr>\n",
       "      <th>de_1</th>\n",
       "      <td>$\\beta$</td>\n",
       "      <td>0.303936</td>\n",
       "      <td>0.166356</td>\n",
       "      <td>1.827025</td>\n",
       "      <td>0.075996</td>\n",
       "    </tr>\n",
       "  </tbody>\n",
       "</table>\n",
       "</div>"
      ],
      "text/plain": [
       "              coeff     value        SE  $t$-value  $p$-value\n",
       "Intercept  $\\alpha$ -0.000090  0.002369  -0.037860   0.970008\n",
       "e_1          $\\rho$ -0.495936  0.141510  -3.504600   0.001243\n",
       "de_1        $\\beta$  0.303936  0.166356   1.827025   0.075996"
      ]
     },
     "execution_count": 266,
     "metadata": {},
     "output_type": "execute_result"
    }
   ],
   "source": [
    "e = model_c_1.resid\n",
    "e_1 = e.shift(1)\n",
    "de = e - e_1\n",
    "de_1 = de.shift(1)\n",
    "\n",
    "resid_3 = pd.DataFrame({'e': e, 'e_1': e_1, 'de': de, 'de_1': de_1}).dropna()\n",
    "model_c_2 = ols('de ~ e_1 + de_1', data=resid_3).fit()\n",
    "summary(model_c_2, ['$\\\\alpha$', '$\\rho$', '$\\\\beta$'])"
   ]
  },
  {
   "cell_type": "markdown",
   "metadata": {},
   "source": [
    "$t_{\\rho} = -3.50$, and the critical value for co-integration test without the trend term is -3.4. Because $t_\\rho < -3.4$, we reject $H_0$ that the residuals obtained in the 1st step are non-stationary. \n",
    "\n",
    "So that $X_1$ and $X_2$ are co-integrated"
   ]
  },
  {
   "cell_type": "markdown",
   "metadata": {},
   "source": [
    "**(d)** Finally, estimate an error correction model (ECM) for $X_1$ and also one for $X_2$. \n",
    "\n",
    "- In each ECM, include a constant term, a single own lagged term, and the error correction term $X_{2,t-1} - 0.92\\, X_{1,t-1}$ obtained from the first step\n",
    "of Engle-Granger in part **(c)**. \n",
    "- Provide an interpretation of the results in terms of mechanisms that correct for\n",
    "disequilibrium."
   ]
  },
  {
   "cell_type": "markdown",
   "metadata": {},
   "source": [
    "For $X_1$, ECM is:\n",
    "\n",
    "$$\\Delta X_{1t} = \\alpha + \\beta_1\\, \\Delta X_{1,t-1} + \\beta_2\\, (X_{2,t-1} - 0.92\\, X_{1,t-1}) + e_t$$"
   ]
  },
  {
   "cell_type": "code",
   "execution_count": 267,
   "metadata": {
    "collapsed": false
   },
   "outputs": [
    {
     "data": {
      "text/html": [
       "<div>\n",
       "<table border=\"1\" class=\"dataframe\">\n",
       "  <thead>\n",
       "    <tr style=\"text-align: right;\">\n",
       "      <th></th>\n",
       "      <th>coeff</th>\n",
       "      <th>value</th>\n",
       "      <th>SE</th>\n",
       "      <th>$t$-value</th>\n",
       "      <th>$p$-value</th>\n",
       "    </tr>\n",
       "  </thead>\n",
       "  <tbody>\n",
       "    <tr>\n",
       "      <th>Intercept</th>\n",
       "      <td>$\\alpha$</td>\n",
       "      <td>-0.004902</td>\n",
       "      <td>0.003509</td>\n",
       "      <td>-1.397179</td>\n",
       "      <td>1.711553e-01</td>\n",
       "    </tr>\n",
       "    <tr>\n",
       "      <th>DX1_lag1</th>\n",
       "      <td>$\\beta_1$</td>\n",
       "      <td>1.055174</td>\n",
       "      <td>0.146848</td>\n",
       "      <td>7.185471</td>\n",
       "      <td>2.205232e-08</td>\n",
       "    </tr>\n",
       "    <tr>\n",
       "      <th>equilibrium</th>\n",
       "      <td>$\\beta_2$</td>\n",
       "      <td>0.476456</td>\n",
       "      <td>0.109223</td>\n",
       "      <td>4.362225</td>\n",
       "      <td>1.081756e-04</td>\n",
       "    </tr>\n",
       "  </tbody>\n",
       "</table>\n",
       "</div>"
      ],
      "text/plain": [
       "                 coeff     value        SE  $t$-value     $p$-value\n",
       "Intercept     $\\alpha$ -0.004902  0.003509  -1.397179  1.711553e-01\n",
       "DX1_lag1     $\\beta_1$  1.055174  0.146848   7.185471  2.205232e-08\n",
       "equilibrium  $\\beta_2$  0.476456  0.109223   4.362225  1.081756e-04"
      ]
     },
     "execution_count": 267,
     "metadata": {},
     "output_type": "execute_result"
    }
   ],
   "source": [
    "airlines_cleaned['equilibrium'] = airlines_cleaned.X2_lag1 - 0.92 * airlines_cleaned.X1_lag1\n",
    "\n",
    "model_d1 = ols('DX1 ~ DX1_lag1 + equilibrium', data=airlines_cleaned).fit()\n",
    "summary(model_d1, ['$\\\\alpha$', '$\\\\beta_1$', '$\\\\beta_2$'])"
   ]
  },
  {
   "cell_type": "markdown",
   "metadata": {},
   "source": [
    "- if $X_{2,t-1}$ is too large, as compared to the equilibrium, then  $X_{2,t-1} - 0.92\\, X_{1,t-1} > 0$ and $\\Delta X_{1,t-1} >0$, and hence $X_{1t}$ will become larger. reducing the gap from equilibrium"
   ]
  },
  {
   "cell_type": "markdown",
   "metadata": {},
   "source": [
    "For $X_2$, ECM is:\n",
    "\n",
    "$$\\Delta X_{2t} = \\alpha + \\beta_1\\, \\Delta X_{2,t-1} + \\beta_2\\, (X_{2,t-1} - 0.92\\, X_{1,t-1}) + e_t$$"
   ]
  },
  {
   "cell_type": "code",
   "execution_count": 149,
   "metadata": {
    "collapsed": false
   },
   "outputs": [
    {
     "data": {
      "text/html": [
       "<div>\n",
       "<table border=\"1\" class=\"dataframe\">\n",
       "  <thead>\n",
       "    <tr style=\"text-align: right;\">\n",
       "      <th></th>\n",
       "      <th>coeff</th>\n",
       "      <th>value</th>\n",
       "      <th>$t$-value</th>\n",
       "      <th>SE</th>\n",
       "      <th>$p$-value</th>\n",
       "    </tr>\n",
       "  </thead>\n",
       "  <tbody>\n",
       "    <tr>\n",
       "      <th>Intercept</th>\n",
       "      <td>$\\alpha$</td>\n",
       "      <td>0.017932</td>\n",
       "      <td>7.178496</td>\n",
       "      <td>0.002498</td>\n",
       "      <td>2.251154e-08</td>\n",
       "    </tr>\n",
       "    <tr>\n",
       "      <th>DX2_lag1</th>\n",
       "      <td>$\\beta_1$</td>\n",
       "      <td>0.056211</td>\n",
       "      <td>0.434326</td>\n",
       "      <td>0.129421</td>\n",
       "      <td>6.667176e-01</td>\n",
       "    </tr>\n",
       "    <tr>\n",
       "      <th>equilibrium</th>\n",
       "      <td>$\\beta_2$</td>\n",
       "      <td>-0.443373</td>\n",
       "      <td>-5.671210</td>\n",
       "      <td>0.078180</td>\n",
       "      <td>2.094886e-06</td>\n",
       "    </tr>\n",
       "  </tbody>\n",
       "</table>\n",
       "</div>"
      ],
      "text/plain": [
       "                 coeff     value  $t$-value        SE     $p$-value\n",
       "Intercept     $\\alpha$  0.017932   7.178496  0.002498  2.251154e-08\n",
       "DX2_lag1     $\\beta_1$  0.056211   0.434326  0.129421  6.667176e-01\n",
       "equilibrium  $\\beta_2$ -0.443373  -5.671210  0.078180  2.094886e-06"
      ]
     },
     "execution_count": 149,
     "metadata": {},
     "output_type": "execute_result"
    }
   ],
   "source": [
    "model_d2 = ols('DX2 ~ DX2_lag1 + equilibrium', data=airlines_cleaned).fit()\n",
    "summary(model_d2, ['$\\\\alpha$', '$\\\\beta_1$', '$\\\\beta_2$'])"
   ]
  },
  {
   "cell_type": "markdown",
   "metadata": {},
   "source": [
    "if $X_{2,t-1}$ is large compared to the equilibrium s.t. $X_{2,t-1} - 0.92\\, X_{1,t-1} > 0$,then $\\Delta X_{1,t-1} <0$, and $X_{2t}$ becomes smaller - reducing the gap from equilibrium\n",
    "\n",
    "\"ERRORS\" - deviations from the equilibrium"
   ]
  },
  {
   "cell_type": "markdown",
   "metadata": {},
   "source": [
    "## Training Exercise 6.5"
   ]
  },
  {
   "cell_type": "markdown",
   "metadata": {},
   "source": [
    "The datafile `TrainExer65` contains yearly data on industrial production (`IP`) in the USA and on the Composite\n",
    "Leading Index (`CLI`), both in logarithms. \n",
    "\n",
    "The example in Lecture 6.5 considered monthly data, and now we consider\n",
    "yearly data, both for the two log-series and for their first differences that correspond to the yearly growth rates. The\n",
    "main question of interest is whether past values of the growth rate in `CLI` have predictive power for future growth\n",
    "rates of `IP`. We denote the yearly growth rates by $\\text{GIP} = ∆ \\log \\text{IP}$ and $\\text{GCLI} = ∆ \\log \\text{CLI}$.\n",
    "\n",
    "Note: In all questions, use 1960-2002 as estimation and test sample, and use 2003-2007 as hold-out forecast\n",
    "evaluation sample. That is, the data for 2003-2007 are nowhere used to estimate models or to perform tests, and\n",
    "these data are only used for forecast comparison"
   ]
  },
  {
   "cell_type": "code",
   "execution_count": 222,
   "metadata": {
    "collapsed": false
   },
   "outputs": [
    {
     "data": {
      "text/html": [
       "<div>\n",
       "<table border=\"1\" class=\"dataframe\">\n",
       "  <thead>\n",
       "    <tr style=\"text-align: right;\">\n",
       "      <th></th>\n",
       "      <th>YEAR</th>\n",
       "      <th>LOGIP</th>\n",
       "      <th>LOGCLI</th>\n",
       "      <th>GIP</th>\n",
       "      <th>GCLI</th>\n",
       "      <th>time</th>\n",
       "    </tr>\n",
       "  </thead>\n",
       "  <tbody>\n",
       "    <tr>\n",
       "      <th>0</th>\n",
       "      <td>1960</td>\n",
       "      <td>3.207248</td>\n",
       "      <td>3.437208</td>\n",
       "      <td>-0.063612</td>\n",
       "      <td>-0.015949</td>\n",
       "      <td>0</td>\n",
       "    </tr>\n",
       "    <tr>\n",
       "      <th>1</th>\n",
       "      <td>1961</td>\n",
       "      <td>3.325288</td>\n",
       "      <td>3.538057</td>\n",
       "      <td>0.118039</td>\n",
       "      <td>0.100849</td>\n",
       "      <td>1</td>\n",
       "    </tr>\n",
       "    <tr>\n",
       "      <th>2</th>\n",
       "      <td>1962</td>\n",
       "      <td>3.359298</td>\n",
       "      <td>3.566712</td>\n",
       "      <td>0.034011</td>\n",
       "      <td>0.028655</td>\n",
       "      <td>2</td>\n",
       "    </tr>\n",
       "    <tr>\n",
       "      <th>3</th>\n",
       "      <td>1963</td>\n",
       "      <td>3.425988</td>\n",
       "      <td>3.621671</td>\n",
       "      <td>0.066689</td>\n",
       "      <td>0.054959</td>\n",
       "      <td>3</td>\n",
       "    </tr>\n",
       "    <tr>\n",
       "      <th>4</th>\n",
       "      <td>1964</td>\n",
       "      <td>3.511217</td>\n",
       "      <td>3.683867</td>\n",
       "      <td>0.085229</td>\n",
       "      <td>0.062196</td>\n",
       "      <td>4</td>\n",
       "    </tr>\n",
       "  </tbody>\n",
       "</table>\n",
       "</div>"
      ],
      "text/plain": [
       "   YEAR     LOGIP    LOGCLI       GIP      GCLI  time\n",
       "0  1960  3.207248  3.437208 -0.063612 -0.015949     0\n",
       "1  1961  3.325288  3.538057  0.118039  0.100849     1\n",
       "2  1962  3.359298  3.566712  0.034011  0.028655     2\n",
       "3  1963  3.425988  3.621671  0.066689  0.054959     3\n",
       "4  1964  3.511217  3.683867  0.085229  0.062196     4"
      ]
     },
     "execution_count": 222,
     "metadata": {},
     "output_type": "execute_result"
    }
   ],
   "source": [
    "gr = pd.read_csv('TrainExer65.txt', sep='\\t')\n",
    "gr['time'] = range(0, len(gr))\n",
    "gr.head()"
   ]
  },
  {
   "cell_type": "code",
   "execution_count": 223,
   "metadata": {
    "collapsed": false
   },
   "outputs": [],
   "source": [
    "train = gr.YEAR < 2003"
   ]
  },
  {
   "cell_type": "markdown",
   "metadata": {},
   "source": [
    "**(a)** Make time series plots of $\\log \\text{IP}$ and $\\log \\text{CLI}$, and also of the yearly growth rates `GIP` and `GCLI`. What\n",
    "conclusions do you draw from these plots?"
   ]
  },
  {
   "cell_type": "code",
   "execution_count": 224,
   "metadata": {
    "collapsed": false
   },
   "outputs": [
    {
     "data": {
      "text/plain": [
       "<matplotlib.legend.Legend at 0x7f6ca29ca110>"
      ]
     },
     "execution_count": 224,
     "metadata": {},
     "output_type": "execute_result"
    },
    {
     "data": {
      "image/png": "[encoded data removed]",
      "text/plain": [
       "<matplotlib.figure.Figure at 0x7f6ca31e7750>"
      ]
     },
     "metadata": {},
     "output_type": "display_data"
    }
   ],
   "source": [
    "gr[train].LOGIP.plot()\n",
    "gr[train].LOGCLI.plot()\n",
    "plt.legend()"
   ]
  },
  {
   "cell_type": "markdown",
   "metadata": {},
   "source": [
    "Both series have a trend, perhaps they are co-integrated. `LOGIP` should be possible to predict from `LOGCLI`"
   ]
  },
  {
   "cell_type": "code",
   "execution_count": 225,
   "metadata": {
    "collapsed": false,
    "scrolled": true
   },
   "outputs": [
    {
     "data": {
      "text/plain": [
       "<matplotlib.axes._subplots.AxesSubplot at 0x7f6ca2730990>"
      ]
     },
     "execution_count": 225,
     "metadata": {},
     "output_type": "execute_result"
    },
    {
     "data": {
      "image/png": "[encoded data removed]",
      "text/plain": [
       "<matplotlib.figure.Figure at 0x7f6ca2900410>"
      ]
     },
     "metadata": {},
     "output_type": "display_data"
    }
   ],
   "source": [
    "plt.figure(figsize=(10, 3))\n",
    "ax = plt.subplot(1, 2, 1)\n",
    "gr[train].plot(x='YEAR', y='GIP', ax=ax)\n",
    "\n",
    "ax = plt.subplot(1, 2, 2)\n",
    "gr[train].plot(x='YEAR', y='GCLI', ax=ax)"
   ]
  },
  {
   "cell_type": "markdown",
   "metadata": {},
   "source": [
    "They seem stationary. Note that there are heavy fluctuations in the 70s."
   ]
  },
  {
   "cell_type": "markdown",
   "metadata": {},
   "source": [
    "**(b)**\n",
    "\n",
    "Test for stationatiy\n",
    "\n",
    "**(i)** Perform the Augmented Dickey-Fuller (ADF) test for $\\log \\text{IP}$. In the ADF test equation, include (among\n",
    "others) a constant ($α$), a deterministic trend term ($β\\, t$), and two lags of $\\text{GIP} = ∆ \\log \\text{IP}$. Report the\n",
    "coefficient of $\\log \\text{IP}_{t-1}$ and its standard error and $t$-value, and draw your conclusion."
   ]
  },
  {
   "cell_type": "code",
   "execution_count": 226,
   "metadata": {
    "collapsed": false,
    "scrolled": true
   },
   "outputs": [
    {
     "data": {
      "text/html": [
       "<div>\n",
       "<table border=\"1\" class=\"dataframe\">\n",
       "  <thead>\n",
       "    <tr style=\"text-align: right;\">\n",
       "      <th></th>\n",
       "      <th>coeff</th>\n",
       "      <th>value</th>\n",
       "      <th>$t$-value</th>\n",
       "      <th>SE</th>\n",
       "      <th>$p$-value</th>\n",
       "    </tr>\n",
       "  </thead>\n",
       "  <tbody>\n",
       "    <tr>\n",
       "      <th>Intercept</th>\n",
       "      <td>$\\alpha$</td>\n",
       "      <td>0.974669</td>\n",
       "      <td>2.827441</td>\n",
       "      <td>0.344718</td>\n",
       "      <td>0.007616</td>\n",
       "    </tr>\n",
       "    <tr>\n",
       "      <th>time</th>\n",
       "      <td>$\\gamma$</td>\n",
       "      <td>0.007403</td>\n",
       "      <td>2.496663</td>\n",
       "      <td>0.002965</td>\n",
       "      <td>0.017251</td>\n",
       "    </tr>\n",
       "    <tr>\n",
       "      <th>LOGIP.shift(1)</th>\n",
       "      <td>$\\rho$</td>\n",
       "      <td>-0.275214</td>\n",
       "      <td>-2.706379</td>\n",
       "      <td>0.101691</td>\n",
       "      <td>0.010333</td>\n",
       "    </tr>\n",
       "    <tr>\n",
       "      <th>GIP.shift(1)</th>\n",
       "      <td>$\\beta_1$</td>\n",
       "      <td>0.257488</td>\n",
       "      <td>1.826091</td>\n",
       "      <td>0.141005</td>\n",
       "      <td>0.076140</td>\n",
       "    </tr>\n",
       "    <tr>\n",
       "      <th>GIP.shift(2)</th>\n",
       "      <td>$\\beta_2$</td>\n",
       "      <td>-0.095722</td>\n",
       "      <td>-0.657600</td>\n",
       "      <td>0.145563</td>\n",
       "      <td>0.514978</td>\n",
       "    </tr>\n",
       "  </tbody>\n",
       "</table>\n",
       "</div>"
      ],
      "text/plain": [
       "                    coeff     value  $t$-value        SE  $p$-value\n",
       "Intercept        $\\alpha$  0.974669   2.827441  0.344718   0.007616\n",
       "time             $\\gamma$  0.007403   2.496663  0.002965   0.017251\n",
       "LOGIP.shift(1)     $\\rho$ -0.275214  -2.706379  0.101691   0.010333\n",
       "GIP.shift(1)    $\\beta_1$  0.257488   1.826091  0.141005   0.076140\n",
       "GIP.shift(2)    $\\beta_2$ -0.095722  -0.657600  0.145563   0.514978"
      ]
     },
     "execution_count": 226,
     "metadata": {},
     "output_type": "execute_result"
    }
   ],
   "source": [
    "model_5_b1 = ols('GIP ~ time + LOGIP.shift(1) + GIP.shift(1) + GIP.shift(2)', data=gr[train]).fit()\n",
    "summary(model_5_b1, names=[r'$\\alpha$', r'$\\gamma$', r'$\\rho$', r'$\\beta_1$', r'$\\beta_2$'])"
   ]
  },
  {
   "cell_type": "markdown",
   "metadata": {},
   "source": [
    "Our $t_\\rho = -0.27$, critical $p$-value for $t_\\rho$ is -3.5 (we have a constant and a trend) - so reject $H_0$ of stationarity of $\\log \\text {IP}$"
   ]
  },
  {
   "cell_type": "markdown",
   "metadata": {},
   "source": [
    "**(ii)** Perform a similar ADF test for $\\log \\text{CLI}$."
   ]
  },
  {
   "cell_type": "code",
   "execution_count": 227,
   "metadata": {
    "collapsed": false
   },
   "outputs": [
    {
     "data": {
      "text/html": [
       "<div>\n",
       "<table border=\"1\" class=\"dataframe\">\n",
       "  <thead>\n",
       "    <tr style=\"text-align: right;\">\n",
       "      <th></th>\n",
       "      <th>coeff</th>\n",
       "      <th>value</th>\n",
       "      <th>$t$-value</th>\n",
       "      <th>SE</th>\n",
       "      <th>$p$-value</th>\n",
       "    </tr>\n",
       "  </thead>\n",
       "  <tbody>\n",
       "    <tr>\n",
       "      <th>Intercept</th>\n",
       "      <td>$\\alpha$</td>\n",
       "      <td>0.860860</td>\n",
       "      <td>1.934830</td>\n",
       "      <td>0.444928</td>\n",
       "      <td>0.060899</td>\n",
       "    </tr>\n",
       "    <tr>\n",
       "      <th>time</th>\n",
       "      <td>$\\gamma$</td>\n",
       "      <td>0.005401</td>\n",
       "      <td>1.933398</td>\n",
       "      <td>0.002794</td>\n",
       "      <td>0.061081</td>\n",
       "    </tr>\n",
       "    <tr>\n",
       "      <th>LOGCLI.shift(1)</th>\n",
       "      <td>$\\rho$</td>\n",
       "      <td>-0.240513</td>\n",
       "      <td>-1.885040</td>\n",
       "      <td>0.127591</td>\n",
       "      <td>0.067516</td>\n",
       "    </tr>\n",
       "    <tr>\n",
       "      <th>GCLI.shift(1)</th>\n",
       "      <td>$\\beta_1$</td>\n",
       "      <td>0.302639</td>\n",
       "      <td>2.041502</td>\n",
       "      <td>0.148243</td>\n",
       "      <td>0.048582</td>\n",
       "    </tr>\n",
       "    <tr>\n",
       "      <th>GCLI.shift(2)</th>\n",
       "      <td>$\\beta_2$</td>\n",
       "      <td>-0.284596</td>\n",
       "      <td>-1.818625</td>\n",
       "      <td>0.156490</td>\n",
       "      <td>0.077296</td>\n",
       "    </tr>\n",
       "  </tbody>\n",
       "</table>\n",
       "</div>"
      ],
      "text/plain": [
       "                     coeff     value  $t$-value        SE  $p$-value\n",
       "Intercept         $\\alpha$  0.860860   1.934830  0.444928   0.060899\n",
       "time              $\\gamma$  0.005401   1.933398  0.002794   0.061081\n",
       "LOGCLI.shift(1)     $\\rho$ -0.240513  -1.885040  0.127591   0.067516\n",
       "GCLI.shift(1)    $\\beta_1$  0.302639   2.041502  0.148243   0.048582\n",
       "GCLI.shift(2)    $\\beta_2$ -0.284596  -1.818625  0.156490   0.077296"
      ]
     },
     "execution_count": 227,
     "metadata": {},
     "output_type": "execute_result"
    }
   ],
   "source": [
    "model_5_b2 = ols('GCLI ~ time + LOGCLI.shift(1) + GCLI.shift(1) + GCLI.shift(2)', data=gr[train]).fit()\n",
    "summary(model_5_b2, names=[r'$\\alpha$', r'$\\gamma$', r'$\\rho$', r'$\\beta_1$', r'$\\beta_2$'])"
   ]
  },
  {
   "cell_type": "markdown",
   "metadata": {
    "collapsed": true
   },
   "source": [
    "Our $t_\\rho = -0.24$, critical $p$-value for $t_\\rho$ is -3.5 (we have a constant and a trend) - so reject $H_0$ of stationarity of $\\log \\text {CLI}$"
   ]
  },
  {
   "cell_type": "markdown",
   "metadata": {},
   "source": [
    "**(c)** Perform the two-step Engle-Granger test for cointegration of the time series $\\log \\text{IP}$ and $\\log \\text{CLI}$. "
   ]
  },
  {
   "cell_type": "code",
   "execution_count": 228,
   "metadata": {
    "collapsed": false
   },
   "outputs": [
    {
     "data": {
      "text/html": [
       "<div>\n",
       "<table border=\"1\" class=\"dataframe\">\n",
       "  <thead>\n",
       "    <tr style=\"text-align: right;\">\n",
       "      <th></th>\n",
       "      <th>coeff</th>\n",
       "      <th>value</th>\n",
       "      <th>$t$-value</th>\n",
       "      <th>SE</th>\n",
       "      <th>$p$-value</th>\n",
       "    </tr>\n",
       "  </thead>\n",
       "  <tbody>\n",
       "    <tr>\n",
       "      <th>Intercept</th>\n",
       "      <td>$\\alpha$</td>\n",
       "      <td>-1.020689</td>\n",
       "      <td>-5.004268</td>\n",
       "      <td>0.203964</td>\n",
       "      <td>1.106317e-05</td>\n",
       "    </tr>\n",
       "    <tr>\n",
       "      <th>LOGCLI</th>\n",
       "      <td>$\\beta$</td>\n",
       "      <td>1.270532</td>\n",
       "      <td>24.839894</td>\n",
       "      <td>0.051149</td>\n",
       "      <td>2.479501e-26</td>\n",
       "    </tr>\n",
       "  </tbody>\n",
       "</table>\n",
       "</div>"
      ],
      "text/plain": [
       "              coeff     value  $t$-value        SE     $p$-value\n",
       "Intercept  $\\alpha$ -1.020689  -5.004268  0.203964  1.106317e-05\n",
       "LOGCLI      $\\beta$  1.270532  24.839894  0.051149  2.479501e-26"
      ]
     },
     "execution_count": 228,
     "metadata": {},
     "output_type": "execute_result"
    }
   ],
   "source": [
    "model_5c_1 = ols('LOGIP ~ LOGCLI', data=gr[train]).fit()\n",
    "summary(model_5c_1, ['$\\\\alpha$', '$\\\\beta$'])"
   ]
  },
  {
   "cell_type": "markdown",
   "metadata": {},
   "source": [
    "The second-step regression is of the type $\\Delta e_t = α + \\gamma\\, t + ρ\\, e_{t-1} + β_1\\, \\Delta e_{t-1} + β_2\\, \\Delta e_{t-2} + ω_t$, where $e_t$ are the residuals of step 1."
   ]
  },
  {
   "cell_type": "code",
   "execution_count": 250,
   "metadata": {
    "collapsed": false
   },
   "outputs": [
    {
     "data": {
      "text/html": [
       "<div>\n",
       "<table border=\"1\" class=\"dataframe\">\n",
       "  <thead>\n",
       "    <tr style=\"text-align: right;\">\n",
       "      <th></th>\n",
       "      <th>coeff</th>\n",
       "      <th>value</th>\n",
       "      <th>$t$-value</th>\n",
       "      <th>SE</th>\n",
       "      <th>$p$-value</th>\n",
       "    </tr>\n",
       "  </thead>\n",
       "  <tbody>\n",
       "    <tr>\n",
       "      <th>Intercept</th>\n",
       "      <td>$\\alpha$</td>\n",
       "      <td>0.024026</td>\n",
       "      <td>1.316123</td>\n",
       "      <td>0.018255</td>\n",
       "      <td>0.196688</td>\n",
       "    </tr>\n",
       "    <tr>\n",
       "      <th>time</th>\n",
       "      <td>$\\gamma$</td>\n",
       "      <td>-0.000888</td>\n",
       "      <td>-1.218637</td>\n",
       "      <td>0.000728</td>\n",
       "      <td>0.231132</td>\n",
       "    </tr>\n",
       "    <tr>\n",
       "      <th>e.shift(1)</th>\n",
       "      <td>$\\rho$</td>\n",
       "      <td>-0.177861</td>\n",
       "      <td>-1.757417</td>\n",
       "      <td>0.101206</td>\n",
       "      <td>0.087592</td>\n",
       "    </tr>\n",
       "    <tr>\n",
       "      <th>de.shift(1)</th>\n",
       "      <td>$\\beta_1$</td>\n",
       "      <td>0.142809</td>\n",
       "      <td>0.920374</td>\n",
       "      <td>0.155164</td>\n",
       "      <td>0.363678</td>\n",
       "    </tr>\n",
       "    <tr>\n",
       "      <th>de.shift(2)</th>\n",
       "      <td>$\\beta_2$</td>\n",
       "      <td>-0.318637</td>\n",
       "      <td>-2.008137</td>\n",
       "      <td>0.158673</td>\n",
       "      <td>0.052395</td>\n",
       "    </tr>\n",
       "  </tbody>\n",
       "</table>\n",
       "</div>"
      ],
      "text/plain": [
       "                 coeff     value  $t$-value        SE  $p$-value\n",
       "Intercept     $\\alpha$  0.024026   1.316123  0.018255   0.196688\n",
       "time          $\\gamma$ -0.000888  -1.218637  0.000728   0.231132\n",
       "e.shift(1)      $\\rho$ -0.177861  -1.757417  0.101206   0.087592\n",
       "de.shift(1)  $\\beta_1$  0.142809   0.920374  0.155164   0.363678\n",
       "de.shift(2)  $\\beta_2$ -0.318637  -2.008137  0.158673   0.052395"
      ]
     },
     "execution_count": 250,
     "metadata": {},
     "output_type": "execute_result"
    }
   ],
   "source": [
    "e = model_5c_1.resid\n",
    "\n",
    "resid_53 = pd.DataFrame({'e': e, 'de': e - e.shift(1), 'time': np.arange(0, len(e))})\n",
    "model_5c_2 = ols('de ~ time + e.shift(1) + de.shift(1) + de.shift(2)', data=resid_53).fit()\n",
    "summary(model_5c_2, ['$\\\\alpha$', r'$\\gamma$', '$\\rho$', '$\\\\beta_1$', r'$\\beta_2$'])"
   ]
  },
  {
   "cell_type": "markdown",
   "metadata": {},
   "source": [
    "What is your conclusion?"
   ]
  },
  {
   "cell_type": "markdown",
   "metadata": {},
   "source": [
    "$t_\\rho = -1.75$, but it's more than the critical value $-3.8$, so we don't reject $H_0$ of stationarity of $e_t$, so $\\log \\text{GIP}$ and $\\log \\text{CLI}$ are not co-integrated"
   ]
  },
  {
   "cell_type": "markdown",
   "metadata": {},
   "source": [
    "**(d)** Perform two $F$-tests, \n",
    "\n",
    "- one for the Granger causality of `GIP` for `GCLI` and \n",
    "- the other for the Granger causality of `GCLI` for `GIP`. \n",
    "- Include a constant and two lags of both variables in the test equations. \n",
    "- Report the degrees of freedom and the numerical values of the two $F$-tests, and draw your conclusion. \n",
    "- The relevant 5% critical value is 3.3."
   ]
  },
  {
   "cell_type": "markdown",
   "metadata": {},
   "source": [
    "model 1: `GIP` vs `GCLI`"
   ]
  },
  {
   "cell_type": "code",
   "execution_count": 253,
   "metadata": {
    "collapsed": false
   },
   "outputs": [
    {
     "data": {
      "text/html": [
       "<div>\n",
       "<table border=\"1\" class=\"dataframe\">\n",
       "  <thead>\n",
       "    <tr style=\"text-align: right;\">\n",
       "      <th></th>\n",
       "      <th>coeff</th>\n",
       "      <th>value</th>\n",
       "      <th>$t$-value</th>\n",
       "      <th>SE</th>\n",
       "      <th>$p$-value</th>\n",
       "    </tr>\n",
       "  </thead>\n",
       "  <tbody>\n",
       "    <tr>\n",
       "      <th>Intercept</th>\n",
       "      <td>$\\alpha$</td>\n",
       "      <td>0.974669</td>\n",
       "      <td>2.827441</td>\n",
       "      <td>0.344718</td>\n",
       "      <td>0.007616</td>\n",
       "    </tr>\n",
       "    <tr>\n",
       "      <th>time</th>\n",
       "      <td>$\\beta_1$</td>\n",
       "      <td>0.007403</td>\n",
       "      <td>2.496663</td>\n",
       "      <td>0.002965</td>\n",
       "      <td>0.017251</td>\n",
       "    </tr>\n",
       "    <tr>\n",
       "      <th>LOGIP.shift(1)</th>\n",
       "      <td>$\\beta_2$</td>\n",
       "      <td>-0.275214</td>\n",
       "      <td>-2.706379</td>\n",
       "      <td>0.101691</td>\n",
       "      <td>0.010333</td>\n",
       "    </tr>\n",
       "    <tr>\n",
       "      <th>GIP.shift(1)</th>\n",
       "      <td>$\\gamma_1$</td>\n",
       "      <td>0.257488</td>\n",
       "      <td>1.826091</td>\n",
       "      <td>0.141005</td>\n",
       "      <td>0.076140</td>\n",
       "    </tr>\n",
       "    <tr>\n",
       "      <th>GIP.shift(2)</th>\n",
       "      <td>$\\gamma_2$</td>\n",
       "      <td>-0.095722</td>\n",
       "      <td>-0.657600</td>\n",
       "      <td>0.145563</td>\n",
       "      <td>0.514978</td>\n",
       "    </tr>\n",
       "  </tbody>\n",
       "</table>\n",
       "</div>"
      ],
      "text/plain": [
       "                     coeff     value  $t$-value        SE  $p$-value\n",
       "Intercept         $\\alpha$  0.974669   2.827441  0.344718   0.007616\n",
       "time             $\\beta_1$  0.007403   2.496663  0.002965   0.017251\n",
       "LOGIP.shift(1)   $\\beta_2$ -0.275214  -2.706379  0.101691   0.010333\n",
       "GIP.shift(1)    $\\gamma_1$  0.257488   1.826091  0.141005   0.076140\n",
       "GIP.shift(2)    $\\gamma_2$ -0.095722  -0.657600  0.145563   0.514978"
      ]
     },
     "execution_count": 253,
     "metadata": {},
     "output_type": "execute_result"
    }
   ],
   "source": [
    "model_5d1 = ols('GIP ~ GIP.shift(1) + GIP.shift(2) + GCLI.shift(1) + GCLI.shift(2)', data=gr[train]).fit()\n",
    "summary(model_5_b1, names=['$\\\\alpha$', '$\\\\beta_1$', '$\\\\beta_2$', '$\\gamma_1$', '$\\gamma_2$'])"
   ]
  },
  {
   "cell_type": "code",
   "execution_count": 254,
   "metadata": {
    "collapsed": false
   },
   "outputs": [
    {
     "data": {
      "text/plain": [
       "<class 'statsmodels.stats.contrast.ContrastResults'>\n",
       "<F test: F=array([[ 11.74707996]]), p=0.000118278813026, df_denom=36, df_num=2>"
      ]
     },
     "execution_count": 254,
     "metadata": {},
     "output_type": "execute_result"
    }
   ],
   "source": [
    "model_5d1.f_test('GCLI.shift(1) = GCLI.shift(2) = 0')"
   ]
  },
  {
   "cell_type": "markdown",
   "metadata": {},
   "source": [
    "$F$-test reports that $\\gamma_1$ and $\\gamma_2$ are jointly significant, which means that `GCLI` is Granger-causal to `GIP`"
   ]
  },
  {
   "cell_type": "markdown",
   "metadata": {},
   "source": [
    "model 2: `GCLI` vs `GIP`"
   ]
  },
  {
   "cell_type": "code",
   "execution_count": 255,
   "metadata": {
    "collapsed": false
   },
   "outputs": [
    {
     "data": {
      "text/html": [
       "<div>\n",
       "<table border=\"1\" class=\"dataframe\">\n",
       "  <thead>\n",
       "    <tr style=\"text-align: right;\">\n",
       "      <th></th>\n",
       "      <th>coeff</th>\n",
       "      <th>value</th>\n",
       "      <th>$t$-value</th>\n",
       "      <th>SE</th>\n",
       "      <th>$p$-value</th>\n",
       "    </tr>\n",
       "  </thead>\n",
       "  <tbody>\n",
       "    <tr>\n",
       "      <th>Intercept</th>\n",
       "      <td>$\\alpha$</td>\n",
       "      <td>0.860860</td>\n",
       "      <td>1.934830</td>\n",
       "      <td>0.444928</td>\n",
       "      <td>0.060899</td>\n",
       "    </tr>\n",
       "    <tr>\n",
       "      <th>time</th>\n",
       "      <td>$\\beta_1$</td>\n",
       "      <td>0.005401</td>\n",
       "      <td>1.933398</td>\n",
       "      <td>0.002794</td>\n",
       "      <td>0.061081</td>\n",
       "    </tr>\n",
       "    <tr>\n",
       "      <th>LOGCLI.shift(1)</th>\n",
       "      <td>$\\beta_2$</td>\n",
       "      <td>-0.240513</td>\n",
       "      <td>-1.885040</td>\n",
       "      <td>0.127591</td>\n",
       "      <td>0.067516</td>\n",
       "    </tr>\n",
       "    <tr>\n",
       "      <th>GCLI.shift(1)</th>\n",
       "      <td>$\\gamma_1$</td>\n",
       "      <td>0.302639</td>\n",
       "      <td>2.041502</td>\n",
       "      <td>0.148243</td>\n",
       "      <td>0.048582</td>\n",
       "    </tr>\n",
       "    <tr>\n",
       "      <th>GCLI.shift(2)</th>\n",
       "      <td>$\\gamma_2$</td>\n",
       "      <td>-0.284596</td>\n",
       "      <td>-1.818625</td>\n",
       "      <td>0.156490</td>\n",
       "      <td>0.077296</td>\n",
       "    </tr>\n",
       "  </tbody>\n",
       "</table>\n",
       "</div>"
      ],
      "text/plain": [
       "                      coeff     value  $t$-value        SE  $p$-value\n",
       "Intercept          $\\alpha$  0.860860   1.934830  0.444928   0.060899\n",
       "time              $\\beta_1$  0.005401   1.933398  0.002794   0.061081\n",
       "LOGCLI.shift(1)   $\\beta_2$ -0.240513  -1.885040  0.127591   0.067516\n",
       "GCLI.shift(1)    $\\gamma_1$  0.302639   2.041502  0.148243   0.048582\n",
       "GCLI.shift(2)    $\\gamma_2$ -0.284596  -1.818625  0.156490   0.077296"
      ]
     },
     "execution_count": 255,
     "metadata": {},
     "output_type": "execute_result"
    }
   ],
   "source": [
    "model_5d2 = ols('GCLI ~ GCLI.shift(1) + GCLI.shift(2) + GIP.shift(1) + GIP.shift(2)', data=gr[train]).fit()\n",
    "summary(model_5_b2, names=['$\\\\alpha$', '$\\\\beta_1$', '$\\\\beta_2$', '$\\gamma_1$', '$\\gamma_2$'])"
   ]
  },
  {
   "cell_type": "code",
   "execution_count": 256,
   "metadata": {
    "collapsed": false
   },
   "outputs": [
    {
     "data": {
      "text/plain": [
       "<class 'statsmodels.stats.contrast.ContrastResults'>\n",
       "<F test: F=array([[ 3.0336646]]), p=0.0900934042904, df_denom=36, df_num=1>"
      ]
     },
     "execution_count": 256,
     "metadata": {},
     "output_type": "execute_result"
    }
   ],
   "source": [
    "model_5d2.f_test('GIP.shift(1) + GIP.shift(2) = 0')"
   ]
  },
  {
   "cell_type": "markdown",
   "metadata": {},
   "source": [
    "$\\gamma_1$ and $\\gamma_2$ are not jointly significant, so we cannot say that `GIP` Granger-causes `GCLI`"
   ]
  },
  {
   "cell_type": "markdown",
   "metadata": {},
   "source": [
    "**(e)** \n",
    "\n",
    "- Show that the coefficients of both lags in an AR(2) model for `GIP` are insignificant. \n",
    "- Show also that even the slope coefficient in the AR(1) model $\\text{GIP}_t = α + β\\, \\text{GIP}_{t-1} + ε_t$ is insignificant. \n",
    "- Make two forecasts for GIP for the five years from 2003-2007, one from the AR(1) model and another from the simple model $\\text{GIP}_t = α + ε_t$."
   ]
  },
  {
   "cell_type": "code",
   "execution_count": 268,
   "metadata": {
    "collapsed": false
   },
   "outputs": [
    {
     "data": {
      "text/html": [
       "<div>\n",
       "<table border=\"1\" class=\"dataframe\">\n",
       "  <thead>\n",
       "    <tr style=\"text-align: right;\">\n",
       "      <th></th>\n",
       "      <th>coeff</th>\n",
       "      <th>value</th>\n",
       "      <th>SE</th>\n",
       "      <th>$t$-value</th>\n",
       "      <th>$p$-value</th>\n",
       "    </tr>\n",
       "  </thead>\n",
       "  <tbody>\n",
       "    <tr>\n",
       "      <th>Intercept</th>\n",
       "      <td>$\\alpha$</td>\n",
       "      <td>0.030865</td>\n",
       "      <td>0.009350</td>\n",
       "      <td>3.300970</td>\n",
       "      <td>0.002102</td>\n",
       "    </tr>\n",
       "    <tr>\n",
       "      <th>GIP.shift(1)</th>\n",
       "      <td>$\\beta_1$</td>\n",
       "      <td>0.247181</td>\n",
       "      <td>0.147126</td>\n",
       "      <td>1.680069</td>\n",
       "      <td>0.101148</td>\n",
       "    </tr>\n",
       "    <tr>\n",
       "      <th>GIP.shift(2)</th>\n",
       "      <td>$\\beta_2$</td>\n",
       "      <td>-0.235277</td>\n",
       "      <td>0.145927</td>\n",
       "      <td>-1.612294</td>\n",
       "      <td>0.115174</td>\n",
       "    </tr>\n",
       "  </tbody>\n",
       "</table>\n",
       "</div>"
      ],
      "text/plain": [
       "                  coeff     value        SE  $t$-value  $p$-value\n",
       "Intercept      $\\alpha$  0.030865  0.009350   3.300970   0.002102\n",
       "GIP.shift(1)  $\\beta_1$  0.247181  0.147126   1.680069   0.101148\n",
       "GIP.shift(2)  $\\beta_2$ -0.235277  0.145927  -1.612294   0.115174"
      ]
     },
     "execution_count": 268,
     "metadata": {},
     "output_type": "execute_result"
    }
   ],
   "source": [
    "model_5e_ar2 = ols('GIP ~ GIP.shift(1) + GIP.shift(2)', data=gr[train]).fit()\n",
    "summary(model_5e_ar2, names=['$\\\\alpha$', '$\\\\beta_1$', '$\\\\beta_2$'])"
   ]
  },
  {
   "cell_type": "markdown",
   "metadata": {},
   "source": [
    "In `AR(2)`,  $p$-values for both $\\beta_1$ and $\\beta_2$ are higher than 0.05, so both coefficients are insignificant"
   ]
  },
  {
   "cell_type": "code",
   "execution_count": 270,
   "metadata": {
    "collapsed": false
   },
   "outputs": [
    {
     "data": {
      "text/html": [
       "<div>\n",
       "<table border=\"1\" class=\"dataframe\">\n",
       "  <thead>\n",
       "    <tr style=\"text-align: right;\">\n",
       "      <th></th>\n",
       "      <th>coeff</th>\n",
       "      <th>value</th>\n",
       "      <th>SE</th>\n",
       "      <th>$t$-value</th>\n",
       "      <th>$p$-value</th>\n",
       "    </tr>\n",
       "  </thead>\n",
       "  <tbody>\n",
       "    <tr>\n",
       "      <th>Intercept</th>\n",
       "      <td>$\\alpha$</td>\n",
       "      <td>0.029864</td>\n",
       "      <td>0.008506</td>\n",
       "      <td>3.511060</td>\n",
       "      <td>0.001122</td>\n",
       "    </tr>\n",
       "    <tr>\n",
       "      <th>GIP.shift(1)</th>\n",
       "      <td>$\\beta$</td>\n",
       "      <td>0.112290</td>\n",
       "      <td>0.149278</td>\n",
       "      <td>0.752217</td>\n",
       "      <td>0.456325</td>\n",
       "    </tr>\n",
       "  </tbody>\n",
       "</table>\n",
       "</div>"
      ],
      "text/plain": [
       "                 coeff     value        SE  $t$-value  $p$-value\n",
       "Intercept     $\\alpha$  0.029864  0.008506   3.511060   0.001122\n",
       "GIP.shift(1)   $\\beta$  0.112290  0.149278   0.752217   0.456325"
      ]
     },
     "execution_count": 270,
     "metadata": {},
     "output_type": "execute_result"
    }
   ],
   "source": [
    "model_5e_ar1 = ols('GIP ~ GIP.shift(1)', data=gr[train]).fit()\n",
    "summary(model_5e_ar1, names=['$\\\\alpha$', '$\\\\beta$'])"
   ]
  },
  {
   "cell_type": "markdown",
   "metadata": {},
   "source": [
    "for `AR(1)`, $\\beta$ is also insignificant"
   ]
  },
  {
   "cell_type": "code",
   "execution_count": 273,
   "metadata": {
    "collapsed": false
   },
   "outputs": [
    {
     "data": {
      "text/html": [
       "<div>\n",
       "<table border=\"1\" class=\"dataframe\">\n",
       "  <thead>\n",
       "    <tr style=\"text-align: right;\">\n",
       "      <th></th>\n",
       "      <th>coeff</th>\n",
       "      <th>value</th>\n",
       "      <th>SE</th>\n",
       "      <th>$t$-value</th>\n",
       "      <th>$p$-value</th>\n",
       "    </tr>\n",
       "  </thead>\n",
       "  <tbody>\n",
       "    <tr>\n",
       "      <th>const</th>\n",
       "      <td>$\\alpha$</td>\n",
       "      <td>0.031118</td>\n",
       "      <td>0.007267</td>\n",
       "      <td>4.282009</td>\n",
       "      <td>0.000105</td>\n",
       "    </tr>\n",
       "  </tbody>\n",
       "</table>\n",
       "</div>"
      ],
      "text/plain": [
       "          coeff     value        SE  $t$-value  $p$-value\n",
       "const  $\\alpha$  0.031118  0.007267   4.282009   0.000105"
      ]
     },
     "execution_count": 273,
     "metadata": {},
     "output_type": "execute_result"
    }
   ],
   "source": [
    "model_5e_simple = sm.OLS(gr[train].GIP, np.ones_like(gr[train].GIP)).fit()\n",
    "summary(model_5e_simple, names=['$\\\\alpha$'])"
   ]
  },
  {
   "cell_type": "code",
   "execution_count": 275,
   "metadata": {
    "collapsed": false
   },
   "outputs": [],
   "source": [
    "simple_prediction = gr[train].GIP.mean()"
   ]
  },
  {
   "cell_type": "code",
   "execution_count": 287,
   "metadata": {
    "collapsed": false
   },
   "outputs": [],
   "source": [
    "X = sm.add_constant(gr.GIP.shift(1))[~train]\n",
    "ar1_pred = model_5e_ar1.predict(X, transform=False)\n",
    "\n",
    "simple_pred = gr[train].GIP.mean() * np.ones_like(ar1_pred)"
   ]
  },
  {
   "cell_type": "code",
   "execution_count": 301,
   "metadata": {
    "collapsed": false,
    "scrolled": true
   },
   "outputs": [
    {
     "data": {
      "text/plain": [
       "<matplotlib.legend.Legend at 0x7f6ca1efc790>"
      ]
     },
     "execution_count": 301,
     "metadata": {},
     "output_type": "execute_result"
    },
    {
     "data": {
      "image/png": "[encoded data removed]",
      "text/plain": [
       "<matplotlib.figure.Figure at 0x7f6ca1ef2a50>"
      ]
     },
     "metadata": {},
     "output_type": "display_data"
    }
   ],
   "source": [
    "gr[~train].plot(y='GIP', x='YEAR', kind='scatter')\n",
    "plt.plot(gr[~train].YEAR, ar1_pred, color='red', label='AR(1)')\n",
    "plt.plot(gr[~train].YEAR, simple_pred, color='black', label='AR(0)')\n",
    "\n",
    "plt.legend()"
   ]
  },
  {
   "cell_type": "markdown",
   "metadata": {},
   "source": [
    "**(f)** \n",
    "\n",
    "- Estimate the `ADL(2,2)` model $\\text{GIP}_t = α + β_1\\, \\text{GIP}_{t-1} + β_2\\, \\text{GIP}_{t-2} + γ_1\\, \\text{GCLI}_{t-1} + γ_2\\, \\text{GCLI}_{t-2} + ε_t$, and \n",
    "- show by means of an $F$-test that the null hypothesis that $β_1 = β_2 = γ_2 = 0$ is not rejected. \n",
    "- Then estimate the `ADL(0,1)` model $\\text{GIP}_t = α + γ\\, \\text{GCLI}_{t-1} + ε_t$ and use this model to forecast `GIP` for the five years from 2003-2007"
   ]
  },
  {
   "cell_type": "code",
   "execution_count": 307,
   "metadata": {
    "collapsed": false
   },
   "outputs": [
    {
     "data": {
      "text/html": [
       "<div>\n",
       "<table border=\"1\" class=\"dataframe\">\n",
       "  <thead>\n",
       "    <tr style=\"text-align: right;\">\n",
       "      <th></th>\n",
       "      <th>coeff</th>\n",
       "      <th>value</th>\n",
       "      <th>SE</th>\n",
       "      <th>$t$-value</th>\n",
       "      <th>$p$-value</th>\n",
       "    </tr>\n",
       "  </thead>\n",
       "  <tbody>\n",
       "    <tr>\n",
       "      <th>Intercept</th>\n",
       "      <td>$\\alpha$</td>\n",
       "      <td>0.016418</td>\n",
       "      <td>0.008493</td>\n",
       "      <td>1.933201</td>\n",
       "      <td>0.061106</td>\n",
       "    </tr>\n",
       "    <tr>\n",
       "      <th>GIP.shift(1)</th>\n",
       "      <td>$\\beta$</td>\n",
       "      <td>-0.219916</td>\n",
       "      <td>0.189292</td>\n",
       "      <td>-1.161778</td>\n",
       "      <td>0.252971</td>\n",
       "    </tr>\n",
       "    <tr>\n",
       "      <th>GIP.shift(2)</th>\n",
       "      <td>$\\beta_2$</td>\n",
       "      <td>0.251701</td>\n",
       "      <td>0.184187</td>\n",
       "      <td>1.366554</td>\n",
       "      <td>0.180240</td>\n",
       "    </tr>\n",
       "    <tr>\n",
       "      <th>GCLI.shift(1)</th>\n",
       "      <td>$\\gamma_1$</td>\n",
       "      <td>0.719794</td>\n",
       "      <td>0.149960</td>\n",
       "      <td>4.799895</td>\n",
       "      <td>0.000028</td>\n",
       "    </tr>\n",
       "    <tr>\n",
       "      <th>GCLI.shift(2)</th>\n",
       "      <td>$\\gamma_2$</td>\n",
       "      <td>-0.170238</td>\n",
       "      <td>0.166179</td>\n",
       "      <td>-1.024422</td>\n",
       "      <td>0.312471</td>\n",
       "    </tr>\n",
       "  </tbody>\n",
       "</table>\n",
       "</div>"
      ],
      "text/plain": [
       "                    coeff     value        SE  $t$-value  $p$-value\n",
       "Intercept        $\\alpha$  0.016418  0.008493   1.933201   0.061106\n",
       "GIP.shift(1)      $\\beta$ -0.219916  0.189292  -1.161778   0.252971\n",
       "GIP.shift(2)    $\\beta_2$  0.251701  0.184187   1.366554   0.180240\n",
       "GCLI.shift(1)  $\\gamma_1$  0.719794  0.149960   4.799895   0.000028\n",
       "GCLI.shift(2)  $\\gamma_2$ -0.170238  0.166179  -1.024422   0.312471"
      ]
     },
     "execution_count": 307,
     "metadata": {},
     "output_type": "execute_result"
    }
   ],
   "source": [
    "model_5f_adl22= ols('GIP ~ GIP.shift(1) + GIP.shift(2) + GCLI.shift(1) + GCLI.shift(2)', data=gr[train]).fit()\n",
    "summary(model_5f_adl22, names=[r'$\\alpha$', r'$\\beta$', r'$\\beta_2$', r'$\\gamma_1$', r'$\\gamma_2$'])"
   ]
  },
  {
   "cell_type": "code",
   "execution_count": 308,
   "metadata": {
    "collapsed": false
   },
   "outputs": [
    {
     "data": {
      "text/plain": [
       "<class 'statsmodels.stats.contrast.ContrastResults'>\n",
       "<F test: F=array([[ 1.52043874]]), p=0.225780705091, df_denom=36, df_num=3>"
      ]
     },
     "execution_count": 308,
     "metadata": {},
     "output_type": "execute_result"
    }
   ],
   "source": [
    "model_5f_adl22.f_test('GIP.shift(1) = GIP.shift(2) = GCLI.shift(2) = 0')"
   ]
  },
  {
   "cell_type": "markdown",
   "metadata": {},
   "source": [
    "Can't reject $H_0$, so we'll use a simpler model  $\\text{GIP}_t = α + γ\\, \\text{GCLI}_{t-1} + ε_t$ "
   ]
  },
  {
   "cell_type": "code",
   "execution_count": 321,
   "metadata": {
    "collapsed": false
   },
   "outputs": [
    {
     "data": {
      "text/html": [
       "<div>\n",
       "<table border=\"1\" class=\"dataframe\">\n",
       "  <thead>\n",
       "    <tr style=\"text-align: right;\">\n",
       "      <th></th>\n",
       "      <th>coeff</th>\n",
       "      <th>value</th>\n",
       "      <th>SE</th>\n",
       "      <th>$t$-value</th>\n",
       "      <th>$p$-value</th>\n",
       "    </tr>\n",
       "  </thead>\n",
       "  <tbody>\n",
       "    <tr>\n",
       "      <th>Intercept</th>\n",
       "      <td>$\\alpha$</td>\n",
       "      <td>0.022034</td>\n",
       "      <td>0.006472</td>\n",
       "      <td>3.404419</td>\n",
       "      <td>0.001520</td>\n",
       "    </tr>\n",
       "    <tr>\n",
       "      <th>GCLI.shift(1)</th>\n",
       "      <td>$\\gamma$</td>\n",
       "      <td>0.472407</td>\n",
       "      <td>0.109405</td>\n",
       "      <td>4.317972</td>\n",
       "      <td>0.000101</td>\n",
       "    </tr>\n",
       "  </tbody>\n",
       "</table>\n",
       "</div>"
      ],
      "text/plain": [
       "                  coeff     value        SE  $t$-value  $p$-value\n",
       "Intercept      $\\alpha$  0.022034  0.006472   3.404419   0.001520\n",
       "GCLI.shift(1)  $\\gamma$  0.472407  0.109405   4.317972   0.000101"
      ]
     },
     "execution_count": 321,
     "metadata": {},
     "output_type": "execute_result"
    }
   ],
   "source": [
    "model_5f_adl11= ols('GIP ~ GCLI.shift(1)', data=gr[train]).fit()\n",
    "summary(model_5f_adl11, names=[r'$\\alpha$', r'$\\gamma$'])"
   ]
  },
  {
   "cell_type": "code",
   "execution_count": 322,
   "metadata": {
    "collapsed": true
   },
   "outputs": [],
   "source": [
    "X = sm.add_constant(gr.GCLI.shift(1))[~train]\n",
    "adl11_pred = model_5f_adl11.predict(X, transform=False)"
   ]
  },
  {
   "cell_type": "code",
   "execution_count": 324,
   "metadata": {
    "collapsed": false,
    "scrolled": true
   },
   "outputs": [
    {
     "data": {
      "text/plain": [
       "<matplotlib.legend.Legend at 0x7f6ca1cdcc50>"
      ]
     },
     "execution_count": 324,
     "metadata": {},
     "output_type": "execute_result"
    },
    {
     "data": {
      "image/png": "[encoded data removed]",
      "text/plain": [
       "<matplotlib.figure.Figure at 0x7f6ca1bbf950>"
      ]
     },
     "metadata": {},
     "output_type": "display_data"
    }
   ],
   "source": [
    "gr[~train].plot(y='GIP', x='YEAR', kind='scatter')\n",
    "plt.plot(gr[~train].YEAR, adl11_pred, color='black', label='ADL(0,1)')\n",
    "\n",
    "plt.legend()"
   ]
  },
  {
   "cell_type": "markdown",
   "metadata": {},
   "source": [
    "**(g)** Compare the three series of forecasts of parts **(e)** and **(f)** by computing their values of \n",
    "\n",
    "- the root mean squared error (RMSE), \n",
    "- mean absolute error (MAE), and \n",
    "- the sum of the forecast errors (SUM). \n",
    "\n",
    "Check that it seems quite difficult to forecast the IP growth rates for 2003-2007 from models estimated from 1960-2002. \n",
    "\n",
    "Can you\n",
    "think of possible reasons why this is the case?"
   ]
  },
  {
   "cell_type": "code",
   "execution_count": 326,
   "metadata": {
    "collapsed": true
   },
   "outputs": [],
   "source": [
    "def rmse(real, predicted):\n",
    "    mse = np.mean((real - predicted) ** 2)\n",
    "    return np.sqrt(mse)\n",
    "\n",
    "def mae(real, predicted):\n",
    "    return np.abs(real - predicted).mean()\n",
    "\n",
    "def sum_fe(real, predicted):\n",
    "    return np.sum(real - predicted)\n",
    "\n",
    "def all_metrics(real, predicted):\n",
    "    return rmse(real, predicted), mae(real, predicted), sum_fe(real, predicted)"
   ]
  },
  {
   "cell_type": "code",
   "execution_count": 328,
   "metadata": {
    "collapsed": false,
    "scrolled": true
   },
   "outputs": [
    {
     "data": {
      "text/html": [
       "<div>\n",
       "<table border=\"1\" class=\"dataframe\">\n",
       "  <thead>\n",
       "    <tr style=\"text-align: right;\">\n",
       "      <th></th>\n",
       "      <th>AR(0)</th>\n",
       "      <th>AR(1)</th>\n",
       "      <th>ADL(0,1)</th>\n",
       "    </tr>\n",
       "  </thead>\n",
       "  <tbody>\n",
       "    <tr>\n",
       "      <th>RMSE</th>\n",
       "      <td>0.011020</td>\n",
       "      <td>0.012199</td>\n",
       "      <td>0.018548</td>\n",
       "    </tr>\n",
       "    <tr>\n",
       "      <th>MAE</th>\n",
       "      <td>0.009282</td>\n",
       "      <td>0.010337</td>\n",
       "      <td>0.016992</td>\n",
       "    </tr>\n",
       "    <tr>\n",
       "      <th>SUM</th>\n",
       "      <td>-0.042075</td>\n",
       "      <td>-0.049140</td>\n",
       "      <td>-0.084962</td>\n",
       "    </tr>\n",
       "  </tbody>\n",
       "</table>\n",
       "</div>"
      ],
      "text/plain": [
       "         AR(0)     AR(1)  ADL(0,1)\n",
       "RMSE  0.011020  0.012199  0.018548\n",
       "MAE   0.009282  0.010337  0.016992\n",
       "SUM  -0.042075 -0.049140 -0.084962"
      ]
     },
     "execution_count": 328,
     "metadata": {},
     "output_type": "execute_result"
    }
   ],
   "source": [
    "real = gr[~train].GIP\n",
    "\n",
    "df = pd.DataFrame({'AR(0)': all_metrics(real, simple_pred),\n",
    "                   'AR(1)': all_metrics(real, ar1_pred), \n",
    "                   'ADL(0,1)': all_metrics(real, adl11_pred)},\n",
    "                  columns=['AR(0)', 'AR(1)', 'ADL(0,1)'])\n",
    "df.index = ['RMSE', 'MAE', 'SUM']\n",
    "df"
   ]
  },
  {
   "cell_type": "markdown",
   "metadata": {},
   "source": [
    "Compare to \n",
    "\n",
    "![](https://habrastorage.org/files/ac1/40e/c30/ac140ec30c57428ebc868865d36a11a2.png)\n",
    "\n",
    "`AR(0)` is the best"
   ]
  },
  {
   "cell_type": "code",
   "execution_count": null,
   "metadata": {
    "collapsed": true
   },
   "outputs": [],
   "source": []
  },
  {
   "cell_type": "code",
   "execution_count": null,
   "metadata": {
    "collapsed": true
   },
   "outputs": [],
   "source": []
  }
 ],
 "metadata": {
  "kernelspec": {
   "display_name": "Python 2",
   "language": "python",
   "name": "python2"
  },
  "language_info": {
   "codemirror_mode": {
    "name": "ipython",
    "version": 2
   },
   "file_extension": ".py",
   "mimetype": "text/x-python",
   "name": "python",
   "nbconvert_exporter": "python",
   "pygments_lexer": "ipython2",
   "version": "2.7.10"
  }
 },
 "nbformat": 4,
 "nbformat_minor": 0
}
