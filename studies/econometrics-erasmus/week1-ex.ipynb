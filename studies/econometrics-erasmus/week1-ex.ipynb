{
 "cells": [
  {
   "cell_type": "code",
   "execution_count": 27,
   "metadata": {
    "collapsed": true
   },
   "outputs": [],
   "source": [
    "import pandas as pd\n",
    "import matplotlib.pyplot as plt\n",
    "import numpy as np\n",
    "\n",
    "%matplotlib inline"
   ]
  },
  {
   "cell_type": "markdown",
   "metadata": {},
   "source": [
    "## MOOC Econometrics\n",
    "\n",
    "### Training Exercise 1.5\n",
    "\n",
    "Notes:\n",
    "\n",
    "- This exercise uses the datafile `TrainExer15` and requires a computer.\n",
    "- The dataset `TrainExer15` is available on the website."
   ]
  },
  {
   "cell_type": "code",
   "execution_count": 3,
   "metadata": {
    "collapsed": false,
    "scrolled": false
   },
   "outputs": [
    {
     "data": {
      "text/html": [
       "<div>\n",
       "<table border=\"1\" class=\"dataframe\">\n",
       "  <thead>\n",
       "    <tr style=\"text-align: right;\">\n",
       "      <th></th>\n",
       "      <th>Game</th>\n",
       "      <th>Year</th>\n",
       "      <th>Winmen</th>\n",
       "      <th>Winwomen</th>\n",
       "    </tr>\n",
       "  </thead>\n",
       "  <tbody>\n",
       "    <tr>\n",
       "      <th>0</th>\n",
       "      <td>1</td>\n",
       "      <td>1948</td>\n",
       "      <td>10.30</td>\n",
       "      <td>11.90</td>\n",
       "    </tr>\n",
       "    <tr>\n",
       "      <th>1</th>\n",
       "      <td>2</td>\n",
       "      <td>1952</td>\n",
       "      <td>10.40</td>\n",
       "      <td>11.50</td>\n",
       "    </tr>\n",
       "    <tr>\n",
       "      <th>2</th>\n",
       "      <td>3</td>\n",
       "      <td>1956</td>\n",
       "      <td>10.50</td>\n",
       "      <td>11.50</td>\n",
       "    </tr>\n",
       "    <tr>\n",
       "      <th>3</th>\n",
       "      <td>4</td>\n",
       "      <td>1960</td>\n",
       "      <td>10.20</td>\n",
       "      <td>11.00</td>\n",
       "    </tr>\n",
       "    <tr>\n",
       "      <th>4</th>\n",
       "      <td>5</td>\n",
       "      <td>1964</td>\n",
       "      <td>10.00</td>\n",
       "      <td>11.40</td>\n",
       "    </tr>\n",
       "    <tr>\n",
       "      <th>5</th>\n",
       "      <td>6</td>\n",
       "      <td>1968</td>\n",
       "      <td>9.95</td>\n",
       "      <td>11.08</td>\n",
       "    </tr>\n",
       "    <tr>\n",
       "      <th>6</th>\n",
       "      <td>7</td>\n",
       "      <td>1972</td>\n",
       "      <td>10.14</td>\n",
       "      <td>11.07</td>\n",
       "    </tr>\n",
       "    <tr>\n",
       "      <th>7</th>\n",
       "      <td>8</td>\n",
       "      <td>1976</td>\n",
       "      <td>10.06</td>\n",
       "      <td>11.08</td>\n",
       "    </tr>\n",
       "    <tr>\n",
       "      <th>8</th>\n",
       "      <td>9</td>\n",
       "      <td>1980</td>\n",
       "      <td>10.25</td>\n",
       "      <td>11.06</td>\n",
       "    </tr>\n",
       "    <tr>\n",
       "      <th>9</th>\n",
       "      <td>10</td>\n",
       "      <td>1984</td>\n",
       "      <td>9.99</td>\n",
       "      <td>10.97</td>\n",
       "    </tr>\n",
       "    <tr>\n",
       "      <th>10</th>\n",
       "      <td>11</td>\n",
       "      <td>1988</td>\n",
       "      <td>9.92</td>\n",
       "      <td>10.54</td>\n",
       "    </tr>\n",
       "    <tr>\n",
       "      <th>11</th>\n",
       "      <td>12</td>\n",
       "      <td>1992</td>\n",
       "      <td>9.96</td>\n",
       "      <td>10.82</td>\n",
       "    </tr>\n",
       "    <tr>\n",
       "      <th>12</th>\n",
       "      <td>13</td>\n",
       "      <td>1996</td>\n",
       "      <td>9.84</td>\n",
       "      <td>10.94</td>\n",
       "    </tr>\n",
       "    <tr>\n",
       "      <th>13</th>\n",
       "      <td>14</td>\n",
       "      <td>2000</td>\n",
       "      <td>9.87</td>\n",
       "      <td>10.75</td>\n",
       "    </tr>\n",
       "    <tr>\n",
       "      <th>14</th>\n",
       "      <td>15</td>\n",
       "      <td>2004</td>\n",
       "      <td>9.85</td>\n",
       "      <td>10.93</td>\n",
       "    </tr>\n",
       "  </tbody>\n",
       "</table>\n",
       "</div>"
      ],
      "text/plain": [
       "    Game  Year  Winmen  Winwomen\n",
       "0      1  1948   10.30     11.90\n",
       "1      2  1952   10.40     11.50\n",
       "2      3  1956   10.50     11.50\n",
       "3      4  1960   10.20     11.00\n",
       "4      5  1964   10.00     11.40\n",
       "5      6  1968    9.95     11.08\n",
       "6      7  1972   10.14     11.07\n",
       "7      8  1976   10.06     11.08\n",
       "8      9  1980   10.25     11.06\n",
       "9     10  1984    9.99     10.97\n",
       "10    11  1988    9.92     10.54\n",
       "11    12  1992    9.96     10.82\n",
       "12    13  1996    9.84     10.94\n",
       "13    14  2000    9.87     10.75\n",
       "14    15  2004    9.85     10.93"
      ]
     },
     "execution_count": 3,
     "metadata": {},
     "output_type": "execute_result"
    }
   ],
   "source": [
    "winning_times = pd.read_csv('TrainExer15-wining-times.txt', sep='\\t')\n",
    "winning_times"
   ]
  },
  {
   "cell_type": "code",
   "execution_count": 16,
   "metadata": {
    "collapsed": false
   },
   "outputs": [
    {
     "data": {
      "text/plain": [
       "<matplotlib.axes._subplots.AxesSubplot at 0x7f920c0c57d0>"
      ]
     },
     "execution_count": 16,
     "metadata": {},
     "output_type": "execute_result"
    },
    {
     "data": {
      "image/png": "[encoded data removed]",
      "text/plain": [
       "<matplotlib.figure.Figure at 0x7f920c028590>"
      ]
     },
     "metadata": {},
     "output_type": "display_data"
    }
   ],
   "source": [
    "winning_times.Winmen.plot(marker='o', color='blue')\n",
    "winning_times.Winwomen.plot(marker='o', color='red')"
   ]
  },
  {
   "cell_type": "markdown",
   "metadata": {},
   "source": [
    "### Questions\n",
    "\n",
    "In Lecture 1.5, we applied simple regression for data on winning times on the Olympic 100 meter (athletics). We\n",
    "computed the regression coefficients $a$ and $b$ for two trend models, one with a linear trend and one with a nonlinear\n",
    "trend. In a test question, you created forecasts of the winning times for both men and women in 2008 and 2012.\n",
    "Of course, you can also forecast further ahead in the future. In fact, it is even possible to predict when men and\n",
    "women would run equally fast, if the current trends persist.\n",
    "\n",
    "1. Show that the linear trend model predicts equal winning times at around 2140.\n",
    "2. Show that the nonlinear trend model predicts equal winning times at around 2192.\n",
    "3. Show that the linear trend model predicts equal winning times of approximately 8.53 seconds.\n",
    "4. Comment on these outcomes and on the underlying regression models."
   ]
  },
  {
   "cell_type": "code",
   "execution_count": 4,
   "metadata": {
    "collapsed": true
   },
   "outputs": [],
   "source": [
    "from pandas.stats.api import ols"
   ]
  },
  {
   "cell_type": "code",
   "execution_count": 28,
   "metadata": {
    "collapsed": false
   },
   "outputs": [
    {
     "data": {
      "text/plain": [
       "\n",
       "-------------------------Summary of Regression Analysis-------------------------\n",
       "\n",
       "Formula: Y ~ <x> + <intercept>\n",
       "\n",
       "Number of Observations:         15\n",
       "Number of Degrees of Freedom:   2\n",
       "\n",
       "R-squared:         0.6734\n",
       "Adj R-squared:     0.6482\n",
       "\n",
       "Rmse:              0.1228\n",
       "\n",
       "F-stat (1, 13):    26.8007, p-value:     0.0002\n",
       "\n",
       "Degrees of Freedom: model 1, resid 13\n",
       "\n",
       "-----------------------Summary of Estimated Coefficients------------------------\n",
       "      Variable       Coef    Std Err     t-stat    p-value    CI 2.5%   CI 97.5%\n",
       "--------------------------------------------------------------------------------\n",
       "             x    -0.0095     0.0018      -5.18     0.0002    -0.0131    -0.0059\n",
       "     intercept    28.8540     3.6262       7.96     0.0000    21.7466    35.9614\n",
       "---------------------------------End of Summary---------------------------------"
      ]
     },
     "execution_count": 28,
     "metadata": {},
     "output_type": "execute_result"
    }
   ],
   "source": [
    "men = ols(y=winning_times.Winmen, x=winning_times.Year)\n",
    "men"
   ]
  },
  {
   "cell_type": "code",
   "execution_count": 29,
   "metadata": {
    "collapsed": false
   },
   "outputs": [
    {
     "data": {
      "text/plain": [
       "\n",
       "-------------------------Summary of Regression Analysis-------------------------\n",
       "\n",
       "Formula: Y ~ <x> + <intercept>\n",
       "\n",
       "Number of Observations:         15\n",
       "Number of Degrees of Freedom:   2\n",
       "\n",
       "R-squared:         0.6724\n",
       "Adj R-squared:     0.6472\n",
       "\n",
       "Rmse:              0.2039\n",
       "\n",
       "F-stat (1, 13):    26.6789, p-value:     0.0002\n",
       "\n",
       "Degrees of Freedom: model 1, resid 13\n",
       "\n",
       "-----------------------Summary of Estimated Coefficients------------------------\n",
       "      Variable       Coef    Std Err     t-stat    p-value    CI 2.5%   CI 97.5%\n",
       "--------------------------------------------------------------------------------\n",
       "             x    -0.0157     0.0030      -5.17     0.0002    -0.0217    -0.0098\n",
       "     intercept    42.1894     6.0188       7.01     0.0000    30.3926    53.9862\n",
       "---------------------------------End of Summary---------------------------------"
      ]
     },
     "execution_count": 29,
     "metadata": {},
     "output_type": "execute_result"
    }
   ],
   "source": [
    "women = ols(y=winning_times.Winwomen, x=winning_times.Year)\n",
    "women"
   ]
  },
  {
   "cell_type": "code",
   "execution_count": 34,
   "metadata": {
    "collapsed": false,
    "scrolled": true
   },
   "outputs": [
    {
     "data": {
      "text/plain": [
       "[<matplotlib.lines.Line2D at 0x7f920b870d50>]"
      ]
     },
     "execution_count": 34,
     "metadata": {},
     "output_type": "execute_result"
    },
    {
     "data": {
      "image/png": "[encoded data removed]",
      "text/plain": [
       "<matplotlib.figure.Figure at 0x7f920b91b450>"
      ]
     },
     "metadata": {},
     "output_type": "display_data"
    }
   ],
   "source": [
    "years_predict = pd.Series([1940, 2010])\n",
    "\n",
    "plt.plot(winning_times.Year, winning_times.Winmen, marker='o', color='blue')\n",
    "plt.plot(years_predict, men.predict(x=years_predict), color='blue')\n",
    "\n",
    "plt.plot(winning_times.Year, winning_times.Winwomen, marker='o', color='red')\n",
    "plt.plot(years_predict, women.predict(x=years_predict), color='red')"
   ]
  },
  {
   "cell_type": "markdown",
   "metadata": {},
   "source": [
    "- Show that the linear trend model predicts equal winning times at around 2140.\n",
    "- Show that the linear trend model predicts equal winning times of approximately 8.53 seconds.\n"
   ]
  },
  {
   "cell_type": "code",
   "execution_count": 61,
   "metadata": {
    "collapsed": false
   },
   "outputs": [
    {
     "data": {
      "text/plain": [
       "<matplotlib.lines.Line2D at 0x7f920aab6310>"
      ]
     },
     "execution_count": 61,
     "metadata": {},
     "output_type": "execute_result"
    },
    {
     "data": {
      "image/png": "[encoded data removed]",
      "text/plain": [
       "<matplotlib.figure.Figure at 0x7f920acfd490>"
      ]
     },
     "metadata": {},
     "output_type": "display_data"
    }
   ],
   "source": [
    "years_predict = pd.Series([1940, 2150])\n",
    "\n",
    "plt.plot(winning_times.Year, winning_times.Winmen, marker='o', color='blue')\n",
    "plt.plot(years_predict, men.predict(x=years_predict), color='blue')\n",
    "\n",
    "plt.plot(winning_times.Year, winning_times.Winwomen, marker='o', color='red')\n",
    "plt.plot(years_predict, women.predict(x=years_predict), color='red')\n",
    "\n",
    "plt.axvline(x=2140, ymin=0, ymax=12, color='black')\n",
    "plt.axhline(y=8.53, xmin=0, xmax=2200, color='black')"
   ]
  },
  {
   "cell_type": "markdown",
   "metadata": {},
   "source": [
    "Show that the nonlinear trend model predicts equal winning times at around 2192.\n"
   ]
  },
  {
   "cell_type": "code",
   "execution_count": 51,
   "metadata": {
    "collapsed": true
   },
   "outputs": [],
   "source": [
    "men_log = ols(y=np.log(winning_times.Winmen), x=winning_times.Year)\n",
    "women_log = ols(y=np.log(winning_times.Winwomen), x=winning_times.Year)\n"
   ]
  },
  {
   "cell_type": "code",
   "execution_count": 59,
   "metadata": {
    "collapsed": false
   },
   "outputs": [
    {
     "data": {
      "text/plain": [
       "<matplotlib.lines.Line2D at 0x7f920adac950>"
      ]
     },
     "execution_count": 59,
     "metadata": {},
     "output_type": "execute_result"
    },
    {
     "data": {
      "image/png": "[encoded data removed]",
      "text/plain": [
       "<matplotlib.figure.Figure at 0x7f920aeb4ad0>"
      ]
     },
     "metadata": {},
     "output_type": "display_data"
    }
   ],
   "source": [
    "years_predict = pd.Series(range(1940, 2250, 4))\n",
    "\n",
    "plt.plot(winning_times.Year, winning_times.Winmen, marker='o', color='blue')\n",
    "plt.plot(years_predict, np.exp(men_log.predict(x=years_predict)), color='blue')\n",
    "\n",
    "plt.plot(winning_times.Year, winning_times.Winwomen, marker='o', color='red')\n",
    "plt.plot(years_predict, np.exp(women_log.predict(x=years_predict)), color='red')\n",
    "plt.axvline(x=2192, ymin=0, ymax=12, color='black')"
   ]
  },
  {
   "cell_type": "markdown",
   "metadata": {},
   "source": [
    "## Test Exercise 1\n",
    "\n",
    "### Notes:\n",
    "\n",
    "- See website for how to submit your answers and how feedback is organized.\n",
    "- This exercise uses the datafile TestExer1 and requires a computer.\n",
    "- The dataset TestExer1 is available on the website.\n",
    "\n",
    "\n",
    "### Goals and skills being used:\n",
    "\n",
    "- Get hands-on experience with performing simple regressions.\n",
    "- Get feeling for consequences of violations of regression assumptions.\n",
    "- Obtain some experience with how to diagnose that an assumption is violated.\n",
    "\n",
    "### Questions\n",
    "\n",
    "This exercise considers an example of data that do not satisfy all the standard assumptions of simple regression.\n",
    "In the considered case, one particular observation lies far off from the others, that is, it is an outlier. This violates\n",
    "assumptions A3 and A4, which state that all error terms $\\varepsilon_i$ are drawn from one and the same distribution with\n",
    "mean zero and fixed variance $\\sigma^2$. The dataset contains twenty weekly observations on sales and advertising of a\n",
    "department store. The question of interest lies in estimating the effect of advertising on sales. One of the weeks\n",
    "was special, as the store was also open in the evenings during this week, but this aspect will first be ignored in the\n",
    "analysis."
   ]
  },
  {
   "cell_type": "code",
   "execution_count": 68,
   "metadata": {
    "collapsed": false
   },
   "outputs": [
    {
     "data": {
      "text/html": [
       "<div>\n",
       "<table border=\"1\" class=\"dataframe\">\n",
       "  <thead>\n",
       "    <tr style=\"text-align: right;\">\n",
       "      <th></th>\n",
       "      <th>obs</th>\n",
       "      <th>adv</th>\n",
       "      <th>sales</th>\n",
       "    </tr>\n",
       "  </thead>\n",
       "  <tbody>\n",
       "    <tr>\n",
       "      <th>0</th>\n",
       "      <td>1</td>\n",
       "      <td>12</td>\n",
       "      <td>24</td>\n",
       "    </tr>\n",
       "    <tr>\n",
       "      <th>1</th>\n",
       "      <td>2</td>\n",
       "      <td>12</td>\n",
       "      <td>27</td>\n",
       "    </tr>\n",
       "    <tr>\n",
       "      <th>2</th>\n",
       "      <td>3</td>\n",
       "      <td>9</td>\n",
       "      <td>25</td>\n",
       "    </tr>\n",
       "    <tr>\n",
       "      <th>3</th>\n",
       "      <td>4</td>\n",
       "      <td>11</td>\n",
       "      <td>27</td>\n",
       "    </tr>\n",
       "    <tr>\n",
       "      <th>4</th>\n",
       "      <td>5</td>\n",
       "      <td>6</td>\n",
       "      <td>23</td>\n",
       "    </tr>\n",
       "  </tbody>\n",
       "</table>\n",
       "</div>"
      ],
      "text/plain": [
       "   obs  adv  sales\n",
       "0    1   12     24\n",
       "1    2   12     27\n",
       "2    3    9     25\n",
       "3    4   11     27\n",
       "4    5    6     23"
      ]
     },
     "execution_count": 68,
     "metadata": {},
     "output_type": "execute_result"
    }
   ],
   "source": [
    "data = pd.read_csv('TestExer1-sales-round1.txt', sep='\\t')\n",
    "data.columns = ['obs', 'adv', 'sales']\n",
    "data.head()"
   ]
  },
  {
   "cell_type": "markdown",
   "metadata": {},
   "source": [
    "Make the scatter diagram with sales on the vertical axis and advertising on the horizontal axis. What do you\n",
    "expect to find if you would fit a regression line to these data?"
   ]
  },
  {
   "cell_type": "code",
   "execution_count": 74,
   "metadata": {
    "collapsed": false
   },
   "outputs": [
    {
     "data": {
      "image/png": "[encoded data removed]",
      "text/plain": [
       "<matplotlib.figure.Figure at 0x7f920a67e1d0>"
      ]
     },
     "metadata": {},
     "output_type": "display_data"
    }
   ],
   "source": [
    "plt.scatter(x=data.adv, y=data.sales)\n",
    "plt.ylabel('sales')\n",
    "plt.xlabel('advertising')\n",
    "plt.show()"
   ]
  },
  {
   "cell_type": "markdown",
   "metadata": {},
   "source": [
    "Estimate the coefficients $a$ and $b$ in the simple regression model with sales as dependent variable and advertising\n",
    "as explanatory factor. Also compute the standard error and $t$-value of $b$. Is $b$ significantly different from 0?"
   ]
  },
  {
   "cell_type": "code",
   "execution_count": 75,
   "metadata": {
    "collapsed": false
   },
   "outputs": [
    {
     "data": {
      "text/plain": [
       "\n",
       "-------------------------Summary of Regression Analysis-------------------------\n",
       "\n",
       "Formula: Y ~ <x> + <intercept>\n",
       "\n",
       "Number of Observations:         20\n",
       "Number of Degrees of Freedom:   2\n",
       "\n",
       "R-squared:         0.0270\n",
       "Adj R-squared:    -0.0270\n",
       "\n",
       "Rmse:              5.8365\n",
       "\n",
       "F-stat (1, 18):     0.5002, p-value:     0.4885\n",
       "\n",
       "Degrees of Freedom: model 1, resid 18\n",
       "\n",
       "-----------------------Summary of Estimated Coefficients------------------------\n",
       "      Variable       Coef    Std Err     t-stat    p-value    CI 2.5%   CI 97.5%\n",
       "--------------------------------------------------------------------------------\n",
       "             x    -0.3246     0.4589      -0.71     0.4885    -1.2240     0.5749\n",
       "     intercept    29.6269     4.8815       6.07     0.0000    20.0591    39.1947\n",
       "---------------------------------End of Summary---------------------------------"
      ]
     },
     "execution_count": 75,
     "metadata": {},
     "output_type": "execute_result"
    }
   ],
   "source": [
    "model = ols(y=data.sales, x=data.adv)\n",
    "model"
   ]
  },
  {
   "cell_type": "markdown",
   "metadata": {},
   "source": [
    "$b$ is not significantly different from 0"
   ]
  },
  {
   "cell_type": "code",
   "execution_count": 83,
   "metadata": {
    "collapsed": false
   },
   "outputs": [
    {
     "data": {
      "text/plain": [
       "0    28.328594\n",
       "1    24.433694\n",
       "dtype: float64"
      ]
     },
     "execution_count": 83,
     "metadata": {},
     "output_type": "execute_result"
    }
   ],
   "source": [
    "model.predict(x=x_new)"
   ]
  },
  {
   "cell_type": "code",
   "execution_count": 86,
   "metadata": {
    "collapsed": false
   },
   "outputs": [
    {
     "data": {
      "image/png": "[encoded data removed]",
      "text/plain": [
       "<matplotlib.figure.Figure at 0x7f920a268f10>"
      ]
     },
     "metadata": {},
     "output_type": "display_data"
    }
   ],
   "source": [
    "plt.scatter(x=data.adv, y=data.sales)\n",
    "x_new = pd.Series([4, 16])\n",
    "plt.plot(x_new, model.predict(x=x_new))\n",
    "\n",
    "plt.ylabel('sales')\n",
    "plt.xlabel('advertising')\n",
    "plt.show()"
   ]
  },
  {
   "cell_type": "markdown",
   "metadata": {},
   "source": [
    "Compute the residuals and draw a histogram of these residuals. What conclusion do you draw from this\n",
    "histogram?"
   ]
  },
  {
   "cell_type": "code",
   "execution_count": 77,
   "metadata": {
    "collapsed": false
   },
   "outputs": [
    {
     "data": {
      "text/plain": [
       "<matplotlib.axes._subplots.AxesSubplot at 0x7f920b02f210>"
      ]
     },
     "execution_count": 77,
     "metadata": {},
     "output_type": "execute_result"
    },
    {
     "data": {
      "image/png": "[encoded data removed]",
      "text/plain": [
       "<matplotlib.figure.Figure at 0x7f920a674190>"
      ]
     },
     "metadata": {},
     "output_type": "display_data"
    }
   ],
   "source": [
    "model.resid.hist()"
   ]
  },
  {
   "cell_type": "markdown",
   "metadata": {},
   "source": [
    "Doesn't look very normal"
   ]
  },
  {
   "cell_type": "markdown",
   "metadata": {},
   "source": [
    "Apparently, the regression result of part (b) is not satisfactory. Once you realize that the large residual\n",
    "corresponds to the week with opening hours during the evening, how would you proceed to get a more\n",
    "satisfactory regression model?\n",
    "\n",
    "> Remove the outlier"
   ]
  },
  {
   "cell_type": "markdown",
   "metadata": {},
   "source": [
    "Delete this special week from the sample and use the remaining 19 weeks to estimate the coefficients $a$ and\n",
    "$b$ in the simple regression model with sales as dependent variable and advertising as explanatory factor. Also\n",
    "compute the standard error and $t$-value of $b$. Is $b$ significantly different from 0?"
   ]
  },
  {
   "cell_type": "code",
   "execution_count": 93,
   "metadata": {
    "collapsed": false
   },
   "outputs": [
    {
     "data": {
      "text/plain": [
       "<matplotlib.axes._subplots.AxesSubplot at 0x7f920a06c850>"
      ]
     },
     "execution_count": 93,
     "metadata": {},
     "output_type": "execute_result"
    },
    {
     "data": {
      "image/png": "[encoded data removed]",
      "text/plain": [
       "<matplotlib.figure.Figure at 0x7f920a05df10>"
      ]
     },
     "metadata": {},
     "output_type": "display_data"
    }
   ],
   "source": [
    "data_cleaned = data[data.sales < 45]\n",
    "data_cleaned.plot(kind='scatter', x='adv', y='sales')"
   ]
  },
  {
   "cell_type": "code",
   "execution_count": 94,
   "metadata": {
    "collapsed": false
   },
   "outputs": [
    {
     "data": {
      "text/plain": [
       "\n",
       "-------------------------Summary of Regression Analysis-------------------------\n",
       "\n",
       "Formula: Y ~ <x> + <intercept>\n",
       "\n",
       "Number of Observations:         19\n",
       "Number of Degrees of Freedom:   2\n",
       "\n",
       "R-squared:         0.5154\n",
       "Adj R-squared:     0.4869\n",
       "\n",
       "Rmse:              1.0537\n",
       "\n",
       "F-stat (1, 17):    18.0784, p-value:     0.0005\n",
       "\n",
       "Degrees of Freedom: model 1, resid 17\n",
       "\n",
       "-----------------------Summary of Estimated Coefficients------------------------\n",
       "      Variable       Coef    Std Err     t-stat    p-value    CI 2.5%   CI 97.5%\n",
       "--------------------------------------------------------------------------------\n",
       "             x     0.3750     0.0882       4.25     0.0005     0.2021     0.5479\n",
       "     intercept    21.1250     0.9548      22.12     0.0000    19.2535    22.9965\n",
       "---------------------------------End of Summary---------------------------------"
      ]
     },
     "execution_count": 94,
     "metadata": {},
     "output_type": "execute_result"
    }
   ],
   "source": [
    "model = ols(y=data_cleaned.sales, x=data_cleaned.adv)\n",
    "model"
   ]
  },
  {
   "cell_type": "markdown",
   "metadata": {},
   "source": [
    "Now $b \\ne 0$ with $p = 0.0005$"
   ]
  },
  {
   "cell_type": "code",
   "execution_count": null,
   "metadata": {
    "collapsed": true
   },
   "outputs": [],
   "source": []
  }
 ],
 "metadata": {
  "kernelspec": {
   "display_name": "Python 2",
   "language": "python",
   "name": "python2"
  },
  "language_info": {
   "codemirror_mode": {
    "name": "ipython",
    "version": 2
   },
   "file_extension": ".py",
   "mimetype": "text/x-python",
   "name": "python",
   "nbconvert_exporter": "python",
   "pygments_lexer": "ipython2",
   "version": "2.7.10"
  }
 },
 "nbformat": 4,
 "nbformat_minor": 0
}
