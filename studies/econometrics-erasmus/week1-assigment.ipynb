{
 "cells": [
  {
   "cell_type": "code",
   "execution_count": 1,
   "metadata": {
    "collapsed": true
   },
   "outputs": [],
   "source": [
    "import pandas as pd\n",
    "import matplotlib.pyplot as plt\n",
    "import numpy as np\n",
    "\n",
    "%matplotlib inline"
   ]
  },
  {
   "cell_type": "markdown",
   "metadata": {},
   "source": [
    "# MOOC Econometrics\n",
    "\n",
    "## Test Exercise 1\n",
    "\n",
    "### Notes:\n",
    "\n",
    "- See website for how to submit your answers and how feedback is organized.\n",
    "- This exercise uses the datafile TestExer1 and requires a computer.\n",
    "- The dataset TestExer1 is available on the website.\n",
    "\n",
    "\n",
    "### Goals and skills being used:\n",
    "\n",
    "- Get hands-on experience with performing simple regressions.\n",
    "- Get feeling for consequences of violations of regression assumptions.\n",
    "- Obtain some experience with how to diagnose that an assumption is violated.\n",
    "\n",
    "### Questions\n",
    "\n",
    "This exercise considers an example of data that do not satisfy all the standard assumptions of simple regression.\n",
    "In the considered case, one particular observation lies far off from the others, that is, it is an outlier. This violates\n",
    "assumptions A3 and A4, which state that all error terms $\\varepsilon_i$ are drawn from one and the same distribution with\n",
    "mean zero and fixed variance $\\sigma^2$. The dataset contains twenty weekly observations on sales and advertising of a\n",
    "department store. The question of interest lies in estimating the effect of advertising on sales. One of the weeks\n",
    "was special, as the store was also open in the evenings during this week, but this aspect will first be ignored in the\n",
    "analysis."
   ]
  },
  {
   "cell_type": "code",
   "execution_count": 2,
   "metadata": {
    "collapsed": false
   },
   "outputs": [
    {
     "data": {
      "text/html": [
       "<div>\n",
       "<table border=\"1\" class=\"dataframe\">\n",
       "  <thead>\n",
       "    <tr style=\"text-align: right;\">\n",
       "      <th></th>\n",
       "      <th>obs</th>\n",
       "      <th>adv</th>\n",
       "      <th>sales</th>\n",
       "    </tr>\n",
       "  </thead>\n",
       "  <tbody>\n",
       "    <tr>\n",
       "      <th>0</th>\n",
       "      <td>1</td>\n",
       "      <td>12</td>\n",
       "      <td>24</td>\n",
       "    </tr>\n",
       "    <tr>\n",
       "      <th>1</th>\n",
       "      <td>2</td>\n",
       "      <td>12</td>\n",
       "      <td>27</td>\n",
       "    </tr>\n",
       "    <tr>\n",
       "      <th>2</th>\n",
       "      <td>3</td>\n",
       "      <td>9</td>\n",
       "      <td>25</td>\n",
       "    </tr>\n",
       "    <tr>\n",
       "      <th>3</th>\n",
       "      <td>4</td>\n",
       "      <td>11</td>\n",
       "      <td>27</td>\n",
       "    </tr>\n",
       "    <tr>\n",
       "      <th>4</th>\n",
       "      <td>5</td>\n",
       "      <td>6</td>\n",
       "      <td>23</td>\n",
       "    </tr>\n",
       "  </tbody>\n",
       "</table>\n",
       "</div>"
      ],
      "text/plain": [
       "   obs  adv  sales\n",
       "0    1   12     24\n",
       "1    2   12     27\n",
       "2    3    9     25\n",
       "3    4   11     27\n",
       "4    5    6     23"
      ]
     },
     "execution_count": 2,
     "metadata": {},
     "output_type": "execute_result"
    }
   ],
   "source": [
    "data = pd.read_csv('TestExer1-sales-round1.txt', sep='\\t')\n",
    "data.columns = ['obs', 'adv', 'sales']\n",
    "data.head()"
   ]
  },
  {
   "cell_type": "markdown",
   "metadata": {},
   "source": [
    "**(a)** Make the scatter diagram with sales on the vertical axis and advertising on the horizontal axis. What do you\n",
    "expect to find if you would fit a regression line to these data?"
   ]
  },
  {
   "cell_type": "code",
   "execution_count": 3,
   "metadata": {
    "collapsed": false
   },
   "outputs": [
    {
     "data": {
      "image/png": "[encoded data removed]",
      "text/plain": [
       "<matplotlib.figure.Figure at 0x7faf09fb3dd0>"
      ]
     },
     "metadata": {},
     "output_type": "display_data"
    }
   ],
   "source": [
    "plt.scatter(x=data.adv, y=data.sales)\n",
    "plt.ylabel('sales')\n",
    "plt.xlabel('advertising')\n",
    "plt.show()"
   ]
  },
  {
   "cell_type": "markdown",
   "metadata": {},
   "source": [
    "**(b)** Estimate the coefficients $a$ and $b$ in the simple regression model with sales as dependent variable and advertising as explanatory factor. Also compute the standard error and $t$-value of $b$. Is $b$ significantly different from 0?"
   ]
  },
  {
   "cell_type": "code",
   "execution_count": 5,
   "metadata": {
    "collapsed": true
   },
   "outputs": [],
   "source": [
    "from pandas.stats.api import ols"
   ]
  },
  {
   "cell_type": "code",
   "execution_count": 6,
   "metadata": {
    "collapsed": false
   },
   "outputs": [
    {
     "data": {
      "text/plain": [
       "\n",
       "-------------------------Summary of Regression Analysis-------------------------\n",
       "\n",
       "Formula: Y ~ <x> + <intercept>\n",
       "\n",
       "Number of Observations:         20\n",
       "Number of Degrees of Freedom:   2\n",
       "\n",
       "R-squared:         0.0270\n",
       "Adj R-squared:    -0.0270\n",
       "\n",
       "Rmse:              5.8365\n",
       "\n",
       "F-stat (1, 18):     0.5002, p-value:     0.4885\n",
       "\n",
       "Degrees of Freedom: model 1, resid 18\n",
       "\n",
       "-----------------------Summary of Estimated Coefficients------------------------\n",
       "      Variable       Coef    Std Err     t-stat    p-value    CI 2.5%   CI 97.5%\n",
       "--------------------------------------------------------------------------------\n",
       "             x    -0.3246     0.4589      -0.71     0.4885    -1.2240     0.5749\n",
       "     intercept    29.6269     4.8815       6.07     0.0000    20.0591    39.1947\n",
       "---------------------------------End of Summary---------------------------------"
      ]
     },
     "execution_count": 6,
     "metadata": {},
     "output_type": "execute_result"
    }
   ],
   "source": [
    "model = ols(y=data.sales, x=data.adv)\n",
    "model"
   ]
  },
  {
   "cell_type": "markdown",
   "metadata": {},
   "source": [
    "> $b$ is not significantly different from 0"
   ]
  },
  {
   "cell_type": "code",
   "execution_count": 7,
   "metadata": {
    "collapsed": false
   },
   "outputs": [
    {
     "data": {
      "image/png": "[encoded data removed]",
      "text/plain": [
       "<matplotlib.figure.Figure at 0x7faee7009390>"
      ]
     },
     "metadata": {},
     "output_type": "display_data"
    }
   ],
   "source": [
    "plt.scatter(x=data.adv, y=data.sales)\n",
    "x_new = pd.Series([4, 16])\n",
    "plt.plot(x_new, model.predict(x=x_new))\n",
    "\n",
    "plt.ylabel('sales')\n",
    "plt.xlabel('advertising')\n",
    "plt.show()"
   ]
  },
  {
   "cell_type": "markdown",
   "metadata": {},
   "source": [
    "**(c)** Compute the residuals and draw a histogram of these residuals. What conclusion do you draw from this histogram?"
   ]
  },
  {
   "cell_type": "code",
   "execution_count": 8,
   "metadata": {
    "collapsed": false
   },
   "outputs": [
    {
     "data": {
      "image/png": "[encoded data removed]",
      "text/plain": [
       "<matplotlib.figure.Figure at 0x7faeedeb9650>"
      ]
     },
     "metadata": {},
     "output_type": "display_data"
    }
   ],
   "source": [
    "model.resid.hist()\n",
    "plt.show()"
   ]
  },
  {
   "cell_type": "markdown",
   "metadata": {},
   "source": [
    "> Doesn't look very normal\n",
    "\n",
    "Apparently, the regression result of part **(b)** is not satisfactory. Once you realize that the large residual\n",
    "corresponds to the week with opening hours during the evening, how would you proceed to get a more\n",
    "satisfactory regression model?\n",
    "\n",
    "> Remove the outlier"
   ]
  },
  {
   "cell_type": "markdown",
   "metadata": {},
   "source": [
    "**(d)** Delete this special week from the sample and use the remaining 19 weeks to estimate the coefficients $a$ and\n",
    "$b$ in the simple regression model with sales as dependent variable and advertising as explanatory factor. Also\n",
    "compute the standard error and $t$-value of $b$. Is $b$ significantly different from 0?"
   ]
  },
  {
   "cell_type": "code",
   "execution_count": 9,
   "metadata": {
    "collapsed": false
   },
   "outputs": [
    {
     "data": {
      "image/png": "[encoded data removed]",
      "text/plain": [
       "<matplotlib.figure.Figure at 0x7faedbdb9f90>"
      ]
     },
     "metadata": {},
     "output_type": "display_data"
    }
   ],
   "source": [
    "data_cleaned = data[data.sales < 45]\n",
    "data_cleaned.plot(kind='scatter', x='adv', y='sales')\n",
    "plt.show()"
   ]
  },
  {
   "cell_type": "code",
   "execution_count": 10,
   "metadata": {
    "collapsed": false
   },
   "outputs": [
    {
     "data": {
      "text/plain": [
       "\n",
       "-------------------------Summary of Regression Analysis-------------------------\n",
       "\n",
       "Formula: Y ~ <x> + <intercept>\n",
       "\n",
       "Number of Observations:         19\n",
       "Number of Degrees of Freedom:   2\n",
       "\n",
       "R-squared:         0.5154\n",
       "Adj R-squared:     0.4869\n",
       "\n",
       "Rmse:              1.0537\n",
       "\n",
       "F-stat (1, 17):    18.0784, p-value:     0.0005\n",
       "\n",
       "Degrees of Freedom: model 1, resid 17\n",
       "\n",
       "-----------------------Summary of Estimated Coefficients------------------------\n",
       "      Variable       Coef    Std Err     t-stat    p-value    CI 2.5%   CI 97.5%\n",
       "--------------------------------------------------------------------------------\n",
       "             x     0.3750     0.0882       4.25     0.0005     0.2021     0.5479\n",
       "     intercept    21.1250     0.9548      22.12     0.0000    19.2535    22.9965\n",
       "---------------------------------End of Summary---------------------------------"
      ]
     },
     "execution_count": 10,
     "metadata": {},
     "output_type": "execute_result"
    }
   ],
   "source": [
    "model = ols(y=data_cleaned.sales, x=data_cleaned.adv)\n",
    "model"
   ]
  },
  {
   "cell_type": "markdown",
   "metadata": {},
   "source": [
    "> Now $b \\ne 0$ with $p = 0.0005$"
   ]
  }
 ],
 "metadata": {
  "kernelspec": {
   "display_name": "Python 2",
   "language": "python",
   "name": "python2"
  },
  "language_info": {
   "codemirror_mode": {
    "name": "ipython",
    "version": 2
   },
   "file_extension": ".py",
   "mimetype": "text/x-python",
   "name": "python",
   "nbconvert_exporter": "python",
   "pygments_lexer": "ipython2",
   "version": "2.7.10"
  }
 },
 "nbformat": 4,
 "nbformat_minor": 0
}
