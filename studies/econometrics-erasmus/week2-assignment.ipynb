{
 "cells": [
  {
   "cell_type": "markdown",
   "metadata": {},
   "source": [
    "# MOOC Econometrics\n",
    "\n",
    "## Test Exercise 2\n",
    "\n",
    "$\\require{cancel}$\n",
    "\n",
    "This test exercise is of a theoretical nature. In our discussion of the $F$-test, the total set of explanatory factors was split in two parts. The factors in $X_1$ are always included in the model, whereas those in $X_2$ are possibly removed.\n",
    "\n",
    "In questions **(a)**, **(b)**, and **(c)** you derive relations between the two OLS estimates of the effects of $X_1$ on $y$, one in the large model and the other in the small model. \n",
    "In parts **(d)**, **(e)**, and **(f)**, you check the relation of question **(c)** numerically for the wage data of our lectures.\n",
    "\n",
    "We use the notation of Lecture 2.4.2 and assume that the standard regression assumptions A1-A6 are satisfied for\n",
    "the unrestricted model.\n",
    "\n",
    "* The restricted model is obtained by deleting the set of $g$ explanatory factors collected in\n",
    "the last $g$ columns $X_2$ of $X$. \n",
    "* We wrote the model with $X = (X_1 \\, X_2)$ and corresponding partitioning of the OLS estimator $b$ in $b_1$ and $b_2$ as $y = X_1 \\beta_1 + X_2 \\beta_2 + \\varepsilon$, estimated as  $X_1 b_1 + X_2 b_2 + e$.\n",
    "* We denote by $b_R$ the OLS estimator of $β_1$ obtained by regressing $y$ on $X_1$, so that $b_R = (X_1^T X_1)^{−1} X_1^T y$. \n",
    "* Further, let $P = (X_1^T X_1)^{−1} X_1^T X_2$."
   ]
  },
  {
   "cell_type": "markdown",
   "metadata": {},
   "source": [
    "**(a)** Prove that $\\mathbb E \\big[ b_R \\big] = β_1 + P\\, β_2$."
   ]
  },
  {
   "cell_type": "markdown",
   "metadata": {},
   "source": [
    "* $\\mathbb E \\big[ b_R \\big] = \\mathbb E \\big[ (X_1^T X_1)^{-1} X_1^T y \\big] = \\mathbb E \\big[ (X_1^T X_1)^{-1} X_1^T (X_1 \\beta_1 + X_2 \\beta_2 + \\varepsilon) \\big] =$ \n",
    "* $\\ ... \\ = \\mathbb E \\big[ \\cancel{(X_1^T X_1)^{-1}} \\cancel{X_1^T X_1} \\beta_1 + (X_1^T X_1)^{-1} X_1^T X_2 \\beta_2 + (X_1^T X_1)^{-1} X_1^T \\varepsilon \\big] =$ \n",
    "* $\\ ... \\ = \\beta_1 + \\underbrace{(X_1^T X_1)^{-1} X_1^T X_2}_{P} \\beta_2 + (X_1^T X_1)^{-1} X_1^T \\cancelto{0}{\\mathbb E \\big[ \\varepsilon \\big]} = $\n",
    "* $\\ ... \\ = β_1 + P\\, β_2$\n",
    "\n",
    "$\\square$"
   ]
  },
  {
   "cell_type": "markdown",
   "metadata": {},
   "source": [
    "**(b)** Prove that $\\text{var} \\, b_R = σ^2 (X_1^T X_1)^{−1}$."
   ]
  },
  {
   "cell_type": "markdown",
   "metadata": {},
   "source": [
    "Some facts: \n",
    "\n",
    "* $b_R = \\beta_1 + P \\, \\beta_2 + (X_1^T X_1)^{-1} X_1^T \\varepsilon$ (shown in **(a)**)\n",
    "* $b_R - \\mathbb E \\big[ b_R \\big] = \\beta_1 + P \\, \\beta_2 + (X_1^T X_1)^{-1} X_1^T \\varepsilon - (β_1 + P\\, β_2) = (X_1^T X_1)^{-1} X_1^T \\varepsilon$\n",
    "* $\\mathbb E \\big[ \\varepsilon \\varepsilon^T \\big] = \\sigma^2 I$ (shown in lectures)\n",
    "\n",
    "Let's show that $\\text{var} \\, b_R = σ^2 (X_1^T X_1)^{−1}$:\n",
    "\n",
    "* $\\text{var} \\, b_R = \\mathbb E \\Big[ ( b_R - \\mathbb E [b_R] ) ( b_R - \\mathbb E [b_R] )^T \\Big] = \\mathbb E \\big[ (X_1^T X_1)^{-1} X_1^T \\varepsilon  \\varepsilon^T X_1 (X_1^T X_1)^{-1} \\big] =  $\n",
    "* $\\ ... \\ = (X_1^T X_1)^{-1} X_1^T \\ \\underbrace{\\mathbb E \\big[ \\varepsilon  \\varepsilon^T \\big]}_{\\sigma^2 I} \\, X_1 (X_1^T X_1)^{-1} = \\sigma^2  (X_1^T X_1)^{-1} \\cancel{X_1^T X_1} \\cancel{(X_1^T X_1)^{-1}} = $\n",
    "* $\\ ... \\ = \\sigma^2  (X_1^T X_1)^{-1}$\n",
    "\n",
    "$\\square$"
   ]
  },
  {
   "cell_type": "markdown",
   "metadata": {},
   "source": [
    "**(c)** Prove that $b_R = b_1 + P \\, b_2$"
   ]
  },
  {
   "cell_type": "markdown",
   "metadata": {},
   "source": [
    "* if $X = \\big[ X_1 \\, X_2 \\big]$, then $X^T X = \\begin{bmatrix} \\unicode{x2013} \\, X_1^T \\unicode{x2013} \\\\ \\unicode{x2013} \\, X_2^T \\unicode{x2013} \\\\ \\end{bmatrix}$ $\\begin{bmatrix} \\mathop{X_1}\\limits^{|}_{|} & \\mathop{X_2}\\limits^{|}_{|} \\\\ \\end{bmatrix}$ $= \\begin{bmatrix} X_1^T X_1 & X_1^T X_2 \\\\ X_2^T X_1 & X_2^T X_2 \\\\ \\end{bmatrix}$\n",
    "* so $X^T X \\, b = X^T y$ can be written as $\\begin{bmatrix} X_1^T X_1 & X_1^T X_2 \\\\ X_2^T X_1 & X_2^T X_2 \\\\ \\end{bmatrix} \\begin{bmatrix} b_1 \\\\ b_2 \\\\ \\end{bmatrix} = \\begin{bmatrix} \\unicode{x2013} \\, X_1^T \\unicode{x2013} \\\\ \\unicode{x2013} \\, X_2^T \\unicode{x2013} \\\\ \\end{bmatrix} y$\n",
    "* or $\\begin{bmatrix} X_1^T X_1 \\, b_1 + X_1^T X_2 \\, b_2 \\\\ X_2^T X_1 \\, b_1 + X_2^T X_2 \\, b_2 \\\\ \\end{bmatrix} = \\begin{bmatrix} X_1^T y \\\\ X_2^T y \\\\ \\end{bmatrix}$\n",
    "* from the first row we have $X_1^T X_1 \\, b_1 + X_1^T X_2 \\, b_2 = X_1^T y$ (1)\n",
    "* also, for $b_R$ we have $X_1^T X_1 \\, b_R = X_1^T y$ (2)\n",
    "* by combining (1) and (2), we get $X_1^T X_1 \\, b_R = X_1^T X_1 \\, b_1 + X_1^T X_2 \\, b_2$ \n",
    "* let's multiply it on $(X_1^T X_1)^{-1}$ to the left:\n",
    "* $ b_R = b_1 + \\underbrace{(X_1^T X_1)^{-1} X_1^T X_2}_{P} \\, b_2 = b_1 + P \\, b_2$ \n",
    "\n",
    "$\\square$"
   ]
  },
  {
   "cell_type": "markdown",
   "metadata": {},
   "source": [
    "Now consider the wage data of Lectures **2.1** and **2.5**. \n",
    "\n",
    "* Let $y$ be $\\log \\text{Wage}$ (500 × 1 vector), and \n",
    "* let $X_1$ be a (500 × 2) matrix for the constant term and the variable `Female`. \n",
    "* Further let $X_2$ be a (500 × 3) matrix with observations of the variables `Age`, `Educ` and `Parttime`. \n",
    "* The values of $b_R$ were given in Lecture **2.1**, and those of $b$ in Lecture **2.5**."
   ]
  },
  {
   "cell_type": "markdown",
   "metadata": {},
   "source": [
    "**(d)** Argue that the columns of the (2 × 3) matrix $P$ are obtained by regressing each of the variables `Age`, `Educ`,\n",
    "and `Parttime` on a constant term and the variable `Female`."
   ]
  },
  {
   "cell_type": "markdown",
   "metadata": {},
   "source": [
    "* let $x_3, x_4, x_5$ be `Age`, `Educ` and `Parttime` resp\n",
    "* $P = (X_1^T X_1)^{-1} X_1^T X_2 = (X_1^T X_1)^{-1} X_1^T \\begin{bmatrix} \\mathop{x_3}\\limits^{|}_{|} \\ \\mathop{x_3}\\limits^{|}_{|} \\ \\mathop{x_5}\\limits^{|}_{|} \\\\ \\end{bmatrix}$\n",
    "* so we see that the columns of $P$ are $(X_1^T X_1)^{-1} X_1^T x_i$ for $i = 3, 4, 5$\n",
    "* $(X_1^T X_1)^{-1} X_1^T x_i$ is the OLS estimator of $x_i$ from $X_1$, where first column of $X_1$ is a constant term, and the second one is `Female`.\n",
    "\n",
    "$\\square$"
   ]
  },
  {
   "cell_type": "markdown",
   "metadata": {},
   "source": [
    "**(e)** Determine the values of $P$ from the results in Lecture 2.1."
   ]
  },
  {
   "cell_type": "markdown",
   "metadata": {},
   "source": [
    "**Lecture 2.1, slide 7:**\n",
    "\n",
    "* `Age` = 40.05 - 0.11 `Female` + $e$\n",
    "* `Educ` = 2.26 - 0.49 `Female` + $e$\n",
    "* `Age` = 0.20 + 0.25 `Female` + $e$\n",
    "\n",
    "So $P$ is \n",
    "\n",
    "* $P = \\begin{bmatrix} 40.05 & 2.26 & 0.20 \\\\ -0.11 & -0.49 & 0.25 \\\\ \\end{bmatrix}$"
   ]
  },
  {
   "cell_type": "markdown",
   "metadata": {},
   "source": [
    "To check it, let's use the data:"
   ]
  },
  {
   "cell_type": "code",
   "execution_count": 1,
   "metadata": {
    "collapsed": false,
    "scrolled": true
   },
   "outputs": [],
   "source": [
    "import pandas as pd\n",
    "import numpy as np\n",
    "\n",
    "wages = pd.read_csv('Train21-wages', sep='\\t')"
   ]
  },
  {
   "cell_type": "code",
   "execution_count": 2,
   "metadata": {
    "collapsed": false
   },
   "outputs": [
    {
     "data": {
      "text/html": [
       "<div>\n",
       "<table border=\"1\" class=\"dataframe\">\n",
       "  <thead>\n",
       "    <tr style=\"text-align: right;\">\n",
       "      <th></th>\n",
       "      <th>Observ.</th>\n",
       "      <th>Wage</th>\n",
       "      <th>LogWage</th>\n",
       "      <th>Female</th>\n",
       "      <th>Age</th>\n",
       "      <th>Educ</th>\n",
       "      <th>Parttime</th>\n",
       "    </tr>\n",
       "  </thead>\n",
       "  <tbody>\n",
       "    <tr>\n",
       "      <th>0</th>\n",
       "      <td>1</td>\n",
       "      <td>66</td>\n",
       "      <td>4.190</td>\n",
       "      <td>0</td>\n",
       "      <td>49</td>\n",
       "      <td>1</td>\n",
       "      <td>1</td>\n",
       "    </tr>\n",
       "    <tr>\n",
       "      <th>1</th>\n",
       "      <td>2</td>\n",
       "      <td>34</td>\n",
       "      <td>3.526</td>\n",
       "      <td>1</td>\n",
       "      <td>42</td>\n",
       "      <td>1</td>\n",
       "      <td>1</td>\n",
       "    </tr>\n",
       "    <tr>\n",
       "      <th>2</th>\n",
       "      <td>3</td>\n",
       "      <td>70</td>\n",
       "      <td>4.248</td>\n",
       "      <td>1</td>\n",
       "      <td>42</td>\n",
       "      <td>1</td>\n",
       "      <td>1</td>\n",
       "    </tr>\n",
       "    <tr>\n",
       "      <th>3</th>\n",
       "      <td>4</td>\n",
       "      <td>47</td>\n",
       "      <td>3.850</td>\n",
       "      <td>0</td>\n",
       "      <td>38</td>\n",
       "      <td>1</td>\n",
       "      <td>0</td>\n",
       "    </tr>\n",
       "    <tr>\n",
       "      <th>4</th>\n",
       "      <td>5</td>\n",
       "      <td>107</td>\n",
       "      <td>4.673</td>\n",
       "      <td>1</td>\n",
       "      <td>54</td>\n",
       "      <td>1</td>\n",
       "      <td>1</td>\n",
       "    </tr>\n",
       "  </tbody>\n",
       "</table>\n",
       "</div>"
      ],
      "text/plain": [
       "   Observ.  Wage  LogWage  Female  Age  Educ  Parttime\n",
       "0        1    66    4.190       0   49     1         1\n",
       "1        2    34    3.526       1   42     1         1\n",
       "2        3    70    4.248       1   42     1         1\n",
       "3        4    47    3.850       0   38     1         0\n",
       "4        5   107    4.673       1   54     1         1"
      ]
     },
     "execution_count": 2,
     "metadata": {},
     "output_type": "execute_result"
    }
   ],
   "source": [
    "wages.head()"
   ]
  },
  {
   "cell_type": "code",
   "execution_count": 3,
   "metadata": {
    "collapsed": false
   },
   "outputs": [],
   "source": [
    "def with_bias(df):\n",
    "    X = df.as_matrix()\n",
    "    return np.hstack([np.ones((X.shape[0], 1)), X])"
   ]
  },
  {
   "cell_type": "code",
   "execution_count": 4,
   "metadata": {
    "collapsed": false,
    "scrolled": true
   },
   "outputs": [
    {
     "data": {
      "text/plain": [
       "array([[  1.,   0.,  49.,   1.,   1.],\n",
       "       [  1.,   1.,  42.,   1.,   1.],\n",
       "       [  1.,   1.,  42.,   1.,   1.],\n",
       "       [  1.,   0.,  38.,   1.,   0.],\n",
       "       [  1.,   1.,  54.,   1.,   1.],\n",
       "       [  1.,   1.,  54.,   1.,   0.],\n",
       "       [  1.,   1.,  47.,   1.,   0.],\n",
       "       [  1.,   1.,  39.,   1.,   1.],\n",
       "       [  1.,   1.,  25.,   1.,   0.],\n",
       "       [  1.,   0.,  59.,   1.,   0.]])"
      ]
     },
     "execution_count": 4,
     "metadata": {},
     "output_type": "execute_result"
    }
   ],
   "source": [
    "X = with_bias(wages[['Female', 'Age', 'Educ', 'Parttime']])\n",
    "X[:10]"
   ]
  },
  {
   "cell_type": "code",
   "execution_count": 5,
   "metadata": {
    "collapsed": false
   },
   "outputs": [],
   "source": [
    "X_1, X_2 = X[:, :2], X[:, 2:]"
   ]
  },
  {
   "cell_type": "markdown",
   "metadata": {},
   "source": [
    "$P = (X_1^T X_1)^{-1} X_1^T X_2$"
   ]
  },
  {
   "cell_type": "code",
   "execution_count": 6,
   "metadata": {
    "collapsed": false
   },
   "outputs": [
    {
     "data": {
      "text/plain": [
       "array([[ 40.05,   2.26,   0.2 ],\n",
       "       [ -0.11,  -0.49,   0.25]])"
      ]
     },
     "execution_count": 6,
     "metadata": {},
     "output_type": "execute_result"
    }
   ],
   "source": [
    "P = np.linalg.inv(X_1.T.dot(X_1)).dot(X_1.T).dot(X_2)\n",
    "P.round(2)"
   ]
  },
  {
   "cell_type": "markdown",
   "metadata": {},
   "source": [
    "Our $P$ obtained from the slides is $P = \\begin{bmatrix} 40.05 & 2.26 & 0.20 \\\\ -0.11 & -0.49 & 0.25 \\\\ \\end{bmatrix}$ - it's the same"
   ]
  },
  {
   "cell_type": "markdown",
   "metadata": {},
   "source": [
    "$||$"
   ]
  },
  {
   "cell_type": "markdown",
   "metadata": {},
   "source": [
    "**(f)** Check the numerical validity of the result in part **(c)**. Note: This equation will not hold exactly because the\n",
    "coefficients have been rounded to two or three decimals; preciser results would have been obtained for higher\n",
    "precision coefficients."
   ]
  },
  {
   "cell_type": "markdown",
   "metadata": {},
   "source": [
    "In **(c)** we established that $b_R = b_1 + P \\, b_2$. Let us verify that"
   ]
  },
  {
   "cell_type": "code",
   "execution_count": 7,
   "metadata": {
    "collapsed": false
   },
   "outputs": [
    {
     "data": {
      "text/plain": [
       "array([ 3.05, -0.04,  0.03,  0.23, -0.37])"
      ]
     },
     "execution_count": 7,
     "metadata": {},
     "output_type": "execute_result"
    }
   ],
   "source": [
    "y = wages.LogWage\n",
    "b = np.linalg.inv(X.T.dot(X)).dot(X.T).dot(y)\n",
    "b.round(2)"
   ]
  },
  {
   "cell_type": "code",
   "execution_count": 8,
   "metadata": {
    "collapsed": false
   },
   "outputs": [
    {
     "data": {
      "text/plain": [
       "(array([ 3.05, -0.04]), array([ 0.03,  0.23, -0.37]))"
      ]
     },
     "execution_count": 8,
     "metadata": {},
     "output_type": "execute_result"
    }
   ],
   "source": [
    "b_1, b_2 = b[:2], b[2:]\n",
    "b_1.round(2), b_2.round(2)"
   ]
  },
  {
   "cell_type": "code",
   "execution_count": 9,
   "metadata": {
    "collapsed": false
   },
   "outputs": [
    {
     "data": {
      "text/plain": [
       "array([ 4.73, -0.25])"
      ]
     },
     "execution_count": 9,
     "metadata": {},
     "output_type": "execute_result"
    }
   ],
   "source": [
    "b_R = np.linalg.inv(X_1.T.dot(X_1)).dot(X_1.T).dot(y)\n",
    "b_R.round(2)"
   ]
  },
  {
   "cell_type": "code",
   "execution_count": 10,
   "metadata": {
    "collapsed": false
   },
   "outputs": [
    {
     "data": {
      "text/plain": [
       "array([ 4.73, -0.25])"
      ]
     },
     "execution_count": 10,
     "metadata": {},
     "output_type": "execute_result"
    }
   ],
   "source": [
    "b_R_c = b_1 + P.dot(b_2)\n",
    "b_R_c.round(2)"
   ]
  },
  {
   "cell_type": "markdown",
   "metadata": {},
   "source": [
    "The results match\n",
    "\n",
    "$||$"
   ]
  }
 ],
 "metadata": {
  "kernelspec": {
   "display_name": "Python 2",
   "language": "python",
   "name": "python2"
  },
  "language_info": {
   "codemirror_mode": {
    "name": "ipython",
    "version": 2
   },
   "file_extension": ".py",
   "mimetype": "text/x-python",
   "name": "python",
   "nbconvert_exporter": "python",
   "pygments_lexer": "ipython2",
   "version": "2.7.10"
  }
 },
 "nbformat": 4,
 "nbformat_minor": 0
}
